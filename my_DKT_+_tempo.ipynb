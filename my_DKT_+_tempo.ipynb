{
  "nbformat": 4,
  "nbformat_minor": 0,
  "metadata": {
    "colab": {
      "name": "my DKT + tempo",
      "provenance": [],
      "collapsed_sections": [
        "lGd119p-09A7",
        "M9qFwaq_FYML",
        "g1aaRru71q-S",
        "JEGqcDNz4T-V"
      ],
      "toc_visible": true,
      "mount_file_id": "1DjKCKrBSQspyjXfjspPGBqR9sZZZI51F",
      "authorship_tag": "ABX9TyPTD1aynWmlCy+k1fFexeAw",
      "include_colab_link": true
    },
    "kernelspec": {
      "name": "python3",
      "display_name": "Python 3"
    },
    "accelerator": "GPU"
  },
  "cells": [
    {
      "cell_type": "markdown",
      "metadata": {
        "id": "view-in-github",
        "colab_type": "text"
      },
      "source": [
        "<a href=\"https://colab.research.google.com/github/iKiYo/Test-Code-of-DeepKT-TF2/blob/master/my_DKT_%2B_tempo.ipynb\" target=\"_parent\"><img src=\"https://colab.research.google.com/assets/colab-badge.svg\" alt=\"Open In Colab\"/></a>"
      ]
    },
    {
      "cell_type": "markdown",
      "metadata": {
        "id": "lGd119p-09A7",
        "colab_type": "text"
      },
      "source": [
        "### Download assistment 2012 dataset"
      ]
    },
    {
      "cell_type": "markdown",
      "metadata": {
        "id": "M9qFwaq_FYML",
        "colab_type": "text"
      },
      "source": [
        "#### use edudata, a downloader of IST educational datasets"
      ]
    },
    {
      "cell_type": "code",
      "metadata": {
        "id": "JTXFe8Ok7fze",
        "colab_type": "code",
        "colab": {}
      },
      "source": [
        "!pip install EduData"
      ],
      "execution_count": null,
      "outputs": []
    },
    {
      "cell_type": "code",
      "metadata": {
        "id": "SacFVb0l7h1f",
        "colab_type": "code",
        "colab": {}
      },
      "source": [
        "!edudata ls"
      ],
      "execution_count": null,
      "outputs": []
    },
    {
      "cell_type": "code",
      "metadata": {
        "id": "nV16w6jB7qlu",
        "colab_type": "code",
        "colab": {}
      },
      "source": [
        "!edudata download assistment-2012-2013-non-skill"
      ],
      "execution_count": null,
      "outputs": []
    },
    {
      "cell_type": "markdown",
      "metadata": {
        "id": "g1aaRru71q-S",
        "colab_type": "text"
      },
      "source": [
        "#### Use stored data in Gdrive"
      ]
    },
    {
      "cell_type": "code",
      "metadata": {
        "id": "a1BiMExH33i4",
        "colab_type": "code",
        "colab": {}
      },
      "source": [
        "import pandas as pd\n",
        "assistment_2012_dataset = pd.read_csv(\"/content/drive/My Drive/master thesis/Datasets/assistment_dataset/2012-2013-data-with-predictions-4-final.csv\")"
      ],
      "execution_count": null,
      "outputs": []
    },
    {
      "cell_type": "markdown",
      "metadata": {
        "id": "skvQZy5ZFlZO",
        "colab_type": "text"
      },
      "source": [
        "### Data statistic and preprocessing of assistment_2012, which contains timestamps of attempts"
      ]
    },
    {
      "cell_type": "code",
      "metadata": {
        "id": "QAWSBqF1GeRA",
        "colab_type": "code",
        "colab": {
          "base_uri": "https://localhost:8080/",
          "height": 73
        },
        "outputId": "2b3f2fe7-aa5f-4d5d-bdb0-3fd72654f320"
      },
      "source": [
        "print(len(assistment_2012_dataset))\n",
        "assistment_2012_dataset.head(1)\n",
        "print(list(assistment_2012_dataset.columns.values)) # get the list of column header"
      ],
      "execution_count": null,
      "outputs": [
        {
          "output_type": "stream",
          "text": [
            "6123270\n",
            "['problem_log_id', 'skill', 'problem_id', 'user_id', 'assignment_id', 'assistment_id', 'start_time', 'end_time', 'problem_type', 'original', 'correct', 'bottom_hint', 'hint_count', 'actions', 'attempt_count', 'ms_first_response', 'tutor_mode', 'sequence_id', 'student_class_id', 'position', 'type', 'base_sequence_id', 'skill_id', 'teacher_id', 'school_id', 'overlap_time', 'template_id', 'answer_id', 'answer_text', 'first_action', 'problemlogid', 'Average_confidence(FRUSTRATED)', 'Average_confidence(CONFUSED)', 'Average_confidence(CONCENTRATING)', 'Average_confidence(BORED)']\n"
          ],
          "name": "stdout"
        }
      ]
    },
    {
      "cell_type": "markdown",
      "metadata": {
        "id": "nLfy3ew9F1rv",
        "colab_type": "text"
      },
      "source": [
        "##### XXX: skill_id has more types than skill(name)??"
      ]
    },
    {
      "cell_type": "code",
      "metadata": {
        "id": "AJcIO5tXABnB",
        "colab_type": "code",
        "colab": {}
      },
      "source": [
        "print( assistment_2012_dataset.skill_id.unique())\n",
        "print( assistment_2012_dataset.skill.unique())"
      ],
      "execution_count": null,
      "outputs": []
    },
    {
      "cell_type": "code",
      "metadata": {
        "id": "uywK5DS96skB",
        "colab_type": "code",
        "colab": {
          "base_uri": "https://localhost:8080/",
          "height": 142
        },
        "outputId": "dafacb82-d881-4bb6-849d-545215ae57c0"
      },
      "source": [
        "print( assistment_2012_dataset[['user_id', 'skill', 'skill_id','problem_id','assignment_id','assistment_id']].nunique())"
      ],
      "execution_count": null,
      "outputs": [
        {
          "output_type": "stream",
          "text": [
            "user_id           46674\n",
            "skill               198\n",
            "skill_id            265\n",
            "problem_id       179999\n",
            "assignment_id    189760\n",
            "assistment_id    138555\n",
            "dtype: int64\n"
          ],
          "name": "stdout"
        }
      ]
    },
    {
      "cell_type": "markdown",
      "metadata": {
        "id": "69NwWiwxPhDz",
        "colab_type": "text"
      },
      "source": [
        "#### try out drop nan and check skill"
      ]
    },
    {
      "cell_type": "code",
      "metadata": {
        "id": "o2AcU45PGNgL",
        "colab_type": "code",
        "colab": {
          "base_uri": "https://localhost:8080/",
          "height": 136
        },
        "outputId": "4db2e53c-d29b-4c42-e5ca-aafef37aa8b2"
      },
      "source": [
        "assistment_2012_dataset_selected = pd.read_csv(\n",
        "    \"/content/drive/My Drive/master thesis/Datasets/assistment_dataset/2012-2013-data-with-predictions-4-final.csv\",\n",
        "    usecols=['problem_log_id', 'skill', 'problem_id', 'user_id', 'assignment_id', 'assistment_id', 'start_time', 'end_time', 'correct', 'attempt_count', 'skill_id'])\n",
        "print(len(assistment_2012_dataset_selected))\n",
        "assistment_2012_dataset_selected.head(1)"
      ],
      "execution_count": null,
      "outputs": [
        {
          "output_type": "stream",
          "text": [
            "6123270\n"
          ],
          "name": "stdout"
        },
        {
          "output_type": "execute_result",
          "data": {
            "text/html": [
              "<div>\n",
              "<style scoped>\n",
              "    .dataframe tbody tr th:only-of-type {\n",
              "        vertical-align: middle;\n",
              "    }\n",
              "\n",
              "    .dataframe tbody tr th {\n",
              "        vertical-align: top;\n",
              "    }\n",
              "\n",
              "    .dataframe thead th {\n",
              "        text-align: right;\n",
              "    }\n",
              "</style>\n",
              "<table border=\"1\" class=\"dataframe\">\n",
              "  <thead>\n",
              "    <tr style=\"text-align: right;\">\n",
              "      <th></th>\n",
              "      <th>problem_log_id</th>\n",
              "      <th>skill</th>\n",
              "      <th>problem_id</th>\n",
              "      <th>user_id</th>\n",
              "      <th>assignment_id</th>\n",
              "      <th>assistment_id</th>\n",
              "      <th>start_time</th>\n",
              "      <th>end_time</th>\n",
              "      <th>correct</th>\n",
              "      <th>attempt_count</th>\n",
              "      <th>skill_id</th>\n",
              "    </tr>\n",
              "  </thead>\n",
              "  <tbody>\n",
              "    <tr>\n",
              "      <th>0</th>\n",
              "      <td>137792159</td>\n",
              "      <td>NaN</td>\n",
              "      <td>557460</td>\n",
              "      <td>61394</td>\n",
              "      <td>565736</td>\n",
              "      <td>341511</td>\n",
              "      <td>2012-09-28 15:11:27</td>\n",
              "      <td>2012-09-28 15:11:36.856</td>\n",
              "      <td>1.0</td>\n",
              "      <td>1</td>\n",
              "      <td>NaN</td>\n",
              "    </tr>\n",
              "  </tbody>\n",
              "</table>\n",
              "</div>"
            ],
            "text/plain": [
              "   problem_log_id skill  problem_id  ...  correct  attempt_count  skill_id\n",
              "0       137792159   NaN      557460  ...      1.0              1       NaN\n",
              "\n",
              "[1 rows x 11 columns]"
            ]
          },
          "metadata": {
            "tags": []
          },
          "execution_count": 32
        }
      ]
    },
    {
      "cell_type": "code",
      "metadata": {
        "id": "XmhExQ8sNc4j",
        "colab_type": "code",
        "colab": {}
      },
      "source": [
        "df = assistment_2012_dataset_selected[['skill', 'skill_id']].dropna()"
      ],
      "execution_count": null,
      "outputs": []
    },
    {
      "cell_type": "code",
      "metadata": {
        "id": "-QJHqNoZOG3b",
        "colab_type": "code",
        "colab": {
          "base_uri": "https://localhost:8080/",
          "height": 424
        },
        "outputId": "11835c19-bb25-47b4-9bf1-167056bc61c0"
      },
      "source": [
        "df = df.astype({'skill_id': 'int32'})"
      ],
      "execution_count": null,
      "outputs": [
        {
          "output_type": "execute_result",
          "data": {
            "text/html": [
              "<div>\n",
              "<style scoped>\n",
              "    .dataframe tbody tr th:only-of-type {\n",
              "        vertical-align: middle;\n",
              "    }\n",
              "\n",
              "    .dataframe tbody tr th {\n",
              "        vertical-align: top;\n",
              "    }\n",
              "\n",
              "    .dataframe thead th {\n",
              "        text-align: right;\n",
              "    }\n",
              "</style>\n",
              "<table border=\"1\" class=\"dataframe\">\n",
              "  <thead>\n",
              "    <tr style=\"text-align: right;\">\n",
              "      <th></th>\n",
              "      <th>skill</th>\n",
              "      <th>skill_id</th>\n",
              "    </tr>\n",
              "  </thead>\n",
              "  <tbody>\n",
              "    <tr>\n",
              "      <th>1</th>\n",
              "      <td>Rounding</td>\n",
              "      <td>54</td>\n",
              "    </tr>\n",
              "    <tr>\n",
              "      <th>2</th>\n",
              "      <td>Multiplication and Division Integers</td>\n",
              "      <td>279</td>\n",
              "    </tr>\n",
              "    <tr>\n",
              "      <th>3</th>\n",
              "      <td>Proportion</td>\n",
              "      <td>79</td>\n",
              "    </tr>\n",
              "    <tr>\n",
              "      <th>5</th>\n",
              "      <td>Exponents</td>\n",
              "      <td>86</td>\n",
              "    </tr>\n",
              "    <tr>\n",
              "      <th>7</th>\n",
              "      <td>Equation Solving Two or Fewer Steps</td>\n",
              "      <td>311</td>\n",
              "    </tr>\n",
              "    <tr>\n",
              "      <th>...</th>\n",
              "      <td>...</td>\n",
              "      <td>...</td>\n",
              "    </tr>\n",
              "    <tr>\n",
              "      <th>6123258</th>\n",
              "      <td>Exponents</td>\n",
              "      <td>86</td>\n",
              "    </tr>\n",
              "    <tr>\n",
              "      <th>6123260</th>\n",
              "      <td>Square Root</td>\n",
              "      <td>75</td>\n",
              "    </tr>\n",
              "    <tr>\n",
              "      <th>6123262</th>\n",
              "      <td>Unit Conversion Within a System</td>\n",
              "      <td>34</td>\n",
              "    </tr>\n",
              "    <tr>\n",
              "      <th>6123264</th>\n",
              "      <td>Multiplication Fractions</td>\n",
              "      <td>67</td>\n",
              "    </tr>\n",
              "    <tr>\n",
              "      <th>6123267</th>\n",
              "      <td>Addition and Subtraction Integers</td>\n",
              "      <td>277</td>\n",
              "    </tr>\n",
              "  </tbody>\n",
              "</table>\n",
              "<p>2630080 rows × 2 columns</p>\n",
              "</div>"
            ],
            "text/plain": [
              "                                        skill  skill_id\n",
              "1                                    Rounding        54\n",
              "2        Multiplication and Division Integers       279\n",
              "3                                  Proportion        79\n",
              "5                                   Exponents        86\n",
              "7         Equation Solving Two or Fewer Steps       311\n",
              "...                                       ...       ...\n",
              "6123258                             Exponents        86\n",
              "6123260                           Square Root        75\n",
              "6123262       Unit Conversion Within a System        34\n",
              "6123264              Multiplication Fractions        67\n",
              "6123267     Addition and Subtraction Integers       277\n",
              "\n",
              "[2630080 rows x 2 columns]"
            ]
          },
          "metadata": {
            "tags": []
          },
          "execution_count": 46
        }
      ]
    },
    {
      "cell_type": "code",
      "metadata": {
        "id": "8ujCadKQOk9t",
        "colab_type": "code",
        "colab": {
          "base_uri": "https://localhost:8080/",
          "height": 71
        },
        "outputId": "b7b1f978-8702-4ee6-a7ee-fb218ebdc12f"
      },
      "source": [
        "df.nunique()"
      ],
      "execution_count": null,
      "outputs": [
        {
          "output_type": "execute_result",
          "data": {
            "text/plain": [
              "skill       198\n",
              "skill_id    245\n",
              "dtype: int64"
            ]
          },
          "metadata": {
            "tags": []
          },
          "execution_count": 48
        }
      ]
    },
    {
      "cell_type": "markdown",
      "metadata": {
        "id": "38AYYXWFPw8w",
        "colab_type": "text"
      },
      "source": [
        "#### make a complete and minimum csv dataset for experiments"
      ]
    },
    {
      "cell_type": "code",
      "metadata": {
        "id": "5WQ5Y6_7P_Xm",
        "colab_type": "code",
        "colab": {
          "base_uri": "https://localhost:8080/",
          "height": 99
        },
        "outputId": "63a3ab56-dbaf-4572-d630-cddaf75b08fe"
      },
      "source": [
        "import pandas as pd \n",
        "assist2012_preprocessed = pd.read_csv(\n",
        "    \"/content/drive/My Drive/master thesis/Datasets/assistment_dataset/2012-2013-data-with-predictions-4-final.csv\",\n",
        "    usecols=['problem_id', 'user_id', 'start_time', 'end_time', 'correct', 'attempt_count', 'skill_id'])\n",
        "print(len(assist2012_preprocessed))\n",
        "assist2012_preprocessed.head(1)"
      ],
      "execution_count": null,
      "outputs": [
        {
          "output_type": "stream",
          "text": [
            "6123270\n"
          ],
          "name": "stdout"
        },
        {
          "output_type": "execute_result",
          "data": {
            "text/html": [
              "<div>\n",
              "<style scoped>\n",
              "    .dataframe tbody tr th:only-of-type {\n",
              "        vertical-align: middle;\n",
              "    }\n",
              "\n",
              "    .dataframe tbody tr th {\n",
              "        vertical-align: top;\n",
              "    }\n",
              "\n",
              "    .dataframe thead th {\n",
              "        text-align: right;\n",
              "    }\n",
              "</style>\n",
              "<table border=\"1\" class=\"dataframe\">\n",
              "  <thead>\n",
              "    <tr style=\"text-align: right;\">\n",
              "      <th></th>\n",
              "      <th>problem_id</th>\n",
              "      <th>user_id</th>\n",
              "      <th>start_time</th>\n",
              "      <th>end_time</th>\n",
              "      <th>correct</th>\n",
              "      <th>attempt_count</th>\n",
              "      <th>skill_id</th>\n",
              "    </tr>\n",
              "  </thead>\n",
              "  <tbody>\n",
              "    <tr>\n",
              "      <th>0</th>\n",
              "      <td>557460</td>\n",
              "      <td>61394</td>\n",
              "      <td>2012-09-28 15:11:27</td>\n",
              "      <td>2012-09-28 15:11:36.856</td>\n",
              "      <td>1.0</td>\n",
              "      <td>1</td>\n",
              "      <td>NaN</td>\n",
              "    </tr>\n",
              "  </tbody>\n",
              "</table>\n",
              "</div>"
            ],
            "text/plain": [
              "   problem_id  user_id           start_time  ... correct  attempt_count  skill_id\n",
              "0      557460    61394  2012-09-28 15:11:27  ...     1.0              1       NaN\n",
              "\n",
              "[1 rows x 7 columns]"
            ]
          },
          "metadata": {
            "tags": []
          },
          "execution_count": 24
        }
      ]
    },
    {
      "cell_type": "code",
      "metadata": {
        "id": "qy1FbgQuQbjo",
        "colab_type": "code",
        "colab": {
          "base_uri": "https://localhost:8080/",
          "height": 196
        },
        "outputId": "3c16952d-18f9-403c-9741-5d4890e36504"
      },
      "source": [
        "df = assist2012_preprocessed\n",
        "#df = df.dropna()\n",
        "print(df.correct.nunique())\n",
        "df = df.drop_duplicates(subset=['problem_id','user_id','attempt_count'])\n",
        "df = df.fillna(value={'skill_id': 999})\n",
        "df = df.astype({'skill_id': 'int32'})\n",
        "print(len(df))\n",
        "df.nunique()"
      ],
      "execution_count": null,
      "outputs": [
        {
          "output_type": "stream",
          "text": [
            "13\n",
            "5945174\n"
          ],
          "name": "stdout"
        },
        {
          "output_type": "execute_result",
          "data": {
            "text/plain": [
              "problem_id        179999\n",
              "user_id            46674\n",
              "start_time       4571084\n",
              "end_time         5943356\n",
              "correct               13\n",
              "attempt_count         30\n",
              "skill_id             266\n",
              "dtype: int64"
            ]
          },
          "metadata": {
            "tags": []
          },
          "execution_count": 60
        }
      ]
    },
    {
      "cell_type": "code",
      "metadata": {
        "id": "9ZqHJigb3CKE",
        "colab_type": "code",
        "colab": {
          "base_uri": "https://localhost:8080/",
          "height": 424
        },
        "outputId": "98dafd01-b888-4b57-dcf3-292eed2a9828"
      },
      "source": [
        "df = df[df[\"correct\"].isin([0, 1])]\n",
        "df"
      ],
      "execution_count": null,
      "outputs": [
        {
          "output_type": "execute_result",
          "data": {
            "text/html": [
              "<div>\n",
              "<style scoped>\n",
              "    .dataframe tbody tr th:only-of-type {\n",
              "        vertical-align: middle;\n",
              "    }\n",
              "\n",
              "    .dataframe tbody tr th {\n",
              "        vertical-align: top;\n",
              "    }\n",
              "\n",
              "    .dataframe thead th {\n",
              "        text-align: right;\n",
              "    }\n",
              "</style>\n",
              "<table border=\"1\" class=\"dataframe\">\n",
              "  <thead>\n",
              "    <tr style=\"text-align: right;\">\n",
              "      <th></th>\n",
              "      <th>problem_id</th>\n",
              "      <th>user_id</th>\n",
              "      <th>start_time</th>\n",
              "      <th>end_time</th>\n",
              "      <th>correct</th>\n",
              "      <th>attempt_count</th>\n",
              "      <th>skill_id</th>\n",
              "    </tr>\n",
              "  </thead>\n",
              "  <tbody>\n",
              "    <tr>\n",
              "      <th>0</th>\n",
              "      <td>557460</td>\n",
              "      <td>61394</td>\n",
              "      <td>2012-09-28 15:11:27</td>\n",
              "      <td>2012-09-28 15:11:36.856</td>\n",
              "      <td>1.0</td>\n",
              "      <td>1</td>\n",
              "      <td>999</td>\n",
              "    </tr>\n",
              "    <tr>\n",
              "      <th>1</th>\n",
              "      <td>365981</td>\n",
              "      <td>61394</td>\n",
              "      <td>2012-10-09 11:01:52</td>\n",
              "      <td>2012-10-09 11:02:13.182</td>\n",
              "      <td>1.0</td>\n",
              "      <td>1</td>\n",
              "      <td>54</td>\n",
              "    </tr>\n",
              "    <tr>\n",
              "      <th>2</th>\n",
              "      <td>426415</td>\n",
              "      <td>61394</td>\n",
              "      <td>2013-03-07 10:53:20</td>\n",
              "      <td>2013-03-07 10:53:28.661</td>\n",
              "      <td>0.0</td>\n",
              "      <td>1</td>\n",
              "      <td>279</td>\n",
              "    </tr>\n",
              "    <tr>\n",
              "      <th>3</th>\n",
              "      <td>86686</td>\n",
              "      <td>61394</td>\n",
              "      <td>2013-08-20 19:54:56</td>\n",
              "      <td>2013-08-20 19:55:21.753</td>\n",
              "      <td>1.0</td>\n",
              "      <td>1</td>\n",
              "      <td>79</td>\n",
              "    </tr>\n",
              "    <tr>\n",
              "      <th>4</th>\n",
              "      <td>399669</td>\n",
              "      <td>76592</td>\n",
              "      <td>2012-09-10 17:20:10</td>\n",
              "      <td>2012-09-10 17:24:56.579</td>\n",
              "      <td>1.0</td>\n",
              "      <td>1</td>\n",
              "      <td>999</td>\n",
              "    </tr>\n",
              "    <tr>\n",
              "      <th>...</th>\n",
              "      <td>...</td>\n",
              "      <td>...</td>\n",
              "      <td>...</td>\n",
              "      <td>...</td>\n",
              "      <td>...</td>\n",
              "      <td>...</td>\n",
              "      <td>...</td>\n",
              "    </tr>\n",
              "    <tr>\n",
              "      <th>6123265</th>\n",
              "      <td>330756</td>\n",
              "      <td>227984</td>\n",
              "      <td>2013-08-30 10:10:55</td>\n",
              "      <td>2013-08-30 10:11:08.935</td>\n",
              "      <td>1.0</td>\n",
              "      <td>1</td>\n",
              "      <td>999</td>\n",
              "    </tr>\n",
              "    <tr>\n",
              "      <th>6123266</th>\n",
              "      <td>765964</td>\n",
              "      <td>228009</td>\n",
              "      <td>2013-08-31 10:23:24</td>\n",
              "      <td>2013-08-31 10:23:27.757</td>\n",
              "      <td>0.0</td>\n",
              "      <td>1</td>\n",
              "      <td>999</td>\n",
              "    </tr>\n",
              "    <tr>\n",
              "      <th>6123267</th>\n",
              "      <td>84891</td>\n",
              "      <td>228039</td>\n",
              "      <td>2013-08-30 11:29:35</td>\n",
              "      <td>2013-08-30 11:30:05.517</td>\n",
              "      <td>0.0</td>\n",
              "      <td>1</td>\n",
              "      <td>277</td>\n",
              "    </tr>\n",
              "    <tr>\n",
              "      <th>6123268</th>\n",
              "      <td>543973</td>\n",
              "      <td>228055</td>\n",
              "      <td>2013-08-30 11:52:37</td>\n",
              "      <td>2013-08-30 11:52:41.251</td>\n",
              "      <td>1.0</td>\n",
              "      <td>1</td>\n",
              "      <td>999</td>\n",
              "    </tr>\n",
              "    <tr>\n",
              "      <th>6123269</th>\n",
              "      <td>136311</td>\n",
              "      <td>228142</td>\n",
              "      <td>2013-08-30 13:41:33</td>\n",
              "      <td>2013-08-30 13:46:12.745</td>\n",
              "      <td>1.0</td>\n",
              "      <td>1</td>\n",
              "      <td>999</td>\n",
              "    </tr>\n",
              "  </tbody>\n",
              "</table>\n",
              "<p>5939867 rows × 7 columns</p>\n",
              "</div>"
            ],
            "text/plain": [
              "         problem_id  user_id  ... attempt_count skill_id\n",
              "0            557460    61394  ...             1      999\n",
              "1            365981    61394  ...             1       54\n",
              "2            426415    61394  ...             1      279\n",
              "3             86686    61394  ...             1       79\n",
              "4            399669    76592  ...             1      999\n",
              "...             ...      ...  ...           ...      ...\n",
              "6123265      330756   227984  ...             1      999\n",
              "6123266      765964   228009  ...             1      999\n",
              "6123267       84891   228039  ...             1      277\n",
              "6123268      543973   228055  ...             1      999\n",
              "6123269      136311   228142  ...             1      999\n",
              "\n",
              "[5939867 rows x 7 columns]"
            ]
          },
          "metadata": {
            "tags": []
          },
          "execution_count": 61
        }
      ]
    },
    {
      "cell_type": "code",
      "metadata": {
        "id": "QV2mlPC4W_Ql",
        "colab_type": "code",
        "colab": {
          "base_uri": "https://localhost:8080/",
          "height": 424
        },
        "outputId": "c5baa146-63f0-4344-93bd-565a12d47f18"
      },
      "source": [
        "# change 'correct' column into a boolean format as recommended in ASSIST dataset website\n",
        "df['correct'] = (df['correct'] >= 1).astype(int)\n",
        "df"
      ],
      "execution_count": null,
      "outputs": [
        {
          "output_type": "execute_result",
          "data": {
            "text/html": [
              "<div>\n",
              "<style scoped>\n",
              "    .dataframe tbody tr th:only-of-type {\n",
              "        vertical-align: middle;\n",
              "    }\n",
              "\n",
              "    .dataframe tbody tr th {\n",
              "        vertical-align: top;\n",
              "    }\n",
              "\n",
              "    .dataframe thead th {\n",
              "        text-align: right;\n",
              "    }\n",
              "</style>\n",
              "<table border=\"1\" class=\"dataframe\">\n",
              "  <thead>\n",
              "    <tr style=\"text-align: right;\">\n",
              "      <th></th>\n",
              "      <th>problem_id</th>\n",
              "      <th>user_id</th>\n",
              "      <th>start_time</th>\n",
              "      <th>end_time</th>\n",
              "      <th>correct</th>\n",
              "      <th>attempt_count</th>\n",
              "      <th>skill_id</th>\n",
              "    </tr>\n",
              "  </thead>\n",
              "  <tbody>\n",
              "    <tr>\n",
              "      <th>0</th>\n",
              "      <td>557460</td>\n",
              "      <td>61394</td>\n",
              "      <td>2012-09-28 15:11:27</td>\n",
              "      <td>2012-09-28 15:11:36.856</td>\n",
              "      <td>1</td>\n",
              "      <td>1</td>\n",
              "      <td>999</td>\n",
              "    </tr>\n",
              "    <tr>\n",
              "      <th>1</th>\n",
              "      <td>365981</td>\n",
              "      <td>61394</td>\n",
              "      <td>2012-10-09 11:01:52</td>\n",
              "      <td>2012-10-09 11:02:13.182</td>\n",
              "      <td>1</td>\n",
              "      <td>1</td>\n",
              "      <td>54</td>\n",
              "    </tr>\n",
              "    <tr>\n",
              "      <th>2</th>\n",
              "      <td>426415</td>\n",
              "      <td>61394</td>\n",
              "      <td>2013-03-07 10:53:20</td>\n",
              "      <td>2013-03-07 10:53:28.661</td>\n",
              "      <td>0</td>\n",
              "      <td>1</td>\n",
              "      <td>279</td>\n",
              "    </tr>\n",
              "    <tr>\n",
              "      <th>3</th>\n",
              "      <td>86686</td>\n",
              "      <td>61394</td>\n",
              "      <td>2013-08-20 19:54:56</td>\n",
              "      <td>2013-08-20 19:55:21.753</td>\n",
              "      <td>1</td>\n",
              "      <td>1</td>\n",
              "      <td>79</td>\n",
              "    </tr>\n",
              "    <tr>\n",
              "      <th>4</th>\n",
              "      <td>399669</td>\n",
              "      <td>76592</td>\n",
              "      <td>2012-09-10 17:20:10</td>\n",
              "      <td>2012-09-10 17:24:56.579</td>\n",
              "      <td>1</td>\n",
              "      <td>1</td>\n",
              "      <td>999</td>\n",
              "    </tr>\n",
              "    <tr>\n",
              "      <th>...</th>\n",
              "      <td>...</td>\n",
              "      <td>...</td>\n",
              "      <td>...</td>\n",
              "      <td>...</td>\n",
              "      <td>...</td>\n",
              "      <td>...</td>\n",
              "      <td>...</td>\n",
              "    </tr>\n",
              "    <tr>\n",
              "      <th>6123265</th>\n",
              "      <td>330756</td>\n",
              "      <td>227984</td>\n",
              "      <td>2013-08-30 10:10:55</td>\n",
              "      <td>2013-08-30 10:11:08.935</td>\n",
              "      <td>1</td>\n",
              "      <td>1</td>\n",
              "      <td>999</td>\n",
              "    </tr>\n",
              "    <tr>\n",
              "      <th>6123266</th>\n",
              "      <td>765964</td>\n",
              "      <td>228009</td>\n",
              "      <td>2013-08-31 10:23:24</td>\n",
              "      <td>2013-08-31 10:23:27.757</td>\n",
              "      <td>0</td>\n",
              "      <td>1</td>\n",
              "      <td>999</td>\n",
              "    </tr>\n",
              "    <tr>\n",
              "      <th>6123267</th>\n",
              "      <td>84891</td>\n",
              "      <td>228039</td>\n",
              "      <td>2013-08-30 11:29:35</td>\n",
              "      <td>2013-08-30 11:30:05.517</td>\n",
              "      <td>0</td>\n",
              "      <td>1</td>\n",
              "      <td>277</td>\n",
              "    </tr>\n",
              "    <tr>\n",
              "      <th>6123268</th>\n",
              "      <td>543973</td>\n",
              "      <td>228055</td>\n",
              "      <td>2013-08-30 11:52:37</td>\n",
              "      <td>2013-08-30 11:52:41.251</td>\n",
              "      <td>1</td>\n",
              "      <td>1</td>\n",
              "      <td>999</td>\n",
              "    </tr>\n",
              "    <tr>\n",
              "      <th>6123269</th>\n",
              "      <td>136311</td>\n",
              "      <td>228142</td>\n",
              "      <td>2013-08-30 13:41:33</td>\n",
              "      <td>2013-08-30 13:46:12.745</td>\n",
              "      <td>1</td>\n",
              "      <td>1</td>\n",
              "      <td>999</td>\n",
              "    </tr>\n",
              "  </tbody>\n",
              "</table>\n",
              "<p>6123270 rows × 7 columns</p>\n",
              "</div>"
            ],
            "text/plain": [
              "         problem_id  user_id  ... attempt_count skill_id\n",
              "0            557460    61394  ...             1      999\n",
              "1            365981    61394  ...             1       54\n",
              "2            426415    61394  ...             1      279\n",
              "3             86686    61394  ...             1       79\n",
              "4            399669    76592  ...             1      999\n",
              "...             ...      ...  ...           ...      ...\n",
              "6123265      330756   227984  ...             1      999\n",
              "6123266      765964   228009  ...             1      999\n",
              "6123267       84891   228039  ...             1      277\n",
              "6123268      543973   228055  ...             1      999\n",
              "6123269      136311   228142  ...             1      999\n",
              "\n",
              "[6123270 rows x 7 columns]"
            ]
          },
          "metadata": {
            "tags": []
          },
          "execution_count": 26
        }
      ]
    },
    {
      "cell_type": "code",
      "metadata": {
        "id": "9cioYgI7Xap6",
        "colab_type": "code",
        "colab": {
          "base_uri": "https://localhost:8080/",
          "height": 71
        },
        "outputId": "f1275cd4-8be9-4f1c-d205-6730522d48b7"
      },
      "source": [
        "df.correct.value_counts(normalize=True)"
      ],
      "execution_count": null,
      "outputs": [
        {
          "output_type": "execute_result",
          "data": {
            "text/plain": [
              "1.0    0.674026\n",
              "0.0    0.325974\n",
              "Name: correct, dtype: float64"
            ]
          },
          "metadata": {
            "tags": []
          },
          "execution_count": 62
        }
      ]
    },
    {
      "cell_type": "code",
      "metadata": {
        "id": "KbpmUPSpV0pt",
        "colab_type": "code",
        "colab": {
          "base_uri": "https://localhost:8080/",
          "height": 53
        },
        "outputId": "3e68fd5a-0f67-4205-a68c-8bad2e955b08"
      },
      "source": [
        "df.attempt_count.unique()"
      ],
      "execution_count": null,
      "outputs": [
        {
          "output_type": "execute_result",
          "data": {
            "text/plain": [
              "array([ 1,  2, 13,  3,  4,  8, 11,  5,  0,  7, 19,  6, 10, 12, 15, 26, 17,\n",
              "       14,  9, 24, 16, 20, 22, 18, 29, 23, 27, 28, 21, 25])"
            ]
          },
          "metadata": {
            "tags": []
          },
          "execution_count": 66
        }
      ]
    },
    {
      "cell_type": "code",
      "metadata": {
        "id": "fpM0j-ldUqA8",
        "colab_type": "code",
        "colab": {
          "base_uri": "https://localhost:8080/",
          "height": 424
        },
        "outputId": "f3037f96-e617-47a3-8574-6d4876c7ecc2"
      },
      "source": [
        "counts = df['user_id'].value_counts()\n",
        "selected_df= df[~df['user_id'].isin(counts[counts < 2].index)]\n",
        "selected_df"
      ],
      "execution_count": null,
      "outputs": [
        {
          "output_type": "execute_result",
          "data": {
            "text/html": [
              "<div>\n",
              "<style scoped>\n",
              "    .dataframe tbody tr th:only-of-type {\n",
              "        vertical-align: middle;\n",
              "    }\n",
              "\n",
              "    .dataframe tbody tr th {\n",
              "        vertical-align: top;\n",
              "    }\n",
              "\n",
              "    .dataframe thead th {\n",
              "        text-align: right;\n",
              "    }\n",
              "</style>\n",
              "<table border=\"1\" class=\"dataframe\">\n",
              "  <thead>\n",
              "    <tr style=\"text-align: right;\">\n",
              "      <th></th>\n",
              "      <th>problem_id</th>\n",
              "      <th>user_id</th>\n",
              "      <th>start_time</th>\n",
              "      <th>end_time</th>\n",
              "      <th>correct</th>\n",
              "      <th>attempt_count</th>\n",
              "      <th>skill_id</th>\n",
              "    </tr>\n",
              "  </thead>\n",
              "  <tbody>\n",
              "    <tr>\n",
              "      <th>0</th>\n",
              "      <td>557460</td>\n",
              "      <td>61394</td>\n",
              "      <td>2012-09-28 15:11:27</td>\n",
              "      <td>2012-09-28 15:11:36.856</td>\n",
              "      <td>1.0</td>\n",
              "      <td>1</td>\n",
              "      <td>999</td>\n",
              "    </tr>\n",
              "    <tr>\n",
              "      <th>1</th>\n",
              "      <td>365981</td>\n",
              "      <td>61394</td>\n",
              "      <td>2012-10-09 11:01:52</td>\n",
              "      <td>2012-10-09 11:02:13.182</td>\n",
              "      <td>1.0</td>\n",
              "      <td>1</td>\n",
              "      <td>54</td>\n",
              "    </tr>\n",
              "    <tr>\n",
              "      <th>2</th>\n",
              "      <td>426415</td>\n",
              "      <td>61394</td>\n",
              "      <td>2013-03-07 10:53:20</td>\n",
              "      <td>2013-03-07 10:53:28.661</td>\n",
              "      <td>0.0</td>\n",
              "      <td>1</td>\n",
              "      <td>279</td>\n",
              "    </tr>\n",
              "    <tr>\n",
              "      <th>3</th>\n",
              "      <td>86686</td>\n",
              "      <td>61394</td>\n",
              "      <td>2013-08-20 19:54:56</td>\n",
              "      <td>2013-08-20 19:55:21.753</td>\n",
              "      <td>1.0</td>\n",
              "      <td>1</td>\n",
              "      <td>79</td>\n",
              "    </tr>\n",
              "    <tr>\n",
              "      <th>4</th>\n",
              "      <td>399669</td>\n",
              "      <td>76592</td>\n",
              "      <td>2012-09-10 17:20:10</td>\n",
              "      <td>2012-09-10 17:24:56.579</td>\n",
              "      <td>1.0</td>\n",
              "      <td>1</td>\n",
              "      <td>999</td>\n",
              "    </tr>\n",
              "    <tr>\n",
              "      <th>...</th>\n",
              "      <td>...</td>\n",
              "      <td>...</td>\n",
              "      <td>...</td>\n",
              "      <td>...</td>\n",
              "      <td>...</td>\n",
              "      <td>...</td>\n",
              "      <td>...</td>\n",
              "    </tr>\n",
              "    <tr>\n",
              "      <th>6123265</th>\n",
              "      <td>330756</td>\n",
              "      <td>227984</td>\n",
              "      <td>2013-08-30 10:10:55</td>\n",
              "      <td>2013-08-30 10:11:08.935</td>\n",
              "      <td>1.0</td>\n",
              "      <td>1</td>\n",
              "      <td>999</td>\n",
              "    </tr>\n",
              "    <tr>\n",
              "      <th>6123266</th>\n",
              "      <td>765964</td>\n",
              "      <td>228009</td>\n",
              "      <td>2013-08-31 10:23:24</td>\n",
              "      <td>2013-08-31 10:23:27.757</td>\n",
              "      <td>0.0</td>\n",
              "      <td>1</td>\n",
              "      <td>999</td>\n",
              "    </tr>\n",
              "    <tr>\n",
              "      <th>6123267</th>\n",
              "      <td>84891</td>\n",
              "      <td>228039</td>\n",
              "      <td>2013-08-30 11:29:35</td>\n",
              "      <td>2013-08-30 11:30:05.517</td>\n",
              "      <td>0.0</td>\n",
              "      <td>1</td>\n",
              "      <td>277</td>\n",
              "    </tr>\n",
              "    <tr>\n",
              "      <th>6123268</th>\n",
              "      <td>543973</td>\n",
              "      <td>228055</td>\n",
              "      <td>2013-08-30 11:52:37</td>\n",
              "      <td>2013-08-30 11:52:41.251</td>\n",
              "      <td>1.0</td>\n",
              "      <td>1</td>\n",
              "      <td>999</td>\n",
              "    </tr>\n",
              "    <tr>\n",
              "      <th>6123269</th>\n",
              "      <td>136311</td>\n",
              "      <td>228142</td>\n",
              "      <td>2013-08-30 13:41:33</td>\n",
              "      <td>2013-08-30 13:46:12.745</td>\n",
              "      <td>1.0</td>\n",
              "      <td>1</td>\n",
              "      <td>999</td>\n",
              "    </tr>\n",
              "  </tbody>\n",
              "</table>\n",
              "<p>5939169 rows × 7 columns</p>\n",
              "</div>"
            ],
            "text/plain": [
              "         problem_id  user_id  ... attempt_count skill_id\n",
              "0            557460    61394  ...             1      999\n",
              "1            365981    61394  ...             1       54\n",
              "2            426415    61394  ...             1      279\n",
              "3             86686    61394  ...             1       79\n",
              "4            399669    76592  ...             1      999\n",
              "...             ...      ...  ...           ...      ...\n",
              "6123265      330756   227984  ...             1      999\n",
              "6123266      765964   228009  ...             1      999\n",
              "6123267       84891   228039  ...             1      277\n",
              "6123268      543973   228055  ...             1      999\n",
              "6123269      136311   228142  ...             1      999\n",
              "\n",
              "[5939169 rows x 7 columns]"
            ]
          },
          "metadata": {
            "tags": []
          },
          "execution_count": 63
        }
      ]
    },
    {
      "cell_type": "code",
      "metadata": {
        "id": "XP3oIACdhupv",
        "colab_type": "code",
        "colab": {
          "base_uri": "https://localhost:8080/",
          "height": 231
        },
        "outputId": "b0884683-6a2b-4a7b-b802-b8362cf48ab7"
      },
      "source": [
        "selected_df['user_id'].value_counts()"
      ],
      "execution_count": null,
      "outputs": [
        {
          "output_type": "execute_result",
          "data": {
            "text/plain": [
              "221054    4760\n",
              "220012    3551\n",
              "169527    3421\n",
              "92113     3289\n",
              "218757    3157\n",
              "          ... \n",
              "177088       2\n",
              "198066       2\n",
              "198995       2\n",
              "194926       2\n",
              "203435       2\n",
              "Name: user_id, Length: 45969, dtype: int64"
            ]
          },
          "metadata": {
            "tags": []
          },
          "execution_count": 64
        }
      ]
    },
    {
      "cell_type": "code",
      "metadata": {
        "id": "3Ic0u7nzjicH",
        "colab_type": "code",
        "colab": {
          "base_uri": "https://localhost:8080/",
          "height": 112
        },
        "outputId": "beae9387-7830-46b6-8795-f2d39af06acb"
      },
      "source": [
        "df[df['user_id'] == 221324]"
      ],
      "execution_count": null,
      "outputs": [
        {
          "output_type": "execute_result",
          "data": {
            "text/html": [
              "<div>\n",
              "<style scoped>\n",
              "    .dataframe tbody tr th:only-of-type {\n",
              "        vertical-align: middle;\n",
              "    }\n",
              "\n",
              "    .dataframe tbody tr th {\n",
              "        vertical-align: top;\n",
              "    }\n",
              "\n",
              "    .dataframe thead th {\n",
              "        text-align: right;\n",
              "    }\n",
              "</style>\n",
              "<table border=\"1\" class=\"dataframe\">\n",
              "  <thead>\n",
              "    <tr style=\"text-align: right;\">\n",
              "      <th></th>\n",
              "      <th>problem_id</th>\n",
              "      <th>user_id</th>\n",
              "      <th>start_time</th>\n",
              "      <th>end_time</th>\n",
              "      <th>correct</th>\n",
              "      <th>attempt_count</th>\n",
              "      <th>skill_id</th>\n",
              "    </tr>\n",
              "  </thead>\n",
              "  <tbody>\n",
              "    <tr>\n",
              "      <th>381890</th>\n",
              "      <td>108501</td>\n",
              "      <td>221324</td>\n",
              "      <td>2013-06-16 23:01:02</td>\n",
              "      <td>2013-06-16 23:01:27.992</td>\n",
              "      <td>1.0</td>\n",
              "      <td>1</td>\n",
              "      <td>999</td>\n",
              "    </tr>\n",
              "    <tr>\n",
              "      <th>4771501</th>\n",
              "      <td>108499</td>\n",
              "      <td>221324</td>\n",
              "      <td>2013-06-16 23:02:32</td>\n",
              "      <td>2013-06-16 23:03:08.199</td>\n",
              "      <td>1.0</td>\n",
              "      <td>1</td>\n",
              "      <td>999</td>\n",
              "    </tr>\n",
              "  </tbody>\n",
              "</table>\n",
              "</div>"
            ],
            "text/plain": [
              "         problem_id  user_id  ... attempt_count skill_id\n",
              "381890       108501   221324  ...             1      999\n",
              "4771501      108499   221324  ...             1      999\n",
              "\n",
              "[2 rows x 7 columns]"
            ]
          },
          "metadata": {
            "tags": []
          },
          "execution_count": 65
        }
      ]
    },
    {
      "cell_type": "code",
      "metadata": {
        "id": "psu99hP_jscd",
        "colab_type": "code",
        "colab": {}
      },
      "source": [
        "skill_counts = selected_df['skill_id'].value_counts()"
      ],
      "execution_count": null,
      "outputs": []
    },
    {
      "cell_type": "code",
      "metadata": {
        "id": "EColOlZAj3Gv",
        "colab_type": "code",
        "colab": {
          "base_uri": "https://localhost:8080/",
          "height": 231
        },
        "outputId": "11a937d2-1e09-427f-8599-a63d02bb96ca"
      },
      "source": [
        "skill_counts"
      ],
      "execution_count": null,
      "outputs": [
        {
          "output_type": "execute_result",
          "data": {
            "text/plain": [
              "999    3325272\n",
              "311     182937\n",
              "277     144084\n",
              "280     143417\n",
              "47       95336\n",
              "        ...   \n",
              "38           5\n",
              "178          4\n",
              "611          3\n",
              "177          1\n",
              "291          1\n",
              "Name: skill_id, Length: 266, dtype: int64"
            ]
          },
          "metadata": {
            "tags": []
          },
          "execution_count": 67
        }
      ]
    },
    {
      "cell_type": "code",
      "metadata": {
        "id": "Q7DRN6IEbD38",
        "colab_type": "code",
        "colab": {
          "base_uri": "https://localhost:8080/",
          "height": 35
        },
        "outputId": "61940c2f-5e2c-4086-961b-0d4a58969cc8"
      },
      "source": [
        "len(counts)"
      ],
      "execution_count": null,
      "outputs": [
        {
          "output_type": "execute_result",
          "data": {
            "text/plain": [
              "46674"
            ]
          },
          "metadata": {
            "tags": []
          },
          "execution_count": 91
        }
      ]
    },
    {
      "cell_type": "code",
      "metadata": {
        "id": "8ElzOkzcX_i7",
        "colab_type": "code",
        "colab": {
          "base_uri": "https://localhost:8080/",
          "height": 35
        },
        "outputId": "4298e237-bce6-4fc9-b706-e0ec05a40fb2"
      },
      "source": [
        "len(selected_df) - 3325272"
      ],
      "execution_count": null,
      "outputs": [
        {
          "output_type": "execute_result",
          "data": {
            "text/plain": [
              "2613897"
            ]
          },
          "metadata": {
            "tags": []
          },
          "execution_count": 70
        }
      ]
    },
    {
      "cell_type": "code",
      "metadata": {
        "id": "HC8YXe9kZore",
        "colab_type": "code",
        "colab": {
          "base_uri": "https://localhost:8080/",
          "height": 160
        },
        "outputId": "28b7ecea-f3ef-4ee2-9519-15b8d73293d6"
      },
      "source": [
        "selected_df.nunique()"
      ],
      "execution_count": null,
      "outputs": [
        {
          "output_type": "execute_result",
          "data": {
            "text/plain": [
              "problem_id        179969\n",
              "user_id            45976\n",
              "start_time       4570663\n",
              "end_time         5942658\n",
              "correct               13\n",
              "attempt_count         30\n",
              "skill_id             266\n",
              "dtype: int64"
            ]
          },
          "metadata": {
            "tags": []
          },
          "execution_count": 32
        }
      ]
    },
    {
      "cell_type": "code",
      "metadata": {
        "id": "X5fBZTvtvgLD",
        "colab_type": "code",
        "colab": {
          "base_uri": "https://localhost:8080/",
          "height": 35
        },
        "outputId": "6ea47c08-75da-48be-faa1-1b852507b1df"
      },
      "source": [
        "len(selected_df.drop_duplicates())"
      ],
      "execution_count": null,
      "outputs": [
        {
          "output_type": "execute_result",
          "data": {
            "text/plain": [
              "5944476"
            ]
          },
          "metadata": {
            "tags": []
          },
          "execution_count": 38
        }
      ]
    },
    {
      "cell_type": "code",
      "metadata": {
        "id": "9OYtI31Rb7qb",
        "colab_type": "code",
        "colab": {
          "base_uri": "https://localhost:8080/",
          "height": 424
        },
        "outputId": "827c712a-4baa-43b0-fa65-4a733f05c6c9"
      },
      "source": [
        "df[df['attempt_count'] == 0]"
      ],
      "execution_count": null,
      "outputs": [
        {
          "output_type": "execute_result",
          "data": {
            "text/html": [
              "<div>\n",
              "<style scoped>\n",
              "    .dataframe tbody tr th:only-of-type {\n",
              "        vertical-align: middle;\n",
              "    }\n",
              "\n",
              "    .dataframe tbody tr th {\n",
              "        vertical-align: top;\n",
              "    }\n",
              "\n",
              "    .dataframe thead th {\n",
              "        text-align: right;\n",
              "    }\n",
              "</style>\n",
              "<table border=\"1\" class=\"dataframe\">\n",
              "  <thead>\n",
              "    <tr style=\"text-align: right;\">\n",
              "      <th></th>\n",
              "      <th>problem_id</th>\n",
              "      <th>user_id</th>\n",
              "      <th>end_time</th>\n",
              "      <th>correct</th>\n",
              "      <th>attempt_count</th>\n",
              "      <th>skill_id</th>\n",
              "    </tr>\n",
              "  </thead>\n",
              "  <tbody>\n",
              "    <tr>\n",
              "      <th>235</th>\n",
              "      <td>108293</td>\n",
              "      <td>93574</td>\n",
              "      <td>2012-11-19 13:03:48.491</td>\n",
              "      <td>0</td>\n",
              "      <td>0</td>\n",
              "      <td>312</td>\n",
              "    </tr>\n",
              "    <tr>\n",
              "      <th>426</th>\n",
              "      <td>139575</td>\n",
              "      <td>100652</td>\n",
              "      <td>2012-11-07 17:43:37.193</td>\n",
              "      <td>0</td>\n",
              "      <td>0</td>\n",
              "      <td>17</td>\n",
              "    </tr>\n",
              "    <tr>\n",
              "      <th>940</th>\n",
              "      <td>108032</td>\n",
              "      <td>122049</td>\n",
              "      <td>2013-02-28 21:08:19.107</td>\n",
              "      <td>0</td>\n",
              "      <td>0</td>\n",
              "      <td>312</td>\n",
              "    </tr>\n",
              "    <tr>\n",
              "      <th>1174</th>\n",
              "      <td>554729</td>\n",
              "      <td>124084</td>\n",
              "      <td>2012-09-20 19:27:23.994</td>\n",
              "      <td>0</td>\n",
              "      <td>0</td>\n",
              "      <td>999</td>\n",
              "    </tr>\n",
              "    <tr>\n",
              "      <th>1292</th>\n",
              "      <td>545347</td>\n",
              "      <td>125416</td>\n",
              "      <td>2012-09-05 16:08:53.307</td>\n",
              "      <td>0</td>\n",
              "      <td>0</td>\n",
              "      <td>999</td>\n",
              "    </tr>\n",
              "    <tr>\n",
              "      <th>...</th>\n",
              "      <td>...</td>\n",
              "      <td>...</td>\n",
              "      <td>...</td>\n",
              "      <td>...</td>\n",
              "      <td>...</td>\n",
              "      <td>...</td>\n",
              "    </tr>\n",
              "    <tr>\n",
              "      <th>6122746</th>\n",
              "      <td>170731</td>\n",
              "      <td>221915</td>\n",
              "      <td>2013-07-18 11:12:27.053</td>\n",
              "      <td>0</td>\n",
              "      <td>0</td>\n",
              "      <td>39</td>\n",
              "    </tr>\n",
              "    <tr>\n",
              "      <th>6122822</th>\n",
              "      <td>12383</td>\n",
              "      <td>222500</td>\n",
              "      <td>2013-08-26 19:40:32.453</td>\n",
              "      <td>0</td>\n",
              "      <td>0</td>\n",
              "      <td>47</td>\n",
              "    </tr>\n",
              "    <tr>\n",
              "      <th>6123001</th>\n",
              "      <td>12387</td>\n",
              "      <td>223445</td>\n",
              "      <td>2013-07-31 21:46:45.393</td>\n",
              "      <td>0</td>\n",
              "      <td>0</td>\n",
              "      <td>91</td>\n",
              "    </tr>\n",
              "    <tr>\n",
              "      <th>6123188</th>\n",
              "      <td>765824</td>\n",
              "      <td>225944</td>\n",
              "      <td>2013-08-30 12:57:26.138</td>\n",
              "      <td>0</td>\n",
              "      <td>0</td>\n",
              "      <td>999</td>\n",
              "    </tr>\n",
              "    <tr>\n",
              "      <th>6123237</th>\n",
              "      <td>760541</td>\n",
              "      <td>226860</td>\n",
              "      <td>2013-08-29 07:46:40.524</td>\n",
              "      <td>0</td>\n",
              "      <td>0</td>\n",
              "      <td>999</td>\n",
              "    </tr>\n",
              "  </tbody>\n",
              "</table>\n",
              "<p>46570 rows × 6 columns</p>\n",
              "</div>"
            ],
            "text/plain": [
              "         problem_id  user_id  ... attempt_count  skill_id\n",
              "235          108293    93574  ...             0       312\n",
              "426          139575   100652  ...             0        17\n",
              "940          108032   122049  ...             0       312\n",
              "1174         554729   124084  ...             0       999\n",
              "1292         545347   125416  ...             0       999\n",
              "...             ...      ...  ...           ...       ...\n",
              "6122746      170731   221915  ...             0        39\n",
              "6122822       12383   222500  ...             0        47\n",
              "6123001       12387   223445  ...             0        91\n",
              "6123188      765824   225944  ...             0       999\n",
              "6123237      760541   226860  ...             0       999\n",
              "\n",
              "[46570 rows x 6 columns]"
            ]
          },
          "metadata": {
            "tags": []
          },
          "execution_count": 93
        }
      ]
    },
    {
      "cell_type": "code",
      "metadata": {
        "id": "YXI3EK3Wq8T_",
        "colab_type": "code",
        "colab": {
          "base_uri": "https://localhost:8080/",
          "height": 424
        },
        "outputId": "50c3b523-2104-40b7-a06b-75f99fa5613f"
      },
      "source": [
        "counts = selected_df['end_time'].value_counts()\n",
        "dub_time_df= selected_df[~selected_df['end_time'].isin(counts[counts < 2].index)]\n",
        "dub_time_df"
      ],
      "execution_count": null,
      "outputs": [
        {
          "output_type": "execute_result",
          "data": {
            "text/html": [
              "<div>\n",
              "<style scoped>\n",
              "    .dataframe tbody tr th:only-of-type {\n",
              "        vertical-align: middle;\n",
              "    }\n",
              "\n",
              "    .dataframe tbody tr th {\n",
              "        vertical-align: top;\n",
              "    }\n",
              "\n",
              "    .dataframe thead th {\n",
              "        text-align: right;\n",
              "    }\n",
              "</style>\n",
              "<table border=\"1\" class=\"dataframe\">\n",
              "  <thead>\n",
              "    <tr style=\"text-align: right;\">\n",
              "      <th></th>\n",
              "      <th>problem_id</th>\n",
              "      <th>user_id</th>\n",
              "      <th>start_time</th>\n",
              "      <th>end_time</th>\n",
              "      <th>correct</th>\n",
              "      <th>attempt_count</th>\n",
              "      <th>skill_id</th>\n",
              "    </tr>\n",
              "  </thead>\n",
              "  <tbody>\n",
              "    <tr>\n",
              "      <th>20</th>\n",
              "      <td>543983</td>\n",
              "      <td>85334</td>\n",
              "      <td>2012-09-04 13:54:23</td>\n",
              "      <td>2012-09-04 13:54:25.611</td>\n",
              "      <td>1.0</td>\n",
              "      <td>1</td>\n",
              "      <td>999</td>\n",
              "    </tr>\n",
              "    <tr>\n",
              "      <th>770</th>\n",
              "      <td>72689</td>\n",
              "      <td>120299</td>\n",
              "      <td>2012-09-10 08:08:10</td>\n",
              "      <td>2012-09-10 08:08:32.772</td>\n",
              "      <td>0.0</td>\n",
              "      <td>1</td>\n",
              "      <td>999</td>\n",
              "    </tr>\n",
              "    <tr>\n",
              "      <th>4310</th>\n",
              "      <td>431679</td>\n",
              "      <td>176267</td>\n",
              "      <td>2013-02-25 15:46:09</td>\n",
              "      <td>2013-02-25 15:46:21.683</td>\n",
              "      <td>1.0</td>\n",
              "      <td>1</td>\n",
              "      <td>999</td>\n",
              "    </tr>\n",
              "    <tr>\n",
              "      <th>7260</th>\n",
              "      <td>399575</td>\n",
              "      <td>183449</td>\n",
              "      <td>2013-02-25 09:46:53</td>\n",
              "      <td>2013-02-25 09:48:28.763</td>\n",
              "      <td>0.0</td>\n",
              "      <td>2</td>\n",
              "      <td>999</td>\n",
              "    </tr>\n",
              "    <tr>\n",
              "      <th>7310</th>\n",
              "      <td>169675</td>\n",
              "      <td>183656</td>\n",
              "      <td>2013-04-05 14:04:57</td>\n",
              "      <td>2013-04-05 14:05:33.849</td>\n",
              "      <td>1.0</td>\n",
              "      <td>1</td>\n",
              "      <td>296</td>\n",
              "    </tr>\n",
              "    <tr>\n",
              "      <th>...</th>\n",
              "      <td>...</td>\n",
              "      <td>...</td>\n",
              "      <td>...</td>\n",
              "      <td>...</td>\n",
              "      <td>...</td>\n",
              "      <td>...</td>\n",
              "      <td>...</td>\n",
              "    </tr>\n",
              "    <tr>\n",
              "      <th>6114158</th>\n",
              "      <td>536990</td>\n",
              "      <td>171500</td>\n",
              "      <td>2012-09-07 11:46:31</td>\n",
              "      <td>2012-09-07 11:47:07.181</td>\n",
              "      <td>0.0</td>\n",
              "      <td>2</td>\n",
              "      <td>999</td>\n",
              "    </tr>\n",
              "    <tr>\n",
              "      <th>6115521</th>\n",
              "      <td>522445</td>\n",
              "      <td>176289</td>\n",
              "      <td>2012-10-02 10:18:16</td>\n",
              "      <td>2012-10-02 10:18:21.12</td>\n",
              "      <td>1.0</td>\n",
              "      <td>1</td>\n",
              "      <td>999</td>\n",
              "    </tr>\n",
              "    <tr>\n",
              "      <th>6116011</th>\n",
              "      <td>416575</td>\n",
              "      <td>177016</td>\n",
              "      <td>2012-11-16 10:42:34</td>\n",
              "      <td>2012-11-16 10:44:27.128</td>\n",
              "      <td>0.0</td>\n",
              "      <td>1</td>\n",
              "      <td>999</td>\n",
              "    </tr>\n",
              "    <tr>\n",
              "      <th>6120808</th>\n",
              "      <td>569758</td>\n",
              "      <td>204174</td>\n",
              "      <td>2013-01-24 08:42:55</td>\n",
              "      <td>2013-01-24 08:43:05.613</td>\n",
              "      <td>1.0</td>\n",
              "      <td>1</td>\n",
              "      <td>999</td>\n",
              "    </tr>\n",
              "    <tr>\n",
              "      <th>6122178</th>\n",
              "      <td>422791</td>\n",
              "      <td>216692</td>\n",
              "      <td>2013-05-08 15:31:27</td>\n",
              "      <td>2013-05-08 15:31:37.875</td>\n",
              "      <td>1.0</td>\n",
              "      <td>1</td>\n",
              "      <td>999</td>\n",
              "    </tr>\n",
              "  </tbody>\n",
              "</table>\n",
              "<p>3636 rows × 7 columns</p>\n",
              "</div>"
            ],
            "text/plain": [
              "         problem_id  user_id  ... attempt_count skill_id\n",
              "20           543983    85334  ...             1      999\n",
              "770           72689   120299  ...             1      999\n",
              "4310         431679   176267  ...             1      999\n",
              "7260         399575   183449  ...             2      999\n",
              "7310         169675   183656  ...             1      296\n",
              "...             ...      ...  ...           ...      ...\n",
              "6114158      536990   171500  ...             2      999\n",
              "6115521      522445   176289  ...             1      999\n",
              "6116011      416575   177016  ...             1      999\n",
              "6120808      569758   204174  ...             1      999\n",
              "6122178      422791   216692  ...             1      999\n",
              "\n",
              "[3636 rows x 7 columns]"
            ]
          },
          "metadata": {
            "tags": []
          },
          "execution_count": 33
        }
      ]
    },
    {
      "cell_type": "code",
      "metadata": {
        "id": "EJVRPsP8utl0",
        "colab_type": "code",
        "colab": {
          "base_uri": "https://localhost:8080/",
          "height": 112
        },
        "outputId": "b6962a38-12f0-409b-f202-98597b79c753"
      },
      "source": [
        "dub_time_df[dub_time_df['end_time'] == '2012-10-12 13:41:00.974']"
      ],
      "execution_count": null,
      "outputs": [
        {
          "output_type": "execute_result",
          "data": {
            "text/html": [
              "<div>\n",
              "<style scoped>\n",
              "    .dataframe tbody tr th:only-of-type {\n",
              "        vertical-align: middle;\n",
              "    }\n",
              "\n",
              "    .dataframe tbody tr th {\n",
              "        vertical-align: top;\n",
              "    }\n",
              "\n",
              "    .dataframe thead th {\n",
              "        text-align: right;\n",
              "    }\n",
              "</style>\n",
              "<table border=\"1\" class=\"dataframe\">\n",
              "  <thead>\n",
              "    <tr style=\"text-align: right;\">\n",
              "      <th></th>\n",
              "      <th>problem_id</th>\n",
              "      <th>user_id</th>\n",
              "      <th>start_time</th>\n",
              "      <th>end_time</th>\n",
              "      <th>correct</th>\n",
              "      <th>attempt_count</th>\n",
              "      <th>skill_id</th>\n",
              "    </tr>\n",
              "  </thead>\n",
              "  <tbody>\n",
              "    <tr>\n",
              "      <th>838240</th>\n",
              "      <td>90190</td>\n",
              "      <td>132804</td>\n",
              "      <td>2012-10-12 13:40:56</td>\n",
              "      <td>2012-10-12 13:41:00.974</td>\n",
              "      <td>1.0</td>\n",
              "      <td>1</td>\n",
              "      <td>279</td>\n",
              "    </tr>\n",
              "    <tr>\n",
              "      <th>2174014</th>\n",
              "      <td>562048</td>\n",
              "      <td>188843</td>\n",
              "      <td>2012-10-12 13:40:59</td>\n",
              "      <td>2012-10-12 13:41:00.974</td>\n",
              "      <td>1.0</td>\n",
              "      <td>1</td>\n",
              "      <td>999</td>\n",
              "    </tr>\n",
              "  </tbody>\n",
              "</table>\n",
              "</div>"
            ],
            "text/plain": [
              "         problem_id  user_id  ... attempt_count skill_id\n",
              "838240        90190   132804  ...             1      279\n",
              "2174014      562048   188843  ...             1      999\n",
              "\n",
              "[2 rows x 7 columns]"
            ]
          },
          "metadata": {
            "tags": []
          },
          "execution_count": 36
        }
      ]
    },
    {
      "cell_type": "code",
      "metadata": {
        "id": "-xlSgYgNrkPY",
        "colab_type": "code",
        "colab": {
          "base_uri": "https://localhost:8080/",
          "height": 231
        },
        "outputId": "ad41b4b9-7f29-4ebd-b193-1c2954cd73e3"
      },
      "source": [
        "dub_time_df['end_time'].value_counts()"
      ],
      "execution_count": null,
      "outputs": [
        {
          "output_type": "execute_result",
          "data": {
            "text/plain": [
              "2012-10-02 16:46:42.859    2\n",
              "2012-10-12 13:41:00.974    2\n",
              "2012-10-09 10:35:47.266    2\n",
              "2012-11-07 14:23:09.615    2\n",
              "2013-01-24 10:22:13.483    2\n",
              "                          ..\n",
              "2013-01-29 11:04:26.04     2\n",
              "2012-11-02 12:45:51.032    2\n",
              "2013-05-02 10:44:39.726    2\n",
              "2012-12-13 13:47:23.056    2\n",
              "2012-09-13 10:12:46.661    2\n",
              "Name: end_time, Length: 1818, dtype: int64"
            ]
          },
          "metadata": {
            "tags": []
          },
          "execution_count": 34
        }
      ]
    },
    {
      "cell_type": "markdown",
      "metadata": {
        "colab_type": "text",
        "id": "0sVusYm-nmYz"
      },
      "source": [
        "#### (drop NaN ) make a complete and minimum csv dataset for experiments"
      ]
    },
    {
      "cell_type": "code",
      "metadata": {
        "colab_type": "code",
        "id": "SA6I5Pz4nmY9",
        "colab": {
          "base_uri": "https://localhost:8080/",
          "height": 136
        },
        "outputId": "477014f7-7fc6-4817-9c48-c57a32c1f6ad"
      },
      "source": [
        "import pandas as pd \n",
        "assist2012_preprocessed = pd.read_csv(\n",
        "    \"/content/drive/My Drive/master thesis/Datasets/assistment_dataset/2012-2013-data-with-predictions-4-final.csv\",\n",
        "    usecols=['assistment_id', 'user_id', 'start_time', 'end_time', 'correct', 'attempt_count', 'skill_id', 'skill'])\n",
        "print(len(assist2012_preprocessed))\n",
        "assist2012_preprocessed.head(1)"
      ],
      "execution_count": null,
      "outputs": [
        {
          "output_type": "stream",
          "text": [
            "6123270\n"
          ],
          "name": "stdout"
        },
        {
          "output_type": "execute_result",
          "data": {
            "text/html": [
              "<div>\n",
              "<style scoped>\n",
              "    .dataframe tbody tr th:only-of-type {\n",
              "        vertical-align: middle;\n",
              "    }\n",
              "\n",
              "    .dataframe tbody tr th {\n",
              "        vertical-align: top;\n",
              "    }\n",
              "\n",
              "    .dataframe thead th {\n",
              "        text-align: right;\n",
              "    }\n",
              "</style>\n",
              "<table border=\"1\" class=\"dataframe\">\n",
              "  <thead>\n",
              "    <tr style=\"text-align: right;\">\n",
              "      <th></th>\n",
              "      <th>skill</th>\n",
              "      <th>user_id</th>\n",
              "      <th>assistment_id</th>\n",
              "      <th>start_time</th>\n",
              "      <th>end_time</th>\n",
              "      <th>correct</th>\n",
              "      <th>attempt_count</th>\n",
              "      <th>skill_id</th>\n",
              "    </tr>\n",
              "  </thead>\n",
              "  <tbody>\n",
              "    <tr>\n",
              "      <th>0</th>\n",
              "      <td>NaN</td>\n",
              "      <td>61394</td>\n",
              "      <td>341511</td>\n",
              "      <td>2012-09-28 15:11:27</td>\n",
              "      <td>2012-09-28 15:11:36.856</td>\n",
              "      <td>1.0</td>\n",
              "      <td>1</td>\n",
              "      <td>NaN</td>\n",
              "    </tr>\n",
              "  </tbody>\n",
              "</table>\n",
              "</div>"
            ],
            "text/plain": [
              "  skill  user_id  assistment_id  ... correct attempt_count  skill_id\n",
              "0   NaN    61394         341511  ...     1.0             1       NaN\n",
              "\n",
              "[1 rows x 8 columns]"
            ]
          },
          "metadata": {
            "tags": []
          },
          "execution_count": 6
        }
      ]
    },
    {
      "cell_type": "code",
      "metadata": {
        "colab_type": "code",
        "id": "0JqyV_sonmZW",
        "colab": {
          "base_uri": "https://localhost:8080/",
          "height": 517
        },
        "outputId": "e173eef3-600c-466f-dcdf-6e6f635286c7"
      },
      "source": [
        "df = assist2012_preprocessed\n",
        "print(len(df))\n",
        "#df = df.drop_duplicates(subset=['problem_id','user_id','attempt_count'])\n",
        "df = df.drop_duplicates()\n",
        "print(len(df))\n",
        "df = df.dropna(subset=['skill_id', 'skill' ])\n",
        "# change 'correct' column into a boolean format as recommended in ASSIST dataset website\n",
        "#df['correct'] = (df['correct'] >= 1).astype(int)\n",
        "df = df[df[\"correct\"].isin([0, 1])]\n",
        "df = df.astype({'skill_id': 'int32'})\n",
        "print(len(df))\n",
        "df.nunique()"
      ],
      "execution_count": null,
      "outputs": [
        {
          "output_type": "stream",
          "text": [
            "6123270\n"
          ],
          "name": "stdout"
        },
        {
          "output_type": "error",
          "ename": "KeyboardInterrupt",
          "evalue": "ignored",
          "traceback": [
            "\u001b[0;31m---------------------------------------------------------------------------\u001b[0m",
            "\u001b[0;31mKeyboardInterrupt\u001b[0m                         Traceback (most recent call last)",
            "\u001b[0;32m<ipython-input-7-7d34ffc25eae>\u001b[0m in \u001b[0;36m<module>\u001b[0;34m()\u001b[0m\n\u001b[1;32m      2\u001b[0m \u001b[0mprint\u001b[0m\u001b[0;34m(\u001b[0m\u001b[0mlen\u001b[0m\u001b[0;34m(\u001b[0m\u001b[0mdf\u001b[0m\u001b[0;34m)\u001b[0m\u001b[0;34m)\u001b[0m\u001b[0;34m\u001b[0m\u001b[0;34m\u001b[0m\u001b[0m\n\u001b[1;32m      3\u001b[0m \u001b[0;31m#df = df.drop_duplicates(subset=['problem_id','user_id','attempt_count'])\u001b[0m\u001b[0;34m\u001b[0m\u001b[0;34m\u001b[0m\u001b[0;34m\u001b[0m\u001b[0m\n\u001b[0;32m----> 4\u001b[0;31m \u001b[0mdf\u001b[0m \u001b[0;34m=\u001b[0m \u001b[0mdf\u001b[0m\u001b[0;34m.\u001b[0m\u001b[0mdrop_duplicates\u001b[0m\u001b[0;34m(\u001b[0m\u001b[0;34m)\u001b[0m\u001b[0;34m\u001b[0m\u001b[0;34m\u001b[0m\u001b[0m\n\u001b[0m\u001b[1;32m      5\u001b[0m \u001b[0mprint\u001b[0m\u001b[0;34m(\u001b[0m\u001b[0mlen\u001b[0m\u001b[0;34m(\u001b[0m\u001b[0mdf\u001b[0m\u001b[0;34m)\u001b[0m\u001b[0;34m)\u001b[0m\u001b[0;34m\u001b[0m\u001b[0;34m\u001b[0m\u001b[0m\n\u001b[1;32m      6\u001b[0m \u001b[0mdf\u001b[0m \u001b[0;34m=\u001b[0m \u001b[0mdf\u001b[0m\u001b[0;34m.\u001b[0m\u001b[0mdropna\u001b[0m\u001b[0;34m(\u001b[0m\u001b[0msubset\u001b[0m\u001b[0;34m=\u001b[0m\u001b[0;34m[\u001b[0m\u001b[0;34m'skill_id'\u001b[0m\u001b[0;34m,\u001b[0m \u001b[0;34m'skill'\u001b[0m \u001b[0;34m]\u001b[0m\u001b[0;34m)\u001b[0m\u001b[0;34m\u001b[0m\u001b[0;34m\u001b[0m\u001b[0m\n",
            "\u001b[0;32m/usr/local/lib/python3.6/dist-packages/pandas/core/frame.py\u001b[0m in \u001b[0;36mdrop_duplicates\u001b[0;34m(self, subset, keep, inplace, ignore_index)\u001b[0m\n\u001b[1;32m   4809\u001b[0m \u001b[0;34m\u001b[0m\u001b[0m\n\u001b[1;32m   4810\u001b[0m         \u001b[0minplace\u001b[0m \u001b[0;34m=\u001b[0m \u001b[0mvalidate_bool_kwarg\u001b[0m\u001b[0;34m(\u001b[0m\u001b[0minplace\u001b[0m\u001b[0;34m,\u001b[0m \u001b[0;34m\"inplace\"\u001b[0m\u001b[0;34m)\u001b[0m\u001b[0;34m\u001b[0m\u001b[0;34m\u001b[0m\u001b[0m\n\u001b[0;32m-> 4811\u001b[0;31m         \u001b[0mduplicated\u001b[0m \u001b[0;34m=\u001b[0m \u001b[0mself\u001b[0m\u001b[0;34m.\u001b[0m\u001b[0mduplicated\u001b[0m\u001b[0;34m(\u001b[0m\u001b[0msubset\u001b[0m\u001b[0;34m,\u001b[0m \u001b[0mkeep\u001b[0m\u001b[0;34m=\u001b[0m\u001b[0mkeep\u001b[0m\u001b[0;34m)\u001b[0m\u001b[0;34m\u001b[0m\u001b[0;34m\u001b[0m\u001b[0m\n\u001b[0m\u001b[1;32m   4812\u001b[0m \u001b[0;34m\u001b[0m\u001b[0m\n\u001b[1;32m   4813\u001b[0m         \u001b[0;32mif\u001b[0m \u001b[0minplace\u001b[0m\u001b[0;34m:\u001b[0m\u001b[0;34m\u001b[0m\u001b[0;34m\u001b[0m\u001b[0m\n",
            "\u001b[0;32m/usr/local/lib/python3.6/dist-packages/pandas/core/frame.py\u001b[0m in \u001b[0;36mduplicated\u001b[0;34m(self, subset, keep)\u001b[0m\n\u001b[1;32m   4886\u001b[0m \u001b[0;34m\u001b[0m\u001b[0m\n\u001b[1;32m   4887\u001b[0m         \u001b[0mvals\u001b[0m \u001b[0;34m=\u001b[0m \u001b[0;34m(\u001b[0m\u001b[0mcol\u001b[0m\u001b[0;34m.\u001b[0m\u001b[0mvalues\u001b[0m \u001b[0;32mfor\u001b[0m \u001b[0mname\u001b[0m\u001b[0;34m,\u001b[0m \u001b[0mcol\u001b[0m \u001b[0;32min\u001b[0m \u001b[0mself\u001b[0m\u001b[0;34m.\u001b[0m\u001b[0mitems\u001b[0m\u001b[0;34m(\u001b[0m\u001b[0;34m)\u001b[0m \u001b[0;32mif\u001b[0m \u001b[0mname\u001b[0m \u001b[0;32min\u001b[0m \u001b[0msubset\u001b[0m\u001b[0;34m)\u001b[0m\u001b[0;34m\u001b[0m\u001b[0;34m\u001b[0m\u001b[0m\n\u001b[0;32m-> 4888\u001b[0;31m         \u001b[0mlabels\u001b[0m\u001b[0;34m,\u001b[0m \u001b[0mshape\u001b[0m \u001b[0;34m=\u001b[0m \u001b[0mmap\u001b[0m\u001b[0;34m(\u001b[0m\u001b[0mlist\u001b[0m\u001b[0;34m,\u001b[0m \u001b[0mzip\u001b[0m\u001b[0;34m(\u001b[0m\u001b[0;34m*\u001b[0m\u001b[0mmap\u001b[0m\u001b[0;34m(\u001b[0m\u001b[0mf\u001b[0m\u001b[0;34m,\u001b[0m \u001b[0mvals\u001b[0m\u001b[0;34m)\u001b[0m\u001b[0;34m)\u001b[0m\u001b[0;34m)\u001b[0m\u001b[0;34m\u001b[0m\u001b[0;34m\u001b[0m\u001b[0m\n\u001b[0m\u001b[1;32m   4889\u001b[0m \u001b[0;34m\u001b[0m\u001b[0m\n\u001b[1;32m   4890\u001b[0m         \u001b[0mids\u001b[0m \u001b[0;34m=\u001b[0m \u001b[0mget_group_index\u001b[0m\u001b[0;34m(\u001b[0m\u001b[0mlabels\u001b[0m\u001b[0;34m,\u001b[0m \u001b[0mshape\u001b[0m\u001b[0;34m,\u001b[0m \u001b[0msort\u001b[0m\u001b[0;34m=\u001b[0m\u001b[0;32mFalse\u001b[0m\u001b[0;34m,\u001b[0m \u001b[0mxnull\u001b[0m\u001b[0;34m=\u001b[0m\u001b[0;32mFalse\u001b[0m\u001b[0;34m)\u001b[0m\u001b[0;34m\u001b[0m\u001b[0;34m\u001b[0m\u001b[0m\n",
            "\u001b[0;32m/usr/local/lib/python3.6/dist-packages/pandas/core/frame.py\u001b[0m in \u001b[0;36mf\u001b[0;34m(vals)\u001b[0m\n\u001b[1;32m   4861\u001b[0m         \u001b[0;32mdef\u001b[0m \u001b[0mf\u001b[0m\u001b[0;34m(\u001b[0m\u001b[0mvals\u001b[0m\u001b[0;34m)\u001b[0m\u001b[0;34m:\u001b[0m\u001b[0;34m\u001b[0m\u001b[0;34m\u001b[0m\u001b[0m\n\u001b[1;32m   4862\u001b[0m             labels, shape = algorithms.factorize(\n\u001b[0;32m-> 4863\u001b[0;31m                 \u001b[0mvals\u001b[0m\u001b[0;34m,\u001b[0m \u001b[0msize_hint\u001b[0m\u001b[0;34m=\u001b[0m\u001b[0mmin\u001b[0m\u001b[0;34m(\u001b[0m\u001b[0mlen\u001b[0m\u001b[0;34m(\u001b[0m\u001b[0mself\u001b[0m\u001b[0;34m)\u001b[0m\u001b[0;34m,\u001b[0m \u001b[0m_SIZE_HINT_LIMIT\u001b[0m\u001b[0;34m)\u001b[0m\u001b[0;34m\u001b[0m\u001b[0;34m\u001b[0m\u001b[0m\n\u001b[0m\u001b[1;32m   4864\u001b[0m             )\n\u001b[1;32m   4865\u001b[0m             \u001b[0;32mreturn\u001b[0m \u001b[0mlabels\u001b[0m\u001b[0;34m.\u001b[0m\u001b[0mastype\u001b[0m\u001b[0;34m(\u001b[0m\u001b[0;34m\"i8\"\u001b[0m\u001b[0;34m,\u001b[0m \u001b[0mcopy\u001b[0m\u001b[0;34m=\u001b[0m\u001b[0;32mFalse\u001b[0m\u001b[0;34m)\u001b[0m\u001b[0;34m,\u001b[0m \u001b[0mlen\u001b[0m\u001b[0;34m(\u001b[0m\u001b[0mshape\u001b[0m\u001b[0;34m)\u001b[0m\u001b[0;34m\u001b[0m\u001b[0;34m\u001b[0m\u001b[0m\n",
            "\u001b[0;32m/usr/local/lib/python3.6/dist-packages/pandas/core/algorithms.py\u001b[0m in \u001b[0;36mfactorize\u001b[0;34m(values, sort, na_sentinel, size_hint)\u001b[0m\n\u001b[1;32m    634\u001b[0m \u001b[0;34m\u001b[0m\u001b[0m\n\u001b[1;32m    635\u001b[0m         codes, uniques = _factorize_array(\n\u001b[0;32m--> 636\u001b[0;31m             \u001b[0mvalues\u001b[0m\u001b[0;34m,\u001b[0m \u001b[0mna_sentinel\u001b[0m\u001b[0;34m=\u001b[0m\u001b[0mna_sentinel\u001b[0m\u001b[0;34m,\u001b[0m \u001b[0msize_hint\u001b[0m\u001b[0;34m=\u001b[0m\u001b[0msize_hint\u001b[0m\u001b[0;34m,\u001b[0m \u001b[0mna_value\u001b[0m\u001b[0;34m=\u001b[0m\u001b[0mna_value\u001b[0m\u001b[0;34m\u001b[0m\u001b[0;34m\u001b[0m\u001b[0m\n\u001b[0m\u001b[1;32m    637\u001b[0m         )\n\u001b[1;32m    638\u001b[0m \u001b[0;34m\u001b[0m\u001b[0m\n",
            "\u001b[0;32m/usr/local/lib/python3.6/dist-packages/pandas/core/algorithms.py\u001b[0m in \u001b[0;36m_factorize_array\u001b[0;34m(values, na_sentinel, size_hint, na_value)\u001b[0m\n\u001b[1;32m    482\u001b[0m \u001b[0;34m\u001b[0m\u001b[0m\n\u001b[1;32m    483\u001b[0m     \u001b[0mtable\u001b[0m \u001b[0;34m=\u001b[0m \u001b[0mhash_klass\u001b[0m\u001b[0;34m(\u001b[0m\u001b[0msize_hint\u001b[0m \u001b[0;32mor\u001b[0m \u001b[0mlen\u001b[0m\u001b[0;34m(\u001b[0m\u001b[0mvalues\u001b[0m\u001b[0;34m)\u001b[0m\u001b[0;34m)\u001b[0m\u001b[0;34m\u001b[0m\u001b[0;34m\u001b[0m\u001b[0m\n\u001b[0;32m--> 484\u001b[0;31m     \u001b[0muniques\u001b[0m\u001b[0;34m,\u001b[0m \u001b[0mcodes\u001b[0m \u001b[0;34m=\u001b[0m \u001b[0mtable\u001b[0m\u001b[0;34m.\u001b[0m\u001b[0mfactorize\u001b[0m\u001b[0;34m(\u001b[0m\u001b[0mvalues\u001b[0m\u001b[0;34m,\u001b[0m \u001b[0mna_sentinel\u001b[0m\u001b[0;34m=\u001b[0m\u001b[0mna_sentinel\u001b[0m\u001b[0;34m,\u001b[0m \u001b[0mna_value\u001b[0m\u001b[0;34m=\u001b[0m\u001b[0mna_value\u001b[0m\u001b[0;34m)\u001b[0m\u001b[0;34m\u001b[0m\u001b[0;34m\u001b[0m\u001b[0m\n\u001b[0m\u001b[1;32m    485\u001b[0m \u001b[0;34m\u001b[0m\u001b[0m\n\u001b[1;32m    486\u001b[0m     \u001b[0mcodes\u001b[0m \u001b[0;34m=\u001b[0m \u001b[0mensure_platform_int\u001b[0m\u001b[0;34m(\u001b[0m\u001b[0mcodes\u001b[0m\u001b[0;34m)\u001b[0m\u001b[0;34m\u001b[0m\u001b[0;34m\u001b[0m\u001b[0m\n",
            "\u001b[0;32mpandas/_libs/hashtable_class_helper.pxi\u001b[0m in \u001b[0;36mpandas._libs.hashtable.PyObjectHashTable.factorize\u001b[0;34m()\u001b[0m\n",
            "\u001b[0;32mpandas/_libs/hashtable_class_helper.pxi\u001b[0m in \u001b[0;36mpandas._libs.hashtable.PyObjectHashTable._unique\u001b[0;34m()\u001b[0m\n",
            "\u001b[0;32m/usr/local/lib/python3.6/dist-packages/numpy/core/_asarray.py\u001b[0m in \u001b[0;36masarray\u001b[0;34m(a, dtype, order)\u001b[0m\n\u001b[1;32m     14\u001b[0m ]\n\u001b[1;32m     15\u001b[0m \u001b[0;34m\u001b[0m\u001b[0m\n\u001b[0;32m---> 16\u001b[0;31m \u001b[0;34m@\u001b[0m\u001b[0mset_module\u001b[0m\u001b[0;34m(\u001b[0m\u001b[0;34m'numpy'\u001b[0m\u001b[0;34m)\u001b[0m\u001b[0;34m\u001b[0m\u001b[0;34m\u001b[0m\u001b[0m\n\u001b[0m\u001b[1;32m     17\u001b[0m \u001b[0;32mdef\u001b[0m \u001b[0masarray\u001b[0m\u001b[0;34m(\u001b[0m\u001b[0ma\u001b[0m\u001b[0;34m,\u001b[0m \u001b[0mdtype\u001b[0m\u001b[0;34m=\u001b[0m\u001b[0;32mNone\u001b[0m\u001b[0;34m,\u001b[0m \u001b[0morder\u001b[0m\u001b[0;34m=\u001b[0m\u001b[0;32mNone\u001b[0m\u001b[0;34m)\u001b[0m\u001b[0;34m:\u001b[0m\u001b[0;34m\u001b[0m\u001b[0;34m\u001b[0m\u001b[0m\n\u001b[1;32m     18\u001b[0m     \"\"\"Convert the input to an array.\n",
            "\u001b[0;31mKeyboardInterrupt\u001b[0m: "
          ]
        }
      ]
    },
    {
      "cell_type": "markdown",
      "metadata": {
        "id": "NAF876Zf3Qo2",
        "colab_type": "text"
      },
      "source": [
        "##### WARNING: 70% of attempts(labels) are correct"
      ]
    },
    {
      "cell_type": "code",
      "metadata": {
        "colab_type": "code",
        "id": "Ut5RkCLlnmZ0",
        "colab": {
          "base_uri": "https://localhost:8080/",
          "height": 71
        },
        "outputId": "966bd2d0-3dac-4965-99f9-b1407a02e5a4"
      },
      "source": [
        "df.correct.value_counts(normalize=True)"
      ],
      "execution_count": null,
      "outputs": [
        {
          "output_type": "execute_result",
          "data": {
            "text/plain": [
              "1.0    0.696326\n",
              "0.0    0.303674\n",
              "Name: correct, dtype: float64"
            ]
          },
          "metadata": {
            "tags": []
          },
          "execution_count": 75
        }
      ]
    },
    {
      "cell_type": "code",
      "metadata": {
        "colab_type": "code",
        "id": "OOzt2NkJnmaU",
        "colab": {
          "base_uri": "https://localhost:8080/",
          "height": 722
        },
        "outputId": "44860982-cc6f-4857-e1da-0a5041f75c87"
      },
      "source": [
        "df"
      ],
      "execution_count": null,
      "outputs": [
        {
          "output_type": "execute_result",
          "data": {
            "text/html": [
              "<div>\n",
              "<style scoped>\n",
              "    .dataframe tbody tr th:only-of-type {\n",
              "        vertical-align: middle;\n",
              "    }\n",
              "\n",
              "    .dataframe tbody tr th {\n",
              "        vertical-align: top;\n",
              "    }\n",
              "\n",
              "    .dataframe thead th {\n",
              "        text-align: right;\n",
              "    }\n",
              "</style>\n",
              "<table border=\"1\" class=\"dataframe\">\n",
              "  <thead>\n",
              "    <tr style=\"text-align: right;\">\n",
              "      <th></th>\n",
              "      <th>skill</th>\n",
              "      <th>problem_id</th>\n",
              "      <th>user_id</th>\n",
              "      <th>start_time</th>\n",
              "      <th>end_time</th>\n",
              "      <th>correct</th>\n",
              "      <th>attempt_count</th>\n",
              "      <th>skill_id</th>\n",
              "    </tr>\n",
              "  </thead>\n",
              "  <tbody>\n",
              "    <tr>\n",
              "      <th>1</th>\n",
              "      <td>Rounding</td>\n",
              "      <td>365981</td>\n",
              "      <td>61394</td>\n",
              "      <td>2012-10-09 11:01:52</td>\n",
              "      <td>2012-10-09 11:02:13.182</td>\n",
              "      <td>1.0</td>\n",
              "      <td>1</td>\n",
              "      <td>54</td>\n",
              "    </tr>\n",
              "    <tr>\n",
              "      <th>2</th>\n",
              "      <td>Multiplication and Division Integers</td>\n",
              "      <td>426415</td>\n",
              "      <td>61394</td>\n",
              "      <td>2013-03-07 10:53:20</td>\n",
              "      <td>2013-03-07 10:53:28.661</td>\n",
              "      <td>0.0</td>\n",
              "      <td>1</td>\n",
              "      <td>279</td>\n",
              "    </tr>\n",
              "    <tr>\n",
              "      <th>3</th>\n",
              "      <td>Proportion</td>\n",
              "      <td>86686</td>\n",
              "      <td>61394</td>\n",
              "      <td>2013-08-20 19:54:56</td>\n",
              "      <td>2013-08-20 19:55:21.753</td>\n",
              "      <td>1.0</td>\n",
              "      <td>1</td>\n",
              "      <td>79</td>\n",
              "    </tr>\n",
              "    <tr>\n",
              "      <th>5</th>\n",
              "      <td>Exponents</td>\n",
              "      <td>401234</td>\n",
              "      <td>76592</td>\n",
              "      <td>2012-12-12 21:00:55</td>\n",
              "      <td>2012-12-12 21:01:07.536</td>\n",
              "      <td>1.0</td>\n",
              "      <td>1</td>\n",
              "      <td>86</td>\n",
              "    </tr>\n",
              "    <tr>\n",
              "      <th>7</th>\n",
              "      <td>Equation Solving Two or Fewer Steps</td>\n",
              "      <td>87699</td>\n",
              "      <td>78401</td>\n",
              "      <td>2012-10-16 10:30:54</td>\n",
              "      <td>2012-10-16 10:31:55.445</td>\n",
              "      <td>1.0</td>\n",
              "      <td>1</td>\n",
              "      <td>311</td>\n",
              "    </tr>\n",
              "    <tr>\n",
              "      <th>...</th>\n",
              "      <td>...</td>\n",
              "      <td>...</td>\n",
              "      <td>...</td>\n",
              "      <td>...</td>\n",
              "      <td>...</td>\n",
              "      <td>...</td>\n",
              "      <td>...</td>\n",
              "      <td>...</td>\n",
              "    </tr>\n",
              "    <tr>\n",
              "      <th>6123258</th>\n",
              "      <td>Exponents</td>\n",
              "      <td>58783</td>\n",
              "      <td>227685</td>\n",
              "      <td>2013-08-29 15:23:54</td>\n",
              "      <td>2013-08-29 15:25:25.441</td>\n",
              "      <td>1.0</td>\n",
              "      <td>1</td>\n",
              "      <td>86</td>\n",
              "    </tr>\n",
              "    <tr>\n",
              "      <th>6123260</th>\n",
              "      <td>Square Root</td>\n",
              "      <td>117</td>\n",
              "      <td>227788</td>\n",
              "      <td>2013-08-29 16:18:36</td>\n",
              "      <td>2013-08-29 16:19:08.388</td>\n",
              "      <td>1.0</td>\n",
              "      <td>1</td>\n",
              "      <td>75</td>\n",
              "    </tr>\n",
              "    <tr>\n",
              "      <th>6123262</th>\n",
              "      <td>Unit Conversion Within a System</td>\n",
              "      <td>123251</td>\n",
              "      <td>227839</td>\n",
              "      <td>2013-08-31 15:15:01</td>\n",
              "      <td>2013-08-31 15:15:08.024</td>\n",
              "      <td>1.0</td>\n",
              "      <td>1</td>\n",
              "      <td>34</td>\n",
              "    </tr>\n",
              "    <tr>\n",
              "      <th>6123264</th>\n",
              "      <td>Multiplication Fractions</td>\n",
              "      <td>86906</td>\n",
              "      <td>227908</td>\n",
              "      <td>2013-08-31 00:23:38</td>\n",
              "      <td>2013-08-31 00:25:16.236</td>\n",
              "      <td>0.0</td>\n",
              "      <td>3</td>\n",
              "      <td>67</td>\n",
              "    </tr>\n",
              "    <tr>\n",
              "      <th>6123267</th>\n",
              "      <td>Addition and Subtraction Integers</td>\n",
              "      <td>84891</td>\n",
              "      <td>228039</td>\n",
              "      <td>2013-08-30 11:29:35</td>\n",
              "      <td>2013-08-30 11:30:05.517</td>\n",
              "      <td>0.0</td>\n",
              "      <td>1</td>\n",
              "      <td>277</td>\n",
              "    </tr>\n",
              "  </tbody>\n",
              "</table>\n",
              "<p>2629870 rows × 8 columns</p>\n",
              "</div>"
            ],
            "text/plain": [
              "                                        skill  ...  skill_id\n",
              "1                                    Rounding  ...        54\n",
              "2        Multiplication and Division Integers  ...       279\n",
              "3                                  Proportion  ...        79\n",
              "5                                   Exponents  ...        86\n",
              "7         Equation Solving Two or Fewer Steps  ...       311\n",
              "...                                       ...  ...       ...\n",
              "6123258                             Exponents  ...        86\n",
              "6123260                           Square Root  ...        75\n",
              "6123262       Unit Conversion Within a System  ...        34\n",
              "6123264              Multiplication Fractions  ...        67\n",
              "6123267     Addition and Subtraction Integers  ...       277\n",
              "\n",
              "[2629870 rows x 8 columns]"
            ]
          },
          "metadata": {
            "tags": []
          },
          "execution_count": 76
        }
      ]
    },
    {
      "cell_type": "code",
      "metadata": {
        "colab_type": "code",
        "id": "n3MnoORonmag",
        "colab": {
          "base_uri": "https://localhost:8080/",
          "height": 196
        },
        "outputId": "4bc94384-dd3a-4e30-ca07-f82297311609"
      },
      "source": [
        "# remove users with a sequence length less than three\n",
        "counts = df['user_id'].value_counts()\n",
        "selected_df= df[~df['user_id'].isin(counts[counts < 3].index)]\n",
        "print(len(selected_df))\n",
        "selected_df.nunique()"
      ],
      "execution_count": null,
      "outputs": [
        {
          "output_type": "stream",
          "text": [
            "2627477\n"
          ],
          "name": "stdout"
        },
        {
          "output_type": "execute_result",
          "data": {
            "text/plain": [
              "skill                198\n",
              "user_id            27145\n",
              "assistment_id      45378\n",
              "start_time       2309874\n",
              "end_time         2627117\n",
              "correct                2\n",
              "attempt_count         30\n",
              "skill_id             245\n",
              "dtype: int64"
            ]
          },
          "metadata": {
            "tags": []
          },
          "execution_count": 86
        }
      ]
    },
    {
      "cell_type": "code",
      "metadata": {
        "id": "Q1rJKHahOnya",
        "colab_type": "code",
        "colab": {
          "base_uri": "https://localhost:8080/",
          "height": 722
        },
        "outputId": "3e373dc0-e7d3-46c8-abdc-7f875bdadf91"
      },
      "source": [
        "selected_df.drop_duplicates()"
      ],
      "execution_count": null,
      "outputs": [
        {
          "output_type": "execute_result",
          "data": {
            "text/html": [
              "<div>\n",
              "<style scoped>\n",
              "    .dataframe tbody tr th:only-of-type {\n",
              "        vertical-align: middle;\n",
              "    }\n",
              "\n",
              "    .dataframe tbody tr th {\n",
              "        vertical-align: top;\n",
              "    }\n",
              "\n",
              "    .dataframe thead th {\n",
              "        text-align: right;\n",
              "    }\n",
              "</style>\n",
              "<table border=\"1\" class=\"dataframe\">\n",
              "  <thead>\n",
              "    <tr style=\"text-align: right;\">\n",
              "      <th></th>\n",
              "      <th>skill</th>\n",
              "      <th>user_id</th>\n",
              "      <th>assistment_id</th>\n",
              "      <th>start_time</th>\n",
              "      <th>end_time</th>\n",
              "      <th>correct</th>\n",
              "      <th>attempt_count</th>\n",
              "      <th>skill_id</th>\n",
              "    </tr>\n",
              "  </thead>\n",
              "  <tbody>\n",
              "    <tr>\n",
              "      <th>1</th>\n",
              "      <td>Rounding</td>\n",
              "      <td>61394</td>\n",
              "      <td>204043</td>\n",
              "      <td>2012-10-09 11:01:52</td>\n",
              "      <td>2012-10-09 11:02:13.182</td>\n",
              "      <td>1.0</td>\n",
              "      <td>1</td>\n",
              "      <td>54</td>\n",
              "    </tr>\n",
              "    <tr>\n",
              "      <th>2</th>\n",
              "      <td>Multiplication and Division Integers</td>\n",
              "      <td>61394</td>\n",
              "      <td>247525</td>\n",
              "      <td>2013-03-07 10:53:20</td>\n",
              "      <td>2013-03-07 10:53:28.661</td>\n",
              "      <td>0.0</td>\n",
              "      <td>1</td>\n",
              "      <td>279</td>\n",
              "    </tr>\n",
              "    <tr>\n",
              "      <th>3</th>\n",
              "      <td>Proportion</td>\n",
              "      <td>61394</td>\n",
              "      <td>48081</td>\n",
              "      <td>2013-08-20 19:54:56</td>\n",
              "      <td>2013-08-20 19:55:21.753</td>\n",
              "      <td>1.0</td>\n",
              "      <td>1</td>\n",
              "      <td>79</td>\n",
              "    </tr>\n",
              "    <tr>\n",
              "      <th>5</th>\n",
              "      <td>Exponents</td>\n",
              "      <td>76592</td>\n",
              "      <td>228996</td>\n",
              "      <td>2012-12-12 21:00:55</td>\n",
              "      <td>2012-12-12 21:01:07.536</td>\n",
              "      <td>1.0</td>\n",
              "      <td>1</td>\n",
              "      <td>86</td>\n",
              "    </tr>\n",
              "    <tr>\n",
              "      <th>7</th>\n",
              "      <td>Equation Solving Two or Fewer Steps</td>\n",
              "      <td>78401</td>\n",
              "      <td>49019</td>\n",
              "      <td>2012-10-16 10:30:54</td>\n",
              "      <td>2012-10-16 10:31:55.445</td>\n",
              "      <td>1.0</td>\n",
              "      <td>1</td>\n",
              "      <td>311</td>\n",
              "    </tr>\n",
              "    <tr>\n",
              "      <th>...</th>\n",
              "      <td>...</td>\n",
              "      <td>...</td>\n",
              "      <td>...</td>\n",
              "      <td>...</td>\n",
              "      <td>...</td>\n",
              "      <td>...</td>\n",
              "      <td>...</td>\n",
              "      <td>...</td>\n",
              "    </tr>\n",
              "    <tr>\n",
              "      <th>6123258</th>\n",
              "      <td>Exponents</td>\n",
              "      <td>227685</td>\n",
              "      <td>37197</td>\n",
              "      <td>2013-08-29 15:23:54</td>\n",
              "      <td>2013-08-29 15:25:25.441</td>\n",
              "      <td>1.0</td>\n",
              "      <td>1</td>\n",
              "      <td>86</td>\n",
              "    </tr>\n",
              "    <tr>\n",
              "      <th>6123260</th>\n",
              "      <td>Square Root</td>\n",
              "      <td>227788</td>\n",
              "      <td>117</td>\n",
              "      <td>2013-08-29 16:18:36</td>\n",
              "      <td>2013-08-29 16:19:08.388</td>\n",
              "      <td>1.0</td>\n",
              "      <td>1</td>\n",
              "      <td>75</td>\n",
              "    </tr>\n",
              "    <tr>\n",
              "      <th>6123262</th>\n",
              "      <td>Unit Conversion Within a System</td>\n",
              "      <td>227839</td>\n",
              "      <td>64904</td>\n",
              "      <td>2013-08-31 15:15:01</td>\n",
              "      <td>2013-08-31 15:15:08.024</td>\n",
              "      <td>1.0</td>\n",
              "      <td>1</td>\n",
              "      <td>34</td>\n",
              "    </tr>\n",
              "    <tr>\n",
              "      <th>6123264</th>\n",
              "      <td>Multiplication Fractions</td>\n",
              "      <td>227908</td>\n",
              "      <td>48296</td>\n",
              "      <td>2013-08-31 00:23:38</td>\n",
              "      <td>2013-08-31 00:25:16.236</td>\n",
              "      <td>0.0</td>\n",
              "      <td>3</td>\n",
              "      <td>67</td>\n",
              "    </tr>\n",
              "    <tr>\n",
              "      <th>6123267</th>\n",
              "      <td>Addition and Subtraction Integers</td>\n",
              "      <td>228039</td>\n",
              "      <td>46603</td>\n",
              "      <td>2013-08-30 11:29:35</td>\n",
              "      <td>2013-08-30 11:30:05.517</td>\n",
              "      <td>0.0</td>\n",
              "      <td>1</td>\n",
              "      <td>277</td>\n",
              "    </tr>\n",
              "  </tbody>\n",
              "</table>\n",
              "<p>2627477 rows × 8 columns</p>\n",
              "</div>"
            ],
            "text/plain": [
              "                                        skill  user_id  ...  attempt_count skill_id\n",
              "1                                    Rounding    61394  ...              1       54\n",
              "2        Multiplication and Division Integers    61394  ...              1      279\n",
              "3                                  Proportion    61394  ...              1       79\n",
              "5                                   Exponents    76592  ...              1       86\n",
              "7         Equation Solving Two or Fewer Steps    78401  ...              1      311\n",
              "...                                       ...      ...  ...            ...      ...\n",
              "6123258                             Exponents   227685  ...              1       86\n",
              "6123260                           Square Root   227788  ...              1       75\n",
              "6123262       Unit Conversion Within a System   227839  ...              1       34\n",
              "6123264              Multiplication Fractions   227908  ...              3       67\n",
              "6123267     Addition and Subtraction Integers   228039  ...              1      277\n",
              "\n",
              "[2627477 rows x 8 columns]"
            ]
          },
          "metadata": {
            "tags": []
          },
          "execution_count": 88
        }
      ]
    },
    {
      "cell_type": "code",
      "metadata": {
        "colab_type": "code",
        "id": "GUffkyGJnmao",
        "colab": {
          "base_uri": "https://localhost:8080/",
          "height": 231
        },
        "outputId": "bc064d9c-ef5d-4c51-982f-1a85083211b0"
      },
      "source": [
        "selected_df['user_id'].value_counts()"
      ],
      "execution_count": null,
      "outputs": [
        {
          "output_type": "execute_result",
          "data": {
            "text/plain": [
              "179953    1845\n",
              "179948    1602\n",
              "180029    1582\n",
              "223733    1486\n",
              "179664    1387\n",
              "          ... \n",
              "226002       4\n",
              "142592       4\n",
              "178924       4\n",
              "182242       4\n",
              "191767       4\n",
              "Name: user_id, Length: 26358, dtype: int64"
            ]
          },
          "metadata": {
            "tags": []
          },
          "execution_count": 51
        }
      ]
    },
    {
      "cell_type": "code",
      "metadata": {
        "colab_type": "code",
        "id": "RC6kCbVunmay",
        "colab": {
          "base_uri": "https://localhost:8080/",
          "height": 189
        },
        "outputId": "8e7d83e7-7724-4228-b5d6-adc3e2a616b2"
      },
      "source": [
        "tdf = selected_df[selected_df['user_id'] == 221324]\n",
        "#selected_df[\"timestamp\"] = pd.to_datetime([\"end_time\"])"
      ],
      "execution_count": null,
      "outputs": [
        {
          "output_type": "error",
          "ename": "NameError",
          "evalue": "ignored",
          "traceback": [
            "\u001b[0;31m---------------------------------------------------------------------------\u001b[0m",
            "\u001b[0;31mNameError\u001b[0m                                 Traceback (most recent call last)",
            "\u001b[0;32m<ipython-input-5-5d51f31a6740>\u001b[0m in \u001b[0;36m<module>\u001b[0;34m()\u001b[0m\n\u001b[0;32m----> 1\u001b[0;31m \u001b[0mtdf\u001b[0m \u001b[0;34m=\u001b[0m \u001b[0mselected_df\u001b[0m\u001b[0;34m[\u001b[0m\u001b[0mselected_df\u001b[0m\u001b[0;34m[\u001b[0m\u001b[0;34m'user_id'\u001b[0m\u001b[0;34m]\u001b[0m \u001b[0;34m==\u001b[0m \u001b[0;36m221324\u001b[0m\u001b[0;34m]\u001b[0m\u001b[0;34m\u001b[0m\u001b[0;34m\u001b[0m\u001b[0m\n\u001b[0m\u001b[1;32m      2\u001b[0m \u001b[0;31m#selected_df[\"timestamp\"] = pd.to_datetime([\"end_time\"])\u001b[0m\u001b[0;34m\u001b[0m\u001b[0;34m\u001b[0m\u001b[0;34m\u001b[0m\u001b[0m\n",
            "\u001b[0;31mNameError\u001b[0m: name 'selected_df' is not defined"
          ]
        }
      ]
    },
    {
      "cell_type": "code",
      "metadata": {
        "colab_type": "code",
        "id": "xfQHR0g3nma_",
        "colab": {}
      },
      "source": [
        "skill_counts = selected_df['skill_id'].value_counts()"
      ],
      "execution_count": null,
      "outputs": []
    },
    {
      "cell_type": "code",
      "metadata": {
        "colab_type": "code",
        "id": "-LYF54pvnmbH",
        "colab": {
          "base_uri": "https://localhost:8080/",
          "height": 231
        },
        "outputId": "9f68ceed-e4d0-4664-b36d-e994cd663e84"
      },
      "source": [
        "skill_counts"
      ],
      "execution_count": null,
      "outputs": [
        {
          "output_type": "execute_result",
          "data": {
            "text/plain": [
              "311    192913\n",
              "277    151008\n",
              "280    146923\n",
              "47      98608\n",
              "279     84276\n",
              "        ...  \n",
              "38          5\n",
              "178         4\n",
              "611         3\n",
              "177         3\n",
              "291         1\n",
              "Name: skill_id, Length: 265, dtype: int64"
            ]
          },
          "metadata": {
            "tags": []
          },
          "execution_count": 13
        }
      ]
    },
    {
      "cell_type": "code",
      "metadata": {
        "colab_type": "code",
        "id": "99hBjokPnmbS",
        "colab": {
          "base_uri": "https://localhost:8080/",
          "height": 35
        },
        "outputId": "61940c2f-5e2c-4086-961b-0d4a58969cc8"
      },
      "source": [
        "len(counts)"
      ],
      "execution_count": null,
      "outputs": [
        {
          "output_type": "execute_result",
          "data": {
            "text/plain": [
              "46674"
            ]
          },
          "metadata": {
            "tags": []
          },
          "execution_count": 91
        }
      ]
    },
    {
      "cell_type": "code",
      "metadata": {
        "colab_type": "code",
        "id": "uTwINV-Lnmbc",
        "colab": {
          "base_uri": "https://localhost:8080/",
          "height": 35
        },
        "outputId": "adaf0c65-3d28-4779-ee56-feffd6d9f1da"
      },
      "source": [
        "len(selected_df)"
      ],
      "execution_count": null,
      "outputs": [
        {
          "output_type": "execute_result",
          "data": {
            "text/plain": [
              "2709647"
            ]
          },
          "metadata": {
            "tags": []
          },
          "execution_count": 14
        }
      ]
    },
    {
      "cell_type": "code",
      "metadata": {
        "colab_type": "code",
        "id": "7o2QTsdynmbk",
        "colab": {
          "base_uri": "https://localhost:8080/",
          "height": 142
        },
        "outputId": "d4c6d162-519a-4ddf-9b16-0a76766fefd8"
      },
      "source": [
        "selected_df.nunique()"
      ],
      "execution_count": null,
      "outputs": [
        {
          "output_type": "execute_result",
          "data": {
            "text/plain": [
              "problem_id        179980\n",
              "user_id            46023\n",
              "end_time         6120034\n",
              "correct                2\n",
              "attempt_count         30\n",
              "skill_id             266\n",
              "dtype: int64"
            ]
          },
          "metadata": {
            "tags": []
          },
          "execution_count": 83
        }
      ]
    },
    {
      "cell_type": "code",
      "metadata": {
        "colab_type": "code",
        "id": "l0OpenFjnmbs",
        "colab": {
          "base_uri": "https://localhost:8080/",
          "height": 424
        },
        "outputId": "827c712a-4baa-43b0-fa65-4a733f05c6c9"
      },
      "source": [
        "df[df['attempt_count'] == 0]"
      ],
      "execution_count": null,
      "outputs": [
        {
          "output_type": "execute_result",
          "data": {
            "text/html": [
              "<div>\n",
              "<style scoped>\n",
              "    .dataframe tbody tr th:only-of-type {\n",
              "        vertical-align: middle;\n",
              "    }\n",
              "\n",
              "    .dataframe tbody tr th {\n",
              "        vertical-align: top;\n",
              "    }\n",
              "\n",
              "    .dataframe thead th {\n",
              "        text-align: right;\n",
              "    }\n",
              "</style>\n",
              "<table border=\"1\" class=\"dataframe\">\n",
              "  <thead>\n",
              "    <tr style=\"text-align: right;\">\n",
              "      <th></th>\n",
              "      <th>problem_id</th>\n",
              "      <th>user_id</th>\n",
              "      <th>end_time</th>\n",
              "      <th>correct</th>\n",
              "      <th>attempt_count</th>\n",
              "      <th>skill_id</th>\n",
              "    </tr>\n",
              "  </thead>\n",
              "  <tbody>\n",
              "    <tr>\n",
              "      <th>235</th>\n",
              "      <td>108293</td>\n",
              "      <td>93574</td>\n",
              "      <td>2012-11-19 13:03:48.491</td>\n",
              "      <td>0</td>\n",
              "      <td>0</td>\n",
              "      <td>312</td>\n",
              "    </tr>\n",
              "    <tr>\n",
              "      <th>426</th>\n",
              "      <td>139575</td>\n",
              "      <td>100652</td>\n",
              "      <td>2012-11-07 17:43:37.193</td>\n",
              "      <td>0</td>\n",
              "      <td>0</td>\n",
              "      <td>17</td>\n",
              "    </tr>\n",
              "    <tr>\n",
              "      <th>940</th>\n",
              "      <td>108032</td>\n",
              "      <td>122049</td>\n",
              "      <td>2013-02-28 21:08:19.107</td>\n",
              "      <td>0</td>\n",
              "      <td>0</td>\n",
              "      <td>312</td>\n",
              "    </tr>\n",
              "    <tr>\n",
              "      <th>1174</th>\n",
              "      <td>554729</td>\n",
              "      <td>124084</td>\n",
              "      <td>2012-09-20 19:27:23.994</td>\n",
              "      <td>0</td>\n",
              "      <td>0</td>\n",
              "      <td>999</td>\n",
              "    </tr>\n",
              "    <tr>\n",
              "      <th>1292</th>\n",
              "      <td>545347</td>\n",
              "      <td>125416</td>\n",
              "      <td>2012-09-05 16:08:53.307</td>\n",
              "      <td>0</td>\n",
              "      <td>0</td>\n",
              "      <td>999</td>\n",
              "    </tr>\n",
              "    <tr>\n",
              "      <th>...</th>\n",
              "      <td>...</td>\n",
              "      <td>...</td>\n",
              "      <td>...</td>\n",
              "      <td>...</td>\n",
              "      <td>...</td>\n",
              "      <td>...</td>\n",
              "    </tr>\n",
              "    <tr>\n",
              "      <th>6122746</th>\n",
              "      <td>170731</td>\n",
              "      <td>221915</td>\n",
              "      <td>2013-07-18 11:12:27.053</td>\n",
              "      <td>0</td>\n",
              "      <td>0</td>\n",
              "      <td>39</td>\n",
              "    </tr>\n",
              "    <tr>\n",
              "      <th>6122822</th>\n",
              "      <td>12383</td>\n",
              "      <td>222500</td>\n",
              "      <td>2013-08-26 19:40:32.453</td>\n",
              "      <td>0</td>\n",
              "      <td>0</td>\n",
              "      <td>47</td>\n",
              "    </tr>\n",
              "    <tr>\n",
              "      <th>6123001</th>\n",
              "      <td>12387</td>\n",
              "      <td>223445</td>\n",
              "      <td>2013-07-31 21:46:45.393</td>\n",
              "      <td>0</td>\n",
              "      <td>0</td>\n",
              "      <td>91</td>\n",
              "    </tr>\n",
              "    <tr>\n",
              "      <th>6123188</th>\n",
              "      <td>765824</td>\n",
              "      <td>225944</td>\n",
              "      <td>2013-08-30 12:57:26.138</td>\n",
              "      <td>0</td>\n",
              "      <td>0</td>\n",
              "      <td>999</td>\n",
              "    </tr>\n",
              "    <tr>\n",
              "      <th>6123237</th>\n",
              "      <td>760541</td>\n",
              "      <td>226860</td>\n",
              "      <td>2013-08-29 07:46:40.524</td>\n",
              "      <td>0</td>\n",
              "      <td>0</td>\n",
              "      <td>999</td>\n",
              "    </tr>\n",
              "  </tbody>\n",
              "</table>\n",
              "<p>46570 rows × 6 columns</p>\n",
              "</div>"
            ],
            "text/plain": [
              "         problem_id  user_id  ... attempt_count  skill_id\n",
              "235          108293    93574  ...             0       312\n",
              "426          139575   100652  ...             0        17\n",
              "940          108032   122049  ...             0       312\n",
              "1174         554729   124084  ...             0       999\n",
              "1292         545347   125416  ...             0       999\n",
              "...             ...      ...  ...           ...       ...\n",
              "6122746      170731   221915  ...             0        39\n",
              "6122822       12383   222500  ...             0        47\n",
              "6123001       12387   223445  ...             0        91\n",
              "6123188      765824   225944  ...             0       999\n",
              "6123237      760541   226860  ...             0       999\n",
              "\n",
              "[46570 rows x 6 columns]"
            ]
          },
          "metadata": {
            "tags": []
          },
          "execution_count": 93
        }
      ]
    },
    {
      "cell_type": "code",
      "metadata": {
        "id": "NjrCZ8LHe3o2",
        "colab_type": "code",
        "colab": {}
      },
      "source": [
        "import numpy as np\n",
        "import pandas as pd\n",
        "from scipy import sparse\n",
        "import argparse\n",
        "import os\n",
        "\n",
        "data_name = \"/content/drive/My Drive/master thesis/Datasets/assistment_dataset/2012-2013-data-with-predictions-4-final.csv\"\n",
        "min_interactions_per_user = 0\n",
        "remove_nan_skills = True\n",
        "\n",
        "\n",
        "\"\"\"Preprocess ASSISTments dataset.\n",
        "\n",
        "Arguments:\n",
        "    data_name: \"assistments09\", \"assistments12\", \"assistments15\" or \"assistments17\"\n",
        "    min_interactions_per_user (int): minimum number of interactions per student\n",
        "    remove_nan_skills (bool): if True, remove interactions with no skill tag\n",
        "Outputs:\n",
        "    df (pandas DataFrame): preprocessed ASSISTments dataset with user_id, item_id,\n",
        "        timestamp and correct features\n",
        "    Q_mat (item-skill relationships sparse array): corresponding q-matrix\n",
        "\"\"\"\n",
        "#data_path = os.path.join(\"data\", data_name)\n",
        "#df = pd.read_csv(os.path.join(data_path, \"data.csv\"), encoding=\"ISO-8859-1\")\n",
        "df = pd.read_csv(os.path.join(data_name))\n",
        "data_name = \"assistments12\""
      ],
      "execution_count": null,
      "outputs": []
    },
    {
      "cell_type": "code",
      "metadata": {
        "id": "B9DrTetHfM3W",
        "colab_type": "code",
        "colab": {
          "base_uri": "https://localhost:8080/",
          "height": 678
        },
        "outputId": "f7c7db30-1bd2-41ad-a4f6-831511148318"
      },
      "source": [
        "df = df.rename(columns={\"problem_id\": \"item_id\"})\n",
        "df[\"timestamp\"] = pd.to_datetime(df[\"start_time\"])\n",
        "print(df.dtypes)"
      ],
      "execution_count": null,
      "outputs": [
        {
          "output_type": "stream",
          "text": [
            "problem_log_id                                int64\n",
            "skill                                        object\n",
            "item_id                                       int64\n",
            "user_id                                       int64\n",
            "assignment_id                                 int64\n",
            "assistment_id                                 int64\n",
            "start_time                                   object\n",
            "end_time                                     object\n",
            "problem_type                                 object\n",
            "original                                      int64\n",
            "correct                                     float64\n",
            "bottom_hint                                 float64\n",
            "hint_count                                    int64\n",
            "actions                                      object\n",
            "attempt_count                                 int64\n",
            "ms_first_response                             int64\n",
            "tutor_mode                                   object\n",
            "sequence_id                                   int64\n",
            "student_class_id                              int64\n",
            "position                                      int64\n",
            "type                                         object\n",
            "base_sequence_id                              int64\n",
            "skill_id                                    float64\n",
            "teacher_id                                    int64\n",
            "school_id                                   float64\n",
            "overlap_time                                  int64\n",
            "template_id                                   int64\n",
            "answer_id                                   float64\n",
            "answer_text                                  object\n",
            "first_action                                  int64\n",
            "problemlogid                                  int64\n",
            "Average_confidence(FRUSTRATED)              float64\n",
            "Average_confidence(CONFUSED)                float64\n",
            "Average_confidence(CONCENTRATING)           float64\n",
            "Average_confidence(BORED)                   float64\n",
            "timestamp                            datetime64[ns]\n",
            "dtype: object\n"
          ],
          "name": "stdout"
        }
      ]
    },
    {
      "cell_type": "code",
      "metadata": {
        "id": "O3TsiWocz-79",
        "colab_type": "code",
        "colab": {}
      },
      "source": [
        "df[\"timestamp\"] = df[\"timestamp\"] - df[\"timestamp\"].min()"
      ],
      "execution_count": null,
      "outputs": []
    },
    {
      "cell_type": "code",
      "metadata": {
        "id": "4W5OpZ9r1AvE",
        "colab_type": "code",
        "colab": {}
      },
      "source": [
        "df[\"timestamp\"] = df[\"timestamp\"].apply(lambda x: x.total_seconds()).astype(np.int64)"
      ],
      "execution_count": null,
      "outputs": []
    },
    {
      "cell_type": "code",
      "metadata": {
        "id": "U2m6oS8_z3mF",
        "colab_type": "code",
        "colab": {}
      },
      "source": [
        "# Sort data temporally\n",
        "if data_name in [\"assistments12\", \"assistments17\"]:\n",
        "    df.sort_values(by=\"timestamp\", inplace=True)\n",
        "elif data_name == \"assistments09\":\n",
        "    df.sort_values(by=\"order_id\", inplace=True)\n",
        "elif data_name == \"assistments15\":\n",
        "    df.sort_values(by=\"log_id\", inplace=True)\n",
        "\n",
        "# Filter too short sequences\n",
        "df = df.groupby(\"user_id\").filter(lambda x: len(x) >= min_interactions_per_user)\n",
        "\n",
        "# Remove continuous outcomes\n",
        "df = df[df[\"correct\"].isin([0, 1])]\n",
        "df[\"correct\"] = df[\"correct\"].astype(np.int32)\n",
        "\n",
        "# Filter nan skills\n",
        "if remove_nan_skills:\n",
        "    df = df[~df[\"skill_id\"].isnull()]\n",
        "else:\n",
        "    df.ix[df[\"skill_id\"].isnull(), \"skill_id\"] = -1\n",
        "\n",
        "df[\"user_id\"] = np.unique(df[\"user_id\"], return_inverse=True)[1]\n",
        "df[\"item_id\"] = np.unique(df[\"item_id\"], return_inverse=True)[1]\n",
        "df[\"skill_id\"] = np.unique(df[\"skill_id\"], return_inverse=True)[1]\n",
        "\n",
        "# Build Q-matrix\n",
        "Q_mat = np.zeros((len(df[\"item_id\"].unique()), len(df[\"skill_id\"].unique())))\n",
        "for item_id, skill_id in df[[\"item_id\", \"skill_id\"]].values:\n",
        "    Q_mat[item_id, skill_id] = 1\n",
        "\n",
        "\n",
        "\n",
        "df = df[['user_id', 'item_id', 'timestamp', 'correct']]\n",
        "df.reset_index(inplace=True, drop=True)\n"
      ],
      "execution_count": null,
      "outputs": []
    },
    {
      "cell_type": "code",
      "metadata": {
        "id": "FDNJHOk01xTM",
        "colab_type": "code",
        "colab": {}
      },
      "source": [
        "data_path = \"./\"\n",
        "\n",
        "# Save data\n",
        "sparse.save_npz(os.path.join(data_path, \"q_mat.npz\"), sparse.csr_matrix(Q_mat))\n",
        "df.to_csv(os.path.join(data_path, \"preprocessed_data.csv\"), sep=\"\\t\", index=False)"
      ],
      "execution_count": null,
      "outputs": []
    },
    {
      "cell_type": "code",
      "metadata": {
        "id": "TBw6fH-g14eu",
        "colab_type": "code",
        "colab": {
          "base_uri": "https://localhost:8080/",
          "height": 106
        },
        "outputId": "de477a17-be19-4329-c78f-10077b2eb8bd"
      },
      "source": [
        "pre_df = pd.read_csv(\"/content/preprocessed_data.csv\", sep=\"\\t\")\n",
        "pre_df.nunique()\n"
      ],
      "execution_count": null,
      "outputs": [
        {
          "output_type": "execute_result",
          "data": {
            "text/plain": [
              "user_id        29018\n",
              "item_id        53086\n",
              "timestamp    2362589\n",
              "correct            2\n",
              "dtype: int64"
            ]
          },
          "metadata": {
            "tags": []
          },
          "execution_count": 20
        }
      ]
    },
    {
      "cell_type": "code",
      "metadata": {
        "id": "tzRubGOpAcSc",
        "colab_type": "code",
        "colab": {}
      },
      "source": [
        "import random\n",
        "from random import shuffle\n",
        "from sklearn.metrics import roc_auc_score, accuracy_score\n",
        "\n",
        "import torch\n",
        "from torch.nn.utils.rnn import pad_sequence\n",
        "\n",
        "\n",
        "def set_random_seeds(seed):\n",
        "    torch.manual_seed(seed)\n",
        "    torch.cuda.manual_seed_all(seed)\n",
        "    random.seed(seed)\n",
        "    \n",
        "    \n",
        "def get_data(df, train_split=0.8):\n",
        "    num_items = df[\"item_id\"].nunique()\n",
        "    data = [(torch.tensor(u_df[\"item_id\"].values, dtype=torch.long),\n",
        "             torch.tensor(u_df[\"correct\"].values, dtype=torch.long))\n",
        "            for _, u_df in df.groupby(\"user_id\")]\n",
        "    data = [(torch.cat((torch.zeros(1, dtype=torch.long), item_ids + labels * num_items + 1))[:-1], item_ids, labels)\n",
        "            for (item_ids, labels) in data]\n",
        "    shuffle(data)\n",
        "\n",
        "    # Train-test split across users\n",
        "    train_size = int(train_split * len(data))\n",
        "    train_data, val_data = data[:train_size], data[train_size:]\n",
        "    return train_data, val_data\n",
        "\n",
        "\n",
        "def prepare_batches(data, batch_size):\n",
        "    \"\"\"Prepare batches grouping padded sequences.\n",
        "    \n",
        "    Arguments:\n",
        "        data (list of tuples of torch Tensor)\n",
        "        batch_size (int): number of sequences per batch\n",
        "        \n",
        "    Output:\n",
        "        batches (list of tuples of torch Tensor)\n",
        "    \"\"\"\n",
        "    shuffle(data)\n",
        "    batches = []\n",
        "\n",
        "    for k in range(0, len(data), batch_size):\n",
        "        batch = data[k:k + batch_size]\n",
        "        inputs, item_ids, labels = zip(*batch)\n",
        "\n",
        "        inputs = pad_sequence(inputs, batch_first=True, padding_value=0)     # Pad with 0\n",
        "        item_ids = pad_sequence(item_ids, batch_first=True, padding_value=0) # Don't care\n",
        "        labels = pad_sequence(labels, batch_first=True, padding_value=-1)    # Pad with -1\n",
        "\n",
        "        batches.append([inputs, item_ids, labels])\n",
        "        \n",
        "    return batches\n",
        "\n",
        "\n",
        "def compute_auc(preds, item_ids, labels):\n",
        "    labels = labels.view(-1)\n",
        "    item_ids = item_ids.view(-1)[labels >= 0]\n",
        "    preds = preds.view(-1, preds.shape[-1])[labels >= 0]\n",
        "    preds = preds[torch.arange(preds.shape[0]), item_ids]\n",
        "    labels = labels[labels >= 0].float()\n",
        "\n",
        "    if len(torch.unique(labels)) == 1: # Only one class\n",
        "        auc = accuracy_score(labels, preds.round())\n",
        "    else:\n",
        "        auc = roc_auc_score(labels, preds)\n",
        "    return auc\n",
        "\n",
        "\n",
        "def compute_loss(preds, item_ids, labels, criterion):\n",
        "    labels = labels.view(-1)\n",
        "    item_ids = item_ids.view(-1)[labels >= 0]\n",
        "    preds = preds.view(-1, preds.shape[-1])[labels >= 0]\n",
        "    preds = preds[torch.arange(preds.shape[0]), item_ids]\n",
        "    labels = labels[labels >= 0].float()\n",
        "    return criterion(preds, labels)"
      ],
      "execution_count": null,
      "outputs": []
    },
    {
      "cell_type": "markdown",
      "metadata": {
        "id": "YJXEXBiE3kbs",
        "colab_type": "text"
      },
      "source": [
        "## Model Codes"
      ]
    },
    {
      "cell_type": "markdown",
      "metadata": {
        "id": "7aaPHqc3iqvV",
        "colab_type": "text"
      },
      "source": [
        "### try neptune.ai"
      ]
    },
    {
      "cell_type": "code",
      "metadata": {
        "id": "ZX4sRNWnh0n8",
        "colab_type": "code",
        "colab": {}
      },
      "source": [
        "!pip install neptune-client"
      ],
      "execution_count": null,
      "outputs": []
    },
    {
      "cell_type": "code",
      "metadata": {
        "id": "-SFLjUHqT_Cu",
        "colab_type": "code",
        "colab": {}
      },
      "source": [
        "env NEPTUNE_API_TOKEN=\"\""
      ],
      "execution_count": null,
      "outputs": []
    },
    {
      "cell_type": "code",
      "metadata": {
        "id": "chxq0lB6i1CE",
        "colab_type": "code",
        "colab": {
          "base_uri": "https://localhost:8080/",
          "height": 35
        },
        "outputId": "a52928af-bbc5-4f66-e46b-be970f50ecb7"
      },
      "source": [
        "import neptune\n",
        "neptune.init('ikiyo/sandbox')\n",
        "\n",
        "with neptune.create_experiment():\n",
        "    neptune.send_metric('auc', 0.92)"
      ],
      "execution_count": 247,
      "outputs": [
        {
          "output_type": "stream",
          "text": [
            "https://ui.neptune.ai/ikiyo/sandbox/e/SAN-15\n"
          ],
          "name": "stdout"
        }
      ]
    },
    {
      "cell_type": "markdown",
      "metadata": {
        "id": "ee3s94GgmFq0",
        "colab_type": "text"
      },
      "source": [
        "### DKT code of exepriments of spaced tempral effect\n",
        "https://www.google.com/url?sa=t&rct=j&q=&esrc=s&source=web&cd=&cad=rja&uact=8&ved=2ahUKEwiU6pDN7M_rAhW_A2MBHU3gD3AQFjABegQIARAB&url=https%3A%2F%2Feducationaldatamining.org%2Ffiles%2Fconferences%2FEDM2020%2Fpapers%2Fpaper_242.pdf&usg=AOvVaw1frKbFoVwfcA-a4XGEAw2i"
      ]
    },
    {
      "cell_type": "markdown",
      "metadata": {
        "id": "6Kl0hrwhzvFi",
        "colab_type": "text"
      },
      "source": [
        "!git clone https://github.com/thosgt/kt-algos.git"
      ]
    },
    {
      "cell_type": "code",
      "metadata": {
        "id": "zyLnM2Ajs1id",
        "colab_type": "code",
        "colab": {}
      },
      "source": [
        "!cp -r \"/content/drive/My Drive/master thesis/Source code/kt-algos\" ./"
      ],
      "execution_count": 1,
      "outputs": []
    },
    {
      "cell_type": "code",
      "metadata": {
        "id": "7tHnNSGJmV8p",
        "colab_type": "code",
        "colab": {
          "base_uri": "https://localhost:8080/",
          "height": 35
        },
        "outputId": "c319992a-75fb-4a2f-e407-d2a3b58ab56b"
      },
      "source": [
        "cd kt-algos"
      ],
      "execution_count": 2,
      "outputs": [
        {
          "output_type": "stream",
          "text": [
            "/content/kt-algos\n"
          ],
          "name": "stdout"
        }
      ]
    },
    {
      "cell_type": "code",
      "metadata": {
        "id": "vUEq1UQWmoJA",
        "colab_type": "code",
        "colab": {
          "base_uri": "https://localhost:8080/",
          "height": 1000
        },
        "outputId": "712733e7-1ffa-4cbd-bcbf-161c110e9710"
      },
      "source": [
        "pip install -r requirements.txt"
      ],
      "execution_count": 3,
      "outputs": [
        {
          "output_type": "stream",
          "text": [
            "Requirement already satisfied: jupyter in /usr/local/lib/python3.6/dist-packages (from -r requirements.txt (line 1)) (1.0.0)\n",
            "Requirement already satisfied: pandas in /usr/local/lib/python3.6/dist-packages (from -r requirements.txt (line 2)) (1.0.5)\n",
            "Requirement already satisfied: sklearn in /usr/local/lib/python3.6/dist-packages (from -r requirements.txt (line 3)) (0.0)\n",
            "Collecting tensorboardX\n",
            "\u001b[?25l  Downloading https://files.pythonhosted.org/packages/af/0c/4f41bcd45db376e6fe5c619c01100e9b7531c55791b7244815bac6eac32c/tensorboardX-2.1-py2.py3-none-any.whl (308kB)\n",
            "\r\u001b[K     |█                               | 10kB 23.7MB/s eta 0:00:01\r\u001b[K     |██▏                             | 20kB 2.1MB/s eta 0:00:01\r\u001b[K     |███▏                            | 30kB 2.4MB/s eta 0:00:01\r\u001b[K     |████▎                           | 40kB 2.7MB/s eta 0:00:01\r\u001b[K     |█████▎                          | 51kB 2.4MB/s eta 0:00:01\r\u001b[K     |██████▍                         | 61kB 2.7MB/s eta 0:00:01\r\u001b[K     |███████▍                        | 71kB 2.9MB/s eta 0:00:01\r\u001b[K     |████████▌                       | 81kB 3.2MB/s eta 0:00:01\r\u001b[K     |█████████▌                      | 92kB 3.2MB/s eta 0:00:01\r\u001b[K     |██████████▋                     | 102kB 3.3MB/s eta 0:00:01\r\u001b[K     |███████████▊                    | 112kB 3.3MB/s eta 0:00:01\r\u001b[K     |████████████▊                   | 122kB 3.3MB/s eta 0:00:01\r\u001b[K     |█████████████▉                  | 133kB 3.3MB/s eta 0:00:01\r\u001b[K     |██████████████▉                 | 143kB 3.3MB/s eta 0:00:01\r\u001b[K     |████████████████                | 153kB 3.3MB/s eta 0:00:01\r\u001b[K     |█████████████████               | 163kB 3.3MB/s eta 0:00:01\r\u001b[K     |██████████████████              | 174kB 3.3MB/s eta 0:00:01\r\u001b[K     |███████████████████             | 184kB 3.3MB/s eta 0:00:01\r\u001b[K     |████████████████████▏           | 194kB 3.3MB/s eta 0:00:01\r\u001b[K     |█████████████████████▎          | 204kB 3.3MB/s eta 0:00:01\r\u001b[K     |██████████████████████▎         | 215kB 3.3MB/s eta 0:00:01\r\u001b[K     |███████████████████████▍        | 225kB 3.3MB/s eta 0:00:01\r\u001b[K     |████████████████████████▍       | 235kB 3.3MB/s eta 0:00:01\r\u001b[K     |█████████████████████████▌      | 245kB 3.3MB/s eta 0:00:01\r\u001b[K     |██████████████████████████▌     | 256kB 3.3MB/s eta 0:00:01\r\u001b[K     |███████████████████████████▋    | 266kB 3.3MB/s eta 0:00:01\r\u001b[K     |████████████████████████████▋   | 276kB 3.3MB/s eta 0:00:01\r\u001b[K     |█████████████████████████████▊  | 286kB 3.3MB/s eta 0:00:01\r\u001b[K     |██████████████████████████████▊ | 296kB 3.3MB/s eta 0:00:01\r\u001b[K     |███████████████████████████████▉| 307kB 3.3MB/s eta 0:00:01\r\u001b[K     |████████████████████████████████| 317kB 3.3MB/s \n",
            "\u001b[?25hRequirement already satisfied: tensorboard in /usr/local/lib/python3.6/dist-packages (from -r requirements.txt (line 5)) (2.3.0)\n",
            "Requirement already satisfied: ipykernel in /usr/local/lib/python3.6/dist-packages (from jupyter->-r requirements.txt (line 1)) (4.10.1)\n",
            "Requirement already satisfied: nbconvert in /usr/local/lib/python3.6/dist-packages (from jupyter->-r requirements.txt (line 1)) (5.6.1)\n",
            "Requirement already satisfied: notebook in /usr/local/lib/python3.6/dist-packages (from jupyter->-r requirements.txt (line 1)) (5.3.1)\n",
            "Requirement already satisfied: jupyter-console in /usr/local/lib/python3.6/dist-packages (from jupyter->-r requirements.txt (line 1)) (5.2.0)\n",
            "Requirement already satisfied: qtconsole in /usr/local/lib/python3.6/dist-packages (from jupyter->-r requirements.txt (line 1)) (4.7.6)\n",
            "Requirement already satisfied: ipywidgets in /usr/local/lib/python3.6/dist-packages (from jupyter->-r requirements.txt (line 1)) (7.5.1)\n",
            "Requirement already satisfied: python-dateutil>=2.6.1 in /usr/local/lib/python3.6/dist-packages (from pandas->-r requirements.txt (line 2)) (2.8.1)\n",
            "Requirement already satisfied: numpy>=1.13.3 in /usr/local/lib/python3.6/dist-packages (from pandas->-r requirements.txt (line 2)) (1.18.5)\n",
            "Requirement already satisfied: pytz>=2017.2 in /usr/local/lib/python3.6/dist-packages (from pandas->-r requirements.txt (line 2)) (2018.9)\n",
            "Requirement already satisfied: scikit-learn in /usr/local/lib/python3.6/dist-packages (from sklearn->-r requirements.txt (line 3)) (0.22.2.post1)\n",
            "Requirement already satisfied: protobuf>=3.8.0 in /usr/local/lib/python3.6/dist-packages (from tensorboardX->-r requirements.txt (line 4)) (3.12.4)\n",
            "Requirement already satisfied: six in /usr/local/lib/python3.6/dist-packages (from tensorboardX->-r requirements.txt (line 4)) (1.15.0)\n",
            "Requirement already satisfied: grpcio>=1.24.3 in /usr/local/lib/python3.6/dist-packages (from tensorboard->-r requirements.txt (line 5)) (1.31.0)\n",
            "Requirement already satisfied: absl-py>=0.4 in /usr/local/lib/python3.6/dist-packages (from tensorboard->-r requirements.txt (line 5)) (0.8.1)\n",
            "Requirement already satisfied: wheel>=0.26; python_version >= \"3\" in /usr/local/lib/python3.6/dist-packages (from tensorboard->-r requirements.txt (line 5)) (0.35.1)\n",
            "Requirement already satisfied: tensorboard-plugin-wit>=1.6.0 in /usr/local/lib/python3.6/dist-packages (from tensorboard->-r requirements.txt (line 5)) (1.7.0)\n",
            "Requirement already satisfied: google-auth-oauthlib<0.5,>=0.4.1 in /usr/local/lib/python3.6/dist-packages (from tensorboard->-r requirements.txt (line 5)) (0.4.1)\n",
            "Requirement already satisfied: werkzeug>=0.11.15 in /usr/local/lib/python3.6/dist-packages (from tensorboard->-r requirements.txt (line 5)) (1.0.1)\n",
            "Requirement already satisfied: setuptools>=41.0.0 in /usr/local/lib/python3.6/dist-packages (from tensorboard->-r requirements.txt (line 5)) (49.6.0)\n",
            "Requirement already satisfied: markdown>=2.6.8 in /usr/local/lib/python3.6/dist-packages (from tensorboard->-r requirements.txt (line 5)) (3.2.2)\n",
            "Requirement already satisfied: google-auth<2,>=1.6.3 in /usr/local/lib/python3.6/dist-packages (from tensorboard->-r requirements.txt (line 5)) (1.17.2)\n",
            "Requirement already satisfied: requests<3,>=2.21.0 in /usr/local/lib/python3.6/dist-packages (from tensorboard->-r requirements.txt (line 5)) (2.23.0)\n",
            "Requirement already satisfied: ipython>=4.0.0 in /usr/local/lib/python3.6/dist-packages (from ipykernel->jupyter->-r requirements.txt (line 1)) (5.5.0)\n",
            "Requirement already satisfied: tornado>=4.0 in /usr/local/lib/python3.6/dist-packages (from ipykernel->jupyter->-r requirements.txt (line 1)) (5.1.1)\n",
            "Requirement already satisfied: traitlets>=4.1.0 in /usr/local/lib/python3.6/dist-packages (from ipykernel->jupyter->-r requirements.txt (line 1)) (4.3.3)\n",
            "Requirement already satisfied: jupyter-client in /usr/local/lib/python3.6/dist-packages (from ipykernel->jupyter->-r requirements.txt (line 1)) (5.3.5)\n",
            "Requirement already satisfied: entrypoints>=0.2.2 in /usr/local/lib/python3.6/dist-packages (from nbconvert->jupyter->-r requirements.txt (line 1)) (0.3)\n",
            "Requirement already satisfied: testpath in /usr/local/lib/python3.6/dist-packages (from nbconvert->jupyter->-r requirements.txt (line 1)) (0.4.4)\n",
            "Requirement already satisfied: nbformat>=4.4 in /usr/local/lib/python3.6/dist-packages (from nbconvert->jupyter->-r requirements.txt (line 1)) (5.0.7)\n",
            "Requirement already satisfied: mistune<2,>=0.8.1 in /usr/local/lib/python3.6/dist-packages (from nbconvert->jupyter->-r requirements.txt (line 1)) (0.8.4)\n",
            "Requirement already satisfied: defusedxml in /usr/local/lib/python3.6/dist-packages (from nbconvert->jupyter->-r requirements.txt (line 1)) (0.6.0)\n",
            "Requirement already satisfied: bleach in /usr/local/lib/python3.6/dist-packages (from nbconvert->jupyter->-r requirements.txt (line 1)) (3.1.5)\n",
            "Requirement already satisfied: pandocfilters>=1.4.1 in /usr/local/lib/python3.6/dist-packages (from nbconvert->jupyter->-r requirements.txt (line 1)) (1.4.2)\n",
            "Requirement already satisfied: pygments in /usr/local/lib/python3.6/dist-packages (from nbconvert->jupyter->-r requirements.txt (line 1)) (2.1.3)\n",
            "Requirement already satisfied: jupyter-core in /usr/local/lib/python3.6/dist-packages (from nbconvert->jupyter->-r requirements.txt (line 1)) (4.6.3)\n",
            "Requirement already satisfied: jinja2>=2.4 in /usr/local/lib/python3.6/dist-packages (from nbconvert->jupyter->-r requirements.txt (line 1)) (2.11.2)\n",
            "Requirement already satisfied: ipython-genutils in /usr/local/lib/python3.6/dist-packages (from notebook->jupyter->-r requirements.txt (line 1)) (0.2.0)\n",
            "Requirement already satisfied: Send2Trash in /usr/local/lib/python3.6/dist-packages (from notebook->jupyter->-r requirements.txt (line 1)) (1.5.0)\n",
            "Requirement already satisfied: terminado>=0.8.1 in /usr/local/lib/python3.6/dist-packages (from notebook->jupyter->-r requirements.txt (line 1)) (0.8.3)\n",
            "Requirement already satisfied: prompt-toolkit<2.0.0,>=1.0.0 in /usr/local/lib/python3.6/dist-packages (from jupyter-console->jupyter->-r requirements.txt (line 1)) (1.0.18)\n",
            "Requirement already satisfied: qtpy in /usr/local/lib/python3.6/dist-packages (from qtconsole->jupyter->-r requirements.txt (line 1)) (1.9.0)\n",
            "Requirement already satisfied: pyzmq>=17.1 in /usr/local/lib/python3.6/dist-packages (from qtconsole->jupyter->-r requirements.txt (line 1)) (19.0.2)\n",
            "Requirement already satisfied: widgetsnbextension~=3.5.0 in /usr/local/lib/python3.6/dist-packages (from ipywidgets->jupyter->-r requirements.txt (line 1)) (3.5.1)\n",
            "Requirement already satisfied: scipy>=0.17.0 in /usr/local/lib/python3.6/dist-packages (from scikit-learn->sklearn->-r requirements.txt (line 3)) (1.4.1)\n",
            "Requirement already satisfied: joblib>=0.11 in /usr/local/lib/python3.6/dist-packages (from scikit-learn->sklearn->-r requirements.txt (line 3)) (0.16.0)\n",
            "Requirement already satisfied: requests-oauthlib>=0.7.0 in /usr/local/lib/python3.6/dist-packages (from google-auth-oauthlib<0.5,>=0.4.1->tensorboard->-r requirements.txt (line 5)) (1.3.0)\n",
            "Requirement already satisfied: importlib-metadata; python_version < \"3.8\" in /usr/local/lib/python3.6/dist-packages (from markdown>=2.6.8->tensorboard->-r requirements.txt (line 5)) (1.7.0)\n",
            "Requirement already satisfied: cachetools<5.0,>=2.0.0 in /usr/local/lib/python3.6/dist-packages (from google-auth<2,>=1.6.3->tensorboard->-r requirements.txt (line 5)) (4.1.1)\n",
            "Requirement already satisfied: rsa<5,>=3.1.4; python_version >= \"3\" in /usr/local/lib/python3.6/dist-packages (from google-auth<2,>=1.6.3->tensorboard->-r requirements.txt (line 5)) (4.6)\n",
            "Requirement already satisfied: pyasn1-modules>=0.2.1 in /usr/local/lib/python3.6/dist-packages (from google-auth<2,>=1.6.3->tensorboard->-r requirements.txt (line 5)) (0.2.8)\n",
            "Requirement already satisfied: chardet<4,>=3.0.2 in /usr/local/lib/python3.6/dist-packages (from requests<3,>=2.21.0->tensorboard->-r requirements.txt (line 5)) (3.0.4)\n",
            "Requirement already satisfied: idna<3,>=2.5 in /usr/local/lib/python3.6/dist-packages (from requests<3,>=2.21.0->tensorboard->-r requirements.txt (line 5)) (2.10)\n",
            "Requirement already satisfied: urllib3!=1.25.0,!=1.25.1,<1.26,>=1.21.1 in /usr/local/lib/python3.6/dist-packages (from requests<3,>=2.21.0->tensorboard->-r requirements.txt (line 5)) (1.24.3)\n",
            "Requirement already satisfied: certifi>=2017.4.17 in /usr/local/lib/python3.6/dist-packages (from requests<3,>=2.21.0->tensorboard->-r requirements.txt (line 5)) (2020.6.20)\n",
            "Requirement already satisfied: pexpect; sys_platform != \"win32\" in /usr/local/lib/python3.6/dist-packages (from ipython>=4.0.0->ipykernel->jupyter->-r requirements.txt (line 1)) (4.8.0)\n",
            "Requirement already satisfied: pickleshare in /usr/local/lib/python3.6/dist-packages (from ipython>=4.0.0->ipykernel->jupyter->-r requirements.txt (line 1)) (0.7.5)\n",
            "Requirement already satisfied: decorator in /usr/local/lib/python3.6/dist-packages (from ipython>=4.0.0->ipykernel->jupyter->-r requirements.txt (line 1)) (4.4.2)\n",
            "Requirement already satisfied: simplegeneric>0.8 in /usr/local/lib/python3.6/dist-packages (from ipython>=4.0.0->ipykernel->jupyter->-r requirements.txt (line 1)) (0.8.1)\n",
            "Requirement already satisfied: jsonschema!=2.5.0,>=2.4 in /usr/local/lib/python3.6/dist-packages (from nbformat>=4.4->nbconvert->jupyter->-r requirements.txt (line 1)) (2.6.0)\n",
            "Requirement already satisfied: webencodings in /usr/local/lib/python3.6/dist-packages (from bleach->nbconvert->jupyter->-r requirements.txt (line 1)) (0.5.1)\n",
            "Requirement already satisfied: packaging in /usr/local/lib/python3.6/dist-packages (from bleach->nbconvert->jupyter->-r requirements.txt (line 1)) (20.4)\n",
            "Requirement already satisfied: MarkupSafe>=0.23 in /usr/local/lib/python3.6/dist-packages (from jinja2>=2.4->nbconvert->jupyter->-r requirements.txt (line 1)) (1.1.1)\n",
            "Requirement already satisfied: ptyprocess; os_name != \"nt\" in /usr/local/lib/python3.6/dist-packages (from terminado>=0.8.1->notebook->jupyter->-r requirements.txt (line 1)) (0.6.0)\n",
            "Requirement already satisfied: wcwidth in /usr/local/lib/python3.6/dist-packages (from prompt-toolkit<2.0.0,>=1.0.0->jupyter-console->jupyter->-r requirements.txt (line 1)) (0.2.5)\n",
            "Requirement already satisfied: oauthlib>=3.0.0 in /usr/local/lib/python3.6/dist-packages (from requests-oauthlib>=0.7.0->google-auth-oauthlib<0.5,>=0.4.1->tensorboard->-r requirements.txt (line 5)) (3.1.0)\n",
            "Requirement already satisfied: zipp>=0.5 in /usr/local/lib/python3.6/dist-packages (from importlib-metadata; python_version < \"3.8\"->markdown>=2.6.8->tensorboard->-r requirements.txt (line 5)) (3.1.0)\n",
            "Requirement already satisfied: pyasn1>=0.1.3 in /usr/local/lib/python3.6/dist-packages (from rsa<5,>=3.1.4; python_version >= \"3\"->google-auth<2,>=1.6.3->tensorboard->-r requirements.txt (line 5)) (0.4.8)\n",
            "Requirement already satisfied: pyparsing>=2.0.2 in /usr/local/lib/python3.6/dist-packages (from packaging->bleach->nbconvert->jupyter->-r requirements.txt (line 1)) (2.4.7)\n",
            "Installing collected packages: tensorboardX\n",
            "Successfully installed tensorboardX-2.1\n"
          ],
          "name": "stdout"
        }
      ]
    },
    {
      "cell_type": "code",
      "metadata": {
        "id": "JarHCQDlm0ee",
        "colab_type": "code",
        "colab": {}
      },
      "source": [
        "!mkdir -p data/assistments12"
      ],
      "execution_count": 4,
      "outputs": []
    },
    {
      "cell_type": "code",
      "metadata": {
        "id": "Guxbn-eLnAsj",
        "colab_type": "code",
        "colab": {}
      },
      "source": [
        "!cp \"/content/drive/My Drive/master thesis/Datasets/assistment_dataset/2012-2013-data-with-predictions-4-final.csv\" ./data/assistments12/data.csv"
      ],
      "execution_count": 5,
      "outputs": []
    },
    {
      "cell_type": "code",
      "metadata": {
        "id": "klYhbOAhnOyW",
        "colab_type": "code",
        "colab": {}
      },
      "source": [
        "!python prepare_data.py --dataset assistments12 --remove_nan_skills"
      ],
      "execution_count": 6,
      "outputs": []
    },
    {
      "cell_type": "code",
      "metadata": {
        "id": "6mto_1wKtXIH",
        "colab_type": "code",
        "colab": {
          "base_uri": "https://localhost:8080/",
          "height": 1000
        },
        "outputId": "86576987-ded4-4a54-9422-e903fa82ff49"
      },
      "source": [
        "!python train_dkt.py --dataset assistments12 --embed_inputs --embed_size=100 --hid_size=100 --batch_size=5"
      ],
      "execution_count": 261,
      "outputs": [
        {
          "output_type": "stream",
          "text": [
            "https://ui.neptune.ai/ikiyo/sandbox/e/SAN-16\n",
            "[(tensor([    0, 77553, 79378, 67880]), tensor([24576, 26401, 14903, 14885]), tensor([1, 1, 1, 1])), (tensor([    0,    78, 53051, 53052, 53053,    90, 53062, 53063, 53064, 53065,\n",
            "        62723,  9744, 63185, 62707, 62696, 34395, 87460, 34446, 87441, 87429,\n",
            "        87514, 77635, 77713, 77623, 77594, 77650, 77700, 77616, 77052, 77033,\n",
            "        77006, 76944, 68416, 68444, 68460, 81708, 81642, 81502, 81619, 77656,\n",
            "        15449, 27581, 77046, 72963, 68406, 68416, 68404, 68396, 80550, 80558,\n",
            "        80493, 19993, 72924, 72929, 72839, 80531, 27519, 80559, 27549, 80485,\n",
            "        27540, 27559, 27602, 80488, 80524, 76083, 76144, 76146, 18118, 71095,\n",
            "        18120, 71115, 18103, 71080, 18105, 18106, 71135, 71097, 18111, 18127,\n",
            "        71104, 18129, 18107, 71084, 71085, 18110, 18113, 18112, 80497, 80518,\n",
            "        27500, 80575, 80580, 80484, 18124, 71101, 18126, 71118, 18133, 71110,\n",
            "        71111, 18150, 18151, 18152, 71129, 18099, 18100, 71077, 18102, 71090,\n",
            "        71091, 71106, 80557, 81578, 66715, 66689, 66711, 61059, 61042, 61037,\n",
            "        68441, 72890, 76092, 71106, 71304, 71328, 71316, 65287, 65280, 65333,\n",
            "        66744, 61048, 26464, 76097, 76155, 23108, 76093, 80549, 77636, 71134,\n",
            "        23162, 65268, 71337, 76103, 23168, 76150, 76148, 76156, 76162, 76157,\n",
            "        76112, 66755, 61054, 76107, 77020, 58771, 75422, 75279, 22410, 75387,\n",
            "        75388, 22276, 22277, 22278, 75430, 22335, 75312, 22337, 22338, 75315,\n",
            "        22340, 75358, 75249, 75261, 13709, 66595, 66657, 66654, 28624, 71218,\n",
            "        71241, 71190, 58711, 58813, 58777, 76103, 65251, 71259, 13700, 75362,\n",
            "        68404, 72896, 66651, 13665, 66595, 66677, 13699, 13640, 66650, 66672,\n",
            "        13623, 66624, 76103, 13630, 71181, 58801, 27521, 71094, 75249, 66625,\n",
            "        80568, 80570, 80525, 66668, 66637, 81630, 81606, 57551, 57571, 57556,\n",
            "        10527, 63558, 63581, 63573, 66729, 61059, 71233, 58737, 81448,  2547,\n",
            "         2690, 55590, 55524, 55656, 70632, 70654, 17673, 70663, 70621, 70650,\n",
            "        23184, 65399, 71325, 66599, 57567, 63516, 17665, 23106, 70606, 55667,\n",
            "        27554, 77689, 75453, 63511, 76980, 80527, 80507, 80569, 23159, 23156,\n",
            "        76115, 76097, 76102, 76091, 76124, 76135, 61950, 61874, 61956, 71203,\n",
            "        58690, 70695,  2482, 55656, 55667, 55488, 76107, 66622, 71652, 61886,\n",
            "        68438, 72930, 76160,  2607, 70260, 70605, 80528, 71137, 57557, 63569,\n",
            "        18753, 61926, 55518,  2475, 55466, 55543,  2581,  2613, 55520, 55535,\n",
            "        55556, 71689, 71653, 71725, 70275, 70269, 70254, 70636, 70640, 70621,\n",
            "        76693, 76679, 23663, 76599, 71674, 71691, 71638, 76683, 76696, 13767,\n",
            "        61054, 70614, 55668, 70243, 70608, 81572, 66691, 66761, 66713, 73472,\n",
            "        73433, 20484, 73445, 73493, 73408, 71273, 71683, 65360, 55633, 54680,\n",
            "        78259, 78247, 78171, 76613, 20438, 20503, 20473, 73411, 20485, 73488,\n",
            "        73491, 73493, 29143, 82153, 82120, 79888, 79918, 79861, 78190, 55630,\n",
            "        20437, 79849, 29148, 75301, 61898, 23623, 23696, 23649, 76667, 76604,\n",
            "        23659, 76626, 76618, 23701, 76681, 20439, 73479, 20517, 73435, 73447,\n",
            "        73433, 82171, 76616, 27331, 74423, 74403, 71194, 58792, 55532, 70264,\n",
            "        70613, 81729, 81768, 81747, 66254, 66290, 66289, 81980, 81971, 82016,\n",
            "        69976, 69953, 69968, 74405, 74447, 74471, 27252, 80332, 80280, 80227,\n",
            "        76695, 76622, 76636, 76097, 80491, 76142, 76632, 78258, 54688, 79836,\n",
            "        71705, 82146, 81743, 66293, 80414, 81927, 69966, 57569, 63498, 18609,\n",
            "        18645, 71569, 71620, 71583, 19024, 19051, 72067, 19074, 72024, 19083,\n",
            "        19076, 72081, 72025, 72068, 66711, 70637, 74281, 13306, 27464, 81989,\n",
            "        69942, 71612, 19061, 66269, 13268, 13269, 66246, 66247, 66248, 66264,\n",
            "        66234, 66207, 19078, 72034, 72045, 72078, 80334, 80378, 80303, 76676,\n",
            "        78243, 54682, 26894, 19093, 61925, 66212, 80306, 18657, 72036, 19122,\n",
            "        72044, 72035, 19115, 72041, 72001, 72062, 26891, 79898, 79849, 79845,\n",
            "        18624, 71609, 71617, 71607, 70255, 70652, 72048, 81838, 81939, 16981]), tensor([   77,    74,    75,    76,    89,    85,    86,    87,    88,  9746,\n",
            "         9743, 10208,  9730,  9719, 34394, 34483, 34445, 34464, 34452, 34537,\n",
            "        24658, 24736, 24646, 24617, 24673, 24723, 24639, 24075, 24056, 24029,\n",
            "        23967, 15439, 15467, 15483, 28731, 28665, 28525, 28642, 24679, 15448,\n",
            "        27580, 24069, 19986, 15429, 15439, 15427, 15419, 27573, 27581, 27516,\n",
            "        19992, 19947, 19952, 19862, 27554, 27518, 27582, 27548, 27508, 27539,\n",
            "        27558, 27601, 27511, 27547, 23106, 23167, 23169, 18117, 18118, 18119,\n",
            "        18138, 18102, 18103, 18104, 18105, 18158, 18120, 18110, 18126, 18127,\n",
            "        18128, 18106, 18107, 18108, 18109, 18112, 18111, 27520, 27541, 27499,\n",
            "        27598, 27603, 27507, 18123, 18124, 18125, 18141, 18132, 18133, 18134,\n",
            "        18149, 18150, 18151, 18152, 18098, 18099, 18100, 18101, 18113, 18114,\n",
            "        18129, 27580, 28601, 13738, 13712, 13734,  8082,  8065,  8060, 15464,\n",
            "        19913, 23115, 18129, 18327, 18351, 18339, 12310, 12303, 12356, 13767,\n",
            "         8071, 26463, 23120, 23178, 23107, 23116, 27572, 24659, 18157, 23161,\n",
            "        12291, 18360, 23126, 23167, 23173, 23171, 23179, 23185, 23180, 23135,\n",
            "        13778,  8077, 23130, 24043,  5794, 22445, 22302, 22409, 22410, 22411,\n",
            "        22275, 22276, 22277, 22453, 22334, 22335, 22336, 22337, 22338, 22339,\n",
            "        22381, 22272, 22284, 13708, 13618, 13680, 13677, 28623, 18241, 18264,\n",
            "        18213,  5734,  5836,  5800, 23126, 12274, 18282, 13699, 22385, 15427,\n",
            "        19919, 13674, 13664, 13618, 13700, 13698, 13639, 13673, 13695, 13622,\n",
            "        13647, 23126, 13629, 18204,  5824, 27520, 18117, 22272, 13648, 27591,\n",
            "        27593, 27548, 13691, 13660, 28653, 28629,  4574,  4594,  4579, 10526,\n",
            "        10581, 10604, 10596, 13752,  8082, 18256,  5760, 28471,  2546,  2689,\n",
            "         2613,  2547,  2679, 17655, 17677, 17672, 17686, 17644, 17673, 23183,\n",
            "        12422, 18348, 13622,  4590, 10539, 17664, 23105, 17629,  2690, 27553,\n",
            "        24712, 22476, 10534, 24003, 27550, 27530, 27592, 23158, 23155, 23138,\n",
            "        23120, 23125, 23114, 23147, 23158,  8973,  8897,  8979, 18226,  5713,\n",
            "        17718,  2481,  2679,  2690,  2511, 23130, 13645, 18675,  8909, 15461,\n",
            "        19953, 23183,  2606, 17283, 17628, 27551, 18160,  4580, 10592, 18752,\n",
            "         8949,  2541,  2474,  2489,  2566,  2580,  2612,  2543,  2558,  2579,\n",
            "        18712, 18676, 18748, 17298, 17292, 17277, 17659, 17663, 17644, 23716,\n",
            "        23702, 23662, 23622, 18697, 18714, 18661, 23706, 23719, 13766,  8077,\n",
            "        17637,  2691, 17266, 17631, 28595, 13714, 13784, 13736, 20495, 20456,\n",
            "        20483, 20468, 20516, 20431, 18296, 18706, 12383,  2656,  1703, 25282,\n",
            "        25270, 25194, 23636, 20437, 20502, 20472, 20434, 20484, 20511, 20514,\n",
            "        20516, 29142, 29176, 29143, 26911, 26941, 26884, 25213,  2653, 20436,\n",
            "        26872, 29147, 22324,  8921, 23622, 23695, 23648, 23690, 23627, 23658,\n",
            "        23649, 23641, 23700, 23704, 20438, 20502, 20516, 20458, 20470, 20456,\n",
            "        29194, 23639, 27330, 21446, 21426, 18217,  5815,  2555, 17287, 17636,\n",
            "        28752, 28791, 28770, 13277, 13313, 13312, 29003, 28994, 29039, 16999,\n",
            "        16976, 16991, 21428, 21470, 21494, 27251, 27355, 27303, 27250, 23718,\n",
            "        23645, 23659, 23120, 27514, 23165, 23655, 25281,  1711, 26859, 18728,\n",
            "        29169, 28766, 13316, 27437, 28950, 16989,  4592, 10521, 18608, 18644,\n",
            "        18592, 18643, 18606, 19023, 19050, 19090, 19073, 19047, 19082, 19075,\n",
            "        19104, 19048, 19091, 13734, 17660, 21304, 13305, 27463, 29012, 16965,\n",
            "        18635, 19060, 13292, 13267, 13268, 13269, 13270, 13271, 13287, 13257,\n",
            "        13230, 19077, 19057, 19068, 19101, 27357, 27401, 27326, 23699, 25266,\n",
            "         1705, 26893, 19092,  8948, 13235, 27329, 18656, 19059, 19121, 19067,\n",
            "        19058, 19114, 19064, 19024, 19085, 26890, 26921, 26872, 26868, 18623,\n",
            "        18632, 18640, 18630, 17278, 17675, 19071, 28861, 28962, 16980, 17045]), tensor([0, 1, 1, 1, 0, 1, 1, 1, 1, 1, 0, 1, 1, 1, 0, 1, 0, 1, 1, 1, 1, 1, 1, 1,\n",
            "        1, 1, 1, 1, 1, 1, 1, 1, 1, 1, 1, 1, 1, 1, 1, 0, 0, 1, 1, 1, 1, 1, 1, 1,\n",
            "        1, 1, 0, 1, 1, 1, 1, 0, 1, 0, 1, 0, 0, 0, 1, 1, 1, 1, 1, 0, 1, 0, 1, 0,\n",
            "        1, 0, 0, 1, 1, 0, 0, 1, 0, 0, 1, 1, 0, 0, 0, 1, 1, 0, 1, 1, 1, 0, 1, 0,\n",
            "        1, 0, 1, 1, 0, 0, 0, 1, 0, 0, 1, 0, 1, 1, 1, 1, 1, 1, 1, 1, 1, 1, 1, 1,\n",
            "        1, 1, 1, 1, 1, 1, 1, 1, 1, 1, 1, 0, 1, 1, 0, 1, 1, 1, 1, 0, 1, 1, 1, 0,\n",
            "        1, 1, 1, 1, 1, 1, 1, 1, 1, 1, 1, 1, 1, 0, 1, 1, 0, 0, 0, 1, 0, 1, 0, 0,\n",
            "        1, 0, 1, 1, 1, 0, 1, 1, 1, 0, 1, 1, 1, 1, 1, 1, 1, 1, 1, 0, 1, 1, 1, 1,\n",
            "        0, 1, 1, 0, 0, 1, 1, 0, 1, 1, 0, 1, 1, 0, 1, 1, 1, 1, 1, 1, 1, 1, 1, 1,\n",
            "        1, 1, 1, 0, 1, 1, 1, 1, 1, 1, 1, 1, 0, 0, 1, 1, 1, 1, 1, 0, 1, 1, 1, 0,\n",
            "        1, 1, 1, 1, 1, 0, 0, 1, 1, 0, 1, 1, 1, 1, 1, 1, 1, 0, 0, 1, 1, 1, 1, 1,\n",
            "        1, 1, 1, 1, 1, 1, 1, 0, 1, 1, 1, 1, 1, 1, 1, 1, 1, 1, 0, 1, 1, 1, 1, 1,\n",
            "        1, 0, 1, 1, 0, 1, 1, 0, 0, 1, 1, 1, 1, 1, 1, 1, 1, 1, 1, 1, 1, 1, 1, 0,\n",
            "        1, 1, 1, 1, 1, 1, 0, 1, 1, 1, 1, 1, 1, 1, 1, 1, 1, 1, 0, 1, 1, 1, 1, 1,\n",
            "        1, 1, 1, 1, 1, 1, 1, 0, 0, 0, 1, 0, 1, 1, 1, 0, 1, 1, 1, 1, 1, 1, 1, 0,\n",
            "        1, 0, 1, 1, 0, 0, 0, 1, 1, 0, 1, 1, 0, 1, 0, 1, 0, 1, 1, 1, 1, 1, 0, 1,\n",
            "        1, 1, 1, 1, 1, 1, 1, 1, 1, 1, 1, 1, 1, 1, 1, 1, 1, 1, 1, 1, 1, 0, 1, 1,\n",
            "        1, 1, 1, 1, 1, 1, 1, 1, 1, 1, 1, 1, 1, 1, 1, 1, 1, 1, 1, 1, 0, 0, 1, 1,\n",
            "        1, 0, 0, 1, 0, 1, 0, 0, 1, 1, 1, 1, 1, 1, 0, 0, 1, 1, 1, 0, 1, 0, 0, 1,\n",
            "        1, 1, 1, 1, 1, 0, 1, 1, 1, 1, 1, 1, 1, 1, 1, 0, 0, 1, 1, 1, 0, 1, 0, 1,\n",
            "        1, 0, 1, 1, 1, 0, 1, 1, 1, 0, 1, 1, 1, 1, 1, 1, 1, 1, 0, 1])), (tensor([     0, 103598, 103604, 103616,  61188,  61183,  61181,  56397,  56452,\n",
            "         56465,  56448,  56431,  56358,  56542,  56493,  56543,   6113,  59075,\n",
            "         59073,  59062,  56515,  56510,  56358,  56351,  56447,  56381,  56531,\n",
            "         56459,  56474,  59531,  59503,   6658,  59529,   6526,  59653,  59523,\n",
            "         59568,  61055,  61163,  61052,  93555,  15958,  15966,  68927,  68986,\n",
            "         68911]), tensor([50621, 50627, 50639,  8211,  8206,  8204,  3420,  3475,  3488,  3471,\n",
            "         3454,  3381,  3565,  3516,  3566,  6112,  6098,  6096,  6085,  3538,\n",
            "         3533,  3381,  3374,  3470,  3404,  3554,  3482,  3497,  6554,  6526,\n",
            "         6657,  6552,  6525,  6676,  6546,  6591,  8078,  8186,  8075, 40578,\n",
            "        15957, 15965, 15950, 16009, 15934, 15988]), tensor([1, 1, 1, 1, 1, 1, 1, 1, 1, 1, 1, 1, 1, 1, 1, 0, 1, 1, 1, 1, 1, 1, 1, 1,\n",
            "        1, 1, 1, 1, 1, 1, 0, 1, 0, 1, 1, 1, 1, 1, 1, 1, 0, 0, 1, 1, 1, 1])), (tensor([    0, 45864, 41180, 45866, 45865, 94172, 45867, 94171, 94158]), tensor([45863, 41179, 45865, 45864, 41195, 45866, 41194, 41181, 45867]), tensor([0, 0, 0, 0, 1, 0, 1, 1, 1])), (tensor([    0, 17194, 17242, 17186, 17253, 17183, 70184, 70222, 70220, 17277,\n",
            "        17276, 70234, 70255, 70278, 17701, 17711, 70684, 17707, 17643, 70690,\n",
            "        70636, 70651, 70721, 70709, 70740, 20494, 20507, 20487, 20496, 20514,\n",
            "        20430, 20510, 78181, 18813, 18809, 18814, 18808, 18820, 18776, 71751,\n",
            "        18784]), tensor([17193, 17241, 17185, 17252, 17182, 17207, 17245, 17243, 17276, 17275,\n",
            "        17257, 17278, 17301, 17700, 17710, 17707, 17706, 17642, 17713, 17659,\n",
            "        17674, 17744, 17732, 17763, 20493, 20506, 20486, 20495, 20513, 20429,\n",
            "        20509, 25204, 18812, 18808, 18813, 18807, 18819, 18775, 18774, 18783,\n",
            "        18793]), tensor([0, 0, 0, 0, 0, 1, 1, 1, 0, 0, 1, 1, 1, 0, 0, 1, 0, 0, 1, 1, 1, 1, 1, 1,\n",
            "        0, 0, 0, 0, 0, 0, 0, 1, 0, 0, 0, 0, 0, 0, 1, 0, 0])), (tensor([    0, 77705, 77626, 62005, 77599, 77639, 77665, 77609, 59222,  6247,\n",
            "        35309, 60511, 60462,  7969, 25388, 62679,  7762,  7903, 60691, 88207,\n",
            "        51656, 31789, 31853, 51659, 31833, 51594]), tensor([24728, 24649,  9028, 24622, 24662, 24688, 24632,  6245,  6246, 35308,\n",
            "         7534,  7485,  7968, 25387,  9702,  7761,  7902,  7714, 35230, 51655,\n",
            "        31788, 31852, 51658, 31832, 51593, 33498]), tensor([1, 1, 1, 1, 1, 1, 1, 1, 0, 0, 1, 1, 0, 0, 1, 0, 0, 1, 1, 0, 0, 0, 0, 0,\n",
            "        0, 0])), (tensor([    0, 61110, 61131, 61116, 73382, 73362, 18709, 71682, 71723, 71651,\n",
            "        78242, 78178, 69884, 16906, 69873, 69892, 69880, 18615, 71622, 71585,\n",
            "        71617, 72177, 19222, 72110, 72126, 72170, 12754, 65731, 65732, 65733,\n",
            "        12758, 65735, 65603, 65642, 65959, 66564, 66518]), tensor([ 8133,  8154,  8139, 20405, 20385, 18708, 18705, 18746, 18674, 25265,\n",
            "        25201, 16907, 16905, 16896, 16915, 16903, 18614, 18645, 18608, 18640,\n",
            "        19200, 19221, 19133, 19149, 19193, 12753, 12754, 12755, 12756, 12757,\n",
            "        12758, 12626, 12665, 12982, 13587, 13541, 13554]), tensor([1, 1, 1, 1, 1, 0, 1, 1, 1, 1, 1, 1, 0, 1, 1, 1, 0, 1, 1, 1, 1, 0, 1, 1,\n",
            "        1, 0, 1, 1, 1, 0, 1, 1, 1, 1, 1, 1, 1])), (tensor([    0, 45064, 45065, 98042, 98043, 45068, 98045, 45070, 45071, 98048,\n",
            "        45073, 45074, 45075, 45076, 98053, 45078, 98055, 45080, 45081, 98058,\n",
            "        45083, 45084, 45085, 98062, 53928, 53924, 53188,  6138, 53924, 53188,\n",
            "        59216,  6138, 53925, 55981,  5794, 53257,   581,   955, 53922,   943,\n",
            "        53925, 55981, 58770, 53257, 53557, 53931, 53922, 53919,   950,   951,\n",
            "        69504, 53926, 53927, 69504, 53961,   228,  1010,   268, 53986, 53244,\n",
            "        45064, 45065, 45066, 98043, 45068, 98045, 45072, 45075, 45076, 45077,\n",
            "        45078, 98055, 45080, 98057, 98058, 98059, 45084, 45085, 45086, 45064,\n",
            "        98041, 45066, 98043, 45068, 45069, 98048, 98051, 45076, 45077, 98054,\n",
            "        45079, 98056, 45081, 98058, 45083, 98060, 45085, 45086, 71073,   269,\n",
            "        17620, 70596, 53050, 53050, 23961, 59863, 59938, 59962, 79038, 79063,\n",
            "        79099, 76938, 76939, 76996, 76997, 77005, 76938, 76939, 76996, 76997,\n",
            "        72814, 72829,  5891,  5920, 58917, 58923,  5477,  5481,  5492,  1525,\n",
            "         1528,  1555,  1568,  1576, 72841, 72852, 72868, 72889, 72940, 19982,\n",
            "        72971, 80490, 80492, 80493, 80506, 80508, 27534, 80512]), tensor([45063, 45064, 45065, 45066, 45067, 45068, 45069, 45070, 45071, 45072,\n",
            "        45073, 45074, 45075, 45076, 45077, 45078, 45079, 45080, 45081, 45082,\n",
            "        45083, 45084, 45085,   951,   947,   211,  6137,   947,   211,  6239,\n",
            "         6137,   948,  3004,  5793,   280,   580,   954,   945,   942,   948,\n",
            "         3004,  5793,   280,   580,   954,   945,   942,   949,   950, 16527,\n",
            "          949,   950, 16527,   984,   227,  1009,   267,  1009,   267, 45063,\n",
            "        45064, 45065, 45066, 45067, 45068, 45071, 45074, 45075, 45076, 45077,\n",
            "        45078, 45079, 45080, 45081, 45082, 45083, 45084, 45085, 45063, 45064,\n",
            "        45065, 45066, 45067, 45068, 45071, 45074, 45075, 45076, 45077, 45078,\n",
            "        45079, 45080, 45081, 45082, 45083, 45084, 45085, 18096,   268, 17619,\n",
            "        17619,    73,    73, 23960,  6886,  6961,  6985, 26061, 26086, 26122,\n",
            "        23961, 23962, 24019, 24020, 24028, 23961, 23962, 24019, 24020, 19837,\n",
            "        19852,  5890,  5919,  5940,  5946,  5476,  5480,  5491,  1524,  1527,\n",
            "         1554,  1567,  1575, 19864, 19875, 19891, 19912, 19963, 19981, 19994,\n",
            "        27513, 27515, 27516, 27529, 27531, 27533, 27535, 27539]), tensor([0, 0, 1, 1, 0, 1, 0, 0, 1, 0, 0, 0, 0, 1, 0, 1, 0, 0, 1, 0, 0, 0, 1, 1,\n",
            "        1, 1, 0, 1, 1, 1, 0, 1, 1, 0, 1, 0, 0, 1, 0, 1, 1, 1, 1, 1, 1, 1, 1, 0,\n",
            "        0, 1, 1, 1, 1, 1, 0, 0, 0, 1, 1, 0, 0, 0, 1, 0, 1, 0, 0, 0, 0, 0, 1, 0,\n",
            "        1, 1, 1, 0, 0, 0, 0, 1, 0, 1, 0, 0, 1, 1, 0, 0, 1, 0, 1, 0, 1, 0, 1, 0,\n",
            "        0, 1, 0, 0, 1, 1, 1, 0, 1, 1, 1, 1, 1, 1, 1, 1, 1, 1, 1, 1, 1, 1, 1, 1,\n",
            "        1, 0, 0, 1, 1, 0, 0, 0, 0, 0, 0, 0, 0, 1, 1, 1, 1, 1, 0, 1, 1, 1, 1, 1,\n",
            "        1, 0, 1, 1])), (tensor([     0,  53924,    956,  53925,    950,  53927,    568,    574,    580,\n",
            "           581,  24183,  24160,  31156,  31157,  84135,  31161,  31129,  78455,\n",
            "         78456,  25481,  25472,  25475,  25325,  78303,  25328,  25334,  78311,\n",
            "         25338,  25359,  78339,  84113,  31162,  31120,  58596,   5624,   5626,\n",
            "          5628,   5630,    893,    889,    888,    896,    897,  53874,  61058,\n",
            "         61037,  61044,  78312,  25365,  99986,  47006,  47008,  47007,  99985,\n",
            "         47011,  65229,  65230,  13188,  66161,  12255,  12258,  12441,  13191,\n",
            "         65226,  65232,  12257,  65228,  13186,  12442,  89950,  36881,  36904,\n",
            "         89802,  89947,  89750,  89959,  36780,  37189,  90113,  37022,  90517,\n",
            "         90482,  90387,  65138,  64595,  78447,  78455,  25476,  78457,  78448,\n",
            "         78456,  78447,  78450,  78451,  25473,  78336,  25356,  78340,  81921,\n",
            "         29017,  29012,  28987,  29024,  81912,  28965,  28984,  81990,  29016,\n",
            "         82008,  81917,  28977,  82015,  82007,  82012,  25478,  64556,  64564,\n",
            "         64563,  16541,  13027,  13016,  81983,  29025,  82015,  81979,  81950,\n",
            "         13030,  65998,  13052,  12997,  13041,  13044,  12996,  13015,  47498,\n",
            "        100428,  47521,  47459,  25330,  25337,  78452,  25473,  64555,  64565,\n",
            "         64566,  11591,  64555,  64556,  64590,  13046,  65975,  13034,  13042,\n",
            "         13000,  13003,  65988,  13004,  66030,  49126,  69504]), tensor([  947,   955,   948,   949,   950,   567,   573,   579,   580, 24182,\n",
            "        24159, 31155, 31156, 31158, 31160, 31128, 25478, 25479, 25480, 25471,\n",
            "        25474, 25324, 25326, 25327, 25333, 25334, 25337, 25358, 25362, 31136,\n",
            "        31161, 31119,  5619,  5623,  5625,  5627,  5629,   892,   888,   887,\n",
            "          895,   896,   897,  8081,  8060,  8067, 25335, 25364, 47009, 47005,\n",
            "        47007, 47006, 47008, 47010, 12252, 12253, 13187, 13184, 12254, 12257,\n",
            "        12440, 13190, 12249, 12255, 12256, 12251, 13185, 12441, 36973, 36880,\n",
            "        36903, 36825, 36970, 36773, 36982, 36779, 37188, 37136, 37021, 37540,\n",
            "        37505, 37410, 12161, 11618, 25470, 25478, 25475, 25480, 25471, 25479,\n",
            "        25470, 25473, 25474, 25472, 25359, 25355, 25363, 28944, 29016, 29011,\n",
            "        28986, 29023, 28935, 28964, 28983, 29013, 29015, 29031, 28940, 28976,\n",
            "        29038, 29030, 29035, 25477, 11579, 11587, 11586, 16540, 13026, 13015,\n",
            "        29006, 29024, 29038, 29002, 28973, 13029, 13021, 13051, 12996, 13040,\n",
            "        13043, 12995, 13014, 47497, 47451, 47520, 47458, 25329, 25336, 25475,\n",
            "        25472, 11578, 11588, 11589, 11590, 11578, 11579, 11613, 13045, 12998,\n",
            "        13033, 13041, 12999, 13002, 13011, 13003, 13053, 49125, 16527, 16487]), tensor([1, 0, 1, 0, 1, 0, 0, 0, 0, 0, 0, 0, 0, 1, 0, 0, 1, 1, 0, 0, 0, 0, 1, 0,\n",
            "        0, 1, 0, 0, 1, 1, 0, 0, 1, 0, 0, 0, 0, 0, 0, 0, 0, 0, 1, 1, 1, 1, 1, 0,\n",
            "        1, 0, 0, 0, 1, 0, 1, 1, 0, 1, 0, 0, 0, 0, 1, 1, 0, 1, 0, 0, 1, 0, 0, 1,\n",
            "        1, 1, 1, 0, 0, 1, 0, 1, 1, 1, 1, 1, 1, 1, 0, 1, 1, 1, 1, 1, 1, 0, 1, 0,\n",
            "        1, 1, 0, 0, 0, 0, 1, 0, 0, 1, 0, 1, 1, 0, 1, 1, 1, 0, 1, 1, 1, 0, 0, 0,\n",
            "        1, 0, 1, 1, 1, 0, 1, 0, 0, 0, 0, 0, 0, 0, 1, 0, 0, 0, 0, 1, 0, 1, 1, 1,\n",
            "        0, 1, 1, 1, 0, 1, 0, 0, 0, 0, 1, 0, 1, 0, 1, 0])), (tensor([     0,   1600,  78493,  78489,  78476,   1602,   1603,  78506,  78567,\n",
            "         78536,  81481,  81445,  81428,  30441,  30439,  83390,  30402,  83386,\n",
            "         83393,  83423,   6901,   6961,   6914,  59963,  59875,  59939,  79155,\n",
            "         79065,  79153,  59814,  59848,  59679,  59648,  59524,  59626,  83520,\n",
            "         83507,  83502,  66546,  66555,  66516,  72964,  19987,  72959,  19918,\n",
            "         72887,  66592,  66618,  66623,  23653,  59048,   6350,   6074,  58916,\n",
            "         59328,  58912,  81187,  81177,  81179,  79438,  79479,  79497,  26023,\n",
            "         26024,   9563,  53054,  53066,    657,    880,    621,    613,    835,\n",
            "         53704,    984,  70010,  69996,  69938,  80517,  80487,  80482,  60348,\n",
            "         60299,  76616,  76609,  54565,   1590,   1591,   1612,  54589,   1614,\n",
            "          1615,   1648,  54625,  54626,   1651,  54553,  66199,  66273,  66278,\n",
            "         53805,    854,   1080,    641,    654,  53671,    766,    592,    821,\n",
            "            52,     49,     50,     51,    212,  12227,  12216,  12217,  12218,\n",
            "         12219,  12220,  12221,  58768,  58800,  58716,   8608,   8625,  10068,\n",
            "          8626,  61064,   8162,  61090,  61095,   8169,  64009,  61081,   8115,\n",
            "         61098,  61158,  88277,  35311,  88288,  35251,  35293,  25387,  54044,\n",
            "         53361,  54135,   1216,  53780,  53613,  82510,  39226,  92199,  97096,\n",
            "           736,  98145,  29542,  94759,  29539,  29542,  92199,  81844,  28867,\n",
            "         82176,  81842,  52057, 104902, 104873,   5530,   5531,  13192, 104905,\n",
            "        104903,  51928, 105034,  52059,  17494,  88280,   1541,  54520,   1537,\n",
            "         54510,   1533,   1552,  54502,  54506,  54503,  35588,  35521,  10521,\n",
            "         63445,  63414,  63481,  79518,  79428,  79479,  23953,  12184,  65167,\n",
            "         23942,  23924,  65177,  23914,  65146,  65144]), tensor([ 1599, 25516, 25512, 25499,  1601,  1602, 25529, 25590, 25559, 28504,\n",
            "        28468, 28451, 30440, 30438, 30413, 30401, 30409, 30416, 30446,  6900,\n",
            "         6960,  6913,  6986,  6898,  6962, 26178, 26088, 26176,  6837,  6871,\n",
            "         6702,  6671,  6547,  6649, 30543, 30530, 30525, 13569, 13578, 13539,\n",
            "        19987, 19986, 19982, 19917, 19910, 13615, 13641, 13646, 23652,  6071,\n",
            "         6349,  6073,  5939,  6351,  5935, 28210, 28200, 28202, 26461, 26502,\n",
            "        26520, 26022, 26023,  9562,    77,    89,   656,   879,   620,   612,\n",
            "          834,   727,   983, 17033, 17019, 16961, 27540, 27510, 27505,  7371,\n",
            "         7322, 23639, 23632,  1588,  1589,  1590,  1611,  1612,  1613,  1614,\n",
            "         1647,  1648,  1649,  1650,  1576, 13222, 13296, 13301,   828,   853,\n",
            "         1079,   640,   653,   694,   765,   591,   820,    51,    48,    49,\n",
            "           50,   211, 12226, 12215, 12216, 12217, 12218, 12219, 12220,  5791,\n",
            "         5823,  5739,  8607,  8624, 10067,  8625,  8087,  8161,  8113,  8118,\n",
            "         8168, 11032,  8104,  8114,  8121,  8181, 35300, 35310, 35311, 35250,\n",
            "        35292, 25386,  1067,   384,  1158,  1215,   803,   636, 29533, 39225,\n",
            "        39222, 44119,   735, 45168, 29541, 41782, 29538, 29541, 39222, 28867,\n",
            "        28866, 29199, 28865, 52056, 51925, 51896,  5529,  5530, 13191, 51928,\n",
            "        51926, 51927, 52057, 52058, 17493, 35303,  1540,  1543,  1536,  1533,\n",
            "         1532,  1551,  1525,  1529,  1526, 35587, 35520, 10520, 10468, 10437,\n",
            "        10504, 26541, 26451, 26502, 23952, 12183, 12190, 23941, 23923, 12200,\n",
            "        23913, 12169, 12167, 23925]), tensor([0, 1, 1, 1, 0, 0, 1, 1, 1, 1, 1, 1, 0, 0, 1, 0, 1, 1, 1, 0, 0, 0, 1, 1,\n",
            "        1, 1, 1, 1, 1, 1, 1, 1, 1, 1, 1, 1, 1, 1, 1, 1, 1, 0, 1, 0, 1, 1, 1, 1,\n",
            "        0, 1, 0, 0, 1, 1, 1, 1, 1, 1, 1, 1, 1, 0, 0, 0, 1, 1, 0, 0, 0, 0, 0, 1,\n",
            "        0, 1, 1, 1, 1, 1, 1, 1, 1, 1, 1, 1, 0, 0, 0, 1, 0, 0, 0, 1, 1, 0, 1, 1,\n",
            "        1, 1, 1, 0, 0, 0, 0, 1, 0, 0, 0, 0, 0, 0, 0, 0, 0, 0, 0, 0, 0, 0, 0, 1,\n",
            "        1, 1, 0, 0, 0, 0, 1, 0, 1, 1, 0, 1, 1, 0, 1, 1, 1, 0, 1, 0, 0, 0, 1, 1,\n",
            "        1, 0, 1, 1, 1, 0, 1, 1, 0, 1, 0, 1, 0, 0, 1, 1, 0, 1, 1, 0, 1, 1, 0, 0,\n",
            "        0, 1, 1, 0, 1, 0, 0, 1, 0, 1, 0, 1, 0, 0, 1, 1, 1, 0, 0, 0, 1, 1, 1, 1,\n",
            "        1, 1, 0, 0, 1, 0, 0, 1, 0, 1, 1, 1]))]\n",
            "Step 20, {'loss/train': 1.0307208240032195, 'auc/train': 0.49583006783016315}\n",
            "Step 40, {'loss/train': 0.9833301544189453, 'auc/train': 0.5057370539589583}\n",
            "tcmalloc: large alloc 1201496064 bytes == 0x10d9f4000 @  0x7ff915705b6b 0x7ff915725379 0x7ff8b74de92e 0x7ff8b74e0946 0x7ff8ef3d19e5 0x7ff8ef656af3 0x7ff8ef647f97 0x7ff8ef647c7d 0x7ff8ef647f97 0x7ff8ef752a1a 0x7ff8ef3ca0c5 0x7ff8ef7e92f3 0x7ff8ef648319 0x7ff8ef6435ff 0x7ff8ef648319 0x7ff8ef73dfb5 0x7ff8fedb574b 0x50a7f5 0x50c1f4 0x507f24 0x509c50 0x50a64d 0x50c1f4 0x507f24 0x50b053 0x634dd2 0x634e87 0x63863f 0x6391e1 0x4b0dc0 0x7ff915320b97\n",
            "Step 60, {'loss/train': 1.045439028739929, 'auc/train': 0.5046516298517787}\n",
            "Step 80, {'loss/train': 1.0294987946748733, 'auc/train': 0.5171303838480119}\n",
            "Step 100, {'loss/train': 1.0109396666288375, 'auc/train': 0.5242497982683351}\n",
            "Step 120, {'loss/train': 1.038831713795662, 'auc/train': 0.5275523317890725}\n",
            "Step 140, {'loss/train': 1.0060390293598176, 'auc/train': 0.5100594385525898}\n",
            "Step 160, {'loss/train': 1.0369237929582595, 'auc/train': 0.5312794274662215}\n",
            "Step 180, {'loss/train': 1.0314947336912155, 'auc/train': 0.519618703178534}\n",
            "tcmalloc: large alloc 1455783936 bytes == 0xef7fa000 @  0x7ff915705b6b 0x7ff915725379 0x7ff8b74de92e 0x7ff8b74e0946 0x7ff8ef3d19e5 0x7ff8ef656af3 0x7ff8ef647f97 0x7ff8ef647c7d 0x7ff8ef647f97 0x7ff8ef752a1a 0x7ff8ef3ca0c5 0x7ff8ef7e92f3 0x7ff8ef648319 0x7ff8ef6435ff 0x7ff8ef648319 0x7ff8ef73dfb5 0x7ff8fedb574b 0x50a7f5 0x50c1f4 0x507f24 0x509c50 0x50a64d 0x50c1f4 0x507f24 0x50b053 0x634dd2 0x634e87 0x63863f 0x6391e1 0x4b0dc0 0x7ff915320b97\n",
            "tcmalloc: large alloc 1455783936 bytes == 0xe5e62000 @  0x7ff915705b6b 0x7ff915725379 0x7ff8b74de92e 0x7ff8b74e0946 0x7ff8ef8bcbb3 0x7ff8ef3d22bf 0x7ff8ef656b99 0x7ff8ef648091 0x7ff8ef646b28 0x7ff8ef648091 0x7ff8ef751ce5 0x7ff8f1344206 0x7ff8ef648091 0x7ff8ef751ce5 0x7ff8ef3c2556 0x7ff8ef7e650a 0x7ff8f13d29da 0x7ff8ef648412 0x7ff8ef8a4f56 0x7ff8fecbc222 0x7ff8fed99a88 0x50a7f5 0x50c1f4 0x507f24 0x509c50 0x50a64d 0x50c1f4 0x507f24 0x50b053 0x634dd2 0x634e87\n",
            "Step 200, {'loss/train': 0.9826066941022873, 'auc/train': 0.532379614264027}\n",
            "Step 220, {'loss/train': 0.9997910350561142, 'auc/train': 0.568001029841895}\n",
            "Step 240, {'loss/train': 0.9683293372392654, 'auc/train': 0.5666383550658299}\n",
            "Step 260, {'loss/train': 0.9760013848543168, 'auc/train': 0.5579553551913553}\n",
            "Step 280, {'loss/train': 0.9608829617500305, 'auc/train': 0.549957483765543}\n",
            "Traceback (most recent call last):\n",
            "  File \"train_dkt.py\", line 168, in <module>\n",
            "    train(df, model, optimizer, logger, args.num_epochs, args.bptt, args.batch_size, args.low_gpu_mem)\n",
            "  File \"train_dkt.py\", line 85, in train\n",
            "    train_auc = compute_auc(preds, item_ids, labels)\n",
            "  File \"/content/kt-algos/utils/misc.py\", line 63, in compute_auc\n",
            "    preds = preds.view(-1, preds.shape[-1])[labels >= 0]\n",
            "KeyboardInterrupt\n"
          ],
          "name": "stdout"
        }
      ]
    },
    {
      "cell_type": "markdown",
      "metadata": {
        "id": "Hh4TfZsDBA0z",
        "colab_type": "text"
      },
      "source": [
        "### iKiYo DKT in TF2"
      ]
    },
    {
      "cell_type": "code",
      "metadata": {
        "id": "dvaPwZzEBEhz",
        "colab_type": "code",
        "colab": {
          "base_uri": "https://localhost:8080/",
          "height": 108
        },
        "outputId": "532a3558-a3ae-4301-c33a-84b7ca5a1490"
      },
      "source": [
        "import numpy as np\n",
        "import pandas as pd\n",
        "import tensorflow as tf\n",
        "from tensorflow import keras\n",
        "from tensorflow.keras import layers\n",
        "\n",
        "print(tf.test.is_gpu_available())"
      ],
      "execution_count": 7,
      "outputs": [
        {
          "output_type": "stream",
          "text": [
            "WARNING:tensorflow:From <ipython-input-7-56d3cfdc4018>:7: is_gpu_available (from tensorflow.python.framework.test_util) is deprecated and will be removed in a future version.\n",
            "Instructions for updating:\n",
            "Use `tf.config.list_physical_devices('GPU')` instead.\n",
            "True\n"
          ],
          "name": "stdout"
        }
      ]
    },
    {
      "cell_type": "code",
      "metadata": {
        "id": "y06XW-GyLlVz",
        "colab_type": "code",
        "colab": {}
      },
      "source": [
        "# data dependent parameters\n",
        "num_student = 1000\n",
        "num_skills = 5 #M\n",
        "max_sequence_length =  6 # T\n",
        "\n",
        "# model parmaeters\n",
        "hidden_units=20\n",
        "dropout_rate=0\n",
        "embed_dim = 5 #N\n",
        "learning_rate = 0.1"
      ],
      "execution_count": 8,
      "outputs": []
    },
    {
      "cell_type": "markdown",
      "metadata": {
        "id": "JEGqcDNz4T-V",
        "colab_type": "text"
      },
      "source": [
        "##### sin fucntion sample data"
      ]
    },
    {
      "cell_type": "code",
      "metadata": {
        "id": "RS55yNJi9yG-",
        "colab_type": "code",
        "colab": {
          "base_uri": "https://localhost:8080/",
          "height": 53
        },
        "outputId": "6b1627ac-32bd-4989-f3e9-2168eced563a"
      },
      "source": [
        "def sin(x, T=100):\n",
        "  return np.sin(2.0* np.pi * x /T)\n",
        "\n",
        "def toy_problem(T=100, ampl=0.1):\n",
        "  x = np.arange(0, 2*T+1)\n",
        "  noise = ampl * np.random.uniform(low=-1.0, high=1.0, size=len(x))\n",
        "  return sin(x) + noise\n",
        "\n",
        "T = 100\n",
        "f = toy_problem(T)\n",
        "\n",
        "f[0:10]"
      ],
      "execution_count": 55,
      "outputs": [
        {
          "output_type": "execute_result",
          "data": {
            "text/plain": [
              "array([-0.07963074,  0.03908419,  0.14838307,  0.1296413 ,  0.311248  ,\n",
              "        0.31232588,  0.2815356 ,  0.33998949,  0.45435879,  0.49270995])"
            ]
          },
          "metadata": {
            "tags": []
          },
          "execution_count": 55
        }
      ]
    },
    {
      "cell_type": "code",
      "metadata": {
        "id": "fCPo90gV_EGH",
        "colab_type": "code",
        "colab": {
          "base_uri": "https://localhost:8080/",
          "height": 265
        },
        "outputId": "7e62a0a5-0db2-4f96-cf1d-d18ac9a9c21b"
      },
      "source": [
        "import matplotlib.pyplot as plt\n",
        "plt.plot(f)\n",
        "plt.ylabel('some numbers')\n",
        "plt.show()"
      ],
      "execution_count": 56,
      "outputs": [
        {
          "output_type": "display_data",
          "data": {
            "image/png": "[encoded data removed]",
            "text/plain": [
              "<Figure size 432x288 with 1 Axes>"
            ]
          },
          "metadata": {
            "tags": [],
            "needs_background": "light"
          }
        }
      ]
    },
    {
      "cell_type": "markdown",
      "metadata": {
        "id": "nbLe4qZJAUhB",
        "colab_type": "text"
      },
      "source": [
        "##### sample data"
      ]
    },
    {
      "cell_type": "code",
      "metadata": {
        "id": "qGY8T9UK4QKI",
        "colab_type": "code",
        "colab": {
          "base_uri": "https://localhost:8080/",
          "height": 106
        },
        "outputId": "284fb272-d166-45a2-edf7-53c6426a2ac4"
      },
      "source": [
        "# q question ids\n",
        "raw_inputs = np.array([\n",
        "    [1, 3, 4],\n",
        "   [3, 4, 2, 1, 2],\n",
        "   [3, 1, 1, 4, 5, 2],\n",
        "])\n",
        "# a answer or attempts on the questions\n",
        "raw_labels =  np.array([\n",
        "    [1, 1, 1],\n",
        "   [0, 0, 0, 1, 1],\n",
        "   [0, 1, 1, 1, 0, 1],\n",
        "])\n",
        "\n",
        "print(F\"raw_inputs \\n{raw_inputs}\")\n",
        "print(F\"raw_labels \\n{raw_labels}\")\n",
        "print()"
      ],
      "execution_count": 164,
      "outputs": [
        {
          "output_type": "stream",
          "text": [
            "raw_inputs \n",
            "[list([1, 3, 4]) list([3, 4, 2, 1, 2]) list([3, 1, 1, 4, 5, 2])]\n",
            "raw_labels \n",
            "[list([1, 1, 1]) list([0, 0, 0, 1, 1]) list([0, 1, 1, 1, 0, 1])]\n",
            "\n"
          ],
          "name": "stdout"
        }
      ]
    },
    {
      "cell_type": "markdown",
      "metadata": {
        "id": "urnBTF6T_KqE",
        "colab_type": "text"
      },
      "source": [
        "##### Assistment 2012 dataset"
      ]
    },
    {
      "cell_type": "code",
      "metadata": {
        "id": "eVEn09WNQxrs",
        "colab_type": "code",
        "colab": {}
      },
      "source": [
        "import os\n",
        "df = pd.read_csv(\"/content/drive/My Drive/master thesis/Datasets/assistment_dataset/preprocessed_assistment-2012.csv\",  sep=\"\\t\")"
      ],
      "execution_count": 20,
      "outputs": []
    },
    {
      "cell_type": "code",
      "metadata": {
        "id": "l_-f8TuURIav",
        "colab_type": "code",
        "colab": {}
      },
      "source": [
        "import random\n",
        "from random import shuffle\n",
        "from sklearn.metrics import roc_auc_score, accuracy_score\n",
        "\n",
        "import torch\n",
        "from torch.nn.utils.rnn import pad_sequence\n",
        "\n",
        "def get_data(df, train_split=0.8):\n",
        "    num_items = df[\"item_id\"].nunique()\n",
        "    data = [(torch.tensor(u_df[\"item_id\"].values, dtype=torch.long),\n",
        "             torch.tensor(u_df[\"correct\"].values, dtype=torch.long))\n",
        "            for _, u_df in df.groupby(\"user_id\")]\n",
        "    data = [(torch.cat((torch.zeros(1, dtype=torch.long), item_ids + labels * num_items + 1))[:-1], item_ids, labels)\n",
        "            for (item_ids, labels) in data]\n",
        "    shuffle(data)\n",
        "\n",
        "    # Train-test split across users\n",
        "    train_size = int(train_split * len(data))\n",
        "    train_data, val_data = data[:train_size], data[train_size:]\n",
        "    return train_data, val_data"
      ],
      "execution_count": 270,
      "outputs": []
    },
    {
      "cell_type": "code",
      "metadata": {
        "id": "amOFKjRbRkl8",
        "colab_type": "code",
        "colab": {}
      },
      "source": [
        "def prepare_batches(data, batch_size):\n",
        "    \"\"\"Prepare batches grouping padded sequences.\n",
        "    \n",
        "    Arguments:\n",
        "        data (list of tuples of torch Tensor)\n",
        "        batch_size (int): number of sequences per batch\n",
        "        \n",
        "    Output:\n",
        "        batches (list of tuples of torch Tensor)\n",
        "    \"\"\"\n",
        "    shuffle(data)\n",
        "    batches = []\n",
        "\n",
        "    for k in range(0, len(data), batch_size):\n",
        "        batch = data[k:k + batch_size]\n",
        "        inputs, item_ids, labels = zip(*batch)\n",
        "\n",
        "        inputs = pad_sequence(inputs, batch_first=True, padding_value=0)     # Pad with 0\n",
        "        item_ids = pad_sequence(item_ids, batch_first=True, padding_value=0) # Don't care\n",
        "        labels = pad_sequence(labels, batch_first=True, padding_value=-1)    # Pad with -1\n",
        "\n",
        "        batches.append([inputs, item_ids, labels])\n",
        "        \n",
        "    return batches"
      ],
      "execution_count": 272,
      "outputs": []
    },
    {
      "cell_type": "code",
      "metadata": {
        "id": "-zmJ9wjcRQ3z",
        "colab_type": "code",
        "colab": {}
      },
      "source": [
        " train_data, val_data = get_data(df)"
      ],
      "execution_count": 271,
      "outputs": []
    },
    {
      "cell_type": "code",
      "metadata": {
        "id": "-SnCeA-ADKcA",
        "colab_type": "code",
        "colab": {
          "base_uri": "https://localhost:8080/",
          "height": 106
        },
        "outputId": "5e36ee25-d10e-452a-e835-f7245aebd034"
      },
      "source": [
        "df.nunique()"
      ],
      "execution_count": 68,
      "outputs": [
        {
          "output_type": "execute_result",
          "data": {
            "text/plain": [
              "user_id        24750\n",
              "item_id        52976\n",
              "timestamp    2348519\n",
              "correct            2\n",
              "dtype: int64"
            ]
          },
          "metadata": {
            "tags": []
          },
          "execution_count": 68
        }
      ]
    },
    {
      "cell_type": "code",
      "metadata": {
        "id": "_zwqBcLqQ8eP",
        "colab_type": "code",
        "colab": {}
      },
      "source": [
        "u_df = df.groupby('user_id')"
      ],
      "execution_count": 14,
      "outputs": []
    },
    {
      "cell_type": "code",
      "metadata": {
        "id": "jpnAcz-WGhqU",
        "colab_type": "code",
        "colab": {
          "base_uri": "https://localhost:8080/",
          "height": 35
        },
        "outputId": "8758dd5a-1791-46db-d341-573bf6198327"
      },
      "source": [
        "u_df"
      ],
      "execution_count": 26,
      "outputs": [
        {
          "output_type": "execute_result",
          "data": {
            "text/plain": [
              "<pandas.core.groupby.generic.DataFrameGroupBy object at 0x7f89986d5518>"
            ]
          },
          "metadata": {
            "tags": []
          },
          "execution_count": 26
        }
      ]
    },
    {
      "cell_type": "code",
      "metadata": {
        "id": "mef66Zu6CP9N",
        "colab_type": "code",
        "colab": {
          "base_uri": "https://localhost:8080/",
          "height": 35
        },
        "outputId": "81e031cd-ff33-40b1-98d6-5526d1b58f55"
      },
      "source": [
        "u_df.count()['timestamp'].median()\n"
      ],
      "execution_count": 20,
      "outputs": [
        {
          "output_type": "execute_result",
          "data": {
            "text/plain": [
              "50.0"
            ]
          },
          "metadata": {
            "tags": []
          },
          "execution_count": 20
        }
      ]
    },
    {
      "cell_type": "code",
      "metadata": {
        "id": "tVJtJXFnRv_J",
        "colab_type": "code",
        "colab": {}
      },
      "source": [
        "train_batches = prepare_batches(train_data, 100)"
      ],
      "execution_count": 273,
      "outputs": []
    },
    {
      "cell_type": "code",
      "metadata": {
        "id": "5JeHVJR8R-Og",
        "colab_type": "code",
        "colab": {}
      },
      "source": [
        ""
      ],
      "execution_count": null,
      "outputs": []
    },
    {
      "cell_type": "code",
      "metadata": {
        "id": "ISf7zmpKR7Yk",
        "colab_type": "code",
        "colab": {}
      },
      "source": [
        "for inputs, item_ids, labels in train_batches:\n",
        "            batch_size, length = inputs.shape\n",
        "            "
      ],
      "execution_count": 274,
      "outputs": []
    },
    {
      "cell_type": "markdown",
      "metadata": {
        "id": "mpjDKQGEDxQH",
        "colab_type": "text"
      },
      "source": [
        "##### test preprocess in tf.data"
      ]
    },
    {
      "cell_type": "code",
      "metadata": {
        "id": "NUnCekoTR7qa",
        "colab_type": "code",
        "colab": {}
      },
      "source": [
        "seq = df.groupby('user_id').apply(\n",
        "    lambda r: (\n",
        "        r['item_id'].values[1:],\n",
        "        r['correct'].values[1:],\n",
        "    )\n",
        ")"
      ],
      "execution_count": 10,
      "outputs": []
    },
    {
      "cell_type": "code",
      "metadata": {
        "id": "kgExvTVWSEQI",
        "colab_type": "code",
        "colab": {}
      },
      "source": [
        "dataset = tf.data.Dataset.from_generator(\n",
        "        generator=lambda: seq,\n",
        "        output_types=(tf.int32, tf.int32)\n",
        "    )"
      ],
      "execution_count": 96,
      "outputs": []
    },
    {
      "cell_type": "code",
      "metadata": {
        "id": "D2p21WTDSRIE",
        "colab_type": "code",
        "colab": {}
      },
      "source": [
        "num_students = len(seq)"
      ],
      "execution_count": 12,
      "outputs": []
    },
    {
      "cell_type": "code",
      "metadata": {
        "id": "H0-byxoFSXlp",
        "colab_type": "code",
        "colab": {
          "base_uri": "https://localhost:8080/",
          "height": 35
        },
        "outputId": "4d22164e-ace2-4b3a-ef0d-ec8c898702ff"
      },
      "source": [
        "num_students"
      ],
      "execution_count": 13,
      "outputs": [
        {
          "output_type": "execute_result",
          "data": {
            "text/plain": [
              "24750"
            ]
          },
          "metadata": {
            "tags": []
          },
          "execution_count": 13
        }
      ]
    },
    {
      "cell_type": "code",
      "metadata": {
        "id": "Lp5Z25zoSZZt",
        "colab_type": "code",
        "colab": {}
      },
      "source": [
        "dataset = dataset.shuffle(buffer_size=num_students)"
      ],
      "execution_count": 56,
      "outputs": []
    },
    {
      "cell_type": "code",
      "metadata": {
        "id": "STKuNaLPS4Fv",
        "colab_type": "code",
        "colab": {}
      },
      "source": [
        "sample = list(dataset.take(3).as_numpy_iterator())"
      ],
      "execution_count": 98,
      "outputs": []
    },
    {
      "cell_type": "code",
      "metadata": {
        "id": "iXfVr1QR5c8P",
        "colab_type": "code",
        "colab": {
          "base_uri": "https://localhost:8080/",
          "height": 53
        },
        "outputId": "46320d2b-6bde-4adc-b16b-2cdb9a5fc92b"
      },
      "source": [
        "dataset.element_spec"
      ],
      "execution_count": 65,
      "outputs": [
        {
          "output_type": "execute_result",
          "data": {
            "text/plain": [
              "(TensorSpec(shape=<unknown>, dtype=tf.int32, name=None),\n",
              " TensorSpec(shape=<unknown>, dtype=tf.int32, name=None))"
            ]
          },
          "metadata": {
            "tags": []
          },
          "execution_count": 65
        }
      ]
    },
    {
      "cell_type": "code",
      "metadata": {
        "id": "frU_nhCr5SEZ",
        "colab_type": "code",
        "colab": {
          "base_uri": "https://localhost:8080/",
          "height": 231
        },
        "outputId": "d80aa782-7bde-4e44-ada8-4f847d7ccc37"
      },
      "source": [
        "for i in range(len(sample)):\n",
        "  for k in range(len(sample[i])):\n",
        "    print(sample[i][k])\n",
        "    print(len(sample[i][k]))"
      ],
      "execution_count": 104,
      "outputs": [
        {
          "output_type": "stream",
          "text": [
            "[13039 13010 13004 50768 50744 50736]\n",
            "6\n",
            "[1 1 1 1 1 1]\n",
            "6\n",
            "[24761 24763 19869 32927 30538 29534 29568]\n",
            "7\n",
            "[1 1 1 1 1 1 1]\n",
            "7\n",
            "[5491 5478 5527 5503 5484 5502 5520 1765 2814 1767]\n",
            "10\n",
            "[0 1 1 0 1 1 1 1 1 1]\n",
            "10\n"
          ],
          "name": "stdout"
        }
      ]
    },
    {
      "cell_type": "markdown",
      "metadata": {
        "id": "UjkgGxiF0i3X",
        "colab_type": "text"
      },
      "source": [
        "##### testing tf.data preprocessing"
      ]
    },
    {
      "cell_type": "code",
      "metadata": {
        "id": "edgyfPoF5HQI",
        "colab_type": "code",
        "colab": {
          "base_uri": "https://localhost:8080/",
          "height": 53
        },
        "outputId": "04a00d23-ec97-482e-f332-535c6980d8c1"
      },
      "source": [
        "dataset.element_spec"
      ],
      "execution_count": 100,
      "outputs": [
        {
          "output_type": "execute_result",
          "data": {
            "text/plain": [
              "(TensorSpec(shape=<unknown>, dtype=tf.int32, name=None),\n",
              " TensorSpec(shape=<unknown>, dtype=tf.int32, name=None))"
            ]
          },
          "metadata": {
            "tags": []
          },
          "execution_count": 100
        }
      ]
    },
    {
      "cell_type": "code",
      "metadata": {
        "id": "MCmxPLik18VL",
        "colab_type": "code",
        "colab": {}
      },
      "source": [
        "batch_size = 100\n",
        "q_mask_value = 0\n",
        "a_mask_value = 1"
      ],
      "execution_count": 22,
      "outputs": []
    },
    {
      "cell_type": "code",
      "metadata": {
        "id": "k-a69_Xb0hFL",
        "colab_type": "code",
        "colab": {}
      },
      "source": [
        "padded_dataset = dataset.padded_batch(\n",
        "        batch_size=100,\n",
        "        padding_values=(q_mask_value, a_mask_value),\n",
        "        padded_shapes=([None], [None]),\n",
        "        drop_remainder=True\n",
        "    )"
      ],
      "execution_count": 120,
      "outputs": []
    },
    {
      "cell_type": "code",
      "metadata": {
        "id": "T4PbY1fW2iIE",
        "colab_type": "code",
        "colab": {
          "base_uri": "https://localhost:8080/",
          "height": 53
        },
        "outputId": "dcf8e108-89e2-4c52-ef92-639d015c832e"
      },
      "source": [
        "padded_sample = list(padded_dataset.take(3).as_numpy_iterator())\n",
        "print(padded_sample[0][0][2])\n",
        "print(padded_sample[0][1][2])"
      ],
      "execution_count": 151,
      "outputs": [
        {
          "output_type": "stream",
          "text": [
            "[5491 5478 5527 ...    0    0    0]\n",
            "[0 1 1 ... 1 1 1]\n"
          ],
          "name": "stdout"
        }
      ]
    },
    {
      "cell_type": "code",
      "metadata": {
        "id": "qscAcrYp3Xv5",
        "colab_type": "code",
        "colab": {
          "base_uri": "https://localhost:8080/",
          "height": 124
        },
        "outputId": "930d01d3-a17a-4513-b1e7-6720607c616d"
      },
      "source": [
        "for i in range(len(padded_sample)):\n",
        "  for k in range(len(padded_sample[i])):\n",
        "    #print(sample[i][k])\n",
        "    print(len(padded_sample[i][k]), len(padded_sample[i][k][0]))"
      ],
      "execution_count": 119,
      "outputs": [
        {
          "output_type": "stream",
          "text": [
            "100 1028\n",
            "100 1028\n",
            "100 1514\n",
            "100 1514\n",
            "100 1209\n",
            "100 1209\n"
          ],
          "name": "stdout"
        }
      ]
    },
    {
      "cell_type": "code",
      "metadata": {
        "id": "wTzlWAB1CTX3",
        "colab_type": "code",
        "colab": {}
      },
      "source": [
        "num_skills = 7\n"
      ],
      "execution_count": 193,
      "outputs": []
    },
    {
      "cell_type": "code",
      "metadata": {
        "id": "J2UIjhCf-LpJ",
        "colab_type": "code",
        "colab": {}
      },
      "source": [
        "signaled_dataset = padded_dataset.map(\n",
        "        lambda padded_inputs, padded_labels: (\n",
        "             num_skills * ( 1 - padded_labels) + padded_inputs,\n",
        "             tf.one_hot(padded_inputs, depth=num_skills*2, axis=-1)\n",
        "        )\n",
        "    )\n",
        "\n",
        "delta_q_dataset = padded_dataset.map(\n",
        "        lambda padded_inputs, padded_labels: (\n",
        "             tf.one_hot(padded_inputs, depth=num_skills, axis=-1)\n",
        "        )\n",
        "    )\n",
        "            "
      ],
      "execution_count": 226,
      "outputs": []
    },
    {
      "cell_type": "code",
      "metadata": {
        "id": "xLVit7JR9zJR",
        "colab_type": "code",
        "colab": {
          "base_uri": "https://localhost:8080/",
          "height": 106
        },
        "outputId": "405439bd-bc73-4948-eacc-6225bb4a50c9"
      },
      "source": [
        "# raw_x_t = M*(1 - a_t) + q_t \n",
        "signaled_input = num_skills * ( 1 - padded_labels) + padded_inputs\n",
        "print(F\"signaled_input:\\n{signaled_input}\")\n",
        "print()\n"
      ],
      "execution_count": 198,
      "outputs": [
        {
          "output_type": "stream",
          "text": [
            "signaled_input:\n",
            "[[ 0  2  3 -1 -1 -1]\n",
            " [ 9 10  8  0  1 -1]\n",
            " [ 9  0  0  3 11  1]]\n",
            "\n"
          ],
          "name": "stdout"
        }
      ]
    },
    {
      "cell_type": "code",
      "metadata": {
        "id": "gp3KBwoD-zIP",
        "colab_type": "code",
        "colab": {
          "base_uri": "https://localhost:8080/",
          "height": 53
        },
        "outputId": "1354b883-fb20-4b41-f7b5-e4deac67e778"
      },
      "source": [
        "signaled_sample = list(signaled_dataset.take(3).as_numpy_iterator())\n",
        "print(len(signaled_sample[0][2][0][0]))"
      ],
      "execution_count": 212,
      "outputs": [
        {
          "output_type": "stream",
          "text": [
            "7\n",
            "100 14\n"
          ],
          "name": "stdout"
        }
      ]
    },
    {
      "cell_type": "code",
      "metadata": {
        "id": "sUowd8EvF4zF",
        "colab_type": "code",
        "colab": {}
      },
      "source": [
        "signaled_sample[0][0]"
      ],
      "execution_count": null,
      "outputs": []
    },
    {
      "cell_type": "code",
      "metadata": {
        "id": "Xv8aARxR_mtb",
        "colab_type": "code",
        "colab": {}
      },
      "source": [
        "for i in range(len(signaled_sample)):\n",
        "  for k in range(len(padded_sample[i])):\n",
        "      print(signaled_sample[i][k])\n",
        "      print(len(signaled_sample[i][k]), len(signaled_sample[i][k]))"
      ],
      "execution_count": null,
      "outputs": []
    },
    {
      "cell_type": "code",
      "metadata": {
        "id": "lCmNeS1YKPTQ",
        "colab_type": "code",
        "colab": {
          "base_uri": "https://localhost:8080/",
          "height": 171
        },
        "outputId": "b6be32cf-ee68-424e-a9b7-7c526e6a2b02"
      },
      "source": [
        "q, x, delta_q = signaled_dataset"
      ],
      "execution_count": 225,
      "outputs": [
        {
          "output_type": "error",
          "ename": "ValueError",
          "evalue": "ignored",
          "traceback": [
            "\u001b[0;31m---------------------------------------------------------------------------\u001b[0m",
            "\u001b[0;31mValueError\u001b[0m                                Traceback (most recent call last)",
            "\u001b[0;32m<ipython-input-225-9e0029aaf570>\u001b[0m in \u001b[0;36m<module>\u001b[0;34m()\u001b[0m\n\u001b[0;32m----> 1\u001b[0;31m \u001b[0mx\u001b[0m\u001b[0;34m,\u001b[0m \u001b[0mdelta_q\u001b[0m \u001b[0;34m=\u001b[0m \u001b[0msignaled_dataset\u001b[0m\u001b[0;34m\u001b[0m\u001b[0;34m\u001b[0m\u001b[0m\n\u001b[0m",
            "\u001b[0;31mValueError\u001b[0m: too many values to unpack (expected 2)"
          ]
        }
      ]
    },
    {
      "cell_type": "markdown",
      "metadata": {
        "id": "mwmf7Qg3AXYK",
        "colab_type": "text"
      },
      "source": [
        "##### data preprocessing"
      ]
    },
    {
      "cell_type": "code",
      "metadata": {
        "id": "m_UUYe9WyMll",
        "colab_type": "code",
        "colab": {
          "base_uri": "https://localhost:8080/",
          "height": 571
        },
        "outputId": "86a64e08-72a3-4f3d-ff46-6dd058d618c9"
      },
      "source": [
        "# padded_q\n",
        "# padding is -1 and adjust indeces of tensors\n",
        "padded_inputs = tf.keras.preprocessing.sequence.pad_sequences(\n",
        "    raw_inputs, maxlen=max_sequence_length, padding=\"post\", value=0\n",
        ")\n",
        "# Warning: supposing the question ids 1> , \n",
        "padded_inputs = padded_inputs - 1\n",
        "print(F\"padded_inputs :\\n{padded_inputs}\")\n",
        "\n",
        "# padded_a\n",
        "# padding is 1 to set the padding of x_t to -1\n",
        "padded_labels= tf.keras.preprocessing.sequence.pad_sequences(\n",
        "    raw_labels, maxlen=max_sequence_length, padding=\"post\", value=1\n",
        ")\n",
        "print(F\"padded_labels:\\n {padded_labels}\") # q_t\n",
        "print()\n",
        "\n",
        "\"\"\"\n",
        "M to 2M vector\n",
        "binary => correct columns + incorrect columns \n",
        "\"\"\"\n",
        "# raw_x_t = M*(1 - a_t) + q_t \n",
        "signaled_input = num_skills * ( 1 - padded_labels) + padded_inputs\n",
        "print(F\"signaled_input:\\n{signaled_input}\")\n",
        "print()\n",
        "\n",
        "# x_t\n",
        "one_hot_input = tf.one_hot(padded_inputs, depth=num_skills*2, axis=-1)\n",
        "print(F\"x_t sample:\\n{one_hot_input.numpy()[0]}\")\n",
        "print(one_hot_input.numpy().shape)\n",
        "print()\n",
        "\n",
        "# delta(q_t)\n",
        "one_hot_q_t = tf.one_hot(padded_inputs, depth=num_skills, axis=-1)\n",
        "print(F\"delta(q_t) sample:\\n{one_hot_q_t.numpy()[0]}\")\n",
        "one_hot_q_t.numpy().shape"
      ],
      "execution_count": 167,
      "outputs": [
        {
          "output_type": "stream",
          "text": [
            "padded_inputs :\n",
            "[[ 0  2  3 -1 -1 -1]\n",
            " [ 2  3  1  0  1 -1]\n",
            " [ 2  0  0  3  4  1]]\n",
            "padded_labels:\n",
            " [[1 1 1 1 1 1]\n",
            " [0 0 0 1 1 1]\n",
            " [0 1 1 1 0 1]]\n",
            "\n",
            "signaled_input:\n",
            "[[ 0  2  3 -1 -1 -1]\n",
            " [ 7  8  6  0  1 -1]\n",
            " [ 7  0  0  3  9  1]]\n",
            "\n",
            "x_t sample:\n",
            "[[1. 0. 0. 0. 0. 0. 0. 0. 0. 0.]\n",
            " [0. 0. 1. 0. 0. 0. 0. 0. 0. 0.]\n",
            " [0. 0. 0. 1. 0. 0. 0. 0. 0. 0.]\n",
            " [0. 0. 0. 0. 0. 0. 0. 0. 0. 0.]\n",
            " [0. 0. 0. 0. 0. 0. 0. 0. 0. 0.]\n",
            " [0. 0. 0. 0. 0. 0. 0. 0. 0. 0.]]\n",
            "(3, 6, 10)\n",
            "\n",
            "delta(q_t) sample:\n",
            "[[1. 0. 0. 0. 0.]\n",
            " [0. 0. 1. 0. 0.]\n",
            " [0. 0. 0. 1. 0.]\n",
            " [0. 0. 0. 0. 0.]\n",
            " [0. 0. 0. 0. 0.]\n",
            " [0. 0. 0. 0. 0.]]\n"
          ],
          "name": "stdout"
        },
        {
          "output_type": "execute_result",
          "data": {
            "text/plain": [
              "(3, 6, 5)"
            ]
          },
          "metadata": {
            "tags": []
          },
          "execution_count": 167
        }
      ]
    },
    {
      "cell_type": "markdown",
      "metadata": {
        "id": "blWU79alKjjQ",
        "colab_type": "text"
      },
      "source": [
        "##### build model"
      ]
    },
    {
      "cell_type": "code",
      "metadata": {
        "id": "noIRVpKZjRbx",
        "colab_type": "code",
        "colab": {}
      },
      "source": [
        "# FIXME:  evaluate cause an error below\n",
        "# step=1 does not work\n",
        "\"\"\"\n",
        "WARNING:tensorflow:8 out of the last 15 calls to <function Model.make_test_function.<locals>.test_function at 0x7f55ca8a7a60>\n",
        " triggered tf.function retracing. \n",
        " Tracing is expensive and the excessive number of tracings could be due to \n",
        " (1) creating @tf.function repeatedly in a loop,\n",
        " (2) passing tensors with different shapes,\n",
        "  (3) passing Python objects instead of tensors. \n",
        "  For (1), please define your @tf.function outside of the loop.\n",
        "   For (2), @tf.function has experimental_relax_shapes=True option that relaxes argument shapes that can avoid unnecessary retracing. \n",
        "   For (3), please refer to https://www.tensorflow.org/tutorials/customization/performance#python_or_tensor_args \n",
        "   and https://www.tensorflow.org/api_docs/python/tf/function for  more details.\n",
        "\"\"\"\n",
        "class DKT(tf.keras.Model):\n",
        "  def __init__(self):\n",
        "    super().__init__()\n",
        "    self.x = tf.keras.Input(shape=(None, max_sequence_length, num_skills*2), name='inputs')\n",
        "    self.q = tf.keras.Input(shape=(None, max_sequence_length, num_skills), name='labels')\n",
        "\n",
        "    self.emb =  layers.Dense(embed_dim, trainable=False, \n",
        "                                                        kernel_initializer=tf.keras.initializers.RandomNormal(seed=777),\n",
        "                                                        input_shape=(None, max_sequence_length, num_skills*2))\n",
        "    self.mask = layers.Masking(mask_value=0)\n",
        "    self.lstm =  layers.LSTM(hidden_units, return_sequences=True)\n",
        "    self.out_dropout =  layers.TimeDistributed(layers.Dropout(dropout_rate))\n",
        "    self.out_sigmoid =  layers.TimeDistributed(layers.Dense(num_skills,  activation='sigmoid'))\n",
        "\n",
        "    # HACK: the shape of q does not fit to Timedistributed operation(may be faster?)\n",
        "    self.dot =  layers.Multiply()\n",
        "    # self.dot =  layers.TimeDistributed(layers.Multiply())\n",
        "\n",
        "    #self.reduce_sum = tf.reduce_sum\n",
        "    #self.transpose = tf.transpose\n",
        "\n",
        "    self.reduce_sum =  layers.Dense(1, trainable=False, \n",
        "                                                        kernel_initializer=tf.keras.initializers.constant(value=1),\n",
        "                                                        input_shape=(None, max_sequence_length,num_skills))\n",
        "    # reshape layer does not work as graph \n",
        "    # self.reshape_l = layers.Reshape((-1,3),dynamic=False)#, \n",
        "    #                                                      # input_shape=(None,max_sequence_length,num_skills,))\n",
        "    self.final_mask =   layers.TimeDistributed(\n",
        "      layers.Masking(mask_value=0, input_shape=(None, max_sequence_length,1))\n",
        "    )\n",
        "\n",
        "\n",
        "  def call(self, inputs):\n",
        "    # x, q = inputs[0], inputs[1]\n",
        "    #self.x, self.q = inputs[0], inputs[1]\n",
        "\n",
        "    # n = self.emb(x)\n",
        "    n = self.emb(self.x)\n",
        "    masked_n = self.mask(n)\n",
        "    h = self.lstm(masked_n) \n",
        "    o = self.out_dropout(h)\n",
        "    y_pred = self.out_sigmoid(o)\n",
        "    # y_pred = self.dot([y_pred, q])\n",
        "    y_pred = self.dot([y_pred, self.q])\n",
        "    # y_pred = self.reduce_sum(y_pred, axis=2)\n",
        "    y_pred = self.reduce_sum(y_pred)\n",
        "    #y_pred = self.reshape_l(y_pred)\n",
        "    #y_pred = self.transpose()\n",
        "    y_pred = self.final_mask(y_pred)\n",
        "    #y_pred._keras_mask=masked_n._keras_mask\n",
        "    return y_pred\n",
        "\n",
        "# Create an instance of the model\n",
        "model = DKT()\n",
        "\n",
        "# Configuration of model\n",
        "# Set \"SUM\" to loss reduction in order to use distributed training\n",
        "model.compile(loss=tf.keras.losses.BinaryCrossentropy(reduction=tf.keras.losses.Reduction.SUM),\n",
        "                optimizer=tf.optimizers.SGD(learning_rate=learning_rate),\n",
        "                metrics=[tf.keras.metrics.AUC()])\n",
        "                # metrics=[tf.keras.metrics.AUC(),tf.keras.metrics.BinaryCrossentropy()]) # keep for debug loss"
      ],
      "execution_count": 249,
      "outputs": []
    },
    {
      "cell_type": "code",
      "metadata": {
        "id": "Ahr37F7zPeJo",
        "colab_type": "code",
        "colab": {
          "base_uri": "https://localhost:8080/",
          "height": 189
        },
        "outputId": "8808f16b-f75f-4f02-c08e-1e90728e017c"
      },
      "source": [
        "one_data = signaled_dataset.take(1)\n",
        "one_data[0]"
      ],
      "execution_count": 241,
      "outputs": [
        {
          "output_type": "error",
          "ename": "TypeError",
          "evalue": "ignored",
          "traceback": [
            "\u001b[0;31m---------------------------------------------------------------------------\u001b[0m",
            "\u001b[0;31mTypeError\u001b[0m                                 Traceback (most recent call last)",
            "\u001b[0;32m<ipython-input-241-67a6bf2997c7>\u001b[0m in \u001b[0;36m<module>\u001b[0;34m()\u001b[0m\n\u001b[1;32m      1\u001b[0m \u001b[0mone_data\u001b[0m \u001b[0;34m=\u001b[0m \u001b[0msignaled_dataset\u001b[0m\u001b[0;34m.\u001b[0m\u001b[0mtake\u001b[0m\u001b[0;34m(\u001b[0m\u001b[0;36m1\u001b[0m\u001b[0;34m)\u001b[0m\u001b[0;34m\u001b[0m\u001b[0;34m\u001b[0m\u001b[0m\n\u001b[0;32m----> 2\u001b[0;31m \u001b[0mone_data\u001b[0m\u001b[0;34m[\u001b[0m\u001b[0;36m0\u001b[0m\u001b[0;34m]\u001b[0m\u001b[0;34m\u001b[0m\u001b[0;34m\u001b[0m\u001b[0m\n\u001b[0m",
            "\u001b[0;31mTypeError\u001b[0m: 'TakeDataset' object does not support indexing"
          ]
        }
      ]
    },
    {
      "cell_type": "code",
      "metadata": {
        "id": "-aGINSkkJD6i",
        "colab_type": "code",
        "colab": {
          "base_uri": "https://localhost:8080/",
          "height": 350
        },
        "outputId": "46f9770a-55d2-4e72-cb8d-b4b374f9a472"
      },
      "source": [
        "# initialize and check model structure\n",
        "# predictions = model([one_hot_input, one_hot_q_t])\n",
        "predictions = model(signaled_dataset.take(1))\n",
        "model.summary()"
      ],
      "execution_count": 250,
      "outputs": [
        {
          "output_type": "error",
          "ename": "TypeError",
          "evalue": "ignored",
          "traceback": [
            "\u001b[0;31m---------------------------------------------------------------------------\u001b[0m",
            "\u001b[0;31mTypeError\u001b[0m                                 Traceback (most recent call last)",
            "\u001b[0;32m<ipython-input-250-80e08c735e6d>\u001b[0m in \u001b[0;36m<module>\u001b[0;34m()\u001b[0m\n\u001b[1;32m      1\u001b[0m \u001b[0;31m# initialize and check model structure\u001b[0m\u001b[0;34m\u001b[0m\u001b[0;34m\u001b[0m\u001b[0;34m\u001b[0m\u001b[0m\n\u001b[1;32m      2\u001b[0m \u001b[0;31m# predictions = model([one_hot_input, one_hot_q_t])\u001b[0m\u001b[0;34m\u001b[0m\u001b[0;34m\u001b[0m\u001b[0;34m\u001b[0m\u001b[0m\n\u001b[0;32m----> 3\u001b[0;31m \u001b[0mpredictions\u001b[0m \u001b[0;34m=\u001b[0m \u001b[0mmodel\u001b[0m\u001b[0;34m(\u001b[0m\u001b[0msignaled_dataset\u001b[0m\u001b[0;34m.\u001b[0m\u001b[0mtake\u001b[0m\u001b[0;34m(\u001b[0m\u001b[0;36m1\u001b[0m\u001b[0;34m)\u001b[0m\u001b[0;34m)\u001b[0m\u001b[0;34m\u001b[0m\u001b[0;34m\u001b[0m\u001b[0m\n\u001b[0m\u001b[1;32m      4\u001b[0m \u001b[0mmodel\u001b[0m\u001b[0;34m.\u001b[0m\u001b[0msummary\u001b[0m\u001b[0;34m(\u001b[0m\u001b[0;34m)\u001b[0m\u001b[0;34m\u001b[0m\u001b[0;34m\u001b[0m\u001b[0m\n",
            "\u001b[0;32m/usr/local/lib/python3.6/dist-packages/tensorflow/python/keras/engine/base_layer.py\u001b[0m in \u001b[0;36m__call__\u001b[0;34m(self, *args, **kwargs)\u001b[0m\n\u001b[1;32m    983\u001b[0m \u001b[0;34m\u001b[0m\u001b[0m\n\u001b[1;32m    984\u001b[0m         \u001b[0;32mwith\u001b[0m \u001b[0mops\u001b[0m\u001b[0;34m.\u001b[0m\u001b[0menable_auto_cast_variables\u001b[0m\u001b[0;34m(\u001b[0m\u001b[0mself\u001b[0m\u001b[0;34m.\u001b[0m\u001b[0m_compute_dtype_object\u001b[0m\u001b[0;34m)\u001b[0m\u001b[0;34m:\u001b[0m\u001b[0;34m\u001b[0m\u001b[0;34m\u001b[0m\u001b[0m\n\u001b[0;32m--> 985\u001b[0;31m           \u001b[0moutputs\u001b[0m \u001b[0;34m=\u001b[0m \u001b[0mcall_fn\u001b[0m\u001b[0;34m(\u001b[0m\u001b[0minputs\u001b[0m\u001b[0;34m,\u001b[0m \u001b[0;34m*\u001b[0m\u001b[0margs\u001b[0m\u001b[0;34m,\u001b[0m \u001b[0;34m**\u001b[0m\u001b[0mkwargs\u001b[0m\u001b[0;34m)\u001b[0m\u001b[0;34m\u001b[0m\u001b[0;34m\u001b[0m\u001b[0m\n\u001b[0m\u001b[1;32m    986\u001b[0m \u001b[0;34m\u001b[0m\u001b[0m\n\u001b[1;32m    987\u001b[0m         \u001b[0;32mif\u001b[0m \u001b[0mself\u001b[0m\u001b[0;34m.\u001b[0m\u001b[0m_activity_regularizer\u001b[0m\u001b[0;34m:\u001b[0m\u001b[0;34m\u001b[0m\u001b[0;34m\u001b[0m\u001b[0m\n",
            "\u001b[0;31mTypeError\u001b[0m: call() got an unexpected keyword argument 'training'"
          ]
        }
      ]
    },
    {
      "cell_type": "code",
      "metadata": {
        "id": "DxeT_xv5wJ66",
        "colab_type": "code",
        "colab": {
          "base_uri": "https://localhost:8080/",
          "height": 446
        },
        "outputId": "e1a3c339-f5c7-4188-95d8-1a6607b124cb"
      },
      "source": [
        "# initialize and check model structure\n",
        "# predictions = model([one_hot_input, one_hot_q_t])\n",
        "predictions = model([one_hot_input, one_hot_q_t])\n",
        "model.summary()"
      ],
      "execution_count": 254,
      "outputs": [
        {
          "output_type": "stream",
          "text": [
            "Model: \"dkt_58\"\n",
            "_________________________________________________________________\n",
            "Layer (type)                 Output Shape              Param #   \n",
            "=================================================================\n",
            "dense_154 (Dense)            multiple                  55        \n",
            "_________________________________________________________________\n",
            "masking_115 (Masking)        multiple                  0         \n",
            "_________________________________________________________________\n",
            "lstm_58 (LSTM)               multiple                  2080      \n",
            "_________________________________________________________________\n",
            "time_distributed_158 (TimeDi multiple                  0         \n",
            "_________________________________________________________________\n",
            "time_distributed_159 (TimeDi multiple                  105       \n",
            "_________________________________________________________________\n",
            "multiply_58 (Multiply)       multiple                  0         \n",
            "_________________________________________________________________\n",
            "dense_156 (Dense)            multiple                  6         \n",
            "_________________________________________________________________\n",
            "time_distributed_160 (TimeDi multiple                  0         \n",
            "=================================================================\n",
            "Total params: 2,246\n",
            "Trainable params: 2,185\n",
            "Non-trainable params: 61\n",
            "_________________________________________________________________\n"
          ],
          "name": "stdout"
        }
      ]
    },
    {
      "cell_type": "code",
      "metadata": {
        "id": "UFhrPWLy9DpT",
        "colab_type": "code",
        "colab": {
          "base_uri": "https://localhost:8080/",
          "height": 142
        },
        "outputId": "f0365892-56a2-4b22-dd8f-3ac3cb4bed02"
      },
      "source": [
        "# check the shapes of outputs\n",
        "q = one_hot_q_t\n",
        "n = model.emb(one_hot_input)\n",
        "print(tf.shape(n))\n",
        "masked_n = model.mask(n)\n",
        "print(tf.shape(masked_n))\n",
        "h = model.lstm(masked_n) \n",
        "print(tf.shape(h))\n",
        "o = model.out_dropout(h)\n",
        "y_pred = model.out_sigmoid(o)\n",
        "print(tf.shape(y_pred))\n",
        "y_pred = model.dot([y_pred, q])\n",
        "print(tf.shape(y_pred))\n",
        "y_pred = model.reduce_sum(y_pred)\n",
        "print(tf.shape(y_pred))\n",
        "y_pred = model.mask(y_pred)\n",
        "print(tf.shape(y_pred))\n"
      ],
      "execution_count": 225,
      "outputs": [
        {
          "output_type": "stream",
          "text": [
            "tf.Tensor([3 6 5], shape=(3,), dtype=int32)\n",
            "tf.Tensor([3 6 5], shape=(3,), dtype=int32)\n",
            "tf.Tensor([ 3  6 20], shape=(3,), dtype=int32)\n",
            "tf.Tensor([3 6 5], shape=(3,), dtype=int32)\n",
            "tf.Tensor([3 6 5], shape=(3,), dtype=int32)\n",
            "tf.Tensor([3 6 1], shape=(3,), dtype=int32)\n",
            "tf.Tensor([3 6 1], shape=(3,), dtype=int32)\n"
          ],
          "name": "stdout"
        }
      ]
    },
    {
      "cell_type": "markdown",
      "metadata": {
        "id": "nn87mZVO8-sn",
        "colab_type": "text"
      },
      "source": [
        "##### Check prediction and evaluation"
      ]
    },
    {
      "cell_type": "code",
      "metadata": {
        "id": "K4ha1CJrr6nM",
        "colab_type": "code",
        "colab": {
          "base_uri": "https://localhost:8080/",
          "height": 1000
        },
        "outputId": "81a4cc65-152e-45fa-93c9-8457ae14662b"
      },
      "source": [
        "predictions = model([one_hot_input, one_hot_q_t])\n",
        "\n",
        "# check masking works correctly\n",
        "print(predictions._keras_mask.numpy())\n",
        "print(padded_inputs)\n",
        "print()\n",
        "\n",
        "# check shape of predicted vector\n",
        "print(\"predcitions shape:\")\n",
        "print(predictions.shape) #num_student, T, M(num_skill or num_problem)\n",
        "print(predictions, padded_labels)\n",
        "print()\n",
        "\n",
        "# TODO: avoid reshape before feeding\n",
        "padded_labels = tf.reshape(padded_labels,(len(raw_labels),6,1))\n",
        "#padded_labels = tf.transpose(padded_labels)\n",
        "print(padded_labels.shape)\n",
        "model.evaluate([one_hot_input, one_hot_q_t], padded_labels , verbose =2, steps=1)"
      ],
      "execution_count": 259,
      "outputs": [
        {
          "output_type": "stream",
          "text": [
            "[[ True  True  True False False False]\n",
            " [ True  True  True  True  True False]\n",
            " [ True  True  True  True  True  True]]\n",
            "[[ 0  2  3 -1 -1 -1]\n",
            " [ 2  3  1  0  1 -1]\n",
            " [ 2  0  0  3  4  1]]\n",
            "\n",
            "predcitions shape:\n",
            "(3, 6, 1)\n",
            "tf.Tensor(\n",
            "[[[0.4992387 ]\n",
            "  [0.49862882]\n",
            "  [0.4951501 ]\n",
            "  [0.        ]\n",
            "  [0.        ]\n",
            "  [0.        ]]\n",
            "\n",
            " [[0.5002632 ]\n",
            "  [0.4988188 ]\n",
            "  [0.50203764]\n",
            "  [0.49911317]\n",
            "  [0.50025004]\n",
            "  [0.        ]]\n",
            "\n",
            " [[0.5002632 ]\n",
            "  [0.499103  ]\n",
            "  [0.498454  ]\n",
            "  [0.49394554]\n",
            "  [0.49906072]\n",
            "  [0.49838564]]], shape=(3, 6, 1), dtype=float32) tf.Tensor(\n",
            "[[[1]\n",
            "  [1]\n",
            "  [1]\n",
            "  [1]\n",
            "  [1]\n",
            "  [1]]\n",
            "\n",
            " [[0]\n",
            "  [0]\n",
            "  [0]\n",
            "  [1]\n",
            "  [1]\n",
            "  [1]]\n",
            "\n",
            " [[0]\n",
            "  [1]\n",
            "  [1]\n",
            "  [1]\n",
            "  [0]\n",
            "  [1]]], shape=(3, 6, 1), dtype=int32)\n",
            "\n",
            "(3, 6, 1)\n",
            "WARNING:tensorflow:8 out of the last 11 calls to <function Model.make_test_function.<locals>.test_function at 0x7f55c76d2c80> triggered tf.function retracing. Tracing is expensive and the excessive number of tracings could be due to (1) creating @tf.function repeatedly in a loop, (2) passing tensors with different shapes, (3) passing Python objects instead of tensors. For (1), please define your @tf.function outside of the loop. For (2), @tf.function has experimental_relax_shapes=True option that relaxes argument shapes that can avoid unnecessary retracing. For (3), please refer to https://www.tensorflow.org/tutorials/customization/performance#python_or_tensor_args and https://www.tensorflow.org/api_docs/python/tf/function for  more details.\n",
            "1/1 - 0s - loss: 9.7406 - auc_403: 0.3889\n"
          ],
          "name": "stdout"
        },
        {
          "output_type": "execute_result",
          "data": {
            "text/plain": [
              "[9.740559577941895, 0.3888888955116272]"
            ]
          },
          "metadata": {
            "tags": []
          },
          "execution_count": 259
        }
      ]
    },
    {
      "cell_type": "markdown",
      "metadata": {
        "id": "FxlLaAKzvYzb",
        "colab_type": "text"
      },
      "source": [
        "##### Check the metrics and loss works correctly"
      ]
    },
    {
      "cell_type": "code",
      "metadata": {
        "id": "9Rw_rDUD2WIh",
        "colab_type": "code",
        "colab": {
          "base_uri": "https://localhost:8080/",
          "height": 1000
        },
        "outputId": "286d76dc-aa04-447b-c584-236aad6ff275"
      },
      "source": [
        "m = tf.keras.metrics.AUC()\n",
        "# print(\"sample dataset\")\n",
        "# m.update_state([0, 0, 1, 1], [0, 0.5, 0.3, 0.9])\n",
        "# print(m.result().numpy())\n",
        "\n",
        "print(\"orignal built-in\")\n",
        "# reshaped_labels = tf.reshape(padded_labels, [6,3])\n",
        "# reshaped_predictions = tf.reshape(predictions, [6,3])\n",
        "m.update_state(padded_labels,predictions)\n",
        "print(m.result().numpy())\n",
        "# print(len(padded_labels))\n",
        "\n",
        "print(\"each instance with masking\")\n",
        "m = tf.keras.metrics.AUC()\n",
        "print([1, 1, 1], tf.transpose(predictions[0][0:3]))\n",
        "m.update_state([[1, 1, 1]], tf.transpose(predictions[0][0:3]))\n",
        "print(m.result().numpy())\n",
        "\n",
        "m = tf.keras.metrics.AUC()\n",
        "print(padded_labels[1][0:5],predictions[1][0:5])\n",
        "m.update_state(padded_labels[1][0:5],predictions[1][0:5])\n",
        "print(m.result().numpy())\n",
        "\n",
        "m = tf.keras.metrics.AUC()\n",
        "print(padded_labels[2][0:6],predictions[2][0:6])\n",
        "m.update_state(padded_labels[2][0:6],predictions[2][0:6])\n",
        "print(m.result().numpy())\n",
        "\n",
        "print(\"all with masking\")\n",
        "print()\n",
        "print(\"correct AUC\")\n",
        "m = tf.keras.metrics.AUC()\n",
        "A =  [1, 1, 1, 0, 0, 0, 1, 1,  0, 1, 1, 1, 1]\n",
        "Y_pred =np.concatenate((predictions[0][0:3], predictions[1][0:5], predictions[2][0:4], predictions[2][5:]))\n",
        "print(A,Y_pred, len(A))\n",
        "m.update_state(A,Y_pred)\n",
        "print(m.result().numpy())\n",
        "m = tf.keras.metrics.AUC()\n",
        "A =  [1, 1, 1, 0, 0, 0, 1, 1,  0, 1, 1, 1, 0, 1]\n",
        "Y_pred =np.concatenate((predictions[0][0:3], predictions[1][0:5], predictions[2][0:6]))\n",
        "print(A,Y_pred, len(A))\n",
        "m.update_state(A,Y_pred)\n",
        "print(m.result().numpy())\n",
        "\n",
        "print()\n",
        "print(\"each instance\")\n",
        "m = tf.keras.metrics.AUC()\n",
        "print(padded_labels[0], predictions[0])\n",
        "m.update_state(padded_labels[0], predictions[0])\n",
        "print(m.result().numpy())\n",
        "\n",
        "m = tf.keras.metrics.AUC()\n",
        "print(padded_labels[1], predictions[1])\n",
        "m.update_state(padded_labels[1], predictions[1])\n",
        "print(m.result().numpy())\n",
        "\n",
        "m = tf.keras.metrics.AUC()\n",
        "print(padded_labels[2], predictions[2])\n",
        "m.update_state(padded_labels[2], predictions[2])\n",
        "print(m.result().numpy())\n",
        "\n",
        "\n",
        "# print(\"flatten\")\n",
        "# m = tf.keras.metrics.AUC()\n",
        "# print(padded_labels.numpy().flatten(), predictions.flatten())\n",
        "# m.update_state(padded_labels.numpy().flatten(), predictions.flatten())\n",
        "# print(m.result().numpy())\n",
        "# print(len(padded_labels))"
      ],
      "execution_count": 216,
      "outputs": [
        {
          "output_type": "stream",
          "text": [
            "orignal built-in\n",
            "0.5\n",
            "each instance with masking\n",
            "[1, 1, 1] tf.Tensor([[0.5032666  0.50002694 0.50269085]], shape=(1, 3), dtype=float32)\n",
            "0.0\n",
            "tf.Tensor(\n",
            "[[0]\n",
            " [0]\n",
            " [0]\n",
            " [1]\n",
            " [1]], shape=(5, 1), dtype=int32) tf.Tensor(\n",
            "[[0.50031376]\n",
            " [0.49943796]\n",
            " [0.5015185 ]\n",
            " [0.50185   ]\n",
            " [0.49966067]], shape=(5, 1), dtype=float32)\n",
            "0.5\n",
            "tf.Tensor(\n",
            "[[0]\n",
            " [1]\n",
            " [1]\n",
            " [1]\n",
            " [0]\n",
            " [1]], shape=(6, 1), dtype=int32) tf.Tensor(\n",
            "[[0.50031376]\n",
            " [0.50246495]\n",
            " [0.5053117 ]\n",
            " [0.5027175 ]\n",
            " [0.49925628]\n",
            " [0.4991503 ]], shape=(6, 1), dtype=float32)\n",
            "0.75\n",
            "all with masking\n",
            "\n",
            "correct AUC\n",
            "[1, 1, 1, 0, 0, 0, 1, 1, 0, 1, 1, 1, 1] [[0.5032666 ]\n",
            " [0.50002694]\n",
            " [0.50269085]\n",
            " [0.50031376]\n",
            " [0.49943796]\n",
            " [0.5015185 ]\n",
            " [0.50185   ]\n",
            " [0.49966067]\n",
            " [0.50031376]\n",
            " [0.50246495]\n",
            " [0.5053117 ]\n",
            " [0.5027175 ]\n",
            " [0.4991503 ]] 13\n",
            "0.7222222\n",
            "[1, 1, 1, 0, 0, 0, 1, 1, 0, 1, 1, 1, 0, 1] [[0.5032666 ]\n",
            " [0.50002694]\n",
            " [0.50269085]\n",
            " [0.50031376]\n",
            " [0.49943796]\n",
            " [0.5015185 ]\n",
            " [0.50185   ]\n",
            " [0.49966067]\n",
            " [0.50031376]\n",
            " [0.50246495]\n",
            " [0.5053117 ]\n",
            " [0.5027175 ]\n",
            " [0.49925628]\n",
            " [0.4991503 ]] 14\n",
            "0.7222222\n",
            "\n",
            "each instance\n",
            "tf.Tensor(\n",
            "[[1]\n",
            " [1]\n",
            " [1]\n",
            " [1]\n",
            " [1]\n",
            " [1]], shape=(6, 1), dtype=int32) tf.Tensor(\n",
            "[[0.5032666 ]\n",
            " [0.50002694]\n",
            " [0.50269085]\n",
            " [0.        ]\n",
            " [0.        ]\n",
            " [0.        ]], shape=(6, 1), dtype=float32)\n",
            "0.0\n",
            "tf.Tensor(\n",
            "[[0]\n",
            " [0]\n",
            " [0]\n",
            " [1]\n",
            " [1]\n",
            " [1]], shape=(6, 1), dtype=int32) tf.Tensor(\n",
            "[[0.50031376]\n",
            " [0.49943796]\n",
            " [0.5015185 ]\n",
            " [0.50185   ]\n",
            " [0.49966067]\n",
            " [0.        ]], shape=(6, 1), dtype=float32)\n",
            "0.33333334\n",
            "tf.Tensor(\n",
            "[[0]\n",
            " [1]\n",
            " [1]\n",
            " [1]\n",
            " [0]\n",
            " [1]], shape=(6, 1), dtype=int32) tf.Tensor(\n",
            "[[0.50031376]\n",
            " [0.50246495]\n",
            " [0.5053117 ]\n",
            " [0.5027175 ]\n",
            " [0.49925628]\n",
            " [0.4991503 ]], shape=(6, 1), dtype=float32)\n",
            "0.75\n"
          ],
          "name": "stdout"
        }
      ]
    },
    {
      "cell_type": "code",
      "metadata": {
        "id": "vKuVk96IdLUl",
        "colab_type": "code",
        "colab": {
          "base_uri": "https://localhost:8080/",
          "height": 142
        },
        "outputId": "ad14860b-e029-412d-854d-1875058ada33"
      },
      "source": [
        "# debug for loss function \n",
        "print((np.log(0.4)*3 + np.log(0.6)*1)/4)\n",
        "print(raw_labels, predictions[0][0:3])\n",
        "bce = tf.keras.losses.BinaryCrossentropy()\n",
        "\n",
        "print(bce(padded_labels[0][0:3],predictions[0][0:3]).numpy())\n",
        "print(np.log(0.5)*3)\n",
        "print(\"original built-in\")\n",
        "print(bce(padded_labels, predictions).numpy())\n",
        "total = bce(np.zeros(3), np.ones(3))*3 - np.log(0.5)*3\n",
        "total/6"
      ],
      "execution_count": 32,
      "outputs": [
        {
          "output_type": "stream",
          "text": [
            "-0.814924454847114\n",
            "[list([1, 1, 1]) list([0, 0, 0, 1, 1])] [0.4994991 0.4981302 0.501738 ]\n",
            "0.6935733\n",
            "-2.0794415416798357\n",
            "original built-in\n",
            "5.603969\n"
          ],
          "name": "stdout"
        },
        {
          "output_type": "execute_result",
          "data": {
            "text/plain": [
              "<tf.Tensor: shape=(), dtype=float64, numpy=8.05904793644086>"
            ]
          },
          "metadata": {
            "tags": []
          },
          "execution_count": 32
        }
      ]
    },
    {
      "cell_type": "markdown",
      "metadata": {
        "id": "i23H9qy9MCRR",
        "colab_type": "text"
      },
      "source": [
        "##### check how masking is probagated"
      ]
    },
    {
      "cell_type": "code",
      "metadata": {
        "id": "KJdohG_SWYBI",
        "colab_type": "code",
        "colab": {
          "base_uri": "https://localhost:8080/",
          "height": 446
        },
        "outputId": "05ece5cf-725c-444b-dbf9-d78ef836844a"
      },
      "source": [
        "# check how masking is probagated\n",
        "q = one_hot_q_t\n",
        "n = model.emb(one_hot_input)\n",
        "masked_n = model.mask(n)\n",
        "h = model.lstm(masked_n) \n",
        "print(h._keras_mask)\n",
        "o = model.out_dropout(h)\n",
        "print(o._keras_mask)\n",
        "y_pred = model.out_sigmoid(o)\n",
        "print(y_pred._keras_mask)\n",
        "y_pred = model.dot([y_pred, q])\n",
        "print(y_pred._keras_mask)\n",
        "y_pred = model.reduce_sum(y_pred)\n",
        "print(y_pred._keras_mask)\n",
        "y_pred = model.mask(y_pred)\n",
        "print(y_pred._keras_mask)"
      ],
      "execution_count": 199,
      "outputs": [
        {
          "output_type": "stream",
          "text": [
            "tf.Tensor(\n",
            "[[ True  True  True False False False]\n",
            " [ True  True  True  True  True False]\n",
            " [ True  True  True  True  True  True]], shape=(3, 6), dtype=bool)\n",
            "tf.Tensor(\n",
            "[[ True  True  True False False False]\n",
            " [ True  True  True  True  True False]\n",
            " [ True  True  True  True  True  True]], shape=(3, 6), dtype=bool)\n",
            "tf.Tensor(\n",
            "[[ True  True  True False False False]\n",
            " [ True  True  True  True  True False]\n",
            " [ True  True  True  True  True  True]], shape=(3, 6), dtype=bool)\n",
            "tf.Tensor(\n",
            "[[ True  True  True False False False]\n",
            " [ True  True  True  True  True False]\n",
            " [ True  True  True  True  True  True]], shape=(3, 6), dtype=bool)\n",
            "tf.Tensor(\n",
            "[[ True  True  True False False False]\n",
            " [ True  True  True  True  True False]\n",
            " [ True  True  True  True  True  True]], shape=(3, 6), dtype=bool)\n",
            "tf.Tensor(\n",
            "[[ True  True  True False False False]\n",
            " [ True  True  True  True  True False]\n",
            " [ True  True  True  True  True  True]], shape=(3, 6), dtype=bool)\n"
          ],
          "name": "stdout"
        }
      ]
    },
    {
      "cell_type": "markdown",
      "metadata": {
        "id": "ADazFVziMEzq",
        "colab_type": "text"
      },
      "source": [
        "##### fit"
      ]
    },
    {
      "cell_type": "code",
      "metadata": {
        "id": "S7uEYQUQypdH",
        "colab_type": "code",
        "colab": {
          "base_uri": "https://localhost:8080/",
          "height": 1000
        },
        "outputId": "0aed2931-96b9-44ab-d8c7-628a8523a69f"
      },
      "source": [
        "model.fit([one_hot_input, one_hot_q_t], padded_labels, epochs=50 ,verbose =1)"
      ],
      "execution_count": 152,
      "outputs": [
        {
          "output_type": "stream",
          "text": [
            "Epoch 1/50\n",
            "1/1 [==============================] - 0s 2ms/step - loss: 9.7448 - auc_322: 0.3222 - binary_crossentropy: 0.6961\n",
            "Epoch 2/50\n",
            "1/1 [==============================] - 0s 1ms/step - loss: 8.9885 - auc_322: 0.8778 - binary_crossentropy: 0.6420\n",
            "Epoch 3/50\n",
            "1/1 [==============================] - 0s 1ms/step - loss: 8.4239 - auc_322: 0.9111 - binary_crossentropy: 0.6017\n",
            "Epoch 4/50\n",
            "1/1 [==============================] - 0s 1ms/step - loss: 7.9902 - auc_322: 0.9111 - binary_crossentropy: 0.5707\n",
            "Epoch 5/50\n",
            "1/1 [==============================] - 0s 1ms/step - loss: 7.6489 - auc_322: 0.9111 - binary_crossentropy: 0.5464\n",
            "Epoch 6/50\n",
            "1/1 [==============================] - 0s 1ms/step - loss: 7.3747 - auc_322: 0.9111 - binary_crossentropy: 0.5268\n",
            "Epoch 7/50\n",
            "1/1 [==============================] - 0s 1ms/step - loss: 7.1504 - auc_322: 0.9111 - binary_crossentropy: 0.5107\n",
            "Epoch 8/50\n",
            "1/1 [==============================] - 0s 1ms/step - loss: 6.9637 - auc_322: 0.9111 - binary_crossentropy: 0.4974\n",
            "Epoch 9/50\n",
            "1/1 [==============================] - 0s 2ms/step - loss: 6.8060 - auc_322: 0.9111 - binary_crossentropy: 0.4861\n",
            "Epoch 10/50\n",
            "1/1 [==============================] - 0s 3ms/step - loss: 6.6709 - auc_322: 0.9111 - binary_crossentropy: 0.4765\n",
            "Epoch 11/50\n",
            "1/1 [==============================] - 0s 1ms/step - loss: 6.5536 - auc_322: 0.9111 - binary_crossentropy: 0.4681\n",
            "Epoch 12/50\n",
            "1/1 [==============================] - 0s 1ms/step - loss: 6.4506 - auc_322: 0.9111 - binary_crossentropy: 0.4608\n",
            "Epoch 13/50\n",
            "1/1 [==============================] - 0s 1ms/step - loss: 6.3590 - auc_322: 0.9111 - binary_crossentropy: 0.4542\n",
            "Epoch 14/50\n",
            "1/1 [==============================] - 0s 1ms/step - loss: 6.2768 - auc_322: 0.9111 - binary_crossentropy: 0.4483\n",
            "Epoch 15/50\n",
            "1/1 [==============================] - 0s 1ms/step - loss: 6.2023 - auc_322: 0.9111 - binary_crossentropy: 0.4430\n",
            "Epoch 16/50\n",
            "1/1 [==============================] - 0s 2ms/step - loss: 6.1341 - auc_322: 0.9111 - binary_crossentropy: 0.4382\n",
            "Epoch 17/50\n",
            "1/1 [==============================] - 0s 1ms/step - loss: 6.0713 - auc_322: 0.9111 - binary_crossentropy: 0.4337\n",
            "Epoch 18/50\n",
            "1/1 [==============================] - 0s 1ms/step - loss: 6.0130 - auc_322: 0.9111 - binary_crossentropy: 0.4295\n",
            "Epoch 19/50\n",
            "1/1 [==============================] - 0s 2ms/step - loss: 5.9584 - auc_322: 0.9333 - binary_crossentropy: 0.4256\n",
            "Epoch 20/50\n",
            "1/1 [==============================] - 0s 2ms/step - loss: 5.9070 - auc_322: 0.9333 - binary_crossentropy: 0.4219\n",
            "Epoch 21/50\n",
            "1/1 [==============================] - 0s 2ms/step - loss: 5.8584 - auc_322: 0.9333 - binary_crossentropy: 0.4185\n",
            "Epoch 22/50\n",
            "1/1 [==============================] - 0s 2ms/step - loss: 5.8121 - auc_322: 0.9556 - binary_crossentropy: 0.4151\n",
            "Epoch 23/50\n",
            "1/1 [==============================] - 0s 2ms/step - loss: 5.7678 - auc_322: 0.9556 - binary_crossentropy: 0.4120\n",
            "Epoch 24/50\n",
            "1/1 [==============================] - 0s 2ms/step - loss: 5.7253 - auc_322: 0.9556 - binary_crossentropy: 0.4090\n",
            "Epoch 25/50\n",
            "1/1 [==============================] - 0s 2ms/step - loss: 5.6843 - auc_322: 0.9556 - binary_crossentropy: 0.4060\n",
            "Epoch 26/50\n",
            "1/1 [==============================] - 0s 1ms/step - loss: 5.6446 - auc_322: 0.9556 - binary_crossentropy: 0.4032\n",
            "Epoch 27/50\n",
            "1/1 [==============================] - 0s 2ms/step - loss: 5.6059 - auc_322: 0.9556 - binary_crossentropy: 0.4004\n",
            "Epoch 28/50\n",
            "1/1 [==============================] - 0s 2ms/step - loss: 5.5683 - auc_322: 0.9556 - binary_crossentropy: 0.3977\n",
            "Epoch 29/50\n",
            "1/1 [==============================] - 0s 1ms/step - loss: 5.5315 - auc_322: 0.9556 - binary_crossentropy: 0.3951\n",
            "Epoch 30/50\n",
            "1/1 [==============================] - 0s 1ms/step - loss: 5.4953 - auc_322: 0.9556 - binary_crossentropy: 0.3925\n",
            "Epoch 31/50\n",
            "1/1 [==============================] - 0s 2ms/step - loss: 5.4598 - auc_322: 0.9556 - binary_crossentropy: 0.3900\n",
            "Epoch 32/50\n",
            "1/1 [==============================] - 0s 1ms/step - loss: 5.4247 - auc_322: 0.9556 - binary_crossentropy: 0.3875\n",
            "Epoch 33/50\n",
            "1/1 [==============================] - 0s 2ms/step - loss: 5.3901 - auc_322: 0.9556 - binary_crossentropy: 0.3850\n",
            "Epoch 34/50\n",
            "1/1 [==============================] - 0s 3ms/step - loss: 5.3557 - auc_322: 0.9556 - binary_crossentropy: 0.3826\n",
            "Epoch 35/50\n",
            "1/1 [==============================] - 0s 3ms/step - loss: 5.3216 - auc_322: 0.9556 - binary_crossentropy: 0.3801\n",
            "Epoch 36/50\n",
            "1/1 [==============================] - 0s 1ms/step - loss: 5.2878 - auc_322: 0.9556 - binary_crossentropy: 0.3777\n",
            "Epoch 37/50\n",
            "1/1 [==============================] - 0s 1ms/step - loss: 5.2540 - auc_322: 0.9556 - binary_crossentropy: 0.3753\n",
            "Epoch 38/50\n",
            "1/1 [==============================] - 0s 1ms/step - loss: 5.2203 - auc_322: 0.9556 - binary_crossentropy: 0.3729\n",
            "Epoch 39/50\n",
            "1/1 [==============================] - 0s 1ms/step - loss: 5.1867 - auc_322: 0.9556 - binary_crossentropy: 0.3705\n",
            "Epoch 40/50\n",
            "1/1 [==============================] - 0s 1ms/step - loss: 5.1530 - auc_322: 0.9556 - binary_crossentropy: 0.3681\n",
            "Epoch 41/50\n",
            "1/1 [==============================] - 0s 1ms/step - loss: 5.1193 - auc_322: 0.9556 - binary_crossentropy: 0.3657\n",
            "Epoch 42/50\n",
            "1/1 [==============================] - 0s 1ms/step - loss: 5.0855 - auc_322: 0.9556 - binary_crossentropy: 0.3633\n",
            "Epoch 43/50\n",
            "1/1 [==============================] - 0s 1ms/step - loss: 5.0516 - auc_322: 0.9556 - binary_crossentropy: 0.3608\n",
            "Epoch 44/50\n",
            "1/1 [==============================] - 0s 2ms/step - loss: 5.0175 - auc_322: 0.9556 - binary_crossentropy: 0.3584\n",
            "Epoch 45/50\n",
            "1/1 [==============================] - 0s 1ms/step - loss: 4.9832 - auc_322: 0.9556 - binary_crossentropy: 0.3559\n",
            "Epoch 46/50\n",
            "1/1 [==============================] - 0s 1ms/step - loss: 4.9487 - auc_322: 0.9556 - binary_crossentropy: 0.3535\n",
            "Epoch 47/50\n",
            "1/1 [==============================] - 0s 2ms/step - loss: 4.9139 - auc_322: 0.9556 - binary_crossentropy: 0.3510\n",
            "Epoch 48/50\n",
            "1/1 [==============================] - 0s 2ms/step - loss: 4.8789 - auc_322: 0.9556 - binary_crossentropy: 0.3485\n",
            "Epoch 49/50\n",
            "1/1 [==============================] - 0s 1ms/step - loss: 4.8436 - auc_322: 0.9556 - binary_crossentropy: 0.3460\n",
            "Epoch 50/50\n",
            "1/1 [==============================] - 0s 2ms/step - loss: 4.8080 - auc_322: 0.9556 - binary_crossentropy: 0.3434\n"
          ],
          "name": "stdout"
        },
        {
          "output_type": "execute_result",
          "data": {
            "text/plain": [
              "<tensorflow.python.keras.callbacks.History at 0x7f55cbb98d68>"
            ]
          },
          "metadata": {
            "tags": []
          },
          "execution_count": 152
        }
      ]
    },
    {
      "cell_type": "code",
      "metadata": {
        "id": "ZgQIAGpY7i7m",
        "colab_type": "code",
        "colab": {
          "base_uri": "https://localhost:8080/",
          "height": 803
        },
        "outputId": "5423e925-408b-4025-a4d4-e45588ea5707"
      },
      "source": [
        "predictions = model([one_hot_input, one_hot_q_t]).numpy()\n",
        "print(predictions)\n",
        "print(padded_labels)\n",
        "print(raw_labels)\n",
        "model.evaluate([one_hot_input, one_hot_q_t], padded_labels ,verbose =2)\n"
      ],
      "execution_count": 153,
      "outputs": [
        {
          "output_type": "stream",
          "text": [
            "[[[0.9478266 ]\n",
            "  [0.40629193]\n",
            "  [0.73553604]\n",
            "  [0.        ]\n",
            "  [0.        ]\n",
            "  [0.        ]]\n",
            "\n",
            " [[0.3458018 ]\n",
            "  [0.63187766]\n",
            "  [0.59470654]\n",
            "  [0.98823255]\n",
            "  [0.7788747 ]\n",
            "  [0.        ]]\n",
            "\n",
            " [[0.3458018 ]\n",
            "  [0.97137827]\n",
            "  [0.9827026 ]\n",
            "  [0.80505615]\n",
            "  [0.04748546]\n",
            "  [0.83048403]]]\n",
            "tf.Tensor(\n",
            "[[[1]\n",
            "  [1]\n",
            "  [1]\n",
            "  [1]\n",
            "  [1]\n",
            "  [1]]\n",
            "\n",
            " [[0]\n",
            "  [0]\n",
            "  [0]\n",
            "  [1]\n",
            "  [1]\n",
            "  [1]]\n",
            "\n",
            " [[0]\n",
            "  [1]\n",
            "  [1]\n",
            "  [1]\n",
            "  [0]\n",
            "  [1]]], shape=(3, 6, 1), dtype=int32)\n",
            "[list([1, 1, 1]) list([0, 0, 0, 1, 1]) list([0, 1, 1, 1, 0, 1])]\n",
            "1/1 - 0s - loss: 4.7721 - auc_322: 0.9556 - binary_crossentropy: 0.3409\n"
          ],
          "name": "stdout"
        },
        {
          "output_type": "execute_result",
          "data": {
            "text/plain": [
              "[4.772064208984375, 0.9555555582046509, 0.3408617377281189]"
            ]
          },
          "metadata": {
            "tags": []
          },
          "execution_count": 153
        }
      ]
    }
  ]
}