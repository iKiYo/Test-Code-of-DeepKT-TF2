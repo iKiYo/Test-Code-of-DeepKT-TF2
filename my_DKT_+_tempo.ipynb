{
  "nbformat": 4,
  "nbformat_minor": 0,
  "metadata": {
    "colab": {
      "name": "my DKT + tempo",
      "provenance": [],
      "collapsed_sections": [
        "RsOf5grQkg2T",
        "nbLe4qZJAUhB"
      ],
      "toc_visible": true,
      "mount_file_id": "1DjKCKrBSQspyjXfjspPGBqR9sZZZI51F",
      "authorship_tag": "ABX9TyNsuu1iwE6Jkf1pIMgSCoDF",
      "include_colab_link": true
    },
    "kernelspec": {
      "name": "python3",
      "display_name": "Python 3"
    },
    "accelerator": "GPU"
  },
  "cells": [
    {
      "cell_type": "markdown",
      "metadata": {
        "id": "view-in-github",
        "colab_type": "text"
      },
      "source": [
        "<a href=\"https://colab.research.google.com/github/iKiYo/Test-Code-of-DeepKT-TF2/blob/master/my_DKT_%2B_tempo.ipynb\" target=\"_parent\"><img src=\"https://colab.research.google.com/assets/colab-badge.svg\" alt=\"Open In Colab\"/></a>"
      ]
    },
    {
      "cell_type": "markdown",
      "metadata": {
        "id": "lGd119p-09A7",
        "colab_type": "text"
      },
      "source": [
        "### Download assistment 2012 dataset"
      ]
    },
    {
      "cell_type": "markdown",
      "metadata": {
        "id": "M9qFwaq_FYML",
        "colab_type": "text"
      },
      "source": [
        "#### use edudata, a downloader of IST educational datasets"
      ]
    },
    {
      "cell_type": "code",
      "metadata": {
        "id": "JTXFe8Ok7fze",
        "colab_type": "code",
        "colab": {}
      },
      "source": [
        "!pip install EduData"
      ],
      "execution_count": null,
      "outputs": []
    },
    {
      "cell_type": "code",
      "metadata": {
        "id": "SacFVb0l7h1f",
        "colab_type": "code",
        "colab": {}
      },
      "source": [
        "!edudata ls"
      ],
      "execution_count": null,
      "outputs": []
    },
    {
      "cell_type": "code",
      "metadata": {
        "id": "nV16w6jB7qlu",
        "colab_type": "code",
        "colab": {}
      },
      "source": [
        "!edudata download assistment-2012-2013-non-skill"
      ],
      "execution_count": null,
      "outputs": []
    },
    {
      "cell_type": "markdown",
      "metadata": {
        "id": "g1aaRru71q-S",
        "colab_type": "text"
      },
      "source": [
        "#### Use stored data in Gdrive"
      ]
    },
    {
      "cell_type": "code",
      "metadata": {
        "id": "a1BiMExH33i4",
        "colab_type": "code",
        "colab": {}
      },
      "source": [
        "import pandas as pd\n",
        "assistment_2012_dataset = pd.read_csv(\"/content/drive/My Drive/master thesis/Datasets/assistment_dataset/2012-2013-data-with-predictions-4-final.csv\")"
      ],
      "execution_count": null,
      "outputs": []
    },
    {
      "cell_type": "markdown",
      "metadata": {
        "id": "skvQZy5ZFlZO",
        "colab_type": "text"
      },
      "source": [
        "### Data statistic and preprocessing of assistment_2012, which contains timestamps of attempts"
      ]
    },
    {
      "cell_type": "code",
      "metadata": {
        "id": "QAWSBqF1GeRA",
        "colab_type": "code",
        "colab": {
          "base_uri": "https://localhost:8080/",
          "height": 73
        },
        "outputId": "2b3f2fe7-aa5f-4d5d-bdb0-3fd72654f320"
      },
      "source": [
        "print(len(assistment_2012_dataset))\n",
        "assistment_2012_dataset.head(1)\n",
        "print(list(assistment_2012_dataset.columns.values)) # get the list of column header"
      ],
      "execution_count": null,
      "outputs": [
        {
          "output_type": "stream",
          "text": [
            "6123270\n",
            "['problem_log_id', 'skill', 'problem_id', 'user_id', 'assignment_id', 'assistment_id', 'start_time', 'end_time', 'problem_type', 'original', 'correct', 'bottom_hint', 'hint_count', 'actions', 'attempt_count', 'ms_first_response', 'tutor_mode', 'sequence_id', 'student_class_id', 'position', 'type', 'base_sequence_id', 'skill_id', 'teacher_id', 'school_id', 'overlap_time', 'template_id', 'answer_id', 'answer_text', 'first_action', 'problemlogid', 'Average_confidence(FRUSTRATED)', 'Average_confidence(CONFUSED)', 'Average_confidence(CONCENTRATING)', 'Average_confidence(BORED)']\n"
          ],
          "name": "stdout"
        }
      ]
    },
    {
      "cell_type": "markdown",
      "metadata": {
        "id": "nLfy3ew9F1rv",
        "colab_type": "text"
      },
      "source": [
        "##### XXX: skill_id has more types than skill(name)??"
      ]
    },
    {
      "cell_type": "code",
      "metadata": {
        "id": "AJcIO5tXABnB",
        "colab_type": "code",
        "colab": {}
      },
      "source": [
        "print( assistment_2012_dataset.skill_id.unique())\n",
        "print( assistment_2012_dataset.skill.unique())"
      ],
      "execution_count": null,
      "outputs": []
    },
    {
      "cell_type": "code",
      "metadata": {
        "id": "uywK5DS96skB",
        "colab_type": "code",
        "colab": {
          "base_uri": "https://localhost:8080/",
          "height": 142
        },
        "outputId": "dafacb82-d881-4bb6-849d-545215ae57c0"
      },
      "source": [
        "print( assistment_2012_dataset[['user_id', 'skill', 'skill_id','problem_id','assignment_id','assistment_id']].nunique())"
      ],
      "execution_count": null,
      "outputs": [
        {
          "output_type": "stream",
          "text": [
            "user_id           46674\n",
            "skill               198\n",
            "skill_id            265\n",
            "problem_id       179999\n",
            "assignment_id    189760\n",
            "assistment_id    138555\n",
            "dtype: int64\n"
          ],
          "name": "stdout"
        }
      ]
    },
    {
      "cell_type": "markdown",
      "metadata": {
        "id": "69NwWiwxPhDz",
        "colab_type": "text"
      },
      "source": [
        "#### try out drop nan and check skill"
      ]
    },
    {
      "cell_type": "code",
      "metadata": {
        "id": "o2AcU45PGNgL",
        "colab_type": "code",
        "colab": {
          "base_uri": "https://localhost:8080/",
          "height": 136
        },
        "outputId": "4db2e53c-d29b-4c42-e5ca-aafef37aa8b2"
      },
      "source": [
        "assistment_2012_dataset_selected = pd.read_csv(\n",
        "    \"/content/drive/My Drive/master thesis/Datasets/assistment_dataset/2012-2013-data-with-predictions-4-final.csv\",\n",
        "    usecols=['problem_log_id', 'skill', 'problem_id', 'user_id', 'assignment_id', 'assistment_id', 'start_time', 'end_time', 'correct', 'attempt_count', 'skill_id'])\n",
        "print(len(assistment_2012_dataset_selected))\n",
        "assistment_2012_dataset_selected.head(1)"
      ],
      "execution_count": null,
      "outputs": [
        {
          "output_type": "stream",
          "text": [
            "6123270\n"
          ],
          "name": "stdout"
        },
        {
          "output_type": "execute_result",
          "data": {
            "text/html": [
              "<div>\n",
              "<style scoped>\n",
              "    .dataframe tbody tr th:only-of-type {\n",
              "        vertical-align: middle;\n",
              "    }\n",
              "\n",
              "    .dataframe tbody tr th {\n",
              "        vertical-align: top;\n",
              "    }\n",
              "\n",
              "    .dataframe thead th {\n",
              "        text-align: right;\n",
              "    }\n",
              "</style>\n",
              "<table border=\"1\" class=\"dataframe\">\n",
              "  <thead>\n",
              "    <tr style=\"text-align: right;\">\n",
              "      <th></th>\n",
              "      <th>problem_log_id</th>\n",
              "      <th>skill</th>\n",
              "      <th>problem_id</th>\n",
              "      <th>user_id</th>\n",
              "      <th>assignment_id</th>\n",
              "      <th>assistment_id</th>\n",
              "      <th>start_time</th>\n",
              "      <th>end_time</th>\n",
              "      <th>correct</th>\n",
              "      <th>attempt_count</th>\n",
              "      <th>skill_id</th>\n",
              "    </tr>\n",
              "  </thead>\n",
              "  <tbody>\n",
              "    <tr>\n",
              "      <th>0</th>\n",
              "      <td>137792159</td>\n",
              "      <td>NaN</td>\n",
              "      <td>557460</td>\n",
              "      <td>61394</td>\n",
              "      <td>565736</td>\n",
              "      <td>341511</td>\n",
              "      <td>2012-09-28 15:11:27</td>\n",
              "      <td>2012-09-28 15:11:36.856</td>\n",
              "      <td>1.0</td>\n",
              "      <td>1</td>\n",
              "      <td>NaN</td>\n",
              "    </tr>\n",
              "  </tbody>\n",
              "</table>\n",
              "</div>"
            ],
            "text/plain": [
              "   problem_log_id skill  problem_id  ...  correct  attempt_count  skill_id\n",
              "0       137792159   NaN      557460  ...      1.0              1       NaN\n",
              "\n",
              "[1 rows x 11 columns]"
            ]
          },
          "metadata": {
            "tags": []
          },
          "execution_count": 32
        }
      ]
    },
    {
      "cell_type": "code",
      "metadata": {
        "id": "XmhExQ8sNc4j",
        "colab_type": "code",
        "colab": {}
      },
      "source": [
        "df = assistment_2012_dataset_selected[['skill', 'skill_id']].dropna()"
      ],
      "execution_count": null,
      "outputs": []
    },
    {
      "cell_type": "code",
      "metadata": {
        "id": "-QJHqNoZOG3b",
        "colab_type": "code",
        "colab": {
          "base_uri": "https://localhost:8080/",
          "height": 424
        },
        "outputId": "11835c19-bb25-47b4-9bf1-167056bc61c0"
      },
      "source": [
        "df = df.astype({'skill_id': 'int32'})"
      ],
      "execution_count": null,
      "outputs": [
        {
          "output_type": "execute_result",
          "data": {
            "text/html": [
              "<div>\n",
              "<style scoped>\n",
              "    .dataframe tbody tr th:only-of-type {\n",
              "        vertical-align: middle;\n",
              "    }\n",
              "\n",
              "    .dataframe tbody tr th {\n",
              "        vertical-align: top;\n",
              "    }\n",
              "\n",
              "    .dataframe thead th {\n",
              "        text-align: right;\n",
              "    }\n",
              "</style>\n",
              "<table border=\"1\" class=\"dataframe\">\n",
              "  <thead>\n",
              "    <tr style=\"text-align: right;\">\n",
              "      <th></th>\n",
              "      <th>skill</th>\n",
              "      <th>skill_id</th>\n",
              "    </tr>\n",
              "  </thead>\n",
              "  <tbody>\n",
              "    <tr>\n",
              "      <th>1</th>\n",
              "      <td>Rounding</td>\n",
              "      <td>54</td>\n",
              "    </tr>\n",
              "    <tr>\n",
              "      <th>2</th>\n",
              "      <td>Multiplication and Division Integers</td>\n",
              "      <td>279</td>\n",
              "    </tr>\n",
              "    <tr>\n",
              "      <th>3</th>\n",
              "      <td>Proportion</td>\n",
              "      <td>79</td>\n",
              "    </tr>\n",
              "    <tr>\n",
              "      <th>5</th>\n",
              "      <td>Exponents</td>\n",
              "      <td>86</td>\n",
              "    </tr>\n",
              "    <tr>\n",
              "      <th>7</th>\n",
              "      <td>Equation Solving Two or Fewer Steps</td>\n",
              "      <td>311</td>\n",
              "    </tr>\n",
              "    <tr>\n",
              "      <th>...</th>\n",
              "      <td>...</td>\n",
              "      <td>...</td>\n",
              "    </tr>\n",
              "    <tr>\n",
              "      <th>6123258</th>\n",
              "      <td>Exponents</td>\n",
              "      <td>86</td>\n",
              "    </tr>\n",
              "    <tr>\n",
              "      <th>6123260</th>\n",
              "      <td>Square Root</td>\n",
              "      <td>75</td>\n",
              "    </tr>\n",
              "    <tr>\n",
              "      <th>6123262</th>\n",
              "      <td>Unit Conversion Within a System</td>\n",
              "      <td>34</td>\n",
              "    </tr>\n",
              "    <tr>\n",
              "      <th>6123264</th>\n",
              "      <td>Multiplication Fractions</td>\n",
              "      <td>67</td>\n",
              "    </tr>\n",
              "    <tr>\n",
              "      <th>6123267</th>\n",
              "      <td>Addition and Subtraction Integers</td>\n",
              "      <td>277</td>\n",
              "    </tr>\n",
              "  </tbody>\n",
              "</table>\n",
              "<p>2630080 rows × 2 columns</p>\n",
              "</div>"
            ],
            "text/plain": [
              "                                        skill  skill_id\n",
              "1                                    Rounding        54\n",
              "2        Multiplication and Division Integers       279\n",
              "3                                  Proportion        79\n",
              "5                                   Exponents        86\n",
              "7         Equation Solving Two or Fewer Steps       311\n",
              "...                                       ...       ...\n",
              "6123258                             Exponents        86\n",
              "6123260                           Square Root        75\n",
              "6123262       Unit Conversion Within a System        34\n",
              "6123264              Multiplication Fractions        67\n",
              "6123267     Addition and Subtraction Integers       277\n",
              "\n",
              "[2630080 rows x 2 columns]"
            ]
          },
          "metadata": {
            "tags": []
          },
          "execution_count": 46
        }
      ]
    },
    {
      "cell_type": "code",
      "metadata": {
        "id": "8ujCadKQOk9t",
        "colab_type": "code",
        "colab": {
          "base_uri": "https://localhost:8080/",
          "height": 71
        },
        "outputId": "b7b1f978-8702-4ee6-a7ee-fb218ebdc12f"
      },
      "source": [
        "df.nunique()"
      ],
      "execution_count": null,
      "outputs": [
        {
          "output_type": "execute_result",
          "data": {
            "text/plain": [
              "skill       198\n",
              "skill_id    245\n",
              "dtype: int64"
            ]
          },
          "metadata": {
            "tags": []
          },
          "execution_count": 48
        }
      ]
    },
    {
      "cell_type": "markdown",
      "metadata": {
        "id": "38AYYXWFPw8w",
        "colab_type": "text"
      },
      "source": [
        "#### make a complete and minimum csv dataset for experiments"
      ]
    },
    {
      "cell_type": "code",
      "metadata": {
        "id": "5WQ5Y6_7P_Xm",
        "colab_type": "code",
        "colab": {
          "base_uri": "https://localhost:8080/",
          "height": 99
        },
        "outputId": "63a3ab56-dbaf-4572-d630-cddaf75b08fe"
      },
      "source": [
        "import pandas as pd \n",
        "assist2012_preprocessed = pd.read_csv(\n",
        "    \"/content/drive/My Drive/master thesis/Datasets/assistment_dataset/2012-2013-data-with-predictions-4-final.csv\",\n",
        "    usecols=['problem_id', 'user_id', 'start_time', 'end_time', 'correct', 'attempt_count', 'skill_id'])\n",
        "print(len(assist2012_preprocessed))\n",
        "assist2012_preprocessed.head(1)"
      ],
      "execution_count": null,
      "outputs": [
        {
          "output_type": "stream",
          "text": [
            "6123270\n"
          ],
          "name": "stdout"
        },
        {
          "output_type": "execute_result",
          "data": {
            "text/html": [
              "<div>\n",
              "<style scoped>\n",
              "    .dataframe tbody tr th:only-of-type {\n",
              "        vertical-align: middle;\n",
              "    }\n",
              "\n",
              "    .dataframe tbody tr th {\n",
              "        vertical-align: top;\n",
              "    }\n",
              "\n",
              "    .dataframe thead th {\n",
              "        text-align: right;\n",
              "    }\n",
              "</style>\n",
              "<table border=\"1\" class=\"dataframe\">\n",
              "  <thead>\n",
              "    <tr style=\"text-align: right;\">\n",
              "      <th></th>\n",
              "      <th>problem_id</th>\n",
              "      <th>user_id</th>\n",
              "      <th>start_time</th>\n",
              "      <th>end_time</th>\n",
              "      <th>correct</th>\n",
              "      <th>attempt_count</th>\n",
              "      <th>skill_id</th>\n",
              "    </tr>\n",
              "  </thead>\n",
              "  <tbody>\n",
              "    <tr>\n",
              "      <th>0</th>\n",
              "      <td>557460</td>\n",
              "      <td>61394</td>\n",
              "      <td>2012-09-28 15:11:27</td>\n",
              "      <td>2012-09-28 15:11:36.856</td>\n",
              "      <td>1.0</td>\n",
              "      <td>1</td>\n",
              "      <td>NaN</td>\n",
              "    </tr>\n",
              "  </tbody>\n",
              "</table>\n",
              "</div>"
            ],
            "text/plain": [
              "   problem_id  user_id           start_time  ... correct  attempt_count  skill_id\n",
              "0      557460    61394  2012-09-28 15:11:27  ...     1.0              1       NaN\n",
              "\n",
              "[1 rows x 7 columns]"
            ]
          },
          "metadata": {
            "tags": []
          },
          "execution_count": 24
        }
      ]
    },
    {
      "cell_type": "code",
      "metadata": {
        "id": "qy1FbgQuQbjo",
        "colab_type": "code",
        "colab": {
          "base_uri": "https://localhost:8080/",
          "height": 196
        },
        "outputId": "3c16952d-18f9-403c-9741-5d4890e36504"
      },
      "source": [
        "df = assist2012_preprocessed\n",
        "#df = df.dropna()\n",
        "print(df.correct.nunique())\n",
        "df = df.drop_duplicates(subset=['problem_id','user_id','attempt_count'])\n",
        "df = df.fillna(value={'skill_id': 999})\n",
        "df = df.astype({'skill_id': 'int32'})\n",
        "print(len(df))\n",
        "df.nunique()"
      ],
      "execution_count": null,
      "outputs": [
        {
          "output_type": "stream",
          "text": [
            "13\n",
            "5945174\n"
          ],
          "name": "stdout"
        },
        {
          "output_type": "execute_result",
          "data": {
            "text/plain": [
              "problem_id        179999\n",
              "user_id            46674\n",
              "start_time       4571084\n",
              "end_time         5943356\n",
              "correct               13\n",
              "attempt_count         30\n",
              "skill_id             266\n",
              "dtype: int64"
            ]
          },
          "metadata": {
            "tags": []
          },
          "execution_count": 60
        }
      ]
    },
    {
      "cell_type": "code",
      "metadata": {
        "id": "9ZqHJigb3CKE",
        "colab_type": "code",
        "colab": {
          "base_uri": "https://localhost:8080/",
          "height": 424
        },
        "outputId": "98dafd01-b888-4b57-dcf3-292eed2a9828"
      },
      "source": [
        "df = df[df[\"correct\"].isin([0, 1])]\n",
        "df"
      ],
      "execution_count": null,
      "outputs": [
        {
          "output_type": "execute_result",
          "data": {
            "text/html": [
              "<div>\n",
              "<style scoped>\n",
              "    .dataframe tbody tr th:only-of-type {\n",
              "        vertical-align: middle;\n",
              "    }\n",
              "\n",
              "    .dataframe tbody tr th {\n",
              "        vertical-align: top;\n",
              "    }\n",
              "\n",
              "    .dataframe thead th {\n",
              "        text-align: right;\n",
              "    }\n",
              "</style>\n",
              "<table border=\"1\" class=\"dataframe\">\n",
              "  <thead>\n",
              "    <tr style=\"text-align: right;\">\n",
              "      <th></th>\n",
              "      <th>problem_id</th>\n",
              "      <th>user_id</th>\n",
              "      <th>start_time</th>\n",
              "      <th>end_time</th>\n",
              "      <th>correct</th>\n",
              "      <th>attempt_count</th>\n",
              "      <th>skill_id</th>\n",
              "    </tr>\n",
              "  </thead>\n",
              "  <tbody>\n",
              "    <tr>\n",
              "      <th>0</th>\n",
              "      <td>557460</td>\n",
              "      <td>61394</td>\n",
              "      <td>2012-09-28 15:11:27</td>\n",
              "      <td>2012-09-28 15:11:36.856</td>\n",
              "      <td>1.0</td>\n",
              "      <td>1</td>\n",
              "      <td>999</td>\n",
              "    </tr>\n",
              "    <tr>\n",
              "      <th>1</th>\n",
              "      <td>365981</td>\n",
              "      <td>61394</td>\n",
              "      <td>2012-10-09 11:01:52</td>\n",
              "      <td>2012-10-09 11:02:13.182</td>\n",
              "      <td>1.0</td>\n",
              "      <td>1</td>\n",
              "      <td>54</td>\n",
              "    </tr>\n",
              "    <tr>\n",
              "      <th>2</th>\n",
              "      <td>426415</td>\n",
              "      <td>61394</td>\n",
              "      <td>2013-03-07 10:53:20</td>\n",
              "      <td>2013-03-07 10:53:28.661</td>\n",
              "      <td>0.0</td>\n",
              "      <td>1</td>\n",
              "      <td>279</td>\n",
              "    </tr>\n",
              "    <tr>\n",
              "      <th>3</th>\n",
              "      <td>86686</td>\n",
              "      <td>61394</td>\n",
              "      <td>2013-08-20 19:54:56</td>\n",
              "      <td>2013-08-20 19:55:21.753</td>\n",
              "      <td>1.0</td>\n",
              "      <td>1</td>\n",
              "      <td>79</td>\n",
              "    </tr>\n",
              "    <tr>\n",
              "      <th>4</th>\n",
              "      <td>399669</td>\n",
              "      <td>76592</td>\n",
              "      <td>2012-09-10 17:20:10</td>\n",
              "      <td>2012-09-10 17:24:56.579</td>\n",
              "      <td>1.0</td>\n",
              "      <td>1</td>\n",
              "      <td>999</td>\n",
              "    </tr>\n",
              "    <tr>\n",
              "      <th>...</th>\n",
              "      <td>...</td>\n",
              "      <td>...</td>\n",
              "      <td>...</td>\n",
              "      <td>...</td>\n",
              "      <td>...</td>\n",
              "      <td>...</td>\n",
              "      <td>...</td>\n",
              "    </tr>\n",
              "    <tr>\n",
              "      <th>6123265</th>\n",
              "      <td>330756</td>\n",
              "      <td>227984</td>\n",
              "      <td>2013-08-30 10:10:55</td>\n",
              "      <td>2013-08-30 10:11:08.935</td>\n",
              "      <td>1.0</td>\n",
              "      <td>1</td>\n",
              "      <td>999</td>\n",
              "    </tr>\n",
              "    <tr>\n",
              "      <th>6123266</th>\n",
              "      <td>765964</td>\n",
              "      <td>228009</td>\n",
              "      <td>2013-08-31 10:23:24</td>\n",
              "      <td>2013-08-31 10:23:27.757</td>\n",
              "      <td>0.0</td>\n",
              "      <td>1</td>\n",
              "      <td>999</td>\n",
              "    </tr>\n",
              "    <tr>\n",
              "      <th>6123267</th>\n",
              "      <td>84891</td>\n",
              "      <td>228039</td>\n",
              "      <td>2013-08-30 11:29:35</td>\n",
              "      <td>2013-08-30 11:30:05.517</td>\n",
              "      <td>0.0</td>\n",
              "      <td>1</td>\n",
              "      <td>277</td>\n",
              "    </tr>\n",
              "    <tr>\n",
              "      <th>6123268</th>\n",
              "      <td>543973</td>\n",
              "      <td>228055</td>\n",
              "      <td>2013-08-30 11:52:37</td>\n",
              "      <td>2013-08-30 11:52:41.251</td>\n",
              "      <td>1.0</td>\n",
              "      <td>1</td>\n",
              "      <td>999</td>\n",
              "    </tr>\n",
              "    <tr>\n",
              "      <th>6123269</th>\n",
              "      <td>136311</td>\n",
              "      <td>228142</td>\n",
              "      <td>2013-08-30 13:41:33</td>\n",
              "      <td>2013-08-30 13:46:12.745</td>\n",
              "      <td>1.0</td>\n",
              "      <td>1</td>\n",
              "      <td>999</td>\n",
              "    </tr>\n",
              "  </tbody>\n",
              "</table>\n",
              "<p>5939867 rows × 7 columns</p>\n",
              "</div>"
            ],
            "text/plain": [
              "         problem_id  user_id  ... attempt_count skill_id\n",
              "0            557460    61394  ...             1      999\n",
              "1            365981    61394  ...             1       54\n",
              "2            426415    61394  ...             1      279\n",
              "3             86686    61394  ...             1       79\n",
              "4            399669    76592  ...             1      999\n",
              "...             ...      ...  ...           ...      ...\n",
              "6123265      330756   227984  ...             1      999\n",
              "6123266      765964   228009  ...             1      999\n",
              "6123267       84891   228039  ...             1      277\n",
              "6123268      543973   228055  ...             1      999\n",
              "6123269      136311   228142  ...             1      999\n",
              "\n",
              "[5939867 rows x 7 columns]"
            ]
          },
          "metadata": {
            "tags": []
          },
          "execution_count": 61
        }
      ]
    },
    {
      "cell_type": "code",
      "metadata": {
        "id": "QV2mlPC4W_Ql",
        "colab_type": "code",
        "colab": {
          "base_uri": "https://localhost:8080/",
          "height": 424
        },
        "outputId": "c5baa146-63f0-4344-93bd-565a12d47f18"
      },
      "source": [
        "# change 'correct' column into a boolean format as recommended in ASSIST dataset website\n",
        "df['correct'] = (df['correct'] >= 1).astype(int)\n",
        "df"
      ],
      "execution_count": null,
      "outputs": [
        {
          "output_type": "execute_result",
          "data": {
            "text/html": [
              "<div>\n",
              "<style scoped>\n",
              "    .dataframe tbody tr th:only-of-type {\n",
              "        vertical-align: middle;\n",
              "    }\n",
              "\n",
              "    .dataframe tbody tr th {\n",
              "        vertical-align: top;\n",
              "    }\n",
              "\n",
              "    .dataframe thead th {\n",
              "        text-align: right;\n",
              "    }\n",
              "</style>\n",
              "<table border=\"1\" class=\"dataframe\">\n",
              "  <thead>\n",
              "    <tr style=\"text-align: right;\">\n",
              "      <th></th>\n",
              "      <th>problem_id</th>\n",
              "      <th>user_id</th>\n",
              "      <th>start_time</th>\n",
              "      <th>end_time</th>\n",
              "      <th>correct</th>\n",
              "      <th>attempt_count</th>\n",
              "      <th>skill_id</th>\n",
              "    </tr>\n",
              "  </thead>\n",
              "  <tbody>\n",
              "    <tr>\n",
              "      <th>0</th>\n",
              "      <td>557460</td>\n",
              "      <td>61394</td>\n",
              "      <td>2012-09-28 15:11:27</td>\n",
              "      <td>2012-09-28 15:11:36.856</td>\n",
              "      <td>1</td>\n",
              "      <td>1</td>\n",
              "      <td>999</td>\n",
              "    </tr>\n",
              "    <tr>\n",
              "      <th>1</th>\n",
              "      <td>365981</td>\n",
              "      <td>61394</td>\n",
              "      <td>2012-10-09 11:01:52</td>\n",
              "      <td>2012-10-09 11:02:13.182</td>\n",
              "      <td>1</td>\n",
              "      <td>1</td>\n",
              "      <td>54</td>\n",
              "    </tr>\n",
              "    <tr>\n",
              "      <th>2</th>\n",
              "      <td>426415</td>\n",
              "      <td>61394</td>\n",
              "      <td>2013-03-07 10:53:20</td>\n",
              "      <td>2013-03-07 10:53:28.661</td>\n",
              "      <td>0</td>\n",
              "      <td>1</td>\n",
              "      <td>279</td>\n",
              "    </tr>\n",
              "    <tr>\n",
              "      <th>3</th>\n",
              "      <td>86686</td>\n",
              "      <td>61394</td>\n",
              "      <td>2013-08-20 19:54:56</td>\n",
              "      <td>2013-08-20 19:55:21.753</td>\n",
              "      <td>1</td>\n",
              "      <td>1</td>\n",
              "      <td>79</td>\n",
              "    </tr>\n",
              "    <tr>\n",
              "      <th>4</th>\n",
              "      <td>399669</td>\n",
              "      <td>76592</td>\n",
              "      <td>2012-09-10 17:20:10</td>\n",
              "      <td>2012-09-10 17:24:56.579</td>\n",
              "      <td>1</td>\n",
              "      <td>1</td>\n",
              "      <td>999</td>\n",
              "    </tr>\n",
              "    <tr>\n",
              "      <th>...</th>\n",
              "      <td>...</td>\n",
              "      <td>...</td>\n",
              "      <td>...</td>\n",
              "      <td>...</td>\n",
              "      <td>...</td>\n",
              "      <td>...</td>\n",
              "      <td>...</td>\n",
              "    </tr>\n",
              "    <tr>\n",
              "      <th>6123265</th>\n",
              "      <td>330756</td>\n",
              "      <td>227984</td>\n",
              "      <td>2013-08-30 10:10:55</td>\n",
              "      <td>2013-08-30 10:11:08.935</td>\n",
              "      <td>1</td>\n",
              "      <td>1</td>\n",
              "      <td>999</td>\n",
              "    </tr>\n",
              "    <tr>\n",
              "      <th>6123266</th>\n",
              "      <td>765964</td>\n",
              "      <td>228009</td>\n",
              "      <td>2013-08-31 10:23:24</td>\n",
              "      <td>2013-08-31 10:23:27.757</td>\n",
              "      <td>0</td>\n",
              "      <td>1</td>\n",
              "      <td>999</td>\n",
              "    </tr>\n",
              "    <tr>\n",
              "      <th>6123267</th>\n",
              "      <td>84891</td>\n",
              "      <td>228039</td>\n",
              "      <td>2013-08-30 11:29:35</td>\n",
              "      <td>2013-08-30 11:30:05.517</td>\n",
              "      <td>0</td>\n",
              "      <td>1</td>\n",
              "      <td>277</td>\n",
              "    </tr>\n",
              "    <tr>\n",
              "      <th>6123268</th>\n",
              "      <td>543973</td>\n",
              "      <td>228055</td>\n",
              "      <td>2013-08-30 11:52:37</td>\n",
              "      <td>2013-08-30 11:52:41.251</td>\n",
              "      <td>1</td>\n",
              "      <td>1</td>\n",
              "      <td>999</td>\n",
              "    </tr>\n",
              "    <tr>\n",
              "      <th>6123269</th>\n",
              "      <td>136311</td>\n",
              "      <td>228142</td>\n",
              "      <td>2013-08-30 13:41:33</td>\n",
              "      <td>2013-08-30 13:46:12.745</td>\n",
              "      <td>1</td>\n",
              "      <td>1</td>\n",
              "      <td>999</td>\n",
              "    </tr>\n",
              "  </tbody>\n",
              "</table>\n",
              "<p>6123270 rows × 7 columns</p>\n",
              "</div>"
            ],
            "text/plain": [
              "         problem_id  user_id  ... attempt_count skill_id\n",
              "0            557460    61394  ...             1      999\n",
              "1            365981    61394  ...             1       54\n",
              "2            426415    61394  ...             1      279\n",
              "3             86686    61394  ...             1       79\n",
              "4            399669    76592  ...             1      999\n",
              "...             ...      ...  ...           ...      ...\n",
              "6123265      330756   227984  ...             1      999\n",
              "6123266      765964   228009  ...             1      999\n",
              "6123267       84891   228039  ...             1      277\n",
              "6123268      543973   228055  ...             1      999\n",
              "6123269      136311   228142  ...             1      999\n",
              "\n",
              "[6123270 rows x 7 columns]"
            ]
          },
          "metadata": {
            "tags": []
          },
          "execution_count": 26
        }
      ]
    },
    {
      "cell_type": "code",
      "metadata": {
        "id": "9cioYgI7Xap6",
        "colab_type": "code",
        "colab": {
          "base_uri": "https://localhost:8080/",
          "height": 71
        },
        "outputId": "f1275cd4-8be9-4f1c-d205-6730522d48b7"
      },
      "source": [
        "df.correct.value_counts(normalize=True)"
      ],
      "execution_count": null,
      "outputs": [
        {
          "output_type": "execute_result",
          "data": {
            "text/plain": [
              "1.0    0.674026\n",
              "0.0    0.325974\n",
              "Name: correct, dtype: float64"
            ]
          },
          "metadata": {
            "tags": []
          },
          "execution_count": 62
        }
      ]
    },
    {
      "cell_type": "code",
      "metadata": {
        "id": "KbpmUPSpV0pt",
        "colab_type": "code",
        "colab": {
          "base_uri": "https://localhost:8080/",
          "height": 53
        },
        "outputId": "3e68fd5a-0f67-4205-a68c-8bad2e955b08"
      },
      "source": [
        "df.attempt_count.unique()"
      ],
      "execution_count": null,
      "outputs": [
        {
          "output_type": "execute_result",
          "data": {
            "text/plain": [
              "array([ 1,  2, 13,  3,  4,  8, 11,  5,  0,  7, 19,  6, 10, 12, 15, 26, 17,\n",
              "       14,  9, 24, 16, 20, 22, 18, 29, 23, 27, 28, 21, 25])"
            ]
          },
          "metadata": {
            "tags": []
          },
          "execution_count": 66
        }
      ]
    },
    {
      "cell_type": "code",
      "metadata": {
        "id": "fpM0j-ldUqA8",
        "colab_type": "code",
        "colab": {
          "base_uri": "https://localhost:8080/",
          "height": 424
        },
        "outputId": "f3037f96-e617-47a3-8574-6d4876c7ecc2"
      },
      "source": [
        "counts = df['user_id'].value_counts()\n",
        "selected_df= df[~df['user_id'].isin(counts[counts < 2].index)]\n",
        "selected_df"
      ],
      "execution_count": null,
      "outputs": [
        {
          "output_type": "execute_result",
          "data": {
            "text/html": [
              "<div>\n",
              "<style scoped>\n",
              "    .dataframe tbody tr th:only-of-type {\n",
              "        vertical-align: middle;\n",
              "    }\n",
              "\n",
              "    .dataframe tbody tr th {\n",
              "        vertical-align: top;\n",
              "    }\n",
              "\n",
              "    .dataframe thead th {\n",
              "        text-align: right;\n",
              "    }\n",
              "</style>\n",
              "<table border=\"1\" class=\"dataframe\">\n",
              "  <thead>\n",
              "    <tr style=\"text-align: right;\">\n",
              "      <th></th>\n",
              "      <th>problem_id</th>\n",
              "      <th>user_id</th>\n",
              "      <th>start_time</th>\n",
              "      <th>end_time</th>\n",
              "      <th>correct</th>\n",
              "      <th>attempt_count</th>\n",
              "      <th>skill_id</th>\n",
              "    </tr>\n",
              "  </thead>\n",
              "  <tbody>\n",
              "    <tr>\n",
              "      <th>0</th>\n",
              "      <td>557460</td>\n",
              "      <td>61394</td>\n",
              "      <td>2012-09-28 15:11:27</td>\n",
              "      <td>2012-09-28 15:11:36.856</td>\n",
              "      <td>1.0</td>\n",
              "      <td>1</td>\n",
              "      <td>999</td>\n",
              "    </tr>\n",
              "    <tr>\n",
              "      <th>1</th>\n",
              "      <td>365981</td>\n",
              "      <td>61394</td>\n",
              "      <td>2012-10-09 11:01:52</td>\n",
              "      <td>2012-10-09 11:02:13.182</td>\n",
              "      <td>1.0</td>\n",
              "      <td>1</td>\n",
              "      <td>54</td>\n",
              "    </tr>\n",
              "    <tr>\n",
              "      <th>2</th>\n",
              "      <td>426415</td>\n",
              "      <td>61394</td>\n",
              "      <td>2013-03-07 10:53:20</td>\n",
              "      <td>2013-03-07 10:53:28.661</td>\n",
              "      <td>0.0</td>\n",
              "      <td>1</td>\n",
              "      <td>279</td>\n",
              "    </tr>\n",
              "    <tr>\n",
              "      <th>3</th>\n",
              "      <td>86686</td>\n",
              "      <td>61394</td>\n",
              "      <td>2013-08-20 19:54:56</td>\n",
              "      <td>2013-08-20 19:55:21.753</td>\n",
              "      <td>1.0</td>\n",
              "      <td>1</td>\n",
              "      <td>79</td>\n",
              "    </tr>\n",
              "    <tr>\n",
              "      <th>4</th>\n",
              "      <td>399669</td>\n",
              "      <td>76592</td>\n",
              "      <td>2012-09-10 17:20:10</td>\n",
              "      <td>2012-09-10 17:24:56.579</td>\n",
              "      <td>1.0</td>\n",
              "      <td>1</td>\n",
              "      <td>999</td>\n",
              "    </tr>\n",
              "    <tr>\n",
              "      <th>...</th>\n",
              "      <td>...</td>\n",
              "      <td>...</td>\n",
              "      <td>...</td>\n",
              "      <td>...</td>\n",
              "      <td>...</td>\n",
              "      <td>...</td>\n",
              "      <td>...</td>\n",
              "    </tr>\n",
              "    <tr>\n",
              "      <th>6123265</th>\n",
              "      <td>330756</td>\n",
              "      <td>227984</td>\n",
              "      <td>2013-08-30 10:10:55</td>\n",
              "      <td>2013-08-30 10:11:08.935</td>\n",
              "      <td>1.0</td>\n",
              "      <td>1</td>\n",
              "      <td>999</td>\n",
              "    </tr>\n",
              "    <tr>\n",
              "      <th>6123266</th>\n",
              "      <td>765964</td>\n",
              "      <td>228009</td>\n",
              "      <td>2013-08-31 10:23:24</td>\n",
              "      <td>2013-08-31 10:23:27.757</td>\n",
              "      <td>0.0</td>\n",
              "      <td>1</td>\n",
              "      <td>999</td>\n",
              "    </tr>\n",
              "    <tr>\n",
              "      <th>6123267</th>\n",
              "      <td>84891</td>\n",
              "      <td>228039</td>\n",
              "      <td>2013-08-30 11:29:35</td>\n",
              "      <td>2013-08-30 11:30:05.517</td>\n",
              "      <td>0.0</td>\n",
              "      <td>1</td>\n",
              "      <td>277</td>\n",
              "    </tr>\n",
              "    <tr>\n",
              "      <th>6123268</th>\n",
              "      <td>543973</td>\n",
              "      <td>228055</td>\n",
              "      <td>2013-08-30 11:52:37</td>\n",
              "      <td>2013-08-30 11:52:41.251</td>\n",
              "      <td>1.0</td>\n",
              "      <td>1</td>\n",
              "      <td>999</td>\n",
              "    </tr>\n",
              "    <tr>\n",
              "      <th>6123269</th>\n",
              "      <td>136311</td>\n",
              "      <td>228142</td>\n",
              "      <td>2013-08-30 13:41:33</td>\n",
              "      <td>2013-08-30 13:46:12.745</td>\n",
              "      <td>1.0</td>\n",
              "      <td>1</td>\n",
              "      <td>999</td>\n",
              "    </tr>\n",
              "  </tbody>\n",
              "</table>\n",
              "<p>5939169 rows × 7 columns</p>\n",
              "</div>"
            ],
            "text/plain": [
              "         problem_id  user_id  ... attempt_count skill_id\n",
              "0            557460    61394  ...             1      999\n",
              "1            365981    61394  ...             1       54\n",
              "2            426415    61394  ...             1      279\n",
              "3             86686    61394  ...             1       79\n",
              "4            399669    76592  ...             1      999\n",
              "...             ...      ...  ...           ...      ...\n",
              "6123265      330756   227984  ...             1      999\n",
              "6123266      765964   228009  ...             1      999\n",
              "6123267       84891   228039  ...             1      277\n",
              "6123268      543973   228055  ...             1      999\n",
              "6123269      136311   228142  ...             1      999\n",
              "\n",
              "[5939169 rows x 7 columns]"
            ]
          },
          "metadata": {
            "tags": []
          },
          "execution_count": 63
        }
      ]
    },
    {
      "cell_type": "code",
      "metadata": {
        "id": "XP3oIACdhupv",
        "colab_type": "code",
        "colab": {
          "base_uri": "https://localhost:8080/",
          "height": 231
        },
        "outputId": "b0884683-6a2b-4a7b-b802-b8362cf48ab7"
      },
      "source": [
        "selected_df['user_id'].value_counts()"
      ],
      "execution_count": null,
      "outputs": [
        {
          "output_type": "execute_result",
          "data": {
            "text/plain": [
              "221054    4760\n",
              "220012    3551\n",
              "169527    3421\n",
              "92113     3289\n",
              "218757    3157\n",
              "          ... \n",
              "177088       2\n",
              "198066       2\n",
              "198995       2\n",
              "194926       2\n",
              "203435       2\n",
              "Name: user_id, Length: 45969, dtype: int64"
            ]
          },
          "metadata": {
            "tags": []
          },
          "execution_count": 64
        }
      ]
    },
    {
      "cell_type": "code",
      "metadata": {
        "id": "3Ic0u7nzjicH",
        "colab_type": "code",
        "colab": {
          "base_uri": "https://localhost:8080/",
          "height": 112
        },
        "outputId": "beae9387-7830-46b6-8795-f2d39af06acb"
      },
      "source": [
        "df[df['user_id'] == 221324]"
      ],
      "execution_count": null,
      "outputs": [
        {
          "output_type": "execute_result",
          "data": {
            "text/html": [
              "<div>\n",
              "<style scoped>\n",
              "    .dataframe tbody tr th:only-of-type {\n",
              "        vertical-align: middle;\n",
              "    }\n",
              "\n",
              "    .dataframe tbody tr th {\n",
              "        vertical-align: top;\n",
              "    }\n",
              "\n",
              "    .dataframe thead th {\n",
              "        text-align: right;\n",
              "    }\n",
              "</style>\n",
              "<table border=\"1\" class=\"dataframe\">\n",
              "  <thead>\n",
              "    <tr style=\"text-align: right;\">\n",
              "      <th></th>\n",
              "      <th>problem_id</th>\n",
              "      <th>user_id</th>\n",
              "      <th>start_time</th>\n",
              "      <th>end_time</th>\n",
              "      <th>correct</th>\n",
              "      <th>attempt_count</th>\n",
              "      <th>skill_id</th>\n",
              "    </tr>\n",
              "  </thead>\n",
              "  <tbody>\n",
              "    <tr>\n",
              "      <th>381890</th>\n",
              "      <td>108501</td>\n",
              "      <td>221324</td>\n",
              "      <td>2013-06-16 23:01:02</td>\n",
              "      <td>2013-06-16 23:01:27.992</td>\n",
              "      <td>1.0</td>\n",
              "      <td>1</td>\n",
              "      <td>999</td>\n",
              "    </tr>\n",
              "    <tr>\n",
              "      <th>4771501</th>\n",
              "      <td>108499</td>\n",
              "      <td>221324</td>\n",
              "      <td>2013-06-16 23:02:32</td>\n",
              "      <td>2013-06-16 23:03:08.199</td>\n",
              "      <td>1.0</td>\n",
              "      <td>1</td>\n",
              "      <td>999</td>\n",
              "    </tr>\n",
              "  </tbody>\n",
              "</table>\n",
              "</div>"
            ],
            "text/plain": [
              "         problem_id  user_id  ... attempt_count skill_id\n",
              "381890       108501   221324  ...             1      999\n",
              "4771501      108499   221324  ...             1      999\n",
              "\n",
              "[2 rows x 7 columns]"
            ]
          },
          "metadata": {
            "tags": []
          },
          "execution_count": 65
        }
      ]
    },
    {
      "cell_type": "code",
      "metadata": {
        "id": "psu99hP_jscd",
        "colab_type": "code",
        "colab": {}
      },
      "source": [
        "skill_counts = selected_df['skill_id'].value_counts()"
      ],
      "execution_count": null,
      "outputs": []
    },
    {
      "cell_type": "code",
      "metadata": {
        "id": "EColOlZAj3Gv",
        "colab_type": "code",
        "colab": {
          "base_uri": "https://localhost:8080/",
          "height": 231
        },
        "outputId": "11a937d2-1e09-427f-8599-a63d02bb96ca"
      },
      "source": [
        "skill_counts"
      ],
      "execution_count": null,
      "outputs": [
        {
          "output_type": "execute_result",
          "data": {
            "text/plain": [
              "999    3325272\n",
              "311     182937\n",
              "277     144084\n",
              "280     143417\n",
              "47       95336\n",
              "        ...   \n",
              "38           5\n",
              "178          4\n",
              "611          3\n",
              "177          1\n",
              "291          1\n",
              "Name: skill_id, Length: 266, dtype: int64"
            ]
          },
          "metadata": {
            "tags": []
          },
          "execution_count": 67
        }
      ]
    },
    {
      "cell_type": "code",
      "metadata": {
        "id": "Q7DRN6IEbD38",
        "colab_type": "code",
        "colab": {
          "base_uri": "https://localhost:8080/",
          "height": 35
        },
        "outputId": "61940c2f-5e2c-4086-961b-0d4a58969cc8"
      },
      "source": [
        "len(counts)"
      ],
      "execution_count": null,
      "outputs": [
        {
          "output_type": "execute_result",
          "data": {
            "text/plain": [
              "46674"
            ]
          },
          "metadata": {
            "tags": []
          },
          "execution_count": 91
        }
      ]
    },
    {
      "cell_type": "code",
      "metadata": {
        "id": "8ElzOkzcX_i7",
        "colab_type": "code",
        "colab": {
          "base_uri": "https://localhost:8080/",
          "height": 35
        },
        "outputId": "4298e237-bce6-4fc9-b706-e0ec05a40fb2"
      },
      "source": [
        "len(selected_df) - 3325272"
      ],
      "execution_count": null,
      "outputs": [
        {
          "output_type": "execute_result",
          "data": {
            "text/plain": [
              "2613897"
            ]
          },
          "metadata": {
            "tags": []
          },
          "execution_count": 70
        }
      ]
    },
    {
      "cell_type": "code",
      "metadata": {
        "id": "HC8YXe9kZore",
        "colab_type": "code",
        "colab": {
          "base_uri": "https://localhost:8080/",
          "height": 160
        },
        "outputId": "28b7ecea-f3ef-4ee2-9519-15b8d73293d6"
      },
      "source": [
        "selected_df.nunique()"
      ],
      "execution_count": null,
      "outputs": [
        {
          "output_type": "execute_result",
          "data": {
            "text/plain": [
              "problem_id        179969\n",
              "user_id            45976\n",
              "start_time       4570663\n",
              "end_time         5942658\n",
              "correct               13\n",
              "attempt_count         30\n",
              "skill_id             266\n",
              "dtype: int64"
            ]
          },
          "metadata": {
            "tags": []
          },
          "execution_count": 32
        }
      ]
    },
    {
      "cell_type": "code",
      "metadata": {
        "id": "X5fBZTvtvgLD",
        "colab_type": "code",
        "colab": {
          "base_uri": "https://localhost:8080/",
          "height": 35
        },
        "outputId": "6ea47c08-75da-48be-faa1-1b852507b1df"
      },
      "source": [
        "len(selected_df.drop_duplicates())"
      ],
      "execution_count": null,
      "outputs": [
        {
          "output_type": "execute_result",
          "data": {
            "text/plain": [
              "5944476"
            ]
          },
          "metadata": {
            "tags": []
          },
          "execution_count": 38
        }
      ]
    },
    {
      "cell_type": "code",
      "metadata": {
        "id": "9OYtI31Rb7qb",
        "colab_type": "code",
        "colab": {
          "base_uri": "https://localhost:8080/",
          "height": 424
        },
        "outputId": "827c712a-4baa-43b0-fa65-4a733f05c6c9"
      },
      "source": [
        "df[df['attempt_count'] == 0]"
      ],
      "execution_count": null,
      "outputs": [
        {
          "output_type": "execute_result",
          "data": {
            "text/html": [
              "<div>\n",
              "<style scoped>\n",
              "    .dataframe tbody tr th:only-of-type {\n",
              "        vertical-align: middle;\n",
              "    }\n",
              "\n",
              "    .dataframe tbody tr th {\n",
              "        vertical-align: top;\n",
              "    }\n",
              "\n",
              "    .dataframe thead th {\n",
              "        text-align: right;\n",
              "    }\n",
              "</style>\n",
              "<table border=\"1\" class=\"dataframe\">\n",
              "  <thead>\n",
              "    <tr style=\"text-align: right;\">\n",
              "      <th></th>\n",
              "      <th>problem_id</th>\n",
              "      <th>user_id</th>\n",
              "      <th>end_time</th>\n",
              "      <th>correct</th>\n",
              "      <th>attempt_count</th>\n",
              "      <th>skill_id</th>\n",
              "    </tr>\n",
              "  </thead>\n",
              "  <tbody>\n",
              "    <tr>\n",
              "      <th>235</th>\n",
              "      <td>108293</td>\n",
              "      <td>93574</td>\n",
              "      <td>2012-11-19 13:03:48.491</td>\n",
              "      <td>0</td>\n",
              "      <td>0</td>\n",
              "      <td>312</td>\n",
              "    </tr>\n",
              "    <tr>\n",
              "      <th>426</th>\n",
              "      <td>139575</td>\n",
              "      <td>100652</td>\n",
              "      <td>2012-11-07 17:43:37.193</td>\n",
              "      <td>0</td>\n",
              "      <td>0</td>\n",
              "      <td>17</td>\n",
              "    </tr>\n",
              "    <tr>\n",
              "      <th>940</th>\n",
              "      <td>108032</td>\n",
              "      <td>122049</td>\n",
              "      <td>2013-02-28 21:08:19.107</td>\n",
              "      <td>0</td>\n",
              "      <td>0</td>\n",
              "      <td>312</td>\n",
              "    </tr>\n",
              "    <tr>\n",
              "      <th>1174</th>\n",
              "      <td>554729</td>\n",
              "      <td>124084</td>\n",
              "      <td>2012-09-20 19:27:23.994</td>\n",
              "      <td>0</td>\n",
              "      <td>0</td>\n",
              "      <td>999</td>\n",
              "    </tr>\n",
              "    <tr>\n",
              "      <th>1292</th>\n",
              "      <td>545347</td>\n",
              "      <td>125416</td>\n",
              "      <td>2012-09-05 16:08:53.307</td>\n",
              "      <td>0</td>\n",
              "      <td>0</td>\n",
              "      <td>999</td>\n",
              "    </tr>\n",
              "    <tr>\n",
              "      <th>...</th>\n",
              "      <td>...</td>\n",
              "      <td>...</td>\n",
              "      <td>...</td>\n",
              "      <td>...</td>\n",
              "      <td>...</td>\n",
              "      <td>...</td>\n",
              "    </tr>\n",
              "    <tr>\n",
              "      <th>6122746</th>\n",
              "      <td>170731</td>\n",
              "      <td>221915</td>\n",
              "      <td>2013-07-18 11:12:27.053</td>\n",
              "      <td>0</td>\n",
              "      <td>0</td>\n",
              "      <td>39</td>\n",
              "    </tr>\n",
              "    <tr>\n",
              "      <th>6122822</th>\n",
              "      <td>12383</td>\n",
              "      <td>222500</td>\n",
              "      <td>2013-08-26 19:40:32.453</td>\n",
              "      <td>0</td>\n",
              "      <td>0</td>\n",
              "      <td>47</td>\n",
              "    </tr>\n",
              "    <tr>\n",
              "      <th>6123001</th>\n",
              "      <td>12387</td>\n",
              "      <td>223445</td>\n",
              "      <td>2013-07-31 21:46:45.393</td>\n",
              "      <td>0</td>\n",
              "      <td>0</td>\n",
              "      <td>91</td>\n",
              "    </tr>\n",
              "    <tr>\n",
              "      <th>6123188</th>\n",
              "      <td>765824</td>\n",
              "      <td>225944</td>\n",
              "      <td>2013-08-30 12:57:26.138</td>\n",
              "      <td>0</td>\n",
              "      <td>0</td>\n",
              "      <td>999</td>\n",
              "    </tr>\n",
              "    <tr>\n",
              "      <th>6123237</th>\n",
              "      <td>760541</td>\n",
              "      <td>226860</td>\n",
              "      <td>2013-08-29 07:46:40.524</td>\n",
              "      <td>0</td>\n",
              "      <td>0</td>\n",
              "      <td>999</td>\n",
              "    </tr>\n",
              "  </tbody>\n",
              "</table>\n",
              "<p>46570 rows × 6 columns</p>\n",
              "</div>"
            ],
            "text/plain": [
              "         problem_id  user_id  ... attempt_count  skill_id\n",
              "235          108293    93574  ...             0       312\n",
              "426          139575   100652  ...             0        17\n",
              "940          108032   122049  ...             0       312\n",
              "1174         554729   124084  ...             0       999\n",
              "1292         545347   125416  ...             0       999\n",
              "...             ...      ...  ...           ...       ...\n",
              "6122746      170731   221915  ...             0        39\n",
              "6122822       12383   222500  ...             0        47\n",
              "6123001       12387   223445  ...             0        91\n",
              "6123188      765824   225944  ...             0       999\n",
              "6123237      760541   226860  ...             0       999\n",
              "\n",
              "[46570 rows x 6 columns]"
            ]
          },
          "metadata": {
            "tags": []
          },
          "execution_count": 93
        }
      ]
    },
    {
      "cell_type": "code",
      "metadata": {
        "id": "YXI3EK3Wq8T_",
        "colab_type": "code",
        "colab": {
          "base_uri": "https://localhost:8080/",
          "height": 424
        },
        "outputId": "50c3b523-2104-40b7-a06b-75f99fa5613f"
      },
      "source": [
        "counts = selected_df['end_time'].value_counts()\n",
        "dub_time_df= selected_df[~selected_df['end_time'].isin(counts[counts < 2].index)]\n",
        "dub_time_df"
      ],
      "execution_count": null,
      "outputs": [
        {
          "output_type": "execute_result",
          "data": {
            "text/html": [
              "<div>\n",
              "<style scoped>\n",
              "    .dataframe tbody tr th:only-of-type {\n",
              "        vertical-align: middle;\n",
              "    }\n",
              "\n",
              "    .dataframe tbody tr th {\n",
              "        vertical-align: top;\n",
              "    }\n",
              "\n",
              "    .dataframe thead th {\n",
              "        text-align: right;\n",
              "    }\n",
              "</style>\n",
              "<table border=\"1\" class=\"dataframe\">\n",
              "  <thead>\n",
              "    <tr style=\"text-align: right;\">\n",
              "      <th></th>\n",
              "      <th>problem_id</th>\n",
              "      <th>user_id</th>\n",
              "      <th>start_time</th>\n",
              "      <th>end_time</th>\n",
              "      <th>correct</th>\n",
              "      <th>attempt_count</th>\n",
              "      <th>skill_id</th>\n",
              "    </tr>\n",
              "  </thead>\n",
              "  <tbody>\n",
              "    <tr>\n",
              "      <th>20</th>\n",
              "      <td>543983</td>\n",
              "      <td>85334</td>\n",
              "      <td>2012-09-04 13:54:23</td>\n",
              "      <td>2012-09-04 13:54:25.611</td>\n",
              "      <td>1.0</td>\n",
              "      <td>1</td>\n",
              "      <td>999</td>\n",
              "    </tr>\n",
              "    <tr>\n",
              "      <th>770</th>\n",
              "      <td>72689</td>\n",
              "      <td>120299</td>\n",
              "      <td>2012-09-10 08:08:10</td>\n",
              "      <td>2012-09-10 08:08:32.772</td>\n",
              "      <td>0.0</td>\n",
              "      <td>1</td>\n",
              "      <td>999</td>\n",
              "    </tr>\n",
              "    <tr>\n",
              "      <th>4310</th>\n",
              "      <td>431679</td>\n",
              "      <td>176267</td>\n",
              "      <td>2013-02-25 15:46:09</td>\n",
              "      <td>2013-02-25 15:46:21.683</td>\n",
              "      <td>1.0</td>\n",
              "      <td>1</td>\n",
              "      <td>999</td>\n",
              "    </tr>\n",
              "    <tr>\n",
              "      <th>7260</th>\n",
              "      <td>399575</td>\n",
              "      <td>183449</td>\n",
              "      <td>2013-02-25 09:46:53</td>\n",
              "      <td>2013-02-25 09:48:28.763</td>\n",
              "      <td>0.0</td>\n",
              "      <td>2</td>\n",
              "      <td>999</td>\n",
              "    </tr>\n",
              "    <tr>\n",
              "      <th>7310</th>\n",
              "      <td>169675</td>\n",
              "      <td>183656</td>\n",
              "      <td>2013-04-05 14:04:57</td>\n",
              "      <td>2013-04-05 14:05:33.849</td>\n",
              "      <td>1.0</td>\n",
              "      <td>1</td>\n",
              "      <td>296</td>\n",
              "    </tr>\n",
              "    <tr>\n",
              "      <th>...</th>\n",
              "      <td>...</td>\n",
              "      <td>...</td>\n",
              "      <td>...</td>\n",
              "      <td>...</td>\n",
              "      <td>...</td>\n",
              "      <td>...</td>\n",
              "      <td>...</td>\n",
              "    </tr>\n",
              "    <tr>\n",
              "      <th>6114158</th>\n",
              "      <td>536990</td>\n",
              "      <td>171500</td>\n",
              "      <td>2012-09-07 11:46:31</td>\n",
              "      <td>2012-09-07 11:47:07.181</td>\n",
              "      <td>0.0</td>\n",
              "      <td>2</td>\n",
              "      <td>999</td>\n",
              "    </tr>\n",
              "    <tr>\n",
              "      <th>6115521</th>\n",
              "      <td>522445</td>\n",
              "      <td>176289</td>\n",
              "      <td>2012-10-02 10:18:16</td>\n",
              "      <td>2012-10-02 10:18:21.12</td>\n",
              "      <td>1.0</td>\n",
              "      <td>1</td>\n",
              "      <td>999</td>\n",
              "    </tr>\n",
              "    <tr>\n",
              "      <th>6116011</th>\n",
              "      <td>416575</td>\n",
              "      <td>177016</td>\n",
              "      <td>2012-11-16 10:42:34</td>\n",
              "      <td>2012-11-16 10:44:27.128</td>\n",
              "      <td>0.0</td>\n",
              "      <td>1</td>\n",
              "      <td>999</td>\n",
              "    </tr>\n",
              "    <tr>\n",
              "      <th>6120808</th>\n",
              "      <td>569758</td>\n",
              "      <td>204174</td>\n",
              "      <td>2013-01-24 08:42:55</td>\n",
              "      <td>2013-01-24 08:43:05.613</td>\n",
              "      <td>1.0</td>\n",
              "      <td>1</td>\n",
              "      <td>999</td>\n",
              "    </tr>\n",
              "    <tr>\n",
              "      <th>6122178</th>\n",
              "      <td>422791</td>\n",
              "      <td>216692</td>\n",
              "      <td>2013-05-08 15:31:27</td>\n",
              "      <td>2013-05-08 15:31:37.875</td>\n",
              "      <td>1.0</td>\n",
              "      <td>1</td>\n",
              "      <td>999</td>\n",
              "    </tr>\n",
              "  </tbody>\n",
              "</table>\n",
              "<p>3636 rows × 7 columns</p>\n",
              "</div>"
            ],
            "text/plain": [
              "         problem_id  user_id  ... attempt_count skill_id\n",
              "20           543983    85334  ...             1      999\n",
              "770           72689   120299  ...             1      999\n",
              "4310         431679   176267  ...             1      999\n",
              "7260         399575   183449  ...             2      999\n",
              "7310         169675   183656  ...             1      296\n",
              "...             ...      ...  ...           ...      ...\n",
              "6114158      536990   171500  ...             2      999\n",
              "6115521      522445   176289  ...             1      999\n",
              "6116011      416575   177016  ...             1      999\n",
              "6120808      569758   204174  ...             1      999\n",
              "6122178      422791   216692  ...             1      999\n",
              "\n",
              "[3636 rows x 7 columns]"
            ]
          },
          "metadata": {
            "tags": []
          },
          "execution_count": 33
        }
      ]
    },
    {
      "cell_type": "code",
      "metadata": {
        "id": "EJVRPsP8utl0",
        "colab_type": "code",
        "colab": {
          "base_uri": "https://localhost:8080/",
          "height": 112
        },
        "outputId": "b6962a38-12f0-409b-f202-98597b79c753"
      },
      "source": [
        "dub_time_df[dub_time_df['end_time'] == '2012-10-12 13:41:00.974']"
      ],
      "execution_count": null,
      "outputs": [
        {
          "output_type": "execute_result",
          "data": {
            "text/html": [
              "<div>\n",
              "<style scoped>\n",
              "    .dataframe tbody tr th:only-of-type {\n",
              "        vertical-align: middle;\n",
              "    }\n",
              "\n",
              "    .dataframe tbody tr th {\n",
              "        vertical-align: top;\n",
              "    }\n",
              "\n",
              "    .dataframe thead th {\n",
              "        text-align: right;\n",
              "    }\n",
              "</style>\n",
              "<table border=\"1\" class=\"dataframe\">\n",
              "  <thead>\n",
              "    <tr style=\"text-align: right;\">\n",
              "      <th></th>\n",
              "      <th>problem_id</th>\n",
              "      <th>user_id</th>\n",
              "      <th>start_time</th>\n",
              "      <th>end_time</th>\n",
              "      <th>correct</th>\n",
              "      <th>attempt_count</th>\n",
              "      <th>skill_id</th>\n",
              "    </tr>\n",
              "  </thead>\n",
              "  <tbody>\n",
              "    <tr>\n",
              "      <th>838240</th>\n",
              "      <td>90190</td>\n",
              "      <td>132804</td>\n",
              "      <td>2012-10-12 13:40:56</td>\n",
              "      <td>2012-10-12 13:41:00.974</td>\n",
              "      <td>1.0</td>\n",
              "      <td>1</td>\n",
              "      <td>279</td>\n",
              "    </tr>\n",
              "    <tr>\n",
              "      <th>2174014</th>\n",
              "      <td>562048</td>\n",
              "      <td>188843</td>\n",
              "      <td>2012-10-12 13:40:59</td>\n",
              "      <td>2012-10-12 13:41:00.974</td>\n",
              "      <td>1.0</td>\n",
              "      <td>1</td>\n",
              "      <td>999</td>\n",
              "    </tr>\n",
              "  </tbody>\n",
              "</table>\n",
              "</div>"
            ],
            "text/plain": [
              "         problem_id  user_id  ... attempt_count skill_id\n",
              "838240        90190   132804  ...             1      279\n",
              "2174014      562048   188843  ...             1      999\n",
              "\n",
              "[2 rows x 7 columns]"
            ]
          },
          "metadata": {
            "tags": []
          },
          "execution_count": 36
        }
      ]
    },
    {
      "cell_type": "code",
      "metadata": {
        "id": "-xlSgYgNrkPY",
        "colab_type": "code",
        "colab": {
          "base_uri": "https://localhost:8080/",
          "height": 231
        },
        "outputId": "ad41b4b9-7f29-4ebd-b193-1c2954cd73e3"
      },
      "source": [
        "dub_time_df['end_time'].value_counts()"
      ],
      "execution_count": null,
      "outputs": [
        {
          "output_type": "execute_result",
          "data": {
            "text/plain": [
              "2012-10-02 16:46:42.859    2\n",
              "2012-10-12 13:41:00.974    2\n",
              "2012-10-09 10:35:47.266    2\n",
              "2012-11-07 14:23:09.615    2\n",
              "2013-01-24 10:22:13.483    2\n",
              "                          ..\n",
              "2013-01-29 11:04:26.04     2\n",
              "2012-11-02 12:45:51.032    2\n",
              "2013-05-02 10:44:39.726    2\n",
              "2012-12-13 13:47:23.056    2\n",
              "2012-09-13 10:12:46.661    2\n",
              "Name: end_time, Length: 1818, dtype: int64"
            ]
          },
          "metadata": {
            "tags": []
          },
          "execution_count": 34
        }
      ]
    },
    {
      "cell_type": "markdown",
      "metadata": {
        "colab_type": "text",
        "id": "0sVusYm-nmYz"
      },
      "source": [
        "#### (drop NaN ) make a complete and minimum csv dataset for experiments"
      ]
    },
    {
      "cell_type": "code",
      "metadata": {
        "colab_type": "code",
        "id": "SA6I5Pz4nmY9",
        "colab": {
          "base_uri": "https://localhost:8080/",
          "height": 136
        },
        "outputId": "477014f7-7fc6-4817-9c48-c57a32c1f6ad"
      },
      "source": [
        "import pandas as pd \n",
        "assist2012_preprocessed = pd.read_csv(\n",
        "    \"/content/drive/My Drive/master thesis/Datasets/assistment_dataset/2012-2013-data-with-predictions-4-final.csv\",\n",
        "    usecols=['assistment_id', 'user_id', 'start_time', 'end_time', 'correct', 'attempt_count', 'skill_id', 'skill'])\n",
        "print(len(assist2012_preprocessed))\n",
        "assist2012_preprocessed.head(1)"
      ],
      "execution_count": null,
      "outputs": [
        {
          "output_type": "stream",
          "text": [
            "6123270\n"
          ],
          "name": "stdout"
        },
        {
          "output_type": "execute_result",
          "data": {
            "text/html": [
              "<div>\n",
              "<style scoped>\n",
              "    .dataframe tbody tr th:only-of-type {\n",
              "        vertical-align: middle;\n",
              "    }\n",
              "\n",
              "    .dataframe tbody tr th {\n",
              "        vertical-align: top;\n",
              "    }\n",
              "\n",
              "    .dataframe thead th {\n",
              "        text-align: right;\n",
              "    }\n",
              "</style>\n",
              "<table border=\"1\" class=\"dataframe\">\n",
              "  <thead>\n",
              "    <tr style=\"text-align: right;\">\n",
              "      <th></th>\n",
              "      <th>skill</th>\n",
              "      <th>user_id</th>\n",
              "      <th>assistment_id</th>\n",
              "      <th>start_time</th>\n",
              "      <th>end_time</th>\n",
              "      <th>correct</th>\n",
              "      <th>attempt_count</th>\n",
              "      <th>skill_id</th>\n",
              "    </tr>\n",
              "  </thead>\n",
              "  <tbody>\n",
              "    <tr>\n",
              "      <th>0</th>\n",
              "      <td>NaN</td>\n",
              "      <td>61394</td>\n",
              "      <td>341511</td>\n",
              "      <td>2012-09-28 15:11:27</td>\n",
              "      <td>2012-09-28 15:11:36.856</td>\n",
              "      <td>1.0</td>\n",
              "      <td>1</td>\n",
              "      <td>NaN</td>\n",
              "    </tr>\n",
              "  </tbody>\n",
              "</table>\n",
              "</div>"
            ],
            "text/plain": [
              "  skill  user_id  assistment_id  ... correct attempt_count  skill_id\n",
              "0   NaN    61394         341511  ...     1.0             1       NaN\n",
              "\n",
              "[1 rows x 8 columns]"
            ]
          },
          "metadata": {
            "tags": []
          },
          "execution_count": 6
        }
      ]
    },
    {
      "cell_type": "code",
      "metadata": {
        "colab_type": "code",
        "id": "0JqyV_sonmZW",
        "colab": {
          "base_uri": "https://localhost:8080/",
          "height": 517
        },
        "outputId": "e173eef3-600c-466f-dcdf-6e6f635286c7"
      },
      "source": [
        "df = assist2012_preprocessed\n",
        "print(len(df))\n",
        "#df = df.drop_duplicates(subset=['problem_id','user_id','attempt_count'])\n",
        "df = df.drop_duplicates()\n",
        "print(len(df))\n",
        "df = df.dropna(subset=['skill_id', 'skill' ])\n",
        "# change 'correct' column into a boolean format as recommended in ASSIST dataset website\n",
        "#df['correct'] = (df['correct'] >= 1).astype(int)\n",
        "df = df[df[\"correct\"].isin([0, 1])]\n",
        "df = df.astype({'skill_id': 'int32'})\n",
        "print(len(df))\n",
        "df.nunique()"
      ],
      "execution_count": null,
      "outputs": [
        {
          "output_type": "stream",
          "text": [
            "6123270\n"
          ],
          "name": "stdout"
        },
        {
          "output_type": "error",
          "ename": "KeyboardInterrupt",
          "evalue": "ignored",
          "traceback": [
            "\u001b[0;31m---------------------------------------------------------------------------\u001b[0m",
            "\u001b[0;31mKeyboardInterrupt\u001b[0m                         Traceback (most recent call last)",
            "\u001b[0;32m<ipython-input-7-7d34ffc25eae>\u001b[0m in \u001b[0;36m<module>\u001b[0;34m()\u001b[0m\n\u001b[1;32m      2\u001b[0m \u001b[0mprint\u001b[0m\u001b[0;34m(\u001b[0m\u001b[0mlen\u001b[0m\u001b[0;34m(\u001b[0m\u001b[0mdf\u001b[0m\u001b[0;34m)\u001b[0m\u001b[0;34m)\u001b[0m\u001b[0;34m\u001b[0m\u001b[0;34m\u001b[0m\u001b[0m\n\u001b[1;32m      3\u001b[0m \u001b[0;31m#df = df.drop_duplicates(subset=['problem_id','user_id','attempt_count'])\u001b[0m\u001b[0;34m\u001b[0m\u001b[0;34m\u001b[0m\u001b[0;34m\u001b[0m\u001b[0m\n\u001b[0;32m----> 4\u001b[0;31m \u001b[0mdf\u001b[0m \u001b[0;34m=\u001b[0m \u001b[0mdf\u001b[0m\u001b[0;34m.\u001b[0m\u001b[0mdrop_duplicates\u001b[0m\u001b[0;34m(\u001b[0m\u001b[0;34m)\u001b[0m\u001b[0;34m\u001b[0m\u001b[0;34m\u001b[0m\u001b[0m\n\u001b[0m\u001b[1;32m      5\u001b[0m \u001b[0mprint\u001b[0m\u001b[0;34m(\u001b[0m\u001b[0mlen\u001b[0m\u001b[0;34m(\u001b[0m\u001b[0mdf\u001b[0m\u001b[0;34m)\u001b[0m\u001b[0;34m)\u001b[0m\u001b[0;34m\u001b[0m\u001b[0;34m\u001b[0m\u001b[0m\n\u001b[1;32m      6\u001b[0m \u001b[0mdf\u001b[0m \u001b[0;34m=\u001b[0m \u001b[0mdf\u001b[0m\u001b[0;34m.\u001b[0m\u001b[0mdropna\u001b[0m\u001b[0;34m(\u001b[0m\u001b[0msubset\u001b[0m\u001b[0;34m=\u001b[0m\u001b[0;34m[\u001b[0m\u001b[0;34m'skill_id'\u001b[0m\u001b[0;34m,\u001b[0m \u001b[0;34m'skill'\u001b[0m \u001b[0;34m]\u001b[0m\u001b[0;34m)\u001b[0m\u001b[0;34m\u001b[0m\u001b[0;34m\u001b[0m\u001b[0m\n",
            "\u001b[0;32m/usr/local/lib/python3.6/dist-packages/pandas/core/frame.py\u001b[0m in \u001b[0;36mdrop_duplicates\u001b[0;34m(self, subset, keep, inplace, ignore_index)\u001b[0m\n\u001b[1;32m   4809\u001b[0m \u001b[0;34m\u001b[0m\u001b[0m\n\u001b[1;32m   4810\u001b[0m         \u001b[0minplace\u001b[0m \u001b[0;34m=\u001b[0m \u001b[0mvalidate_bool_kwarg\u001b[0m\u001b[0;34m(\u001b[0m\u001b[0minplace\u001b[0m\u001b[0;34m,\u001b[0m \u001b[0;34m\"inplace\"\u001b[0m\u001b[0;34m)\u001b[0m\u001b[0;34m\u001b[0m\u001b[0;34m\u001b[0m\u001b[0m\n\u001b[0;32m-> 4811\u001b[0;31m         \u001b[0mduplicated\u001b[0m \u001b[0;34m=\u001b[0m \u001b[0mself\u001b[0m\u001b[0;34m.\u001b[0m\u001b[0mduplicated\u001b[0m\u001b[0;34m(\u001b[0m\u001b[0msubset\u001b[0m\u001b[0;34m,\u001b[0m \u001b[0mkeep\u001b[0m\u001b[0;34m=\u001b[0m\u001b[0mkeep\u001b[0m\u001b[0;34m)\u001b[0m\u001b[0;34m\u001b[0m\u001b[0;34m\u001b[0m\u001b[0m\n\u001b[0m\u001b[1;32m   4812\u001b[0m \u001b[0;34m\u001b[0m\u001b[0m\n\u001b[1;32m   4813\u001b[0m         \u001b[0;32mif\u001b[0m \u001b[0minplace\u001b[0m\u001b[0;34m:\u001b[0m\u001b[0;34m\u001b[0m\u001b[0;34m\u001b[0m\u001b[0m\n",
            "\u001b[0;32m/usr/local/lib/python3.6/dist-packages/pandas/core/frame.py\u001b[0m in \u001b[0;36mduplicated\u001b[0;34m(self, subset, keep)\u001b[0m\n\u001b[1;32m   4886\u001b[0m \u001b[0;34m\u001b[0m\u001b[0m\n\u001b[1;32m   4887\u001b[0m         \u001b[0mvals\u001b[0m \u001b[0;34m=\u001b[0m \u001b[0;34m(\u001b[0m\u001b[0mcol\u001b[0m\u001b[0;34m.\u001b[0m\u001b[0mvalues\u001b[0m \u001b[0;32mfor\u001b[0m \u001b[0mname\u001b[0m\u001b[0;34m,\u001b[0m \u001b[0mcol\u001b[0m \u001b[0;32min\u001b[0m \u001b[0mself\u001b[0m\u001b[0;34m.\u001b[0m\u001b[0mitems\u001b[0m\u001b[0;34m(\u001b[0m\u001b[0;34m)\u001b[0m \u001b[0;32mif\u001b[0m \u001b[0mname\u001b[0m \u001b[0;32min\u001b[0m \u001b[0msubset\u001b[0m\u001b[0;34m)\u001b[0m\u001b[0;34m\u001b[0m\u001b[0;34m\u001b[0m\u001b[0m\n\u001b[0;32m-> 4888\u001b[0;31m         \u001b[0mlabels\u001b[0m\u001b[0;34m,\u001b[0m \u001b[0mshape\u001b[0m \u001b[0;34m=\u001b[0m \u001b[0mmap\u001b[0m\u001b[0;34m(\u001b[0m\u001b[0mlist\u001b[0m\u001b[0;34m,\u001b[0m \u001b[0mzip\u001b[0m\u001b[0;34m(\u001b[0m\u001b[0;34m*\u001b[0m\u001b[0mmap\u001b[0m\u001b[0;34m(\u001b[0m\u001b[0mf\u001b[0m\u001b[0;34m,\u001b[0m \u001b[0mvals\u001b[0m\u001b[0;34m)\u001b[0m\u001b[0;34m)\u001b[0m\u001b[0;34m)\u001b[0m\u001b[0;34m\u001b[0m\u001b[0;34m\u001b[0m\u001b[0m\n\u001b[0m\u001b[1;32m   4889\u001b[0m \u001b[0;34m\u001b[0m\u001b[0m\n\u001b[1;32m   4890\u001b[0m         \u001b[0mids\u001b[0m \u001b[0;34m=\u001b[0m \u001b[0mget_group_index\u001b[0m\u001b[0;34m(\u001b[0m\u001b[0mlabels\u001b[0m\u001b[0;34m,\u001b[0m \u001b[0mshape\u001b[0m\u001b[0;34m,\u001b[0m \u001b[0msort\u001b[0m\u001b[0;34m=\u001b[0m\u001b[0;32mFalse\u001b[0m\u001b[0;34m,\u001b[0m \u001b[0mxnull\u001b[0m\u001b[0;34m=\u001b[0m\u001b[0;32mFalse\u001b[0m\u001b[0;34m)\u001b[0m\u001b[0;34m\u001b[0m\u001b[0;34m\u001b[0m\u001b[0m\n",
            "\u001b[0;32m/usr/local/lib/python3.6/dist-packages/pandas/core/frame.py\u001b[0m in \u001b[0;36mf\u001b[0;34m(vals)\u001b[0m\n\u001b[1;32m   4861\u001b[0m         \u001b[0;32mdef\u001b[0m \u001b[0mf\u001b[0m\u001b[0;34m(\u001b[0m\u001b[0mvals\u001b[0m\u001b[0;34m)\u001b[0m\u001b[0;34m:\u001b[0m\u001b[0;34m\u001b[0m\u001b[0;34m\u001b[0m\u001b[0m\n\u001b[1;32m   4862\u001b[0m             labels, shape = algorithms.factorize(\n\u001b[0;32m-> 4863\u001b[0;31m                 \u001b[0mvals\u001b[0m\u001b[0;34m,\u001b[0m \u001b[0msize_hint\u001b[0m\u001b[0;34m=\u001b[0m\u001b[0mmin\u001b[0m\u001b[0;34m(\u001b[0m\u001b[0mlen\u001b[0m\u001b[0;34m(\u001b[0m\u001b[0mself\u001b[0m\u001b[0;34m)\u001b[0m\u001b[0;34m,\u001b[0m \u001b[0m_SIZE_HINT_LIMIT\u001b[0m\u001b[0;34m)\u001b[0m\u001b[0;34m\u001b[0m\u001b[0;34m\u001b[0m\u001b[0m\n\u001b[0m\u001b[1;32m   4864\u001b[0m             )\n\u001b[1;32m   4865\u001b[0m             \u001b[0;32mreturn\u001b[0m \u001b[0mlabels\u001b[0m\u001b[0;34m.\u001b[0m\u001b[0mastype\u001b[0m\u001b[0;34m(\u001b[0m\u001b[0;34m\"i8\"\u001b[0m\u001b[0;34m,\u001b[0m \u001b[0mcopy\u001b[0m\u001b[0;34m=\u001b[0m\u001b[0;32mFalse\u001b[0m\u001b[0;34m)\u001b[0m\u001b[0;34m,\u001b[0m \u001b[0mlen\u001b[0m\u001b[0;34m(\u001b[0m\u001b[0mshape\u001b[0m\u001b[0;34m)\u001b[0m\u001b[0;34m\u001b[0m\u001b[0;34m\u001b[0m\u001b[0m\n",
            "\u001b[0;32m/usr/local/lib/python3.6/dist-packages/pandas/core/algorithms.py\u001b[0m in \u001b[0;36mfactorize\u001b[0;34m(values, sort, na_sentinel, size_hint)\u001b[0m\n\u001b[1;32m    634\u001b[0m \u001b[0;34m\u001b[0m\u001b[0m\n\u001b[1;32m    635\u001b[0m         codes, uniques = _factorize_array(\n\u001b[0;32m--> 636\u001b[0;31m             \u001b[0mvalues\u001b[0m\u001b[0;34m,\u001b[0m \u001b[0mna_sentinel\u001b[0m\u001b[0;34m=\u001b[0m\u001b[0mna_sentinel\u001b[0m\u001b[0;34m,\u001b[0m \u001b[0msize_hint\u001b[0m\u001b[0;34m=\u001b[0m\u001b[0msize_hint\u001b[0m\u001b[0;34m,\u001b[0m \u001b[0mna_value\u001b[0m\u001b[0;34m=\u001b[0m\u001b[0mna_value\u001b[0m\u001b[0;34m\u001b[0m\u001b[0;34m\u001b[0m\u001b[0m\n\u001b[0m\u001b[1;32m    637\u001b[0m         )\n\u001b[1;32m    638\u001b[0m \u001b[0;34m\u001b[0m\u001b[0m\n",
            "\u001b[0;32m/usr/local/lib/python3.6/dist-packages/pandas/core/algorithms.py\u001b[0m in \u001b[0;36m_factorize_array\u001b[0;34m(values, na_sentinel, size_hint, na_value)\u001b[0m\n\u001b[1;32m    482\u001b[0m \u001b[0;34m\u001b[0m\u001b[0m\n\u001b[1;32m    483\u001b[0m     \u001b[0mtable\u001b[0m \u001b[0;34m=\u001b[0m \u001b[0mhash_klass\u001b[0m\u001b[0;34m(\u001b[0m\u001b[0msize_hint\u001b[0m \u001b[0;32mor\u001b[0m \u001b[0mlen\u001b[0m\u001b[0;34m(\u001b[0m\u001b[0mvalues\u001b[0m\u001b[0;34m)\u001b[0m\u001b[0;34m)\u001b[0m\u001b[0;34m\u001b[0m\u001b[0;34m\u001b[0m\u001b[0m\n\u001b[0;32m--> 484\u001b[0;31m     \u001b[0muniques\u001b[0m\u001b[0;34m,\u001b[0m \u001b[0mcodes\u001b[0m \u001b[0;34m=\u001b[0m \u001b[0mtable\u001b[0m\u001b[0;34m.\u001b[0m\u001b[0mfactorize\u001b[0m\u001b[0;34m(\u001b[0m\u001b[0mvalues\u001b[0m\u001b[0;34m,\u001b[0m \u001b[0mna_sentinel\u001b[0m\u001b[0;34m=\u001b[0m\u001b[0mna_sentinel\u001b[0m\u001b[0;34m,\u001b[0m \u001b[0mna_value\u001b[0m\u001b[0;34m=\u001b[0m\u001b[0mna_value\u001b[0m\u001b[0;34m)\u001b[0m\u001b[0;34m\u001b[0m\u001b[0;34m\u001b[0m\u001b[0m\n\u001b[0m\u001b[1;32m    485\u001b[0m \u001b[0;34m\u001b[0m\u001b[0m\n\u001b[1;32m    486\u001b[0m     \u001b[0mcodes\u001b[0m \u001b[0;34m=\u001b[0m \u001b[0mensure_platform_int\u001b[0m\u001b[0;34m(\u001b[0m\u001b[0mcodes\u001b[0m\u001b[0;34m)\u001b[0m\u001b[0;34m\u001b[0m\u001b[0;34m\u001b[0m\u001b[0m\n",
            "\u001b[0;32mpandas/_libs/hashtable_class_helper.pxi\u001b[0m in \u001b[0;36mpandas._libs.hashtable.PyObjectHashTable.factorize\u001b[0;34m()\u001b[0m\n",
            "\u001b[0;32mpandas/_libs/hashtable_class_helper.pxi\u001b[0m in \u001b[0;36mpandas._libs.hashtable.PyObjectHashTable._unique\u001b[0;34m()\u001b[0m\n",
            "\u001b[0;32m/usr/local/lib/python3.6/dist-packages/numpy/core/_asarray.py\u001b[0m in \u001b[0;36masarray\u001b[0;34m(a, dtype, order)\u001b[0m\n\u001b[1;32m     14\u001b[0m ]\n\u001b[1;32m     15\u001b[0m \u001b[0;34m\u001b[0m\u001b[0m\n\u001b[0;32m---> 16\u001b[0;31m \u001b[0;34m@\u001b[0m\u001b[0mset_module\u001b[0m\u001b[0;34m(\u001b[0m\u001b[0;34m'numpy'\u001b[0m\u001b[0;34m)\u001b[0m\u001b[0;34m\u001b[0m\u001b[0;34m\u001b[0m\u001b[0m\n\u001b[0m\u001b[1;32m     17\u001b[0m \u001b[0;32mdef\u001b[0m \u001b[0masarray\u001b[0m\u001b[0;34m(\u001b[0m\u001b[0ma\u001b[0m\u001b[0;34m,\u001b[0m \u001b[0mdtype\u001b[0m\u001b[0;34m=\u001b[0m\u001b[0;32mNone\u001b[0m\u001b[0;34m,\u001b[0m \u001b[0morder\u001b[0m\u001b[0;34m=\u001b[0m\u001b[0;32mNone\u001b[0m\u001b[0;34m)\u001b[0m\u001b[0;34m:\u001b[0m\u001b[0;34m\u001b[0m\u001b[0;34m\u001b[0m\u001b[0m\n\u001b[1;32m     18\u001b[0m     \"\"\"Convert the input to an array.\n",
            "\u001b[0;31mKeyboardInterrupt\u001b[0m: "
          ]
        }
      ]
    },
    {
      "cell_type": "markdown",
      "metadata": {
        "id": "NAF876Zf3Qo2",
        "colab_type": "text"
      },
      "source": [
        "##### WARNING: 70% of attempts(labels) are correct"
      ]
    },
    {
      "cell_type": "code",
      "metadata": {
        "colab_type": "code",
        "id": "Ut5RkCLlnmZ0",
        "colab": {
          "base_uri": "https://localhost:8080/",
          "height": 71
        },
        "outputId": "966bd2d0-3dac-4965-99f9-b1407a02e5a4"
      },
      "source": [
        "df.correct.value_counts(normalize=True)"
      ],
      "execution_count": null,
      "outputs": [
        {
          "output_type": "execute_result",
          "data": {
            "text/plain": [
              "1.0    0.696326\n",
              "0.0    0.303674\n",
              "Name: correct, dtype: float64"
            ]
          },
          "metadata": {
            "tags": []
          },
          "execution_count": 75
        }
      ]
    },
    {
      "cell_type": "code",
      "metadata": {
        "colab_type": "code",
        "id": "OOzt2NkJnmaU",
        "colab": {
          "base_uri": "https://localhost:8080/",
          "height": 722
        },
        "outputId": "44860982-cc6f-4857-e1da-0a5041f75c87"
      },
      "source": [
        "df"
      ],
      "execution_count": null,
      "outputs": [
        {
          "output_type": "execute_result",
          "data": {
            "text/html": [
              "<div>\n",
              "<style scoped>\n",
              "    .dataframe tbody tr th:only-of-type {\n",
              "        vertical-align: middle;\n",
              "    }\n",
              "\n",
              "    .dataframe tbody tr th {\n",
              "        vertical-align: top;\n",
              "    }\n",
              "\n",
              "    .dataframe thead th {\n",
              "        text-align: right;\n",
              "    }\n",
              "</style>\n",
              "<table border=\"1\" class=\"dataframe\">\n",
              "  <thead>\n",
              "    <tr style=\"text-align: right;\">\n",
              "      <th></th>\n",
              "      <th>skill</th>\n",
              "      <th>problem_id</th>\n",
              "      <th>user_id</th>\n",
              "      <th>start_time</th>\n",
              "      <th>end_time</th>\n",
              "      <th>correct</th>\n",
              "      <th>attempt_count</th>\n",
              "      <th>skill_id</th>\n",
              "    </tr>\n",
              "  </thead>\n",
              "  <tbody>\n",
              "    <tr>\n",
              "      <th>1</th>\n",
              "      <td>Rounding</td>\n",
              "      <td>365981</td>\n",
              "      <td>61394</td>\n",
              "      <td>2012-10-09 11:01:52</td>\n",
              "      <td>2012-10-09 11:02:13.182</td>\n",
              "      <td>1.0</td>\n",
              "      <td>1</td>\n",
              "      <td>54</td>\n",
              "    </tr>\n",
              "    <tr>\n",
              "      <th>2</th>\n",
              "      <td>Multiplication and Division Integers</td>\n",
              "      <td>426415</td>\n",
              "      <td>61394</td>\n",
              "      <td>2013-03-07 10:53:20</td>\n",
              "      <td>2013-03-07 10:53:28.661</td>\n",
              "      <td>0.0</td>\n",
              "      <td>1</td>\n",
              "      <td>279</td>\n",
              "    </tr>\n",
              "    <tr>\n",
              "      <th>3</th>\n",
              "      <td>Proportion</td>\n",
              "      <td>86686</td>\n",
              "      <td>61394</td>\n",
              "      <td>2013-08-20 19:54:56</td>\n",
              "      <td>2013-08-20 19:55:21.753</td>\n",
              "      <td>1.0</td>\n",
              "      <td>1</td>\n",
              "      <td>79</td>\n",
              "    </tr>\n",
              "    <tr>\n",
              "      <th>5</th>\n",
              "      <td>Exponents</td>\n",
              "      <td>401234</td>\n",
              "      <td>76592</td>\n",
              "      <td>2012-12-12 21:00:55</td>\n",
              "      <td>2012-12-12 21:01:07.536</td>\n",
              "      <td>1.0</td>\n",
              "      <td>1</td>\n",
              "      <td>86</td>\n",
              "    </tr>\n",
              "    <tr>\n",
              "      <th>7</th>\n",
              "      <td>Equation Solving Two or Fewer Steps</td>\n",
              "      <td>87699</td>\n",
              "      <td>78401</td>\n",
              "      <td>2012-10-16 10:30:54</td>\n",
              "      <td>2012-10-16 10:31:55.445</td>\n",
              "      <td>1.0</td>\n",
              "      <td>1</td>\n",
              "      <td>311</td>\n",
              "    </tr>\n",
              "    <tr>\n",
              "      <th>...</th>\n",
              "      <td>...</td>\n",
              "      <td>...</td>\n",
              "      <td>...</td>\n",
              "      <td>...</td>\n",
              "      <td>...</td>\n",
              "      <td>...</td>\n",
              "      <td>...</td>\n",
              "      <td>...</td>\n",
              "    </tr>\n",
              "    <tr>\n",
              "      <th>6123258</th>\n",
              "      <td>Exponents</td>\n",
              "      <td>58783</td>\n",
              "      <td>227685</td>\n",
              "      <td>2013-08-29 15:23:54</td>\n",
              "      <td>2013-08-29 15:25:25.441</td>\n",
              "      <td>1.0</td>\n",
              "      <td>1</td>\n",
              "      <td>86</td>\n",
              "    </tr>\n",
              "    <tr>\n",
              "      <th>6123260</th>\n",
              "      <td>Square Root</td>\n",
              "      <td>117</td>\n",
              "      <td>227788</td>\n",
              "      <td>2013-08-29 16:18:36</td>\n",
              "      <td>2013-08-29 16:19:08.388</td>\n",
              "      <td>1.0</td>\n",
              "      <td>1</td>\n",
              "      <td>75</td>\n",
              "    </tr>\n",
              "    <tr>\n",
              "      <th>6123262</th>\n",
              "      <td>Unit Conversion Within a System</td>\n",
              "      <td>123251</td>\n",
              "      <td>227839</td>\n",
              "      <td>2013-08-31 15:15:01</td>\n",
              "      <td>2013-08-31 15:15:08.024</td>\n",
              "      <td>1.0</td>\n",
              "      <td>1</td>\n",
              "      <td>34</td>\n",
              "    </tr>\n",
              "    <tr>\n",
              "      <th>6123264</th>\n",
              "      <td>Multiplication Fractions</td>\n",
              "      <td>86906</td>\n",
              "      <td>227908</td>\n",
              "      <td>2013-08-31 00:23:38</td>\n",
              "      <td>2013-08-31 00:25:16.236</td>\n",
              "      <td>0.0</td>\n",
              "      <td>3</td>\n",
              "      <td>67</td>\n",
              "    </tr>\n",
              "    <tr>\n",
              "      <th>6123267</th>\n",
              "      <td>Addition and Subtraction Integers</td>\n",
              "      <td>84891</td>\n",
              "      <td>228039</td>\n",
              "      <td>2013-08-30 11:29:35</td>\n",
              "      <td>2013-08-30 11:30:05.517</td>\n",
              "      <td>0.0</td>\n",
              "      <td>1</td>\n",
              "      <td>277</td>\n",
              "    </tr>\n",
              "  </tbody>\n",
              "</table>\n",
              "<p>2629870 rows × 8 columns</p>\n",
              "</div>"
            ],
            "text/plain": [
              "                                        skill  ...  skill_id\n",
              "1                                    Rounding  ...        54\n",
              "2        Multiplication and Division Integers  ...       279\n",
              "3                                  Proportion  ...        79\n",
              "5                                   Exponents  ...        86\n",
              "7         Equation Solving Two or Fewer Steps  ...       311\n",
              "...                                       ...  ...       ...\n",
              "6123258                             Exponents  ...        86\n",
              "6123260                           Square Root  ...        75\n",
              "6123262       Unit Conversion Within a System  ...        34\n",
              "6123264              Multiplication Fractions  ...        67\n",
              "6123267     Addition and Subtraction Integers  ...       277\n",
              "\n",
              "[2629870 rows x 8 columns]"
            ]
          },
          "metadata": {
            "tags": []
          },
          "execution_count": 76
        }
      ]
    },
    {
      "cell_type": "code",
      "metadata": {
        "colab_type": "code",
        "id": "n3MnoORonmag",
        "colab": {
          "base_uri": "https://localhost:8080/",
          "height": 196
        },
        "outputId": "4bc94384-dd3a-4e30-ca07-f82297311609"
      },
      "source": [
        "# remove users with a sequence length less than three\n",
        "counts = df['user_id'].value_counts()\n",
        "selected_df= df[~df['user_id'].isin(counts[counts < 3].index)]\n",
        "print(len(selected_df))\n",
        "selected_df.nunique()"
      ],
      "execution_count": null,
      "outputs": [
        {
          "output_type": "stream",
          "text": [
            "2627477\n"
          ],
          "name": "stdout"
        },
        {
          "output_type": "execute_result",
          "data": {
            "text/plain": [
              "skill                198\n",
              "user_id            27145\n",
              "assistment_id      45378\n",
              "start_time       2309874\n",
              "end_time         2627117\n",
              "correct                2\n",
              "attempt_count         30\n",
              "skill_id             245\n",
              "dtype: int64"
            ]
          },
          "metadata": {
            "tags": []
          },
          "execution_count": 86
        }
      ]
    },
    {
      "cell_type": "code",
      "metadata": {
        "id": "Q1rJKHahOnya",
        "colab_type": "code",
        "colab": {
          "base_uri": "https://localhost:8080/",
          "height": 722
        },
        "outputId": "3e373dc0-e7d3-46c8-abdc-7f875bdadf91"
      },
      "source": [
        "selected_df.drop_duplicates()"
      ],
      "execution_count": null,
      "outputs": [
        {
          "output_type": "execute_result",
          "data": {
            "text/html": [
              "<div>\n",
              "<style scoped>\n",
              "    .dataframe tbody tr th:only-of-type {\n",
              "        vertical-align: middle;\n",
              "    }\n",
              "\n",
              "    .dataframe tbody tr th {\n",
              "        vertical-align: top;\n",
              "    }\n",
              "\n",
              "    .dataframe thead th {\n",
              "        text-align: right;\n",
              "    }\n",
              "</style>\n",
              "<table border=\"1\" class=\"dataframe\">\n",
              "  <thead>\n",
              "    <tr style=\"text-align: right;\">\n",
              "      <th></th>\n",
              "      <th>skill</th>\n",
              "      <th>user_id</th>\n",
              "      <th>assistment_id</th>\n",
              "      <th>start_time</th>\n",
              "      <th>end_time</th>\n",
              "      <th>correct</th>\n",
              "      <th>attempt_count</th>\n",
              "      <th>skill_id</th>\n",
              "    </tr>\n",
              "  </thead>\n",
              "  <tbody>\n",
              "    <tr>\n",
              "      <th>1</th>\n",
              "      <td>Rounding</td>\n",
              "      <td>61394</td>\n",
              "      <td>204043</td>\n",
              "      <td>2012-10-09 11:01:52</td>\n",
              "      <td>2012-10-09 11:02:13.182</td>\n",
              "      <td>1.0</td>\n",
              "      <td>1</td>\n",
              "      <td>54</td>\n",
              "    </tr>\n",
              "    <tr>\n",
              "      <th>2</th>\n",
              "      <td>Multiplication and Division Integers</td>\n",
              "      <td>61394</td>\n",
              "      <td>247525</td>\n",
              "      <td>2013-03-07 10:53:20</td>\n",
              "      <td>2013-03-07 10:53:28.661</td>\n",
              "      <td>0.0</td>\n",
              "      <td>1</td>\n",
              "      <td>279</td>\n",
              "    </tr>\n",
              "    <tr>\n",
              "      <th>3</th>\n",
              "      <td>Proportion</td>\n",
              "      <td>61394</td>\n",
              "      <td>48081</td>\n",
              "      <td>2013-08-20 19:54:56</td>\n",
              "      <td>2013-08-20 19:55:21.753</td>\n",
              "      <td>1.0</td>\n",
              "      <td>1</td>\n",
              "      <td>79</td>\n",
              "    </tr>\n",
              "    <tr>\n",
              "      <th>5</th>\n",
              "      <td>Exponents</td>\n",
              "      <td>76592</td>\n",
              "      <td>228996</td>\n",
              "      <td>2012-12-12 21:00:55</td>\n",
              "      <td>2012-12-12 21:01:07.536</td>\n",
              "      <td>1.0</td>\n",
              "      <td>1</td>\n",
              "      <td>86</td>\n",
              "    </tr>\n",
              "    <tr>\n",
              "      <th>7</th>\n",
              "      <td>Equation Solving Two or Fewer Steps</td>\n",
              "      <td>78401</td>\n",
              "      <td>49019</td>\n",
              "      <td>2012-10-16 10:30:54</td>\n",
              "      <td>2012-10-16 10:31:55.445</td>\n",
              "      <td>1.0</td>\n",
              "      <td>1</td>\n",
              "      <td>311</td>\n",
              "    </tr>\n",
              "    <tr>\n",
              "      <th>...</th>\n",
              "      <td>...</td>\n",
              "      <td>...</td>\n",
              "      <td>...</td>\n",
              "      <td>...</td>\n",
              "      <td>...</td>\n",
              "      <td>...</td>\n",
              "      <td>...</td>\n",
              "      <td>...</td>\n",
              "    </tr>\n",
              "    <tr>\n",
              "      <th>6123258</th>\n",
              "      <td>Exponents</td>\n",
              "      <td>227685</td>\n",
              "      <td>37197</td>\n",
              "      <td>2013-08-29 15:23:54</td>\n",
              "      <td>2013-08-29 15:25:25.441</td>\n",
              "      <td>1.0</td>\n",
              "      <td>1</td>\n",
              "      <td>86</td>\n",
              "    </tr>\n",
              "    <tr>\n",
              "      <th>6123260</th>\n",
              "      <td>Square Root</td>\n",
              "      <td>227788</td>\n",
              "      <td>117</td>\n",
              "      <td>2013-08-29 16:18:36</td>\n",
              "      <td>2013-08-29 16:19:08.388</td>\n",
              "      <td>1.0</td>\n",
              "      <td>1</td>\n",
              "      <td>75</td>\n",
              "    </tr>\n",
              "    <tr>\n",
              "      <th>6123262</th>\n",
              "      <td>Unit Conversion Within a System</td>\n",
              "      <td>227839</td>\n",
              "      <td>64904</td>\n",
              "      <td>2013-08-31 15:15:01</td>\n",
              "      <td>2013-08-31 15:15:08.024</td>\n",
              "      <td>1.0</td>\n",
              "      <td>1</td>\n",
              "      <td>34</td>\n",
              "    </tr>\n",
              "    <tr>\n",
              "      <th>6123264</th>\n",
              "      <td>Multiplication Fractions</td>\n",
              "      <td>227908</td>\n",
              "      <td>48296</td>\n",
              "      <td>2013-08-31 00:23:38</td>\n",
              "      <td>2013-08-31 00:25:16.236</td>\n",
              "      <td>0.0</td>\n",
              "      <td>3</td>\n",
              "      <td>67</td>\n",
              "    </tr>\n",
              "    <tr>\n",
              "      <th>6123267</th>\n",
              "      <td>Addition and Subtraction Integers</td>\n",
              "      <td>228039</td>\n",
              "      <td>46603</td>\n",
              "      <td>2013-08-30 11:29:35</td>\n",
              "      <td>2013-08-30 11:30:05.517</td>\n",
              "      <td>0.0</td>\n",
              "      <td>1</td>\n",
              "      <td>277</td>\n",
              "    </tr>\n",
              "  </tbody>\n",
              "</table>\n",
              "<p>2627477 rows × 8 columns</p>\n",
              "</div>"
            ],
            "text/plain": [
              "                                        skill  user_id  ...  attempt_count skill_id\n",
              "1                                    Rounding    61394  ...              1       54\n",
              "2        Multiplication and Division Integers    61394  ...              1      279\n",
              "3                                  Proportion    61394  ...              1       79\n",
              "5                                   Exponents    76592  ...              1       86\n",
              "7         Equation Solving Two or Fewer Steps    78401  ...              1      311\n",
              "...                                       ...      ...  ...            ...      ...\n",
              "6123258                             Exponents   227685  ...              1       86\n",
              "6123260                           Square Root   227788  ...              1       75\n",
              "6123262       Unit Conversion Within a System   227839  ...              1       34\n",
              "6123264              Multiplication Fractions   227908  ...              3       67\n",
              "6123267     Addition and Subtraction Integers   228039  ...              1      277\n",
              "\n",
              "[2627477 rows x 8 columns]"
            ]
          },
          "metadata": {
            "tags": []
          },
          "execution_count": 88
        }
      ]
    },
    {
      "cell_type": "code",
      "metadata": {
        "colab_type": "code",
        "id": "GUffkyGJnmao",
        "colab": {
          "base_uri": "https://localhost:8080/",
          "height": 231
        },
        "outputId": "bc064d9c-ef5d-4c51-982f-1a85083211b0"
      },
      "source": [
        "selected_df['user_id'].value_counts()"
      ],
      "execution_count": null,
      "outputs": [
        {
          "output_type": "execute_result",
          "data": {
            "text/plain": [
              "179953    1845\n",
              "179948    1602\n",
              "180029    1582\n",
              "223733    1486\n",
              "179664    1387\n",
              "          ... \n",
              "226002       4\n",
              "142592       4\n",
              "178924       4\n",
              "182242       4\n",
              "191767       4\n",
              "Name: user_id, Length: 26358, dtype: int64"
            ]
          },
          "metadata": {
            "tags": []
          },
          "execution_count": 51
        }
      ]
    },
    {
      "cell_type": "code",
      "metadata": {
        "colab_type": "code",
        "id": "RC6kCbVunmay",
        "colab": {
          "base_uri": "https://localhost:8080/",
          "height": 189
        },
        "outputId": "8e7d83e7-7724-4228-b5d6-adc3e2a616b2"
      },
      "source": [
        "tdf = selected_df[selected_df['user_id'] == 221324]\n",
        "#selected_df[\"timestamp\"] = pd.to_datetime([\"end_time\"])"
      ],
      "execution_count": null,
      "outputs": [
        {
          "output_type": "error",
          "ename": "NameError",
          "evalue": "ignored",
          "traceback": [
            "\u001b[0;31m---------------------------------------------------------------------------\u001b[0m",
            "\u001b[0;31mNameError\u001b[0m                                 Traceback (most recent call last)",
            "\u001b[0;32m<ipython-input-5-5d51f31a6740>\u001b[0m in \u001b[0;36m<module>\u001b[0;34m()\u001b[0m\n\u001b[0;32m----> 1\u001b[0;31m \u001b[0mtdf\u001b[0m \u001b[0;34m=\u001b[0m \u001b[0mselected_df\u001b[0m\u001b[0;34m[\u001b[0m\u001b[0mselected_df\u001b[0m\u001b[0;34m[\u001b[0m\u001b[0;34m'user_id'\u001b[0m\u001b[0;34m]\u001b[0m \u001b[0;34m==\u001b[0m \u001b[0;36m221324\u001b[0m\u001b[0;34m]\u001b[0m\u001b[0;34m\u001b[0m\u001b[0;34m\u001b[0m\u001b[0m\n\u001b[0m\u001b[1;32m      2\u001b[0m \u001b[0;31m#selected_df[\"timestamp\"] = pd.to_datetime([\"end_time\"])\u001b[0m\u001b[0;34m\u001b[0m\u001b[0;34m\u001b[0m\u001b[0;34m\u001b[0m\u001b[0m\n",
            "\u001b[0;31mNameError\u001b[0m: name 'selected_df' is not defined"
          ]
        }
      ]
    },
    {
      "cell_type": "code",
      "metadata": {
        "colab_type": "code",
        "id": "xfQHR0g3nma_",
        "colab": {}
      },
      "source": [
        "skill_counts = selected_df['skill_id'].value_counts()"
      ],
      "execution_count": null,
      "outputs": []
    },
    {
      "cell_type": "code",
      "metadata": {
        "colab_type": "code",
        "id": "-LYF54pvnmbH",
        "colab": {
          "base_uri": "https://localhost:8080/",
          "height": 231
        },
        "outputId": "9f68ceed-e4d0-4664-b36d-e994cd663e84"
      },
      "source": [
        "skill_counts"
      ],
      "execution_count": null,
      "outputs": [
        {
          "output_type": "execute_result",
          "data": {
            "text/plain": [
              "311    192913\n",
              "277    151008\n",
              "280    146923\n",
              "47      98608\n",
              "279     84276\n",
              "        ...  \n",
              "38          5\n",
              "178         4\n",
              "611         3\n",
              "177         3\n",
              "291         1\n",
              "Name: skill_id, Length: 265, dtype: int64"
            ]
          },
          "metadata": {
            "tags": []
          },
          "execution_count": 13
        }
      ]
    },
    {
      "cell_type": "code",
      "metadata": {
        "colab_type": "code",
        "id": "99hBjokPnmbS",
        "colab": {
          "base_uri": "https://localhost:8080/",
          "height": 35
        },
        "outputId": "61940c2f-5e2c-4086-961b-0d4a58969cc8"
      },
      "source": [
        "len(counts)"
      ],
      "execution_count": null,
      "outputs": [
        {
          "output_type": "execute_result",
          "data": {
            "text/plain": [
              "46674"
            ]
          },
          "metadata": {
            "tags": []
          },
          "execution_count": 91
        }
      ]
    },
    {
      "cell_type": "code",
      "metadata": {
        "colab_type": "code",
        "id": "uTwINV-Lnmbc",
        "colab": {
          "base_uri": "https://localhost:8080/",
          "height": 35
        },
        "outputId": "adaf0c65-3d28-4779-ee56-feffd6d9f1da"
      },
      "source": [
        "len(selected_df)"
      ],
      "execution_count": null,
      "outputs": [
        {
          "output_type": "execute_result",
          "data": {
            "text/plain": [
              "2709647"
            ]
          },
          "metadata": {
            "tags": []
          },
          "execution_count": 14
        }
      ]
    },
    {
      "cell_type": "code",
      "metadata": {
        "colab_type": "code",
        "id": "7o2QTsdynmbk",
        "colab": {
          "base_uri": "https://localhost:8080/",
          "height": 142
        },
        "outputId": "d4c6d162-519a-4ddf-9b16-0a76766fefd8"
      },
      "source": [
        "selected_df.nunique()"
      ],
      "execution_count": null,
      "outputs": [
        {
          "output_type": "execute_result",
          "data": {
            "text/plain": [
              "problem_id        179980\n",
              "user_id            46023\n",
              "end_time         6120034\n",
              "correct                2\n",
              "attempt_count         30\n",
              "skill_id             266\n",
              "dtype: int64"
            ]
          },
          "metadata": {
            "tags": []
          },
          "execution_count": 83
        }
      ]
    },
    {
      "cell_type": "code",
      "metadata": {
        "colab_type": "code",
        "id": "l0OpenFjnmbs",
        "colab": {
          "base_uri": "https://localhost:8080/",
          "height": 424
        },
        "outputId": "827c712a-4baa-43b0-fa65-4a733f05c6c9"
      },
      "source": [
        "df[df['attempt_count'] == 0]"
      ],
      "execution_count": null,
      "outputs": [
        {
          "output_type": "execute_result",
          "data": {
            "text/html": [
              "<div>\n",
              "<style scoped>\n",
              "    .dataframe tbody tr th:only-of-type {\n",
              "        vertical-align: middle;\n",
              "    }\n",
              "\n",
              "    .dataframe tbody tr th {\n",
              "        vertical-align: top;\n",
              "    }\n",
              "\n",
              "    .dataframe thead th {\n",
              "        text-align: right;\n",
              "    }\n",
              "</style>\n",
              "<table border=\"1\" class=\"dataframe\">\n",
              "  <thead>\n",
              "    <tr style=\"text-align: right;\">\n",
              "      <th></th>\n",
              "      <th>problem_id</th>\n",
              "      <th>user_id</th>\n",
              "      <th>end_time</th>\n",
              "      <th>correct</th>\n",
              "      <th>attempt_count</th>\n",
              "      <th>skill_id</th>\n",
              "    </tr>\n",
              "  </thead>\n",
              "  <tbody>\n",
              "    <tr>\n",
              "      <th>235</th>\n",
              "      <td>108293</td>\n",
              "      <td>93574</td>\n",
              "      <td>2012-11-19 13:03:48.491</td>\n",
              "      <td>0</td>\n",
              "      <td>0</td>\n",
              "      <td>312</td>\n",
              "    </tr>\n",
              "    <tr>\n",
              "      <th>426</th>\n",
              "      <td>139575</td>\n",
              "      <td>100652</td>\n",
              "      <td>2012-11-07 17:43:37.193</td>\n",
              "      <td>0</td>\n",
              "      <td>0</td>\n",
              "      <td>17</td>\n",
              "    </tr>\n",
              "    <tr>\n",
              "      <th>940</th>\n",
              "      <td>108032</td>\n",
              "      <td>122049</td>\n",
              "      <td>2013-02-28 21:08:19.107</td>\n",
              "      <td>0</td>\n",
              "      <td>0</td>\n",
              "      <td>312</td>\n",
              "    </tr>\n",
              "    <tr>\n",
              "      <th>1174</th>\n",
              "      <td>554729</td>\n",
              "      <td>124084</td>\n",
              "      <td>2012-09-20 19:27:23.994</td>\n",
              "      <td>0</td>\n",
              "      <td>0</td>\n",
              "      <td>999</td>\n",
              "    </tr>\n",
              "    <tr>\n",
              "      <th>1292</th>\n",
              "      <td>545347</td>\n",
              "      <td>125416</td>\n",
              "      <td>2012-09-05 16:08:53.307</td>\n",
              "      <td>0</td>\n",
              "      <td>0</td>\n",
              "      <td>999</td>\n",
              "    </tr>\n",
              "    <tr>\n",
              "      <th>...</th>\n",
              "      <td>...</td>\n",
              "      <td>...</td>\n",
              "      <td>...</td>\n",
              "      <td>...</td>\n",
              "      <td>...</td>\n",
              "      <td>...</td>\n",
              "    </tr>\n",
              "    <tr>\n",
              "      <th>6122746</th>\n",
              "      <td>170731</td>\n",
              "      <td>221915</td>\n",
              "      <td>2013-07-18 11:12:27.053</td>\n",
              "      <td>0</td>\n",
              "      <td>0</td>\n",
              "      <td>39</td>\n",
              "    </tr>\n",
              "    <tr>\n",
              "      <th>6122822</th>\n",
              "      <td>12383</td>\n",
              "      <td>222500</td>\n",
              "      <td>2013-08-26 19:40:32.453</td>\n",
              "      <td>0</td>\n",
              "      <td>0</td>\n",
              "      <td>47</td>\n",
              "    </tr>\n",
              "    <tr>\n",
              "      <th>6123001</th>\n",
              "      <td>12387</td>\n",
              "      <td>223445</td>\n",
              "      <td>2013-07-31 21:46:45.393</td>\n",
              "      <td>0</td>\n",
              "      <td>0</td>\n",
              "      <td>91</td>\n",
              "    </tr>\n",
              "    <tr>\n",
              "      <th>6123188</th>\n",
              "      <td>765824</td>\n",
              "      <td>225944</td>\n",
              "      <td>2013-08-30 12:57:26.138</td>\n",
              "      <td>0</td>\n",
              "      <td>0</td>\n",
              "      <td>999</td>\n",
              "    </tr>\n",
              "    <tr>\n",
              "      <th>6123237</th>\n",
              "      <td>760541</td>\n",
              "      <td>226860</td>\n",
              "      <td>2013-08-29 07:46:40.524</td>\n",
              "      <td>0</td>\n",
              "      <td>0</td>\n",
              "      <td>999</td>\n",
              "    </tr>\n",
              "  </tbody>\n",
              "</table>\n",
              "<p>46570 rows × 6 columns</p>\n",
              "</div>"
            ],
            "text/plain": [
              "         problem_id  user_id  ... attempt_count  skill_id\n",
              "235          108293    93574  ...             0       312\n",
              "426          139575   100652  ...             0        17\n",
              "940          108032   122049  ...             0       312\n",
              "1174         554729   124084  ...             0       999\n",
              "1292         545347   125416  ...             0       999\n",
              "...             ...      ...  ...           ...       ...\n",
              "6122746      170731   221915  ...             0        39\n",
              "6122822       12383   222500  ...             0        47\n",
              "6123001       12387   223445  ...             0        91\n",
              "6123188      765824   225944  ...             0       999\n",
              "6123237      760541   226860  ...             0       999\n",
              "\n",
              "[46570 rows x 6 columns]"
            ]
          },
          "metadata": {
            "tags": []
          },
          "execution_count": 93
        }
      ]
    },
    {
      "cell_type": "code",
      "metadata": {
        "id": "NjrCZ8LHe3o2",
        "colab_type": "code",
        "colab": {}
      },
      "source": [
        "import numpy as np\n",
        "import pandas as pd\n",
        "from scipy import sparse\n",
        "import argparse\n",
        "import os\n",
        "\n",
        "data_name = \"/content/drive/My Drive/master thesis/Datasets/assistment_dataset/2012-2013-data-with-predictions-4-final.csv\"\n",
        "min_interactions_per_user = 0\n",
        "remove_nan_skills = True\n",
        "\n",
        "\n",
        "\"\"\"Preprocess ASSISTments dataset.\n",
        "\n",
        "Arguments:\n",
        "    data_name: \"assistments09\", \"assistments12\", \"assistments15\" or \"assistments17\"\n",
        "    min_interactions_per_user (int): minimum number of interactions per student\n",
        "    remove_nan_skills (bool): if True, remove interactions with no skill tag\n",
        "Outputs:\n",
        "    df (pandas DataFrame): preprocessed ASSISTments dataset with user_id, item_id,\n",
        "        timestamp and correct features\n",
        "    Q_mat (item-skill relationships sparse array): corresponding q-matrix\n",
        "\"\"\"\n",
        "#data_path = os.path.join(\"data\", data_name)\n",
        "#df = pd.read_csv(os.path.join(data_path, \"data.csv\"), encoding=\"ISO-8859-1\")\n",
        "df = pd.read_csv(os.path.join(data_name))\n",
        "data_name = \"assistments12\""
      ],
      "execution_count": null,
      "outputs": []
    },
    {
      "cell_type": "code",
      "metadata": {
        "id": "B9DrTetHfM3W",
        "colab_type": "code",
        "colab": {
          "base_uri": "https://localhost:8080/",
          "height": 678
        },
        "outputId": "f7c7db30-1bd2-41ad-a4f6-831511148318"
      },
      "source": [
        "df = df.rename(columns={\"problem_id\": \"item_id\"})\n",
        "df[\"timestamp\"] = pd.to_datetime(df[\"start_time\"])\n",
        "print(df.dtypes)"
      ],
      "execution_count": null,
      "outputs": [
        {
          "output_type": "stream",
          "text": [
            "problem_log_id                                int64\n",
            "skill                                        object\n",
            "item_id                                       int64\n",
            "user_id                                       int64\n",
            "assignment_id                                 int64\n",
            "assistment_id                                 int64\n",
            "start_time                                   object\n",
            "end_time                                     object\n",
            "problem_type                                 object\n",
            "original                                      int64\n",
            "correct                                     float64\n",
            "bottom_hint                                 float64\n",
            "hint_count                                    int64\n",
            "actions                                      object\n",
            "attempt_count                                 int64\n",
            "ms_first_response                             int64\n",
            "tutor_mode                                   object\n",
            "sequence_id                                   int64\n",
            "student_class_id                              int64\n",
            "position                                      int64\n",
            "type                                         object\n",
            "base_sequence_id                              int64\n",
            "skill_id                                    float64\n",
            "teacher_id                                    int64\n",
            "school_id                                   float64\n",
            "overlap_time                                  int64\n",
            "template_id                                   int64\n",
            "answer_id                                   float64\n",
            "answer_text                                  object\n",
            "first_action                                  int64\n",
            "problemlogid                                  int64\n",
            "Average_confidence(FRUSTRATED)              float64\n",
            "Average_confidence(CONFUSED)                float64\n",
            "Average_confidence(CONCENTRATING)           float64\n",
            "Average_confidence(BORED)                   float64\n",
            "timestamp                            datetime64[ns]\n",
            "dtype: object\n"
          ],
          "name": "stdout"
        }
      ]
    },
    {
      "cell_type": "code",
      "metadata": {
        "id": "O3TsiWocz-79",
        "colab_type": "code",
        "colab": {}
      },
      "source": [
        "df[\"timestamp\"] = df[\"timestamp\"] - df[\"timestamp\"].min()"
      ],
      "execution_count": null,
      "outputs": []
    },
    {
      "cell_type": "code",
      "metadata": {
        "id": "4W5OpZ9r1AvE",
        "colab_type": "code",
        "colab": {}
      },
      "source": [
        "df[\"timestamp\"] = df[\"timestamp\"].apply(lambda x: x.total_seconds()).astype(np.int64)"
      ],
      "execution_count": null,
      "outputs": []
    },
    {
      "cell_type": "code",
      "metadata": {
        "id": "U2m6oS8_z3mF",
        "colab_type": "code",
        "colab": {}
      },
      "source": [
        "# Sort data temporally\n",
        "if data_name in [\"assistments12\", \"assistments17\"]:\n",
        "    df.sort_values(by=\"timestamp\", inplace=True)\n",
        "elif data_name == \"assistments09\":\n",
        "    df.sort_values(by=\"order_id\", inplace=True)\n",
        "elif data_name == \"assistments15\":\n",
        "    df.sort_values(by=\"log_id\", inplace=True)\n",
        "\n",
        "# Filter too short sequences\n",
        "df = df.groupby(\"user_id\").filter(lambda x: len(x) >= min_interactions_per_user)\n",
        "\n",
        "# Remove continuous outcomes\n",
        "df = df[df[\"correct\"].isin([0, 1])]\n",
        "df[\"correct\"] = df[\"correct\"].astype(np.int32)\n",
        "\n",
        "# Filter nan skills\n",
        "if remove_nan_skills:\n",
        "    df = df[~df[\"skill_id\"].isnull()]\n",
        "else:\n",
        "    df.ix[df[\"skill_id\"].isnull(), \"skill_id\"] = -1\n",
        "\n",
        "df[\"user_id\"] = np.unique(df[\"user_id\"], return_inverse=True)[1]\n",
        "df[\"item_id\"] = np.unique(df[\"item_id\"], return_inverse=True)[1]\n",
        "df[\"skill_id\"] = np.unique(df[\"skill_id\"], return_inverse=True)[1]\n",
        "\n",
        "# Build Q-matrix\n",
        "Q_mat = np.zeros((len(df[\"item_id\"].unique()), len(df[\"skill_id\"].unique())))\n",
        "for item_id, skill_id in df[[\"item_id\", \"skill_id\"]].values:\n",
        "    Q_mat[item_id, skill_id] = 1\n",
        "\n",
        "\n",
        "\n",
        "df = df[['user_id', 'item_id', 'timestamp', 'correct']]\n",
        "df.reset_index(inplace=True, drop=True)\n"
      ],
      "execution_count": null,
      "outputs": []
    },
    {
      "cell_type": "code",
      "metadata": {
        "id": "FDNJHOk01xTM",
        "colab_type": "code",
        "colab": {}
      },
      "source": [
        "data_path = \"./\"\n",
        "\n",
        "# Save data\n",
        "sparse.save_npz(os.path.join(data_path, \"q_mat.npz\"), sparse.csr_matrix(Q_mat))\n",
        "df.to_csv(os.path.join(data_path, \"preprocessed_data.csv\"), sep=\"\\t\", index=False)"
      ],
      "execution_count": null,
      "outputs": []
    },
    {
      "cell_type": "code",
      "metadata": {
        "id": "TBw6fH-g14eu",
        "colab_type": "code",
        "colab": {
          "base_uri": "https://localhost:8080/",
          "height": 106
        },
        "outputId": "de477a17-be19-4329-c78f-10077b2eb8bd"
      },
      "source": [
        "pre_df = pd.read_csv(\"/content/preprocessed_data.csv\", sep=\"\\t\")\n",
        "pre_df.nunique()\n"
      ],
      "execution_count": null,
      "outputs": [
        {
          "output_type": "execute_result",
          "data": {
            "text/plain": [
              "user_id        29018\n",
              "item_id        53086\n",
              "timestamp    2362589\n",
              "correct            2\n",
              "dtype: int64"
            ]
          },
          "metadata": {
            "tags": []
          },
          "execution_count": 20
        }
      ]
    },
    {
      "cell_type": "code",
      "metadata": {
        "id": "tzRubGOpAcSc",
        "colab_type": "code",
        "colab": {}
      },
      "source": [
        "import random\n",
        "from random import shuffle\n",
        "from sklearn.metrics import roc_auc_score, accuracy_score\n",
        "\n",
        "import torch\n",
        "from torch.nn.utils.rnn import pad_sequence\n",
        "\n",
        "\n",
        "def set_random_seeds(seed):\n",
        "    torch.manual_seed(seed)\n",
        "    torch.cuda.manual_seed_all(seed)\n",
        "    random.seed(seed)\n",
        "    \n",
        "    \n",
        "def get_data(df, train_split=0.8):\n",
        "    num_items = df[\"item_id\"].nunique()\n",
        "    data = [(torch.tensor(u_df[\"item_id\"].values, dtype=torch.long),\n",
        "             torch.tensor(u_df[\"correct\"].values, dtype=torch.long))\n",
        "            for _, u_df in df.groupby(\"user_id\")]\n",
        "    data = [(torch.cat((torch.zeros(1, dtype=torch.long), item_ids + labels * num_items + 1))[:-1], item_ids, labels)\n",
        "            for (item_ids, labels) in data]\n",
        "    shuffle(data)\n",
        "\n",
        "    # Train-test split across users\n",
        "    train_size = int(train_split * len(data))\n",
        "    train_data, val_data = data[:train_size], data[train_size:]\n",
        "    return train_data, val_data\n",
        "\n",
        "\n",
        "def prepare_batches(data, batch_size):\n",
        "    \"\"\"Prepare batches grouping padded sequences.\n",
        "    \n",
        "    Arguments:\n",
        "        data (list of tuples of torch Tensor)\n",
        "        batch_size (int): number of sequences per batch\n",
        "        \n",
        "    Output:\n",
        "        batches (list of tuples of torch Tensor)\n",
        "    \"\"\"\n",
        "    shuffle(data)\n",
        "    batches = []\n",
        "\n",
        "    for k in range(0, len(data), batch_size):\n",
        "        batch = data[k:k + batch_size]\n",
        "        inputs, item_ids, labels = zip(*batch)\n",
        "\n",
        "        inputs = pad_sequence(inputs, batch_first=True, padding_value=0)     # Pad with 0\n",
        "        item_ids = pad_sequence(item_ids, batch_first=True, padding_value=0) # Don't care\n",
        "        labels = pad_sequence(labels, batch_first=True, padding_value=-1)    # Pad with -1\n",
        "\n",
        "        batches.append([inputs, item_ids, labels])\n",
        "        \n",
        "    return batches\n",
        "\n",
        "\n",
        "def compute_auc(preds, item_ids, labels):\n",
        "    labels = labels.view(-1)\n",
        "    item_ids = item_ids.view(-1)[labels >= 0]\n",
        "    preds = preds.view(-1, preds.shape[-1])[labels >= 0]\n",
        "    preds = preds[torch.arange(preds.shape[0]), item_ids]\n",
        "    labels = labels[labels >= 0].float()\n",
        "\n",
        "    if len(torch.unique(labels)) == 1: # Only one class\n",
        "        auc = accuracy_score(labels, preds.round())\n",
        "    else:\n",
        "        auc = roc_auc_score(labels, preds)\n",
        "    return auc\n",
        "\n",
        "\n",
        "def compute_loss(preds, item_ids, labels, criterion):\n",
        "    labels = labels.view(-1)\n",
        "    item_ids = item_ids.view(-1)[labels >= 0]\n",
        "    preds = preds.view(-1, preds.shape[-1])[labels >= 0]\n",
        "    preds = preds[torch.arange(preds.shape[0]), item_ids]\n",
        "    labels = labels[labels >= 0].float()\n",
        "    return criterion(preds, labels)"
      ],
      "execution_count": null,
      "outputs": []
    },
    {
      "cell_type": "markdown",
      "metadata": {
        "id": "YJXEXBiE3kbs",
        "colab_type": "text"
      },
      "source": [
        "## Model Codes"
      ]
    },
    {
      "cell_type": "markdown",
      "metadata": {
        "id": "7aaPHqc3iqvV",
        "colab_type": "text"
      },
      "source": [
        "### try neptune.ai"
      ]
    },
    {
      "cell_type": "code",
      "metadata": {
        "id": "ZX4sRNWnh0n8",
        "colab_type": "code",
        "colab": {}
      },
      "source": [
        "!pip install neptune-client"
      ],
      "execution_count": null,
      "outputs": []
    },
    {
      "cell_type": "code",
      "metadata": {
        "id": "-SFLjUHqT_Cu",
        "colab_type": "code",
        "colab": {}
      },
      "source": [
        "env NEPTUNE_API_TOKEN=\"\""
      ],
      "execution_count": null,
      "outputs": []
    },
    {
      "cell_type": "code",
      "metadata": {
        "id": "chxq0lB6i1CE",
        "colab_type": "code",
        "colab": {}
      },
      "source": [
        "import neptune\n",
        "neptune.init('ikiyo/sandbox')\n",
        "\n",
        "with neptune.create_experiment():\n",
        "    neptune.send_metric('auc', 0.92)"
      ],
      "execution_count": null,
      "outputs": []
    },
    {
      "cell_type": "markdown",
      "metadata": {
        "id": "ee3s94GgmFq0",
        "colab_type": "text"
      },
      "source": [
        "### DKT code of exepriments of spaced tempral effect\n",
        "https://www.google.com/url?sa=t&rct=j&q=&esrc=s&source=web&cd=&cad=rja&uact=8&ved=2ahUKEwiU6pDN7M_rAhW_A2MBHU3gD3AQFjABegQIARAB&url=https%3A%2F%2Feducationaldatamining.org%2Ffiles%2Fconferences%2FEDM2020%2Fpapers%2Fpaper_242.pdf&usg=AOvVaw1frKbFoVwfcA-a4XGEAw2i"
      ]
    },
    {
      "cell_type": "markdown",
      "metadata": {
        "id": "6Kl0hrwhzvFi",
        "colab_type": "text"
      },
      "source": [
        "!git clone https://github.com/thosgt/kt-algos.git"
      ]
    },
    {
      "cell_type": "code",
      "metadata": {
        "id": "zyLnM2Ajs1id",
        "colab_type": "code",
        "colab": {}
      },
      "source": [
        "!cp -r \"/content/drive/My Drive/master thesis/Source code/kt-algos\" ./"
      ],
      "execution_count": 190,
      "outputs": []
    },
    {
      "cell_type": "code",
      "metadata": {
        "id": "7tHnNSGJmV8p",
        "colab_type": "code",
        "colab": {}
      },
      "source": [
        "cd kt-algos"
      ],
      "execution_count": null,
      "outputs": []
    },
    {
      "cell_type": "code",
      "metadata": {
        "id": "vUEq1UQWmoJA",
        "colab_type": "code",
        "colab": {}
      },
      "source": [
        "pip install -r requirements.txt"
      ],
      "execution_count": null,
      "outputs": []
    },
    {
      "cell_type": "code",
      "metadata": {
        "id": "JarHCQDlm0ee",
        "colab_type": "code",
        "colab": {}
      },
      "source": [
        "!mkdir -p data/assistments12"
      ],
      "execution_count": 6,
      "outputs": []
    },
    {
      "cell_type": "code",
      "metadata": {
        "id": "Guxbn-eLnAsj",
        "colab_type": "code",
        "colab": {}
      },
      "source": [
        "!cp \"/content/drive/My Drive/master thesis/Datasets/assistment_dataset/2012-2013-data-with-predictions-4-final.csv\" ./data/assistments12/data.csv"
      ],
      "execution_count": 9,
      "outputs": []
    },
    {
      "cell_type": "code",
      "metadata": {
        "id": "klYhbOAhnOyW",
        "colab_type": "code",
        "colab": {}
      },
      "source": [
        "!python prepare_data.py --dataset assistments12 --remove_nan_skills"
      ],
      "execution_count": 10,
      "outputs": []
    },
    {
      "cell_type": "code",
      "metadata": {
        "id": "6mto_1wKtXIH",
        "colab_type": "code",
        "colab": {}
      },
      "source": [
        "!python train_dkt.py --dataset assistments12 --embed_inputs --embed_size=100 --hid_size=100 --batch_size=5"
      ],
      "execution_count": null,
      "outputs": []
    },
    {
      "cell_type": "markdown",
      "metadata": {
        "id": "RsOf5grQkg2T",
        "colab_type": "text"
      },
      "source": [
        "### original DKT\n",
        "The code is written with Lua and Torch, cannot convert to PyTorch"
      ]
    },
    {
      "cell_type": "code",
      "metadata": {
        "id": "oO1z_OZXkjY5",
        "colab_type": "code",
        "colab": {
          "base_uri": "https://localhost:8080/",
          "height": 106
        },
        "outputId": "72ceb5b9-f9f8-4b0f-9c63-0f7a951f0d22"
      },
      "source": [
        "!git clone https://github.com/chrispiech/DeepKnowledgeTracing.git"
      ],
      "execution_count": null,
      "outputs": [
        {
          "output_type": "stream",
          "text": [
            "Cloning into 'DeepKnowledgeTracing'...\n",
            "remote: Enumerating objects: 125, done.\u001b[K\n",
            "remote: Total 125 (delta 0), reused 0 (delta 0), pack-reused 125\u001b[K\n",
            "Receiving objects: 100% (125/125), 3.44 MiB | 26.68 MiB/s, done.\n",
            "Resolving deltas: 100% (48/48), done.\n"
          ],
          "name": "stdout"
        }
      ]
    },
    {
      "cell_type": "markdown",
      "metadata": {
        "id": "Hh4TfZsDBA0z",
        "colab_type": "text"
      },
      "source": [
        "### iKiYo DKT in TF2"
      ]
    },
    {
      "cell_type": "code",
      "metadata": {
        "id": "dvaPwZzEBEhz",
        "colab_type": "code",
        "colab": {}
      },
      "source": [
        "import numpy as np\n",
        "import pandas as pd\n",
        "import tensorflow as tf\n",
        "from tensorflow import keras\n",
        "from tensorflow.keras import layers\n",
        "\n",
        "print(tf.test.is_gpu_available())"
      ],
      "execution_count": null,
      "outputs": []
    },
    {
      "cell_type": "code",
      "metadata": {
        "id": "y06XW-GyLlVz",
        "colab_type": "code",
        "colab": {}
      },
      "source": [
        "# data dependent parameters\n",
        "num_student = 1000\n",
        "num_skills = 5 #M\n",
        "max_sequence_length =  6 # T\n",
        "\n",
        "# model parmaeters\n",
        "hidden_units=20\n",
        "dropout_rate=0\n",
        "embed_dim = 5 #N\n",
        "learning_rate = 0.1"
      ],
      "execution_count": 165,
      "outputs": []
    },
    {
      "cell_type": "markdown",
      "metadata": {
        "id": "JEGqcDNz4T-V",
        "colab_type": "text"
      },
      "source": [
        "##### sin fucntion sample data"
      ]
    },
    {
      "cell_type": "code",
      "metadata": {
        "id": "RS55yNJi9yG-",
        "colab_type": "code",
        "colab": {
          "base_uri": "https://localhost:8080/",
          "height": 53
        },
        "outputId": "6b1627ac-32bd-4989-f3e9-2168eced563a"
      },
      "source": [
        "def sin(x, T=100):\n",
        "  return np.sin(2.0* np.pi * x /T)\n",
        "\n",
        "def toy_problem(T=100, ampl=0.1):\n",
        "  x = np.arange(0, 2*T+1)\n",
        "  noise = ampl * np.random.uniform(low=-1.0, high=1.0, size=len(x))\n",
        "  return sin(x) + noise\n",
        "\n",
        "T = 100\n",
        "f = toy_problem(T)\n",
        "\n",
        "f[0:10]"
      ],
      "execution_count": 55,
      "outputs": [
        {
          "output_type": "execute_result",
          "data": {
            "text/plain": [
              "array([-0.07963074,  0.03908419,  0.14838307,  0.1296413 ,  0.311248  ,\n",
              "        0.31232588,  0.2815356 ,  0.33998949,  0.45435879,  0.49270995])"
            ]
          },
          "metadata": {
            "tags": []
          },
          "execution_count": 55
        }
      ]
    },
    {
      "cell_type": "code",
      "metadata": {
        "id": "fCPo90gV_EGH",
        "colab_type": "code",
        "colab": {
          "base_uri": "https://localhost:8080/",
          "height": 265
        },
        "outputId": "7e62a0a5-0db2-4f96-cf1d-d18ac9a9c21b"
      },
      "source": [
        "import matplotlib.pyplot as plt\n",
        "plt.plot(f)\n",
        "plt.ylabel('some numbers')\n",
        "plt.show()"
      ],
      "execution_count": 56,
      "outputs": [
        {
          "output_type": "display_data",
          "data": {
            "image/png": "[encoded data removed]",
            "text/plain": [
              "<Figure size 432x288 with 1 Axes>"
            ]
          },
          "metadata": {
            "tags": [],
            "needs_background": "light"
          }
        }
      ]
    },
    {
      "cell_type": "markdown",
      "metadata": {
        "id": "nbLe4qZJAUhB",
        "colab_type": "text"
      },
      "source": [
        "##### sample data"
      ]
    },
    {
      "cell_type": "code",
      "metadata": {
        "id": "qGY8T9UK4QKI",
        "colab_type": "code",
        "colab": {
          "base_uri": "https://localhost:8080/",
          "height": 106
        },
        "outputId": "3c8237d8-b09d-4787-a91c-1842f8084806"
      },
      "source": [
        "# q question ids\n",
        "raw_inputs = np.array([\n",
        "    [1, 3, 4],\n",
        "   [3, 4, 2, 1, 2],\n",
        "   [3, 1, 1, 4, 5, 2],\n",
        "])\n",
        "# a answer or attempts on the questions\n",
        "raw_labels =  np.array([\n",
        "    [1, 1, 1],\n",
        "   [0, 0, 0, 1, 1],\n",
        "   [0, 1, 1, 1, 0, 1],\n",
        "])\n",
        "\n",
        "print(F\"raw_inputs \\n{raw_inputs}\")\n",
        "print(F\"raw_labels \\n{raw_labels}\")\n",
        "print()"
      ],
      "execution_count": 191,
      "outputs": [
        {
          "output_type": "stream",
          "text": [
            "raw_inputs \n",
            "[list([1, 3, 4]) list([3, 4, 2, 1, 2]) list([3, 1, 1, 4, 5, 2])]\n",
            "raw_labels \n",
            "[list([1, 1, 1]) list([0, 0, 0, 1, 1]) list([0, 1, 1, 1, 0, 1])]\n",
            "\n"
          ],
          "name": "stdout"
        }
      ]
    },
    {
      "cell_type": "markdown",
      "metadata": {
        "id": "mwmf7Qg3AXYK",
        "colab_type": "text"
      },
      "source": [
        "##### data preprocessing"
      ]
    },
    {
      "cell_type": "code",
      "metadata": {
        "id": "m_UUYe9WyMll",
        "colab_type": "code",
        "colab": {
          "base_uri": "https://localhost:8080/",
          "height": 571
        },
        "outputId": "2fa7305c-f31c-4149-d877-f7267b759763"
      },
      "source": [
        "# padded_q\n",
        "# padding is -1 and adjust indeces of tensors\n",
        "padded_inputs = tf.keras.preprocessing.sequence.pad_sequences(\n",
        "    raw_inputs, maxlen=max_sequence_length, padding=\"post\", value=0\n",
        ")\n",
        "# Warning: supposing the question ids 1> , \n",
        "padded_inputs = padded_inputs - 1\n",
        "print(F\"padded_inputs :\\n{padded_inputs}\")\n",
        "\n",
        "# padded_a\n",
        "# padding is 1 to set the padding of x_t to -1\n",
        "padded_labels= tf.keras.preprocessing.sequence.pad_sequences(\n",
        "    raw_labels, maxlen=max_sequence_length, padding=\"post\", value=1\n",
        ")\n",
        "print(F\"padded_labels:\\n {padded_labels}\") # q_t\n",
        "print()\n",
        "\n",
        "\"\"\"\n",
        "M to 2M vector\n",
        "binary => correct columns + incorrect columns \n",
        "\"\"\"\n",
        "# raw_x_t = M*(1 - a_t) + q_t \n",
        "signaled_input = num_skills * ( 1 - padded_labels) + padded_inputs\n",
        "print(F\"signaled_input:\\n{signaled_input}\")\n",
        "print()\n",
        "\n",
        "# x_t\n",
        "one_hot_input = tf.one_hot(input, depth=num_skills*2, axis=-1)\n",
        "print(F\"x_t sample:\\n{one_hot_input.numpy()[0]}\")\n",
        "print(one_hot_input.numpy().shape)\n",
        "print()\n",
        "\n",
        "# delta(q_t)\n",
        "one_hot_q_t = tf.one_hot(padded_inputs, depth=num_skills, axis=-1)\n",
        "print(F\"delta(q_t) sample:\\n{one_hot_q_t.numpy()[0]}\")\n",
        "one_hot_q_t.numpy().shape"
      ],
      "execution_count": 192,
      "outputs": [
        {
          "output_type": "stream",
          "text": [
            "padded_inputs :\n",
            "[[ 0  2  3 -1 -1 -1]\n",
            " [ 2  3  1  0  1 -1]\n",
            " [ 2  0  0  3  4  1]]\n",
            "padded_labels:\n",
            " [[1 1 1 1 1 1]\n",
            " [0 0 0 1 1 1]\n",
            " [0 1 1 1 0 1]]\n",
            "\n",
            "signaled_input:\n",
            "[[ 0  2  3 -1 -1 -1]\n",
            " [ 7  8  6  0  1 -1]\n",
            " [ 7  0  0  3  9  1]]\n",
            "\n",
            "x_t sample:\n",
            "[[1. 0. 0. 0. 0. 0. 0. 0. 0. 0.]\n",
            " [0. 0. 1. 0. 0. 0. 0. 0. 0. 0.]\n",
            " [0. 0. 0. 1. 0. 0. 0. 0. 0. 0.]\n",
            " [0. 0. 0. 0. 0. 0. 0. 0. 0. 0.]\n",
            " [0. 0. 0. 0. 0. 0. 0. 0. 0. 0.]\n",
            " [0. 0. 0. 0. 0. 0. 0. 0. 0. 0.]]\n",
            "(3, 6, 10)\n",
            "\n",
            "delta(q_t) sample:\n",
            "[[1. 0. 0. 0. 0.]\n",
            " [0. 0. 1. 0. 0.]\n",
            " [0. 0. 0. 1. 0.]\n",
            " [0. 0. 0. 0. 0.]\n",
            " [0. 0. 0. 0. 0.]\n",
            " [0. 0. 0. 0. 0.]]\n"
          ],
          "name": "stdout"
        },
        {
          "output_type": "execute_result",
          "data": {
            "text/plain": [
              "(3, 6, 5)"
            ]
          },
          "metadata": {
            "tags": []
          },
          "execution_count": 192
        }
      ]
    },
    {
      "cell_type": "markdown",
      "metadata": {
        "id": "blWU79alKjjQ",
        "colab_type": "text"
      },
      "source": [
        "##### build model"
      ]
    },
    {
      "cell_type": "code",
      "metadata": {
        "id": "noIRVpKZjRbx",
        "colab_type": "code",
        "colab": {}
      },
      "source": [
        "# FIXME: \n",
        "\"\"\"\n",
        "WARNING:tensorflow:8 out of the last 15 calls to <function Model.make_test_function.<locals>.test_function at 0x7f55ca8a7a60>\n",
        " triggered tf.function retracing. \n",
        " Tracing is expensive and the excessive number of tracings could be due to \n",
        " (1) creating @tf.function repeatedly in a loop,\n",
        " (2) passing tensors with different shapes,\n",
        "  (3) passing Python objects instead of tensors. \n",
        "  For (1), please define your @tf.function outside of the loop.\n",
        "   For (2), @tf.function has experimental_relax_shapes=True option that relaxes argument shapes that can avoid unnecessary retracing. \n",
        "   For (3), please refer to https://www.tensorflow.org/tutorials/customization/performance#python_or_tensor_args \n",
        "   and https://www.tensorflow.org/api_docs/python/tf/function for  more details.\n",
        "\"\"\"\n",
        "class DKT(tf.keras.Model):\n",
        "  def __init__(self):\n",
        "    super().__init__()\n",
        "    self.x = tf.keras.Input(shape=(None, max_sequence_length, num_skills*2), name='inputs')\n",
        "    self.q = tf.keras.Input(shape=(None, max_sequence_length, num_skills), name='labels')\n",
        "\n",
        "    self.emb =  layers.Dense(embed_dim, trainable=False, \n",
        "                                                        kernel_initializer=tf.keras.initializers.RandomNormal(seed=777),\n",
        "                                                        input_shape=(None, max_sequence_length, num_skills*2))\n",
        "    self.mask = layers.Masking(mask_value=0)\n",
        "    self.lstm =  layers.LSTM(hidden_units, return_sequences=True)\n",
        "    self.out_dropout =  layers.TimeDistributed(layers.Dropout(dropout_rate))\n",
        "    self.out_sigmoid =  layers.TimeDistributed(layers.Dense(num_skills,  activation='sigmoid'))\n",
        "\n",
        "    # HACK: the shape of q does not fit to Timedistributed operation(may be faster?)\n",
        "    self.dot =  layers.Multiply()\n",
        "    # self.dot =  layers.TimeDistributed(layers.Multiply())\n",
        "\n",
        "    #self.reduce_sum = tf.reduce_sum\n",
        "    #self.transpose = tf.transpose\n",
        "\n",
        "    self.reduce_sum =  layers.Dense(1, trainable=False, \n",
        "                                                        kernel_initializer=tf.keras.initializers.constant(value=1),\n",
        "                                                        input_shape=(None, max_sequence_length,num_skills))\n",
        "    # reshape layer does not work as graph \n",
        "    # self.reshape_l = layers.Reshape((-1,3),dynamic=False)#, \n",
        "    #                                                      # input_shape=(None,max_sequence_length,num_skills,))\n",
        "    self.final_mask =   layers.TimeDistributed(\n",
        "      layers.Masking(mask_value=0, input_shape=(None, max_sequence_length,1))\n",
        "    )\n",
        "\n",
        "\n",
        "  def call(self, inputs):\n",
        "    # x, q = inputs[0], inputs[1]\n",
        "    self.x, self.q = inputs[0], inputs[1]\n",
        "\n",
        "    # n = self.emb(x)\n",
        "    n = self.emb(self.x)\n",
        "    masked_n = self.mask(n)\n",
        "    h = self.lstm(masked_n) \n",
        "    o = self.out_dropout(h)\n",
        "    y_pred = self.out_sigmoid(o)\n",
        "    # y_pred = self.dot([y_pred, q])\n",
        "    y_pred = self.dot([y_pred, self.q])\n",
        "    # y_pred = self.reduce_sum(y_pred, axis=2)\n",
        "    y_pred = self.reduce_sum(y_pred)\n",
        "    #y_pred = self.reshape_l(y_pred)\n",
        "    #y_pred = self.transpose()\n",
        "    y_pred = self.final_mask(y_pred)\n",
        "    #y_pred._keras_mask=masked_n._keras_mask\n",
        "    return y_pred\n",
        "\n",
        "# Create an instance of the model\n",
        "model = DKT()\n",
        "\n",
        "# Configuration of model\n",
        "# Set \"SUM\" to loss reduction in order to use distributed training\n",
        "model.compile(loss=tf.keras.losses.BinaryCrossentropy(reduction=tf.keras.losses.Reduction.SUM),\n",
        "                optimizer=tf.optimizers.SGD(learning_rate=learning_rate),\n",
        "                metrics=[tf.keras.metrics.AUC()])\n",
        "                # metrics=[tf.keras.metrics.AUC(),tf.keras.metrics.BinaryCrossentropy()]) # keep for debug loss"
      ],
      "execution_count": 239,
      "outputs": []
    },
    {
      "cell_type": "code",
      "metadata": {
        "id": "eVSG2EnyJUDf",
        "colab_type": "code",
        "colab": {
          "base_uri": "https://localhost:8080/",
          "height": 35
        },
        "outputId": "7379ace8-8056-4473-b16d-d7ada4931c64"
      },
      "source": [
        "x = tf.keras.Input(shape=(32,))\n",
        "y = tf.square(x)\n",
        "y"
      ],
      "execution_count": 231,
      "outputs": [
        {
          "output_type": "execute_result",
          "data": {
            "text/plain": [
              "<tf.Tensor 'Square_1:0' shape=(None, 32) dtype=float32>"
            ]
          },
          "metadata": {
            "tags": []
          },
          "execution_count": 231
        }
      ]
    },
    {
      "cell_type": "code",
      "metadata": {
        "id": "DxeT_xv5wJ66",
        "colab_type": "code",
        "colab": {
          "base_uri": "https://localhost:8080/",
          "height": 446
        },
        "outputId": "b2625221-b2d7-4b33-a6a8-dd61837c2674"
      },
      "source": [
        "# initialize and check model structure\n",
        "# predictions = model([one_hot_input, one_hot_q_t])\n",
        "predictions = model([one_hot_input, one_hot_q_t])\n",
        "model.summary()"
      ],
      "execution_count": 240,
      "outputs": [
        {
          "output_type": "stream",
          "text": [
            "Model: \"dkt_57\"\n",
            "_________________________________________________________________\n",
            "Layer (type)                 Output Shape              Param #   \n",
            "=================================================================\n",
            "dense_151 (Dense)            multiple                  55        \n",
            "_________________________________________________________________\n",
            "masking_113 (Masking)        multiple                  0         \n",
            "_________________________________________________________________\n",
            "lstm_57 (LSTM)               multiple                  2080      \n",
            "_________________________________________________________________\n",
            "time_distributed_155 (TimeDi multiple                  0         \n",
            "_________________________________________________________________\n",
            "time_distributed_156 (TimeDi multiple                  105       \n",
            "_________________________________________________________________\n",
            "multiply_57 (Multiply)       multiple                  0         \n",
            "_________________________________________________________________\n",
            "dense_153 (Dense)            multiple                  6         \n",
            "_________________________________________________________________\n",
            "time_distributed_157 (TimeDi multiple                  0         \n",
            "=================================================================\n",
            "Total params: 2,246\n",
            "Trainable params: 2,185\n",
            "Non-trainable params: 61\n",
            "_________________________________________________________________\n"
          ],
          "name": "stdout"
        }
      ]
    },
    {
      "cell_type": "code",
      "metadata": {
        "id": "UFhrPWLy9DpT",
        "colab_type": "code",
        "colab": {
          "base_uri": "https://localhost:8080/",
          "height": 142
        },
        "outputId": "f0365892-56a2-4b22-dd8f-3ac3cb4bed02"
      },
      "source": [
        "# check the shapes of outputs\n",
        "q = one_hot_q_t\n",
        "n = model.emb(one_hot_input)\n",
        "print(tf.shape(n))\n",
        "masked_n = model.mask(n)\n",
        "print(tf.shape(masked_n))\n",
        "h = model.lstm(masked_n) \n",
        "print(tf.shape(h))\n",
        "o = model.out_dropout(h)\n",
        "y_pred = model.out_sigmoid(o)\n",
        "print(tf.shape(y_pred))\n",
        "y_pred = model.dot([y_pred, q])\n",
        "print(tf.shape(y_pred))\n",
        "y_pred = model.reduce_sum(y_pred)\n",
        "print(tf.shape(y_pred))\n",
        "y_pred = model.mask(y_pred)\n",
        "print(tf.shape(y_pred))\n"
      ],
      "execution_count": 225,
      "outputs": [
        {
          "output_type": "stream",
          "text": [
            "tf.Tensor([3 6 5], shape=(3,), dtype=int32)\n",
            "tf.Tensor([3 6 5], shape=(3,), dtype=int32)\n",
            "tf.Tensor([ 3  6 20], shape=(3,), dtype=int32)\n",
            "tf.Tensor([3 6 5], shape=(3,), dtype=int32)\n",
            "tf.Tensor([3 6 5], shape=(3,), dtype=int32)\n",
            "tf.Tensor([3 6 1], shape=(3,), dtype=int32)\n",
            "tf.Tensor([3 6 1], shape=(3,), dtype=int32)\n"
          ],
          "name": "stdout"
        }
      ]
    },
    {
      "cell_type": "markdown",
      "metadata": {
        "id": "nn87mZVO8-sn",
        "colab_type": "text"
      },
      "source": [
        "##### Check prediction and evaluation"
      ]
    },
    {
      "cell_type": "code",
      "metadata": {
        "id": "K4ha1CJrr6nM",
        "colab_type": "code",
        "colab": {
          "base_uri": "https://localhost:8080/",
          "height": 1000
        },
        "outputId": "a6b5d493-e0bc-40b3-f480-1b289040124c"
      },
      "source": [
        "predictions = model([one_hot_input, one_hot_q_t])\n",
        "\n",
        "# check masking works correctly\n",
        "print(predictions._keras_mask.numpy())\n",
        "print(padded_inputs)\n",
        "print()\n",
        "\n",
        "# check shape of predicted vector\n",
        "print(\"predcitions shape:\")\n",
        "print(predictions.shape) #num_student, T, M(num_skill or num_problem)\n",
        "print(predictions, padded_labels)\n",
        "print()\n",
        "\n",
        "# TODO: avoid reshape before feeding\n",
        "padded_labels = tf.reshape(padded_labels,(len(raw_labels),6,1))\n",
        "#padded_labels = tf.transpose(padded_labels)\n",
        "print(padded_labels.shape)\n",
        "model.evaluate([one_hot_input, one_hot_q_t], padded_labels , verbose =2)"
      ],
      "execution_count": 234,
      "outputs": [
        {
          "output_type": "stream",
          "text": [
            "[[ True  True  True False False False]\n",
            " [ True  True  True  True  True False]\n",
            " [ True  True  True  True  True  True]]\n",
            "[[ 0  2  3 -1 -1 -1]\n",
            " [ 2  3  1  0  1 -1]\n",
            " [ 2  0  0  3  4  1]]\n",
            "\n",
            "predcitions shape:\n",
            "(3, 6, 1)\n",
            "tf.Tensor(\n",
            "[[[0.49781767]\n",
            "  [0.49680877]\n",
            "  [0.50102323]\n",
            "  [0.        ]\n",
            "  [0.        ]\n",
            "  [0.        ]]\n",
            "\n",
            " [[0.49988607]\n",
            "  [0.49860355]\n",
            "  [0.49892846]\n",
            "  [0.5014024 ]\n",
            "  [0.50074005]\n",
            "  [0.        ]]\n",
            "\n",
            " [[0.49988607]\n",
            "  [0.49871075]\n",
            "  [0.49689353]\n",
            "  [0.5017437 ]\n",
            "  [0.50076205]\n",
            "  [0.5030565 ]]], shape=(3, 6, 1), dtype=float32) tf.Tensor(\n",
            "[[[1]\n",
            "  [1]\n",
            "  [1]\n",
            "  [1]\n",
            "  [1]\n",
            "  [1]]\n",
            "\n",
            " [[0]\n",
            "  [0]\n",
            "  [0]\n",
            "  [1]\n",
            "  [1]\n",
            "  [1]]\n",
            "\n",
            " [[0]\n",
            "  [1]\n",
            "  [1]\n",
            "  [1]\n",
            "  [0]\n",
            "  [1]]], shape=(3, 6, 1), dtype=int32)\n",
            "\n",
            "(3, 6, 1)\n",
            "WARNING:tensorflow:8 out of the last 15 calls to <function Model.make_test_function.<locals>.test_function at 0x7f55ca8a7a60> triggered tf.function retracing. Tracing is expensive and the excessive number of tracings could be due to (1) creating @tf.function repeatedly in a loop, (2) passing tensors with different shapes, (3) passing Python objects instead of tensors. For (1), please define your @tf.function outside of the loop. For (2), @tf.function has experimental_relax_shapes=True option that relaxes argument shapes that can avoid unnecessary retracing. For (3), please refer to https://www.tensorflow.org/tutorials/customization/performance#python_or_tensor_args and https://www.tensorflow.org/api_docs/python/tf/function for  more details.\n",
            "1/1 - 0s - loss: 9.7039 - auc_399: 0.4444\n"
          ],
          "name": "stdout"
        },
        {
          "output_type": "execute_result",
          "data": {
            "text/plain": [
              "[9.703887939453125, 0.4444444477558136]"
            ]
          },
          "metadata": {
            "tags": []
          },
          "execution_count": 234
        }
      ]
    },
    {
      "cell_type": "markdown",
      "metadata": {
        "id": "FxlLaAKzvYzb",
        "colab_type": "text"
      },
      "source": [
        "##### Check the metrics and loss works correctly"
      ]
    },
    {
      "cell_type": "code",
      "metadata": {
        "id": "9Rw_rDUD2WIh",
        "colab_type": "code",
        "colab": {
          "base_uri": "https://localhost:8080/",
          "height": 1000
        },
        "outputId": "286d76dc-aa04-447b-c584-236aad6ff275"
      },
      "source": [
        "m = tf.keras.metrics.AUC()\n",
        "# print(\"sample dataset\")\n",
        "# m.update_state([0, 0, 1, 1], [0, 0.5, 0.3, 0.9])\n",
        "# print(m.result().numpy())\n",
        "\n",
        "print(\"orignal built-in\")\n",
        "# reshaped_labels = tf.reshape(padded_labels, [6,3])\n",
        "# reshaped_predictions = tf.reshape(predictions, [6,3])\n",
        "m.update_state(padded_labels,predictions)\n",
        "print(m.result().numpy())\n",
        "# print(len(padded_labels))\n",
        "\n",
        "print(\"each instance with masking\")\n",
        "m = tf.keras.metrics.AUC()\n",
        "print([1, 1, 1], tf.transpose(predictions[0][0:3]))\n",
        "m.update_state([[1, 1, 1]], tf.transpose(predictions[0][0:3]))\n",
        "print(m.result().numpy())\n",
        "\n",
        "m = tf.keras.metrics.AUC()\n",
        "print(padded_labels[1][0:5],predictions[1][0:5])\n",
        "m.update_state(padded_labels[1][0:5],predictions[1][0:5])\n",
        "print(m.result().numpy())\n",
        "\n",
        "m = tf.keras.metrics.AUC()\n",
        "print(padded_labels[2][0:6],predictions[2][0:6])\n",
        "m.update_state(padded_labels[2][0:6],predictions[2][0:6])\n",
        "print(m.result().numpy())\n",
        "\n",
        "print(\"all with masking\")\n",
        "print()\n",
        "print(\"correct AUC\")\n",
        "m = tf.keras.metrics.AUC()\n",
        "A =  [1, 1, 1, 0, 0, 0, 1, 1,  0, 1, 1, 1, 1]\n",
        "Y_pred =np.concatenate((predictions[0][0:3], predictions[1][0:5], predictions[2][0:4], predictions[2][5:]))\n",
        "print(A,Y_pred, len(A))\n",
        "m.update_state(A,Y_pred)\n",
        "print(m.result().numpy())\n",
        "m = tf.keras.metrics.AUC()\n",
        "A =  [1, 1, 1, 0, 0, 0, 1, 1,  0, 1, 1, 1, 0, 1]\n",
        "Y_pred =np.concatenate((predictions[0][0:3], predictions[1][0:5], predictions[2][0:6]))\n",
        "print(A,Y_pred, len(A))\n",
        "m.update_state(A,Y_pred)\n",
        "print(m.result().numpy())\n",
        "\n",
        "print()\n",
        "print(\"each instance\")\n",
        "m = tf.keras.metrics.AUC()\n",
        "print(padded_labels[0], predictions[0])\n",
        "m.update_state(padded_labels[0], predictions[0])\n",
        "print(m.result().numpy())\n",
        "\n",
        "m = tf.keras.metrics.AUC()\n",
        "print(padded_labels[1], predictions[1])\n",
        "m.update_state(padded_labels[1], predictions[1])\n",
        "print(m.result().numpy())\n",
        "\n",
        "m = tf.keras.metrics.AUC()\n",
        "print(padded_labels[2], predictions[2])\n",
        "m.update_state(padded_labels[2], predictions[2])\n",
        "print(m.result().numpy())\n",
        "\n",
        "\n",
        "# print(\"flatten\")\n",
        "# m = tf.keras.metrics.AUC()\n",
        "# print(padded_labels.numpy().flatten(), predictions.flatten())\n",
        "# m.update_state(padded_labels.numpy().flatten(), predictions.flatten())\n",
        "# print(m.result().numpy())\n",
        "# print(len(padded_labels))"
      ],
      "execution_count": 216,
      "outputs": [
        {
          "output_type": "stream",
          "text": [
            "orignal built-in\n",
            "0.5\n",
            "each instance with masking\n",
            "[1, 1, 1] tf.Tensor([[0.5032666  0.50002694 0.50269085]], shape=(1, 3), dtype=float32)\n",
            "0.0\n",
            "tf.Tensor(\n",
            "[[0]\n",
            " [0]\n",
            " [0]\n",
            " [1]\n",
            " [1]], shape=(5, 1), dtype=int32) tf.Tensor(\n",
            "[[0.50031376]\n",
            " [0.49943796]\n",
            " [0.5015185 ]\n",
            " [0.50185   ]\n",
            " [0.49966067]], shape=(5, 1), dtype=float32)\n",
            "0.5\n",
            "tf.Tensor(\n",
            "[[0]\n",
            " [1]\n",
            " [1]\n",
            " [1]\n",
            " [0]\n",
            " [1]], shape=(6, 1), dtype=int32) tf.Tensor(\n",
            "[[0.50031376]\n",
            " [0.50246495]\n",
            " [0.5053117 ]\n",
            " [0.5027175 ]\n",
            " [0.49925628]\n",
            " [0.4991503 ]], shape=(6, 1), dtype=float32)\n",
            "0.75\n",
            "all with masking\n",
            "\n",
            "correct AUC\n",
            "[1, 1, 1, 0, 0, 0, 1, 1, 0, 1, 1, 1, 1] [[0.5032666 ]\n",
            " [0.50002694]\n",
            " [0.50269085]\n",
            " [0.50031376]\n",
            " [0.49943796]\n",
            " [0.5015185 ]\n",
            " [0.50185   ]\n",
            " [0.49966067]\n",
            " [0.50031376]\n",
            " [0.50246495]\n",
            " [0.5053117 ]\n",
            " [0.5027175 ]\n",
            " [0.4991503 ]] 13\n",
            "0.7222222\n",
            "[1, 1, 1, 0, 0, 0, 1, 1, 0, 1, 1, 1, 0, 1] [[0.5032666 ]\n",
            " [0.50002694]\n",
            " [0.50269085]\n",
            " [0.50031376]\n",
            " [0.49943796]\n",
            " [0.5015185 ]\n",
            " [0.50185   ]\n",
            " [0.49966067]\n",
            " [0.50031376]\n",
            " [0.50246495]\n",
            " [0.5053117 ]\n",
            " [0.5027175 ]\n",
            " [0.49925628]\n",
            " [0.4991503 ]] 14\n",
            "0.7222222\n",
            "\n",
            "each instance\n",
            "tf.Tensor(\n",
            "[[1]\n",
            " [1]\n",
            " [1]\n",
            " [1]\n",
            " [1]\n",
            " [1]], shape=(6, 1), dtype=int32) tf.Tensor(\n",
            "[[0.5032666 ]\n",
            " [0.50002694]\n",
            " [0.50269085]\n",
            " [0.        ]\n",
            " [0.        ]\n",
            " [0.        ]], shape=(6, 1), dtype=float32)\n",
            "0.0\n",
            "tf.Tensor(\n",
            "[[0]\n",
            " [0]\n",
            " [0]\n",
            " [1]\n",
            " [1]\n",
            " [1]], shape=(6, 1), dtype=int32) tf.Tensor(\n",
            "[[0.50031376]\n",
            " [0.49943796]\n",
            " [0.5015185 ]\n",
            " [0.50185   ]\n",
            " [0.49966067]\n",
            " [0.        ]], shape=(6, 1), dtype=float32)\n",
            "0.33333334\n",
            "tf.Tensor(\n",
            "[[0]\n",
            " [1]\n",
            " [1]\n",
            " [1]\n",
            " [0]\n",
            " [1]], shape=(6, 1), dtype=int32) tf.Tensor(\n",
            "[[0.50031376]\n",
            " [0.50246495]\n",
            " [0.5053117 ]\n",
            " [0.5027175 ]\n",
            " [0.49925628]\n",
            " [0.4991503 ]], shape=(6, 1), dtype=float32)\n",
            "0.75\n"
          ],
          "name": "stdout"
        }
      ]
    },
    {
      "cell_type": "code",
      "metadata": {
        "id": "vKuVk96IdLUl",
        "colab_type": "code",
        "colab": {
          "base_uri": "https://localhost:8080/",
          "height": 142
        },
        "outputId": "ad14860b-e029-412d-854d-1875058ada33"
      },
      "source": [
        "# debug for loss function \n",
        "print((np.log(0.4)*3 + np.log(0.6)*1)/4)\n",
        "print(raw_labels, predictions[0][0:3])\n",
        "bce = tf.keras.losses.BinaryCrossentropy()\n",
        "\n",
        "print(bce(padded_labels[0][0:3],predictions[0][0:3]).numpy())\n",
        "print(np.log(0.5)*3)\n",
        "print(\"original built-in\")\n",
        "print(bce(padded_labels, predictions).numpy())\n",
        "total = bce(np.zeros(3), np.ones(3))*3 - np.log(0.5)*3\n",
        "total/6"
      ],
      "execution_count": 32,
      "outputs": [
        {
          "output_type": "stream",
          "text": [
            "-0.814924454847114\n",
            "[list([1, 1, 1]) list([0, 0, 0, 1, 1])] [0.4994991 0.4981302 0.501738 ]\n",
            "0.6935733\n",
            "-2.0794415416798357\n",
            "original built-in\n",
            "5.603969\n"
          ],
          "name": "stdout"
        },
        {
          "output_type": "execute_result",
          "data": {
            "text/plain": [
              "<tf.Tensor: shape=(), dtype=float64, numpy=8.05904793644086>"
            ]
          },
          "metadata": {
            "tags": []
          },
          "execution_count": 32
        }
      ]
    },
    {
      "cell_type": "markdown",
      "metadata": {
        "id": "i23H9qy9MCRR",
        "colab_type": "text"
      },
      "source": [
        "##### check how masking is probagated"
      ]
    },
    {
      "cell_type": "code",
      "metadata": {
        "id": "KJdohG_SWYBI",
        "colab_type": "code",
        "colab": {
          "base_uri": "https://localhost:8080/",
          "height": 446
        },
        "outputId": "05ece5cf-725c-444b-dbf9-d78ef836844a"
      },
      "source": [
        "# check how masking is probagated\n",
        "q = one_hot_q_t\n",
        "n = model.emb(one_hot_input)\n",
        "masked_n = model.mask(n)\n",
        "h = model.lstm(masked_n) \n",
        "print(h._keras_mask)\n",
        "o = model.out_dropout(h)\n",
        "print(o._keras_mask)\n",
        "y_pred = model.out_sigmoid(o)\n",
        "print(y_pred._keras_mask)\n",
        "y_pred = model.dot([y_pred, q])\n",
        "print(y_pred._keras_mask)\n",
        "y_pred = model.reduce_sum(y_pred)\n",
        "print(y_pred._keras_mask)\n",
        "y_pred = model.mask(y_pred)\n",
        "print(y_pred._keras_mask)"
      ],
      "execution_count": 199,
      "outputs": [
        {
          "output_type": "stream",
          "text": [
            "tf.Tensor(\n",
            "[[ True  True  True False False False]\n",
            " [ True  True  True  True  True False]\n",
            " [ True  True  True  True  True  True]], shape=(3, 6), dtype=bool)\n",
            "tf.Tensor(\n",
            "[[ True  True  True False False False]\n",
            " [ True  True  True  True  True False]\n",
            " [ True  True  True  True  True  True]], shape=(3, 6), dtype=bool)\n",
            "tf.Tensor(\n",
            "[[ True  True  True False False False]\n",
            " [ True  True  True  True  True False]\n",
            " [ True  True  True  True  True  True]], shape=(3, 6), dtype=bool)\n",
            "tf.Tensor(\n",
            "[[ True  True  True False False False]\n",
            " [ True  True  True  True  True False]\n",
            " [ True  True  True  True  True  True]], shape=(3, 6), dtype=bool)\n",
            "tf.Tensor(\n",
            "[[ True  True  True False False False]\n",
            " [ True  True  True  True  True False]\n",
            " [ True  True  True  True  True  True]], shape=(3, 6), dtype=bool)\n",
            "tf.Tensor(\n",
            "[[ True  True  True False False False]\n",
            " [ True  True  True  True  True False]\n",
            " [ True  True  True  True  True  True]], shape=(3, 6), dtype=bool)\n"
          ],
          "name": "stdout"
        }
      ]
    },
    {
      "cell_type": "markdown",
      "metadata": {
        "id": "ADazFVziMEzq",
        "colab_type": "text"
      },
      "source": [
        "##### fit"
      ]
    },
    {
      "cell_type": "code",
      "metadata": {
        "id": "S7uEYQUQypdH",
        "colab_type": "code",
        "colab": {
          "base_uri": "https://localhost:8080/",
          "height": 1000
        },
        "outputId": "0aed2931-96b9-44ab-d8c7-628a8523a69f"
      },
      "source": [
        "model.fit([one_hot_input, one_hot_q_t], padded_labels, epochs=50 ,verbose =1)"
      ],
      "execution_count": 152,
      "outputs": [
        {
          "output_type": "stream",
          "text": [
            "Epoch 1/50\n",
            "1/1 [==============================] - 0s 2ms/step - loss: 9.7448 - auc_322: 0.3222 - binary_crossentropy: 0.6961\n",
            "Epoch 2/50\n",
            "1/1 [==============================] - 0s 1ms/step - loss: 8.9885 - auc_322: 0.8778 - binary_crossentropy: 0.6420\n",
            "Epoch 3/50\n",
            "1/1 [==============================] - 0s 1ms/step - loss: 8.4239 - auc_322: 0.9111 - binary_crossentropy: 0.6017\n",
            "Epoch 4/50\n",
            "1/1 [==============================] - 0s 1ms/step - loss: 7.9902 - auc_322: 0.9111 - binary_crossentropy: 0.5707\n",
            "Epoch 5/50\n",
            "1/1 [==============================] - 0s 1ms/step - loss: 7.6489 - auc_322: 0.9111 - binary_crossentropy: 0.5464\n",
            "Epoch 6/50\n",
            "1/1 [==============================] - 0s 1ms/step - loss: 7.3747 - auc_322: 0.9111 - binary_crossentropy: 0.5268\n",
            "Epoch 7/50\n",
            "1/1 [==============================] - 0s 1ms/step - loss: 7.1504 - auc_322: 0.9111 - binary_crossentropy: 0.5107\n",
            "Epoch 8/50\n",
            "1/1 [==============================] - 0s 1ms/step - loss: 6.9637 - auc_322: 0.9111 - binary_crossentropy: 0.4974\n",
            "Epoch 9/50\n",
            "1/1 [==============================] - 0s 2ms/step - loss: 6.8060 - auc_322: 0.9111 - binary_crossentropy: 0.4861\n",
            "Epoch 10/50\n",
            "1/1 [==============================] - 0s 3ms/step - loss: 6.6709 - auc_322: 0.9111 - binary_crossentropy: 0.4765\n",
            "Epoch 11/50\n",
            "1/1 [==============================] - 0s 1ms/step - loss: 6.5536 - auc_322: 0.9111 - binary_crossentropy: 0.4681\n",
            "Epoch 12/50\n",
            "1/1 [==============================] - 0s 1ms/step - loss: 6.4506 - auc_322: 0.9111 - binary_crossentropy: 0.4608\n",
            "Epoch 13/50\n",
            "1/1 [==============================] - 0s 1ms/step - loss: 6.3590 - auc_322: 0.9111 - binary_crossentropy: 0.4542\n",
            "Epoch 14/50\n",
            "1/1 [==============================] - 0s 1ms/step - loss: 6.2768 - auc_322: 0.9111 - binary_crossentropy: 0.4483\n",
            "Epoch 15/50\n",
            "1/1 [==============================] - 0s 1ms/step - loss: 6.2023 - auc_322: 0.9111 - binary_crossentropy: 0.4430\n",
            "Epoch 16/50\n",
            "1/1 [==============================] - 0s 2ms/step - loss: 6.1341 - auc_322: 0.9111 - binary_crossentropy: 0.4382\n",
            "Epoch 17/50\n",
            "1/1 [==============================] - 0s 1ms/step - loss: 6.0713 - auc_322: 0.9111 - binary_crossentropy: 0.4337\n",
            "Epoch 18/50\n",
            "1/1 [==============================] - 0s 1ms/step - loss: 6.0130 - auc_322: 0.9111 - binary_crossentropy: 0.4295\n",
            "Epoch 19/50\n",
            "1/1 [==============================] - 0s 2ms/step - loss: 5.9584 - auc_322: 0.9333 - binary_crossentropy: 0.4256\n",
            "Epoch 20/50\n",
            "1/1 [==============================] - 0s 2ms/step - loss: 5.9070 - auc_322: 0.9333 - binary_crossentropy: 0.4219\n",
            "Epoch 21/50\n",
            "1/1 [==============================] - 0s 2ms/step - loss: 5.8584 - auc_322: 0.9333 - binary_crossentropy: 0.4185\n",
            "Epoch 22/50\n",
            "1/1 [==============================] - 0s 2ms/step - loss: 5.8121 - auc_322: 0.9556 - binary_crossentropy: 0.4151\n",
            "Epoch 23/50\n",
            "1/1 [==============================] - 0s 2ms/step - loss: 5.7678 - auc_322: 0.9556 - binary_crossentropy: 0.4120\n",
            "Epoch 24/50\n",
            "1/1 [==============================] - 0s 2ms/step - loss: 5.7253 - auc_322: 0.9556 - binary_crossentropy: 0.4090\n",
            "Epoch 25/50\n",
            "1/1 [==============================] - 0s 2ms/step - loss: 5.6843 - auc_322: 0.9556 - binary_crossentropy: 0.4060\n",
            "Epoch 26/50\n",
            "1/1 [==============================] - 0s 1ms/step - loss: 5.6446 - auc_322: 0.9556 - binary_crossentropy: 0.4032\n",
            "Epoch 27/50\n",
            "1/1 [==============================] - 0s 2ms/step - loss: 5.6059 - auc_322: 0.9556 - binary_crossentropy: 0.4004\n",
            "Epoch 28/50\n",
            "1/1 [==============================] - 0s 2ms/step - loss: 5.5683 - auc_322: 0.9556 - binary_crossentropy: 0.3977\n",
            "Epoch 29/50\n",
            "1/1 [==============================] - 0s 1ms/step - loss: 5.5315 - auc_322: 0.9556 - binary_crossentropy: 0.3951\n",
            "Epoch 30/50\n",
            "1/1 [==============================] - 0s 1ms/step - loss: 5.4953 - auc_322: 0.9556 - binary_crossentropy: 0.3925\n",
            "Epoch 31/50\n",
            "1/1 [==============================] - 0s 2ms/step - loss: 5.4598 - auc_322: 0.9556 - binary_crossentropy: 0.3900\n",
            "Epoch 32/50\n",
            "1/1 [==============================] - 0s 1ms/step - loss: 5.4247 - auc_322: 0.9556 - binary_crossentropy: 0.3875\n",
            "Epoch 33/50\n",
            "1/1 [==============================] - 0s 2ms/step - loss: 5.3901 - auc_322: 0.9556 - binary_crossentropy: 0.3850\n",
            "Epoch 34/50\n",
            "1/1 [==============================] - 0s 3ms/step - loss: 5.3557 - auc_322: 0.9556 - binary_crossentropy: 0.3826\n",
            "Epoch 35/50\n",
            "1/1 [==============================] - 0s 3ms/step - loss: 5.3216 - auc_322: 0.9556 - binary_crossentropy: 0.3801\n",
            "Epoch 36/50\n",
            "1/1 [==============================] - 0s 1ms/step - loss: 5.2878 - auc_322: 0.9556 - binary_crossentropy: 0.3777\n",
            "Epoch 37/50\n",
            "1/1 [==============================] - 0s 1ms/step - loss: 5.2540 - auc_322: 0.9556 - binary_crossentropy: 0.3753\n",
            "Epoch 38/50\n",
            "1/1 [==============================] - 0s 1ms/step - loss: 5.2203 - auc_322: 0.9556 - binary_crossentropy: 0.3729\n",
            "Epoch 39/50\n",
            "1/1 [==============================] - 0s 1ms/step - loss: 5.1867 - auc_322: 0.9556 - binary_crossentropy: 0.3705\n",
            "Epoch 40/50\n",
            "1/1 [==============================] - 0s 1ms/step - loss: 5.1530 - auc_322: 0.9556 - binary_crossentropy: 0.3681\n",
            "Epoch 41/50\n",
            "1/1 [==============================] - 0s 1ms/step - loss: 5.1193 - auc_322: 0.9556 - binary_crossentropy: 0.3657\n",
            "Epoch 42/50\n",
            "1/1 [==============================] - 0s 1ms/step - loss: 5.0855 - auc_322: 0.9556 - binary_crossentropy: 0.3633\n",
            "Epoch 43/50\n",
            "1/1 [==============================] - 0s 1ms/step - loss: 5.0516 - auc_322: 0.9556 - binary_crossentropy: 0.3608\n",
            "Epoch 44/50\n",
            "1/1 [==============================] - 0s 2ms/step - loss: 5.0175 - auc_322: 0.9556 - binary_crossentropy: 0.3584\n",
            "Epoch 45/50\n",
            "1/1 [==============================] - 0s 1ms/step - loss: 4.9832 - auc_322: 0.9556 - binary_crossentropy: 0.3559\n",
            "Epoch 46/50\n",
            "1/1 [==============================] - 0s 1ms/step - loss: 4.9487 - auc_322: 0.9556 - binary_crossentropy: 0.3535\n",
            "Epoch 47/50\n",
            "1/1 [==============================] - 0s 2ms/step - loss: 4.9139 - auc_322: 0.9556 - binary_crossentropy: 0.3510\n",
            "Epoch 48/50\n",
            "1/1 [==============================] - 0s 2ms/step - loss: 4.8789 - auc_322: 0.9556 - binary_crossentropy: 0.3485\n",
            "Epoch 49/50\n",
            "1/1 [==============================] - 0s 1ms/step - loss: 4.8436 - auc_322: 0.9556 - binary_crossentropy: 0.3460\n",
            "Epoch 50/50\n",
            "1/1 [==============================] - 0s 2ms/step - loss: 4.8080 - auc_322: 0.9556 - binary_crossentropy: 0.3434\n"
          ],
          "name": "stdout"
        },
        {
          "output_type": "execute_result",
          "data": {
            "text/plain": [
              "<tensorflow.python.keras.callbacks.History at 0x7f55cbb98d68>"
            ]
          },
          "metadata": {
            "tags": []
          },
          "execution_count": 152
        }
      ]
    },
    {
      "cell_type": "code",
      "metadata": {
        "id": "ZgQIAGpY7i7m",
        "colab_type": "code",
        "colab": {
          "base_uri": "https://localhost:8080/",
          "height": 803
        },
        "outputId": "5423e925-408b-4025-a4d4-e45588ea5707"
      },
      "source": [
        "predictions = model([one_hot_input, one_hot_q_t]).numpy()\n",
        "print(predictions)\n",
        "print(padded_labels)\n",
        "print(raw_labels)\n",
        "model.evaluate([one_hot_input, one_hot_q_t], padded_labels ,verbose =2)\n"
      ],
      "execution_count": 153,
      "outputs": [
        {
          "output_type": "stream",
          "text": [
            "[[[0.9478266 ]\n",
            "  [0.40629193]\n",
            "  [0.73553604]\n",
            "  [0.        ]\n",
            "  [0.        ]\n",
            "  [0.        ]]\n",
            "\n",
            " [[0.3458018 ]\n",
            "  [0.63187766]\n",
            "  [0.59470654]\n",
            "  [0.98823255]\n",
            "  [0.7788747 ]\n",
            "  [0.        ]]\n",
            "\n",
            " [[0.3458018 ]\n",
            "  [0.97137827]\n",
            "  [0.9827026 ]\n",
            "  [0.80505615]\n",
            "  [0.04748546]\n",
            "  [0.83048403]]]\n",
            "tf.Tensor(\n",
            "[[[1]\n",
            "  [1]\n",
            "  [1]\n",
            "  [1]\n",
            "  [1]\n",
            "  [1]]\n",
            "\n",
            " [[0]\n",
            "  [0]\n",
            "  [0]\n",
            "  [1]\n",
            "  [1]\n",
            "  [1]]\n",
            "\n",
            " [[0]\n",
            "  [1]\n",
            "  [1]\n",
            "  [1]\n",
            "  [0]\n",
            "  [1]]], shape=(3, 6, 1), dtype=int32)\n",
            "[list([1, 1, 1]) list([0, 0, 0, 1, 1]) list([0, 1, 1, 1, 0, 1])]\n",
            "1/1 - 0s - loss: 4.7721 - auc_322: 0.9556 - binary_crossentropy: 0.3409\n"
          ],
          "name": "stdout"
        },
        {
          "output_type": "execute_result",
          "data": {
            "text/plain": [
              "[4.772064208984375, 0.9555555582046509, 0.3408617377281189]"
            ]
          },
          "metadata": {
            "tags": []
          },
          "execution_count": 153
        }
      ]
    }
  ]
}