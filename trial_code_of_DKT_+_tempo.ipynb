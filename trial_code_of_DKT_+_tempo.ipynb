{
  "nbformat": 4,
  "nbformat_minor": 0,
  "metadata": {
    "colab": {
      "name": "trial code of DKT + tempo",
      "provenance": [],
      "collapsed_sections": [
        "RsOf5grQkg2T",
        "nbLe4qZJAUhB",
        "i23H9qy9MCRR"
      ],
      "toc_visible": true,
      "mount_file_id": "1DjKCKrBSQspyjXfjspPGBqR9sZZZI51F",
      "authorship_tag": "ABX9TyO1cSm43/iUG8epDOe1upgc",
      "include_colab_link": true
    },
    "kernelspec": {
      "name": "python3",
      "display_name": "Python 3"
    },
    "accelerator": "GPU"
  },
  "cells": [
    {
      "cell_type": "markdown",
      "metadata": {
        "id": "view-in-github",
        "colab_type": "text"
      },
      "source": [
        "<a href=\"https://colab.research.google.com/github/iKiYo/Test-Code-of-DeepKT-TF2/blob/master/trial_code_of_DKT_%2B_tempo.ipynb\" target=\"_parent\"><img src=\"https://colab.research.google.com/assets/colab-badge.svg\" alt=\"Open In Colab\"/></a>"
      ]
    },
    {
      "cell_type": "markdown",
      "metadata": {
        "id": "M9qFwaq_FYML",
        "colab_type": "text"
      },
      "source": [
        "### use edudata, downloader of IST educational datasets"
      ]
    },
    {
      "cell_type": "code",
      "metadata": {
        "id": "JTXFe8Ok7fze",
        "colab_type": "code",
        "colab": {}
      },
      "source": [
        "!pip install EduData"
      ],
      "execution_count": null,
      "outputs": []
    },
    {
      "cell_type": "code",
      "metadata": {
        "id": "SacFVb0l7h1f",
        "colab_type": "code",
        "colab": {}
      },
      "source": [
        "!edudata ls"
      ],
      "execution_count": null,
      "outputs": []
    },
    {
      "cell_type": "code",
      "metadata": {
        "id": "nV16w6jB7qlu",
        "colab_type": "code",
        "colab": {}
      },
      "source": [
        "!edudata download assistment-2012-2013-non-skill"
      ],
      "execution_count": null,
      "outputs": []
    },
    {
      "cell_type": "markdown",
      "metadata": {
        "id": "skvQZy5ZFlZO",
        "colab_type": "text"
      },
      "source": [
        "### assstment_2012, contains timestamps of attempts"
      ]
    },
    {
      "cell_type": "code",
      "metadata": {
        "id": "a1BiMExH33i4",
        "colab_type": "code",
        "colab": {}
      },
      "source": [
        "import pandas as pd\n",
        "assistment_2012_dataset = pd.read_csv(\"/content/drive/My Drive/master thesis/Datasets/assistment_dataset/2012-2013-data-with-predictions-4-final.csv\")"
      ],
      "execution_count": null,
      "outputs": []
    },
    {
      "cell_type": "code",
      "metadata": {
        "id": "QAWSBqF1GeRA",
        "colab_type": "code",
        "colab": {
          "base_uri": "https://localhost:8080/",
          "height": 73
        },
        "outputId": "2b3f2fe7-aa5f-4d5d-bdb0-3fd72654f320"
      },
      "source": [
        "print(len(assistment_2012_dataset))\n",
        "assistment_2012_dataset.head(1)\n",
        "print(list(assistment_2012_dataset.columns.values)) # get the list of column header"
      ],
      "execution_count": null,
      "outputs": [
        {
          "output_type": "stream",
          "text": [
            "6123270\n",
            "['problem_log_id', 'skill', 'problem_id', 'user_id', 'assignment_id', 'assistment_id', 'start_time', 'end_time', 'problem_type', 'original', 'correct', 'bottom_hint', 'hint_count', 'actions', 'attempt_count', 'ms_first_response', 'tutor_mode', 'sequence_id', 'student_class_id', 'position', 'type', 'base_sequence_id', 'skill_id', 'teacher_id', 'school_id', 'overlap_time', 'template_id', 'answer_id', 'answer_text', 'first_action', 'problemlogid', 'Average_confidence(FRUSTRATED)', 'Average_confidence(CONFUSED)', 'Average_confidence(CONCENTRATING)', 'Average_confidence(BORED)']\n"
          ],
          "name": "stdout"
        }
      ]
    },
    {
      "cell_type": "markdown",
      "metadata": {
        "id": "nLfy3ew9F1rv",
        "colab_type": "text"
      },
      "source": [
        "##### **??? skill_id has more types than skill(name)"
      ]
    },
    {
      "cell_type": "code",
      "metadata": {
        "id": "AJcIO5tXABnB",
        "colab_type": "code",
        "colab": {}
      },
      "source": [
        "print( assistment_2012_dataset.skill_id.unique())\n",
        "print( assistment_2012_dataset.skill.unique())"
      ],
      "execution_count": null,
      "outputs": []
    },
    {
      "cell_type": "code",
      "metadata": {
        "id": "uywK5DS96skB",
        "colab_type": "code",
        "colab": {
          "base_uri": "https://localhost:8080/",
          "height": 142
        },
        "outputId": "dafacb82-d881-4bb6-849d-545215ae57c0"
      },
      "source": [
        "print( assistment_2012_dataset[['user_id', 'skill', 'skill_id','problem_id','assignment_id','assistment_id']].nunique())"
      ],
      "execution_count": null,
      "outputs": [
        {
          "output_type": "stream",
          "text": [
            "user_id           46674\n",
            "skill               198\n",
            "skill_id            265\n",
            "problem_id       179999\n",
            "assignment_id    189760\n",
            "assistment_id    138555\n",
            "dtype: int64\n"
          ],
          "name": "stdout"
        }
      ]
    },
    {
      "cell_type": "markdown",
      "metadata": {
        "id": "69NwWiwxPhDz",
        "colab_type": "text"
      },
      "source": [
        "#### try out drop nan and check skill"
      ]
    },
    {
      "cell_type": "code",
      "metadata": {
        "id": "o2AcU45PGNgL",
        "colab_type": "code",
        "colab": {
          "base_uri": "https://localhost:8080/",
          "height": 136
        },
        "outputId": "4db2e53c-d29b-4c42-e5ca-aafef37aa8b2"
      },
      "source": [
        "assistment_2012_dataset_selected = pd.read_csv(\n",
        "    \"/content/drive/My Drive/master thesis/Datasets/assistment_dataset/2012-2013-data-with-predictions-4-final.csv\",\n",
        "    usecols=['problem_log_id', 'skill', 'problem_id', 'user_id', 'assignment_id', 'assistment_id', 'start_time', 'end_time', 'correct', 'attempt_count', 'skill_id'])\n",
        "print(len(assistment_2012_dataset_selected))\n",
        "assistment_2012_dataset_selected.head(1)"
      ],
      "execution_count": null,
      "outputs": [
        {
          "output_type": "stream",
          "text": [
            "6123270\n"
          ],
          "name": "stdout"
        },
        {
          "output_type": "execute_result",
          "data": {
            "text/html": [
              "<div>\n",
              "<style scoped>\n",
              "    .dataframe tbody tr th:only-of-type {\n",
              "        vertical-align: middle;\n",
              "    }\n",
              "\n",
              "    .dataframe tbody tr th {\n",
              "        vertical-align: top;\n",
              "    }\n",
              "\n",
              "    .dataframe thead th {\n",
              "        text-align: right;\n",
              "    }\n",
              "</style>\n",
              "<table border=\"1\" class=\"dataframe\">\n",
              "  <thead>\n",
              "    <tr style=\"text-align: right;\">\n",
              "      <th></th>\n",
              "      <th>problem_log_id</th>\n",
              "      <th>skill</th>\n",
              "      <th>problem_id</th>\n",
              "      <th>user_id</th>\n",
              "      <th>assignment_id</th>\n",
              "      <th>assistment_id</th>\n",
              "      <th>start_time</th>\n",
              "      <th>end_time</th>\n",
              "      <th>correct</th>\n",
              "      <th>attempt_count</th>\n",
              "      <th>skill_id</th>\n",
              "    </tr>\n",
              "  </thead>\n",
              "  <tbody>\n",
              "    <tr>\n",
              "      <th>0</th>\n",
              "      <td>137792159</td>\n",
              "      <td>NaN</td>\n",
              "      <td>557460</td>\n",
              "      <td>61394</td>\n",
              "      <td>565736</td>\n",
              "      <td>341511</td>\n",
              "      <td>2012-09-28 15:11:27</td>\n",
              "      <td>2012-09-28 15:11:36.856</td>\n",
              "      <td>1.0</td>\n",
              "      <td>1</td>\n",
              "      <td>NaN</td>\n",
              "    </tr>\n",
              "  </tbody>\n",
              "</table>\n",
              "</div>"
            ],
            "text/plain": [
              "   problem_log_id skill  problem_id  ...  correct  attempt_count  skill_id\n",
              "0       137792159   NaN      557460  ...      1.0              1       NaN\n",
              "\n",
              "[1 rows x 11 columns]"
            ]
          },
          "metadata": {
            "tags": []
          },
          "execution_count": 32
        }
      ]
    },
    {
      "cell_type": "code",
      "metadata": {
        "id": "XmhExQ8sNc4j",
        "colab_type": "code",
        "colab": {}
      },
      "source": [
        "df = assistment_2012_dataset_selected[['skill', 'skill_id']].dropna()"
      ],
      "execution_count": null,
      "outputs": []
    },
    {
      "cell_type": "code",
      "metadata": {
        "id": "-QJHqNoZOG3b",
        "colab_type": "code",
        "colab": {
          "base_uri": "https://localhost:8080/",
          "height": 424
        },
        "outputId": "11835c19-bb25-47b4-9bf1-167056bc61c0"
      },
      "source": [
        "df = df.astype({'skill_id': 'int32'})"
      ],
      "execution_count": null,
      "outputs": [
        {
          "output_type": "execute_result",
          "data": {
            "text/html": [
              "<div>\n",
              "<style scoped>\n",
              "    .dataframe tbody tr th:only-of-type {\n",
              "        vertical-align: middle;\n",
              "    }\n",
              "\n",
              "    .dataframe tbody tr th {\n",
              "        vertical-align: top;\n",
              "    }\n",
              "\n",
              "    .dataframe thead th {\n",
              "        text-align: right;\n",
              "    }\n",
              "</style>\n",
              "<table border=\"1\" class=\"dataframe\">\n",
              "  <thead>\n",
              "    <tr style=\"text-align: right;\">\n",
              "      <th></th>\n",
              "      <th>skill</th>\n",
              "      <th>skill_id</th>\n",
              "    </tr>\n",
              "  </thead>\n",
              "  <tbody>\n",
              "    <tr>\n",
              "      <th>1</th>\n",
              "      <td>Rounding</td>\n",
              "      <td>54</td>\n",
              "    </tr>\n",
              "    <tr>\n",
              "      <th>2</th>\n",
              "      <td>Multiplication and Division Integers</td>\n",
              "      <td>279</td>\n",
              "    </tr>\n",
              "    <tr>\n",
              "      <th>3</th>\n",
              "      <td>Proportion</td>\n",
              "      <td>79</td>\n",
              "    </tr>\n",
              "    <tr>\n",
              "      <th>5</th>\n",
              "      <td>Exponents</td>\n",
              "      <td>86</td>\n",
              "    </tr>\n",
              "    <tr>\n",
              "      <th>7</th>\n",
              "      <td>Equation Solving Two or Fewer Steps</td>\n",
              "      <td>311</td>\n",
              "    </tr>\n",
              "    <tr>\n",
              "      <th>...</th>\n",
              "      <td>...</td>\n",
              "      <td>...</td>\n",
              "    </tr>\n",
              "    <tr>\n",
              "      <th>6123258</th>\n",
              "      <td>Exponents</td>\n",
              "      <td>86</td>\n",
              "    </tr>\n",
              "    <tr>\n",
              "      <th>6123260</th>\n",
              "      <td>Square Root</td>\n",
              "      <td>75</td>\n",
              "    </tr>\n",
              "    <tr>\n",
              "      <th>6123262</th>\n",
              "      <td>Unit Conversion Within a System</td>\n",
              "      <td>34</td>\n",
              "    </tr>\n",
              "    <tr>\n",
              "      <th>6123264</th>\n",
              "      <td>Multiplication Fractions</td>\n",
              "      <td>67</td>\n",
              "    </tr>\n",
              "    <tr>\n",
              "      <th>6123267</th>\n",
              "      <td>Addition and Subtraction Integers</td>\n",
              "      <td>277</td>\n",
              "    </tr>\n",
              "  </tbody>\n",
              "</table>\n",
              "<p>2630080 rows × 2 columns</p>\n",
              "</div>"
            ],
            "text/plain": [
              "                                        skill  skill_id\n",
              "1                                    Rounding        54\n",
              "2        Multiplication and Division Integers       279\n",
              "3                                  Proportion        79\n",
              "5                                   Exponents        86\n",
              "7         Equation Solving Two or Fewer Steps       311\n",
              "...                                       ...       ...\n",
              "6123258                             Exponents        86\n",
              "6123260                           Square Root        75\n",
              "6123262       Unit Conversion Within a System        34\n",
              "6123264              Multiplication Fractions        67\n",
              "6123267     Addition and Subtraction Integers       277\n",
              "\n",
              "[2630080 rows x 2 columns]"
            ]
          },
          "metadata": {
            "tags": []
          },
          "execution_count": 46
        }
      ]
    },
    {
      "cell_type": "code",
      "metadata": {
        "id": "8ujCadKQOk9t",
        "colab_type": "code",
        "colab": {
          "base_uri": "https://localhost:8080/",
          "height": 71
        },
        "outputId": "b7b1f978-8702-4ee6-a7ee-fb218ebdc12f"
      },
      "source": [
        "df.nunique()"
      ],
      "execution_count": null,
      "outputs": [
        {
          "output_type": "execute_result",
          "data": {
            "text/plain": [
              "skill       198\n",
              "skill_id    245\n",
              "dtype: int64"
            ]
          },
          "metadata": {
            "tags": []
          },
          "execution_count": 48
        }
      ]
    },
    {
      "cell_type": "markdown",
      "metadata": {
        "id": "38AYYXWFPw8w",
        "colab_type": "text"
      },
      "source": [
        "#### make a complete and minimum csv dataset for experiments"
      ]
    },
    {
      "cell_type": "code",
      "metadata": {
        "id": "5WQ5Y6_7P_Xm",
        "colab_type": "code",
        "colab": {
          "base_uri": "https://localhost:8080/",
          "height": 99
        },
        "outputId": "63a3ab56-dbaf-4572-d630-cddaf75b08fe"
      },
      "source": [
        "import pandas as pd \n",
        "assist2012_preprocessed = pd.read_csv(\n",
        "    \"/content/drive/My Drive/master thesis/Datasets/assistment_dataset/2012-2013-data-with-predictions-4-final.csv\",\n",
        "    usecols=['problem_id', 'user_id', 'start_time', 'end_time', 'correct', 'attempt_count', 'skill_id'])\n",
        "print(len(assist2012_preprocessed))\n",
        "assist2012_preprocessed.head(1)"
      ],
      "execution_count": null,
      "outputs": [
        {
          "output_type": "stream",
          "text": [
            "6123270\n"
          ],
          "name": "stdout"
        },
        {
          "output_type": "execute_result",
          "data": {
            "text/html": [
              "<div>\n",
              "<style scoped>\n",
              "    .dataframe tbody tr th:only-of-type {\n",
              "        vertical-align: middle;\n",
              "    }\n",
              "\n",
              "    .dataframe tbody tr th {\n",
              "        vertical-align: top;\n",
              "    }\n",
              "\n",
              "    .dataframe thead th {\n",
              "        text-align: right;\n",
              "    }\n",
              "</style>\n",
              "<table border=\"1\" class=\"dataframe\">\n",
              "  <thead>\n",
              "    <tr style=\"text-align: right;\">\n",
              "      <th></th>\n",
              "      <th>problem_id</th>\n",
              "      <th>user_id</th>\n",
              "      <th>start_time</th>\n",
              "      <th>end_time</th>\n",
              "      <th>correct</th>\n",
              "      <th>attempt_count</th>\n",
              "      <th>skill_id</th>\n",
              "    </tr>\n",
              "  </thead>\n",
              "  <tbody>\n",
              "    <tr>\n",
              "      <th>0</th>\n",
              "      <td>557460</td>\n",
              "      <td>61394</td>\n",
              "      <td>2012-09-28 15:11:27</td>\n",
              "      <td>2012-09-28 15:11:36.856</td>\n",
              "      <td>1.0</td>\n",
              "      <td>1</td>\n",
              "      <td>NaN</td>\n",
              "    </tr>\n",
              "  </tbody>\n",
              "</table>\n",
              "</div>"
            ],
            "text/plain": [
              "   problem_id  user_id           start_time  ... correct  attempt_count  skill_id\n",
              "0      557460    61394  2012-09-28 15:11:27  ...     1.0              1       NaN\n",
              "\n",
              "[1 rows x 7 columns]"
            ]
          },
          "metadata": {
            "tags": []
          },
          "execution_count": 24
        }
      ]
    },
    {
      "cell_type": "code",
      "metadata": {
        "id": "qy1FbgQuQbjo",
        "colab_type": "code",
        "colab": {
          "base_uri": "https://localhost:8080/",
          "height": 196
        },
        "outputId": "3c16952d-18f9-403c-9741-5d4890e36504"
      },
      "source": [
        "df = assist2012_preprocessed\n",
        "#df = df.dropna()\n",
        "print(df.correct.nunique())\n",
        "df = df.drop_duplicates(subset=['problem_id','user_id','attempt_count'])\n",
        "df = df.fillna(value={'skill_id': 999})\n",
        "df = df.astype({'skill_id': 'int32'})\n",
        "print(len(df))\n",
        "df.nunique()"
      ],
      "execution_count": null,
      "outputs": [
        {
          "output_type": "stream",
          "text": [
            "13\n",
            "5945174\n"
          ],
          "name": "stdout"
        },
        {
          "output_type": "execute_result",
          "data": {
            "text/plain": [
              "problem_id        179999\n",
              "user_id            46674\n",
              "start_time       4571084\n",
              "end_time         5943356\n",
              "correct               13\n",
              "attempt_count         30\n",
              "skill_id             266\n",
              "dtype: int64"
            ]
          },
          "metadata": {
            "tags": []
          },
          "execution_count": 60
        }
      ]
    },
    {
      "cell_type": "code",
      "metadata": {
        "id": "9ZqHJigb3CKE",
        "colab_type": "code",
        "colab": {
          "base_uri": "https://localhost:8080/",
          "height": 424
        },
        "outputId": "98dafd01-b888-4b57-dcf3-292eed2a9828"
      },
      "source": [
        "df = df[df[\"correct\"].isin([0, 1])]\n",
        "df"
      ],
      "execution_count": null,
      "outputs": [
        {
          "output_type": "execute_result",
          "data": {
            "text/html": [
              "<div>\n",
              "<style scoped>\n",
              "    .dataframe tbody tr th:only-of-type {\n",
              "        vertical-align: middle;\n",
              "    }\n",
              "\n",
              "    .dataframe tbody tr th {\n",
              "        vertical-align: top;\n",
              "    }\n",
              "\n",
              "    .dataframe thead th {\n",
              "        text-align: right;\n",
              "    }\n",
              "</style>\n",
              "<table border=\"1\" class=\"dataframe\">\n",
              "  <thead>\n",
              "    <tr style=\"text-align: right;\">\n",
              "      <th></th>\n",
              "      <th>problem_id</th>\n",
              "      <th>user_id</th>\n",
              "      <th>start_time</th>\n",
              "      <th>end_time</th>\n",
              "      <th>correct</th>\n",
              "      <th>attempt_count</th>\n",
              "      <th>skill_id</th>\n",
              "    </tr>\n",
              "  </thead>\n",
              "  <tbody>\n",
              "    <tr>\n",
              "      <th>0</th>\n",
              "      <td>557460</td>\n",
              "      <td>61394</td>\n",
              "      <td>2012-09-28 15:11:27</td>\n",
              "      <td>2012-09-28 15:11:36.856</td>\n",
              "      <td>1.0</td>\n",
              "      <td>1</td>\n",
              "      <td>999</td>\n",
              "    </tr>\n",
              "    <tr>\n",
              "      <th>1</th>\n",
              "      <td>365981</td>\n",
              "      <td>61394</td>\n",
              "      <td>2012-10-09 11:01:52</td>\n",
              "      <td>2012-10-09 11:02:13.182</td>\n",
              "      <td>1.0</td>\n",
              "      <td>1</td>\n",
              "      <td>54</td>\n",
              "    </tr>\n",
              "    <tr>\n",
              "      <th>2</th>\n",
              "      <td>426415</td>\n",
              "      <td>61394</td>\n",
              "      <td>2013-03-07 10:53:20</td>\n",
              "      <td>2013-03-07 10:53:28.661</td>\n",
              "      <td>0.0</td>\n",
              "      <td>1</td>\n",
              "      <td>279</td>\n",
              "    </tr>\n",
              "    <tr>\n",
              "      <th>3</th>\n",
              "      <td>86686</td>\n",
              "      <td>61394</td>\n",
              "      <td>2013-08-20 19:54:56</td>\n",
              "      <td>2013-08-20 19:55:21.753</td>\n",
              "      <td>1.0</td>\n",
              "      <td>1</td>\n",
              "      <td>79</td>\n",
              "    </tr>\n",
              "    <tr>\n",
              "      <th>4</th>\n",
              "      <td>399669</td>\n",
              "      <td>76592</td>\n",
              "      <td>2012-09-10 17:20:10</td>\n",
              "      <td>2012-09-10 17:24:56.579</td>\n",
              "      <td>1.0</td>\n",
              "      <td>1</td>\n",
              "      <td>999</td>\n",
              "    </tr>\n",
              "    <tr>\n",
              "      <th>...</th>\n",
              "      <td>...</td>\n",
              "      <td>...</td>\n",
              "      <td>...</td>\n",
              "      <td>...</td>\n",
              "      <td>...</td>\n",
              "      <td>...</td>\n",
              "      <td>...</td>\n",
              "    </tr>\n",
              "    <tr>\n",
              "      <th>6123265</th>\n",
              "      <td>330756</td>\n",
              "      <td>227984</td>\n",
              "      <td>2013-08-30 10:10:55</td>\n",
              "      <td>2013-08-30 10:11:08.935</td>\n",
              "      <td>1.0</td>\n",
              "      <td>1</td>\n",
              "      <td>999</td>\n",
              "    </tr>\n",
              "    <tr>\n",
              "      <th>6123266</th>\n",
              "      <td>765964</td>\n",
              "      <td>228009</td>\n",
              "      <td>2013-08-31 10:23:24</td>\n",
              "      <td>2013-08-31 10:23:27.757</td>\n",
              "      <td>0.0</td>\n",
              "      <td>1</td>\n",
              "      <td>999</td>\n",
              "    </tr>\n",
              "    <tr>\n",
              "      <th>6123267</th>\n",
              "      <td>84891</td>\n",
              "      <td>228039</td>\n",
              "      <td>2013-08-30 11:29:35</td>\n",
              "      <td>2013-08-30 11:30:05.517</td>\n",
              "      <td>0.0</td>\n",
              "      <td>1</td>\n",
              "      <td>277</td>\n",
              "    </tr>\n",
              "    <tr>\n",
              "      <th>6123268</th>\n",
              "      <td>543973</td>\n",
              "      <td>228055</td>\n",
              "      <td>2013-08-30 11:52:37</td>\n",
              "      <td>2013-08-30 11:52:41.251</td>\n",
              "      <td>1.0</td>\n",
              "      <td>1</td>\n",
              "      <td>999</td>\n",
              "    </tr>\n",
              "    <tr>\n",
              "      <th>6123269</th>\n",
              "      <td>136311</td>\n",
              "      <td>228142</td>\n",
              "      <td>2013-08-30 13:41:33</td>\n",
              "      <td>2013-08-30 13:46:12.745</td>\n",
              "      <td>1.0</td>\n",
              "      <td>1</td>\n",
              "      <td>999</td>\n",
              "    </tr>\n",
              "  </tbody>\n",
              "</table>\n",
              "<p>5939867 rows × 7 columns</p>\n",
              "</div>"
            ],
            "text/plain": [
              "         problem_id  user_id  ... attempt_count skill_id\n",
              "0            557460    61394  ...             1      999\n",
              "1            365981    61394  ...             1       54\n",
              "2            426415    61394  ...             1      279\n",
              "3             86686    61394  ...             1       79\n",
              "4            399669    76592  ...             1      999\n",
              "...             ...      ...  ...           ...      ...\n",
              "6123265      330756   227984  ...             1      999\n",
              "6123266      765964   228009  ...             1      999\n",
              "6123267       84891   228039  ...             1      277\n",
              "6123268      543973   228055  ...             1      999\n",
              "6123269      136311   228142  ...             1      999\n",
              "\n",
              "[5939867 rows x 7 columns]"
            ]
          },
          "metadata": {
            "tags": []
          },
          "execution_count": 61
        }
      ]
    },
    {
      "cell_type": "code",
      "metadata": {
        "id": "QV2mlPC4W_Ql",
        "colab_type": "code",
        "colab": {
          "base_uri": "https://localhost:8080/",
          "height": 424
        },
        "outputId": "c5baa146-63f0-4344-93bd-565a12d47f18"
      },
      "source": [
        "# change 'correct' column into a boolean format as recommended in ASSIST dataset website\n",
        "df['correct'] = (df['correct'] >= 1).astype(int)\n",
        "df"
      ],
      "execution_count": null,
      "outputs": [
        {
          "output_type": "execute_result",
          "data": {
            "text/html": [
              "<div>\n",
              "<style scoped>\n",
              "    .dataframe tbody tr th:only-of-type {\n",
              "        vertical-align: middle;\n",
              "    }\n",
              "\n",
              "    .dataframe tbody tr th {\n",
              "        vertical-align: top;\n",
              "    }\n",
              "\n",
              "    .dataframe thead th {\n",
              "        text-align: right;\n",
              "    }\n",
              "</style>\n",
              "<table border=\"1\" class=\"dataframe\">\n",
              "  <thead>\n",
              "    <tr style=\"text-align: right;\">\n",
              "      <th></th>\n",
              "      <th>problem_id</th>\n",
              "      <th>user_id</th>\n",
              "      <th>start_time</th>\n",
              "      <th>end_time</th>\n",
              "      <th>correct</th>\n",
              "      <th>attempt_count</th>\n",
              "      <th>skill_id</th>\n",
              "    </tr>\n",
              "  </thead>\n",
              "  <tbody>\n",
              "    <tr>\n",
              "      <th>0</th>\n",
              "      <td>557460</td>\n",
              "      <td>61394</td>\n",
              "      <td>2012-09-28 15:11:27</td>\n",
              "      <td>2012-09-28 15:11:36.856</td>\n",
              "      <td>1</td>\n",
              "      <td>1</td>\n",
              "      <td>999</td>\n",
              "    </tr>\n",
              "    <tr>\n",
              "      <th>1</th>\n",
              "      <td>365981</td>\n",
              "      <td>61394</td>\n",
              "      <td>2012-10-09 11:01:52</td>\n",
              "      <td>2012-10-09 11:02:13.182</td>\n",
              "      <td>1</td>\n",
              "      <td>1</td>\n",
              "      <td>54</td>\n",
              "    </tr>\n",
              "    <tr>\n",
              "      <th>2</th>\n",
              "      <td>426415</td>\n",
              "      <td>61394</td>\n",
              "      <td>2013-03-07 10:53:20</td>\n",
              "      <td>2013-03-07 10:53:28.661</td>\n",
              "      <td>0</td>\n",
              "      <td>1</td>\n",
              "      <td>279</td>\n",
              "    </tr>\n",
              "    <tr>\n",
              "      <th>3</th>\n",
              "      <td>86686</td>\n",
              "      <td>61394</td>\n",
              "      <td>2013-08-20 19:54:56</td>\n",
              "      <td>2013-08-20 19:55:21.753</td>\n",
              "      <td>1</td>\n",
              "      <td>1</td>\n",
              "      <td>79</td>\n",
              "    </tr>\n",
              "    <tr>\n",
              "      <th>4</th>\n",
              "      <td>399669</td>\n",
              "      <td>76592</td>\n",
              "      <td>2012-09-10 17:20:10</td>\n",
              "      <td>2012-09-10 17:24:56.579</td>\n",
              "      <td>1</td>\n",
              "      <td>1</td>\n",
              "      <td>999</td>\n",
              "    </tr>\n",
              "    <tr>\n",
              "      <th>...</th>\n",
              "      <td>...</td>\n",
              "      <td>...</td>\n",
              "      <td>...</td>\n",
              "      <td>...</td>\n",
              "      <td>...</td>\n",
              "      <td>...</td>\n",
              "      <td>...</td>\n",
              "    </tr>\n",
              "    <tr>\n",
              "      <th>6123265</th>\n",
              "      <td>330756</td>\n",
              "      <td>227984</td>\n",
              "      <td>2013-08-30 10:10:55</td>\n",
              "      <td>2013-08-30 10:11:08.935</td>\n",
              "      <td>1</td>\n",
              "      <td>1</td>\n",
              "      <td>999</td>\n",
              "    </tr>\n",
              "    <tr>\n",
              "      <th>6123266</th>\n",
              "      <td>765964</td>\n",
              "      <td>228009</td>\n",
              "      <td>2013-08-31 10:23:24</td>\n",
              "      <td>2013-08-31 10:23:27.757</td>\n",
              "      <td>0</td>\n",
              "      <td>1</td>\n",
              "      <td>999</td>\n",
              "    </tr>\n",
              "    <tr>\n",
              "      <th>6123267</th>\n",
              "      <td>84891</td>\n",
              "      <td>228039</td>\n",
              "      <td>2013-08-30 11:29:35</td>\n",
              "      <td>2013-08-30 11:30:05.517</td>\n",
              "      <td>0</td>\n",
              "      <td>1</td>\n",
              "      <td>277</td>\n",
              "    </tr>\n",
              "    <tr>\n",
              "      <th>6123268</th>\n",
              "      <td>543973</td>\n",
              "      <td>228055</td>\n",
              "      <td>2013-08-30 11:52:37</td>\n",
              "      <td>2013-08-30 11:52:41.251</td>\n",
              "      <td>1</td>\n",
              "      <td>1</td>\n",
              "      <td>999</td>\n",
              "    </tr>\n",
              "    <tr>\n",
              "      <th>6123269</th>\n",
              "      <td>136311</td>\n",
              "      <td>228142</td>\n",
              "      <td>2013-08-30 13:41:33</td>\n",
              "      <td>2013-08-30 13:46:12.745</td>\n",
              "      <td>1</td>\n",
              "      <td>1</td>\n",
              "      <td>999</td>\n",
              "    </tr>\n",
              "  </tbody>\n",
              "</table>\n",
              "<p>6123270 rows × 7 columns</p>\n",
              "</div>"
            ],
            "text/plain": [
              "         problem_id  user_id  ... attempt_count skill_id\n",
              "0            557460    61394  ...             1      999\n",
              "1            365981    61394  ...             1       54\n",
              "2            426415    61394  ...             1      279\n",
              "3             86686    61394  ...             1       79\n",
              "4            399669    76592  ...             1      999\n",
              "...             ...      ...  ...           ...      ...\n",
              "6123265      330756   227984  ...             1      999\n",
              "6123266      765964   228009  ...             1      999\n",
              "6123267       84891   228039  ...             1      277\n",
              "6123268      543973   228055  ...             1      999\n",
              "6123269      136311   228142  ...             1      999\n",
              "\n",
              "[6123270 rows x 7 columns]"
            ]
          },
          "metadata": {
            "tags": []
          },
          "execution_count": 26
        }
      ]
    },
    {
      "cell_type": "code",
      "metadata": {
        "id": "9cioYgI7Xap6",
        "colab_type": "code",
        "colab": {
          "base_uri": "https://localhost:8080/",
          "height": 71
        },
        "outputId": "f1275cd4-8be9-4f1c-d205-6730522d48b7"
      },
      "source": [
        "df.correct.value_counts(normalize=True)"
      ],
      "execution_count": null,
      "outputs": [
        {
          "output_type": "execute_result",
          "data": {
            "text/plain": [
              "1.0    0.674026\n",
              "0.0    0.325974\n",
              "Name: correct, dtype: float64"
            ]
          },
          "metadata": {
            "tags": []
          },
          "execution_count": 62
        }
      ]
    },
    {
      "cell_type": "code",
      "metadata": {
        "id": "KbpmUPSpV0pt",
        "colab_type": "code",
        "colab": {
          "base_uri": "https://localhost:8080/",
          "height": 53
        },
        "outputId": "3e68fd5a-0f67-4205-a68c-8bad2e955b08"
      },
      "source": [
        "df.attempt_count.unique()"
      ],
      "execution_count": null,
      "outputs": [
        {
          "output_type": "execute_result",
          "data": {
            "text/plain": [
              "array([ 1,  2, 13,  3,  4,  8, 11,  5,  0,  7, 19,  6, 10, 12, 15, 26, 17,\n",
              "       14,  9, 24, 16, 20, 22, 18, 29, 23, 27, 28, 21, 25])"
            ]
          },
          "metadata": {
            "tags": []
          },
          "execution_count": 66
        }
      ]
    },
    {
      "cell_type": "code",
      "metadata": {
        "id": "fpM0j-ldUqA8",
        "colab_type": "code",
        "colab": {
          "base_uri": "https://localhost:8080/",
          "height": 424
        },
        "outputId": "f3037f96-e617-47a3-8574-6d4876c7ecc2"
      },
      "source": [
        "counts = df['user_id'].value_counts()\n",
        "selected_df= df[~df['user_id'].isin(counts[counts < 2].index)]\n",
        "selected_df"
      ],
      "execution_count": null,
      "outputs": [
        {
          "output_type": "execute_result",
          "data": {
            "text/html": [
              "<div>\n",
              "<style scoped>\n",
              "    .dataframe tbody tr th:only-of-type {\n",
              "        vertical-align: middle;\n",
              "    }\n",
              "\n",
              "    .dataframe tbody tr th {\n",
              "        vertical-align: top;\n",
              "    }\n",
              "\n",
              "    .dataframe thead th {\n",
              "        text-align: right;\n",
              "    }\n",
              "</style>\n",
              "<table border=\"1\" class=\"dataframe\">\n",
              "  <thead>\n",
              "    <tr style=\"text-align: right;\">\n",
              "      <th></th>\n",
              "      <th>problem_id</th>\n",
              "      <th>user_id</th>\n",
              "      <th>start_time</th>\n",
              "      <th>end_time</th>\n",
              "      <th>correct</th>\n",
              "      <th>attempt_count</th>\n",
              "      <th>skill_id</th>\n",
              "    </tr>\n",
              "  </thead>\n",
              "  <tbody>\n",
              "    <tr>\n",
              "      <th>0</th>\n",
              "      <td>557460</td>\n",
              "      <td>61394</td>\n",
              "      <td>2012-09-28 15:11:27</td>\n",
              "      <td>2012-09-28 15:11:36.856</td>\n",
              "      <td>1.0</td>\n",
              "      <td>1</td>\n",
              "      <td>999</td>\n",
              "    </tr>\n",
              "    <tr>\n",
              "      <th>1</th>\n",
              "      <td>365981</td>\n",
              "      <td>61394</td>\n",
              "      <td>2012-10-09 11:01:52</td>\n",
              "      <td>2012-10-09 11:02:13.182</td>\n",
              "      <td>1.0</td>\n",
              "      <td>1</td>\n",
              "      <td>54</td>\n",
              "    </tr>\n",
              "    <tr>\n",
              "      <th>2</th>\n",
              "      <td>426415</td>\n",
              "      <td>61394</td>\n",
              "      <td>2013-03-07 10:53:20</td>\n",
              "      <td>2013-03-07 10:53:28.661</td>\n",
              "      <td>0.0</td>\n",
              "      <td>1</td>\n",
              "      <td>279</td>\n",
              "    </tr>\n",
              "    <tr>\n",
              "      <th>3</th>\n",
              "      <td>86686</td>\n",
              "      <td>61394</td>\n",
              "      <td>2013-08-20 19:54:56</td>\n",
              "      <td>2013-08-20 19:55:21.753</td>\n",
              "      <td>1.0</td>\n",
              "      <td>1</td>\n",
              "      <td>79</td>\n",
              "    </tr>\n",
              "    <tr>\n",
              "      <th>4</th>\n",
              "      <td>399669</td>\n",
              "      <td>76592</td>\n",
              "      <td>2012-09-10 17:20:10</td>\n",
              "      <td>2012-09-10 17:24:56.579</td>\n",
              "      <td>1.0</td>\n",
              "      <td>1</td>\n",
              "      <td>999</td>\n",
              "    </tr>\n",
              "    <tr>\n",
              "      <th>...</th>\n",
              "      <td>...</td>\n",
              "      <td>...</td>\n",
              "      <td>...</td>\n",
              "      <td>...</td>\n",
              "      <td>...</td>\n",
              "      <td>...</td>\n",
              "      <td>...</td>\n",
              "    </tr>\n",
              "    <tr>\n",
              "      <th>6123265</th>\n",
              "      <td>330756</td>\n",
              "      <td>227984</td>\n",
              "      <td>2013-08-30 10:10:55</td>\n",
              "      <td>2013-08-30 10:11:08.935</td>\n",
              "      <td>1.0</td>\n",
              "      <td>1</td>\n",
              "      <td>999</td>\n",
              "    </tr>\n",
              "    <tr>\n",
              "      <th>6123266</th>\n",
              "      <td>765964</td>\n",
              "      <td>228009</td>\n",
              "      <td>2013-08-31 10:23:24</td>\n",
              "      <td>2013-08-31 10:23:27.757</td>\n",
              "      <td>0.0</td>\n",
              "      <td>1</td>\n",
              "      <td>999</td>\n",
              "    </tr>\n",
              "    <tr>\n",
              "      <th>6123267</th>\n",
              "      <td>84891</td>\n",
              "      <td>228039</td>\n",
              "      <td>2013-08-30 11:29:35</td>\n",
              "      <td>2013-08-30 11:30:05.517</td>\n",
              "      <td>0.0</td>\n",
              "      <td>1</td>\n",
              "      <td>277</td>\n",
              "    </tr>\n",
              "    <tr>\n",
              "      <th>6123268</th>\n",
              "      <td>543973</td>\n",
              "      <td>228055</td>\n",
              "      <td>2013-08-30 11:52:37</td>\n",
              "      <td>2013-08-30 11:52:41.251</td>\n",
              "      <td>1.0</td>\n",
              "      <td>1</td>\n",
              "      <td>999</td>\n",
              "    </tr>\n",
              "    <tr>\n",
              "      <th>6123269</th>\n",
              "      <td>136311</td>\n",
              "      <td>228142</td>\n",
              "      <td>2013-08-30 13:41:33</td>\n",
              "      <td>2013-08-30 13:46:12.745</td>\n",
              "      <td>1.0</td>\n",
              "      <td>1</td>\n",
              "      <td>999</td>\n",
              "    </tr>\n",
              "  </tbody>\n",
              "</table>\n",
              "<p>5939169 rows × 7 columns</p>\n",
              "</div>"
            ],
            "text/plain": [
              "         problem_id  user_id  ... attempt_count skill_id\n",
              "0            557460    61394  ...             1      999\n",
              "1            365981    61394  ...             1       54\n",
              "2            426415    61394  ...             1      279\n",
              "3             86686    61394  ...             1       79\n",
              "4            399669    76592  ...             1      999\n",
              "...             ...      ...  ...           ...      ...\n",
              "6123265      330756   227984  ...             1      999\n",
              "6123266      765964   228009  ...             1      999\n",
              "6123267       84891   228039  ...             1      277\n",
              "6123268      543973   228055  ...             1      999\n",
              "6123269      136311   228142  ...             1      999\n",
              "\n",
              "[5939169 rows x 7 columns]"
            ]
          },
          "metadata": {
            "tags": []
          },
          "execution_count": 63
        }
      ]
    },
    {
      "cell_type": "code",
      "metadata": {
        "id": "XP3oIACdhupv",
        "colab_type": "code",
        "colab": {
          "base_uri": "https://localhost:8080/",
          "height": 231
        },
        "outputId": "b0884683-6a2b-4a7b-b802-b8362cf48ab7"
      },
      "source": [
        "selected_df['user_id'].value_counts()"
      ],
      "execution_count": null,
      "outputs": [
        {
          "output_type": "execute_result",
          "data": {
            "text/plain": [
              "221054    4760\n",
              "220012    3551\n",
              "169527    3421\n",
              "92113     3289\n",
              "218757    3157\n",
              "          ... \n",
              "177088       2\n",
              "198066       2\n",
              "198995       2\n",
              "194926       2\n",
              "203435       2\n",
              "Name: user_id, Length: 45969, dtype: int64"
            ]
          },
          "metadata": {
            "tags": []
          },
          "execution_count": 64
        }
      ]
    },
    {
      "cell_type": "code",
      "metadata": {
        "id": "3Ic0u7nzjicH",
        "colab_type": "code",
        "colab": {
          "base_uri": "https://localhost:8080/",
          "height": 112
        },
        "outputId": "beae9387-7830-46b6-8795-f2d39af06acb"
      },
      "source": [
        "df[df['user_id'] == 221324]"
      ],
      "execution_count": null,
      "outputs": [
        {
          "output_type": "execute_result",
          "data": {
            "text/html": [
              "<div>\n",
              "<style scoped>\n",
              "    .dataframe tbody tr th:only-of-type {\n",
              "        vertical-align: middle;\n",
              "    }\n",
              "\n",
              "    .dataframe tbody tr th {\n",
              "        vertical-align: top;\n",
              "    }\n",
              "\n",
              "    .dataframe thead th {\n",
              "        text-align: right;\n",
              "    }\n",
              "</style>\n",
              "<table border=\"1\" class=\"dataframe\">\n",
              "  <thead>\n",
              "    <tr style=\"text-align: right;\">\n",
              "      <th></th>\n",
              "      <th>problem_id</th>\n",
              "      <th>user_id</th>\n",
              "      <th>start_time</th>\n",
              "      <th>end_time</th>\n",
              "      <th>correct</th>\n",
              "      <th>attempt_count</th>\n",
              "      <th>skill_id</th>\n",
              "    </tr>\n",
              "  </thead>\n",
              "  <tbody>\n",
              "    <tr>\n",
              "      <th>381890</th>\n",
              "      <td>108501</td>\n",
              "      <td>221324</td>\n",
              "      <td>2013-06-16 23:01:02</td>\n",
              "      <td>2013-06-16 23:01:27.992</td>\n",
              "      <td>1.0</td>\n",
              "      <td>1</td>\n",
              "      <td>999</td>\n",
              "    </tr>\n",
              "    <tr>\n",
              "      <th>4771501</th>\n",
              "      <td>108499</td>\n",
              "      <td>221324</td>\n",
              "      <td>2013-06-16 23:02:32</td>\n",
              "      <td>2013-06-16 23:03:08.199</td>\n",
              "      <td>1.0</td>\n",
              "      <td>1</td>\n",
              "      <td>999</td>\n",
              "    </tr>\n",
              "  </tbody>\n",
              "</table>\n",
              "</div>"
            ],
            "text/plain": [
              "         problem_id  user_id  ... attempt_count skill_id\n",
              "381890       108501   221324  ...             1      999\n",
              "4771501      108499   221324  ...             1      999\n",
              "\n",
              "[2 rows x 7 columns]"
            ]
          },
          "metadata": {
            "tags": []
          },
          "execution_count": 65
        }
      ]
    },
    {
      "cell_type": "code",
      "metadata": {
        "id": "psu99hP_jscd",
        "colab_type": "code",
        "colab": {}
      },
      "source": [
        "skill_counts = selected_df['skill_id'].value_counts()"
      ],
      "execution_count": null,
      "outputs": []
    },
    {
      "cell_type": "code",
      "metadata": {
        "id": "EColOlZAj3Gv",
        "colab_type": "code",
        "colab": {
          "base_uri": "https://localhost:8080/",
          "height": 231
        },
        "outputId": "11a937d2-1e09-427f-8599-a63d02bb96ca"
      },
      "source": [
        "skill_counts"
      ],
      "execution_count": null,
      "outputs": [
        {
          "output_type": "execute_result",
          "data": {
            "text/plain": [
              "999    3325272\n",
              "311     182937\n",
              "277     144084\n",
              "280     143417\n",
              "47       95336\n",
              "        ...   \n",
              "38           5\n",
              "178          4\n",
              "611          3\n",
              "177          1\n",
              "291          1\n",
              "Name: skill_id, Length: 266, dtype: int64"
            ]
          },
          "metadata": {
            "tags": []
          },
          "execution_count": 67
        }
      ]
    },
    {
      "cell_type": "code",
      "metadata": {
        "id": "Q7DRN6IEbD38",
        "colab_type": "code",
        "colab": {
          "base_uri": "https://localhost:8080/",
          "height": 35
        },
        "outputId": "61940c2f-5e2c-4086-961b-0d4a58969cc8"
      },
      "source": [
        "len(counts)"
      ],
      "execution_count": null,
      "outputs": [
        {
          "output_type": "execute_result",
          "data": {
            "text/plain": [
              "46674"
            ]
          },
          "metadata": {
            "tags": []
          },
          "execution_count": 91
        }
      ]
    },
    {
      "cell_type": "code",
      "metadata": {
        "id": "8ElzOkzcX_i7",
        "colab_type": "code",
        "colab": {
          "base_uri": "https://localhost:8080/",
          "height": 35
        },
        "outputId": "4298e237-bce6-4fc9-b706-e0ec05a40fb2"
      },
      "source": [
        "len(selected_df) - 3325272"
      ],
      "execution_count": null,
      "outputs": [
        {
          "output_type": "execute_result",
          "data": {
            "text/plain": [
              "2613897"
            ]
          },
          "metadata": {
            "tags": []
          },
          "execution_count": 70
        }
      ]
    },
    {
      "cell_type": "code",
      "metadata": {
        "id": "HC8YXe9kZore",
        "colab_type": "code",
        "colab": {
          "base_uri": "https://localhost:8080/",
          "height": 160
        },
        "outputId": "28b7ecea-f3ef-4ee2-9519-15b8d73293d6"
      },
      "source": [
        "selected_df.nunique()"
      ],
      "execution_count": null,
      "outputs": [
        {
          "output_type": "execute_result",
          "data": {
            "text/plain": [
              "problem_id        179969\n",
              "user_id            45976\n",
              "start_time       4570663\n",
              "end_time         5942658\n",
              "correct               13\n",
              "attempt_count         30\n",
              "skill_id             266\n",
              "dtype: int64"
            ]
          },
          "metadata": {
            "tags": []
          },
          "execution_count": 32
        }
      ]
    },
    {
      "cell_type": "code",
      "metadata": {
        "id": "X5fBZTvtvgLD",
        "colab_type": "code",
        "colab": {
          "base_uri": "https://localhost:8080/",
          "height": 35
        },
        "outputId": "6ea47c08-75da-48be-faa1-1b852507b1df"
      },
      "source": [
        "len(selected_df.drop_duplicates())"
      ],
      "execution_count": null,
      "outputs": [
        {
          "output_type": "execute_result",
          "data": {
            "text/plain": [
              "5944476"
            ]
          },
          "metadata": {
            "tags": []
          },
          "execution_count": 38
        }
      ]
    },
    {
      "cell_type": "code",
      "metadata": {
        "id": "9OYtI31Rb7qb",
        "colab_type": "code",
        "colab": {
          "base_uri": "https://localhost:8080/",
          "height": 424
        },
        "outputId": "827c712a-4baa-43b0-fa65-4a733f05c6c9"
      },
      "source": [
        "df[df['attempt_count'] == 0]"
      ],
      "execution_count": null,
      "outputs": [
        {
          "output_type": "execute_result",
          "data": {
            "text/html": [
              "<div>\n",
              "<style scoped>\n",
              "    .dataframe tbody tr th:only-of-type {\n",
              "        vertical-align: middle;\n",
              "    }\n",
              "\n",
              "    .dataframe tbody tr th {\n",
              "        vertical-align: top;\n",
              "    }\n",
              "\n",
              "    .dataframe thead th {\n",
              "        text-align: right;\n",
              "    }\n",
              "</style>\n",
              "<table border=\"1\" class=\"dataframe\">\n",
              "  <thead>\n",
              "    <tr style=\"text-align: right;\">\n",
              "      <th></th>\n",
              "      <th>problem_id</th>\n",
              "      <th>user_id</th>\n",
              "      <th>end_time</th>\n",
              "      <th>correct</th>\n",
              "      <th>attempt_count</th>\n",
              "      <th>skill_id</th>\n",
              "    </tr>\n",
              "  </thead>\n",
              "  <tbody>\n",
              "    <tr>\n",
              "      <th>235</th>\n",
              "      <td>108293</td>\n",
              "      <td>93574</td>\n",
              "      <td>2012-11-19 13:03:48.491</td>\n",
              "      <td>0</td>\n",
              "      <td>0</td>\n",
              "      <td>312</td>\n",
              "    </tr>\n",
              "    <tr>\n",
              "      <th>426</th>\n",
              "      <td>139575</td>\n",
              "      <td>100652</td>\n",
              "      <td>2012-11-07 17:43:37.193</td>\n",
              "      <td>0</td>\n",
              "      <td>0</td>\n",
              "      <td>17</td>\n",
              "    </tr>\n",
              "    <tr>\n",
              "      <th>940</th>\n",
              "      <td>108032</td>\n",
              "      <td>122049</td>\n",
              "      <td>2013-02-28 21:08:19.107</td>\n",
              "      <td>0</td>\n",
              "      <td>0</td>\n",
              "      <td>312</td>\n",
              "    </tr>\n",
              "    <tr>\n",
              "      <th>1174</th>\n",
              "      <td>554729</td>\n",
              "      <td>124084</td>\n",
              "      <td>2012-09-20 19:27:23.994</td>\n",
              "      <td>0</td>\n",
              "      <td>0</td>\n",
              "      <td>999</td>\n",
              "    </tr>\n",
              "    <tr>\n",
              "      <th>1292</th>\n",
              "      <td>545347</td>\n",
              "      <td>125416</td>\n",
              "      <td>2012-09-05 16:08:53.307</td>\n",
              "      <td>0</td>\n",
              "      <td>0</td>\n",
              "      <td>999</td>\n",
              "    </tr>\n",
              "    <tr>\n",
              "      <th>...</th>\n",
              "      <td>...</td>\n",
              "      <td>...</td>\n",
              "      <td>...</td>\n",
              "      <td>...</td>\n",
              "      <td>...</td>\n",
              "      <td>...</td>\n",
              "    </tr>\n",
              "    <tr>\n",
              "      <th>6122746</th>\n",
              "      <td>170731</td>\n",
              "      <td>221915</td>\n",
              "      <td>2013-07-18 11:12:27.053</td>\n",
              "      <td>0</td>\n",
              "      <td>0</td>\n",
              "      <td>39</td>\n",
              "    </tr>\n",
              "    <tr>\n",
              "      <th>6122822</th>\n",
              "      <td>12383</td>\n",
              "      <td>222500</td>\n",
              "      <td>2013-08-26 19:40:32.453</td>\n",
              "      <td>0</td>\n",
              "      <td>0</td>\n",
              "      <td>47</td>\n",
              "    </tr>\n",
              "    <tr>\n",
              "      <th>6123001</th>\n",
              "      <td>12387</td>\n",
              "      <td>223445</td>\n",
              "      <td>2013-07-31 21:46:45.393</td>\n",
              "      <td>0</td>\n",
              "      <td>0</td>\n",
              "      <td>91</td>\n",
              "    </tr>\n",
              "    <tr>\n",
              "      <th>6123188</th>\n",
              "      <td>765824</td>\n",
              "      <td>225944</td>\n",
              "      <td>2013-08-30 12:57:26.138</td>\n",
              "      <td>0</td>\n",
              "      <td>0</td>\n",
              "      <td>999</td>\n",
              "    </tr>\n",
              "    <tr>\n",
              "      <th>6123237</th>\n",
              "      <td>760541</td>\n",
              "      <td>226860</td>\n",
              "      <td>2013-08-29 07:46:40.524</td>\n",
              "      <td>0</td>\n",
              "      <td>0</td>\n",
              "      <td>999</td>\n",
              "    </tr>\n",
              "  </tbody>\n",
              "</table>\n",
              "<p>46570 rows × 6 columns</p>\n",
              "</div>"
            ],
            "text/plain": [
              "         problem_id  user_id  ... attempt_count  skill_id\n",
              "235          108293    93574  ...             0       312\n",
              "426          139575   100652  ...             0        17\n",
              "940          108032   122049  ...             0       312\n",
              "1174         554729   124084  ...             0       999\n",
              "1292         545347   125416  ...             0       999\n",
              "...             ...      ...  ...           ...       ...\n",
              "6122746      170731   221915  ...             0        39\n",
              "6122822       12383   222500  ...             0        47\n",
              "6123001       12387   223445  ...             0        91\n",
              "6123188      765824   225944  ...             0       999\n",
              "6123237      760541   226860  ...             0       999\n",
              "\n",
              "[46570 rows x 6 columns]"
            ]
          },
          "metadata": {
            "tags": []
          },
          "execution_count": 93
        }
      ]
    },
    {
      "cell_type": "code",
      "metadata": {
        "id": "YXI3EK3Wq8T_",
        "colab_type": "code",
        "colab": {
          "base_uri": "https://localhost:8080/",
          "height": 424
        },
        "outputId": "50c3b523-2104-40b7-a06b-75f99fa5613f"
      },
      "source": [
        "counts = selected_df['end_time'].value_counts()\n",
        "dub_time_df= selected_df[~selected_df['end_time'].isin(counts[counts < 2].index)]\n",
        "dub_time_df"
      ],
      "execution_count": null,
      "outputs": [
        {
          "output_type": "execute_result",
          "data": {
            "text/html": [
              "<div>\n",
              "<style scoped>\n",
              "    .dataframe tbody tr th:only-of-type {\n",
              "        vertical-align: middle;\n",
              "    }\n",
              "\n",
              "    .dataframe tbody tr th {\n",
              "        vertical-align: top;\n",
              "    }\n",
              "\n",
              "    .dataframe thead th {\n",
              "        text-align: right;\n",
              "    }\n",
              "</style>\n",
              "<table border=\"1\" class=\"dataframe\">\n",
              "  <thead>\n",
              "    <tr style=\"text-align: right;\">\n",
              "      <th></th>\n",
              "      <th>problem_id</th>\n",
              "      <th>user_id</th>\n",
              "      <th>start_time</th>\n",
              "      <th>end_time</th>\n",
              "      <th>correct</th>\n",
              "      <th>attempt_count</th>\n",
              "      <th>skill_id</th>\n",
              "    </tr>\n",
              "  </thead>\n",
              "  <tbody>\n",
              "    <tr>\n",
              "      <th>20</th>\n",
              "      <td>543983</td>\n",
              "      <td>85334</td>\n",
              "      <td>2012-09-04 13:54:23</td>\n",
              "      <td>2012-09-04 13:54:25.611</td>\n",
              "      <td>1.0</td>\n",
              "      <td>1</td>\n",
              "      <td>999</td>\n",
              "    </tr>\n",
              "    <tr>\n",
              "      <th>770</th>\n",
              "      <td>72689</td>\n",
              "      <td>120299</td>\n",
              "      <td>2012-09-10 08:08:10</td>\n",
              "      <td>2012-09-10 08:08:32.772</td>\n",
              "      <td>0.0</td>\n",
              "      <td>1</td>\n",
              "      <td>999</td>\n",
              "    </tr>\n",
              "    <tr>\n",
              "      <th>4310</th>\n",
              "      <td>431679</td>\n",
              "      <td>176267</td>\n",
              "      <td>2013-02-25 15:46:09</td>\n",
              "      <td>2013-02-25 15:46:21.683</td>\n",
              "      <td>1.0</td>\n",
              "      <td>1</td>\n",
              "      <td>999</td>\n",
              "    </tr>\n",
              "    <tr>\n",
              "      <th>7260</th>\n",
              "      <td>399575</td>\n",
              "      <td>183449</td>\n",
              "      <td>2013-02-25 09:46:53</td>\n",
              "      <td>2013-02-25 09:48:28.763</td>\n",
              "      <td>0.0</td>\n",
              "      <td>2</td>\n",
              "      <td>999</td>\n",
              "    </tr>\n",
              "    <tr>\n",
              "      <th>7310</th>\n",
              "      <td>169675</td>\n",
              "      <td>183656</td>\n",
              "      <td>2013-04-05 14:04:57</td>\n",
              "      <td>2013-04-05 14:05:33.849</td>\n",
              "      <td>1.0</td>\n",
              "      <td>1</td>\n",
              "      <td>296</td>\n",
              "    </tr>\n",
              "    <tr>\n",
              "      <th>...</th>\n",
              "      <td>...</td>\n",
              "      <td>...</td>\n",
              "      <td>...</td>\n",
              "      <td>...</td>\n",
              "      <td>...</td>\n",
              "      <td>...</td>\n",
              "      <td>...</td>\n",
              "    </tr>\n",
              "    <tr>\n",
              "      <th>6114158</th>\n",
              "      <td>536990</td>\n",
              "      <td>171500</td>\n",
              "      <td>2012-09-07 11:46:31</td>\n",
              "      <td>2012-09-07 11:47:07.181</td>\n",
              "      <td>0.0</td>\n",
              "      <td>2</td>\n",
              "      <td>999</td>\n",
              "    </tr>\n",
              "    <tr>\n",
              "      <th>6115521</th>\n",
              "      <td>522445</td>\n",
              "      <td>176289</td>\n",
              "      <td>2012-10-02 10:18:16</td>\n",
              "      <td>2012-10-02 10:18:21.12</td>\n",
              "      <td>1.0</td>\n",
              "      <td>1</td>\n",
              "      <td>999</td>\n",
              "    </tr>\n",
              "    <tr>\n",
              "      <th>6116011</th>\n",
              "      <td>416575</td>\n",
              "      <td>177016</td>\n",
              "      <td>2012-11-16 10:42:34</td>\n",
              "      <td>2012-11-16 10:44:27.128</td>\n",
              "      <td>0.0</td>\n",
              "      <td>1</td>\n",
              "      <td>999</td>\n",
              "    </tr>\n",
              "    <tr>\n",
              "      <th>6120808</th>\n",
              "      <td>569758</td>\n",
              "      <td>204174</td>\n",
              "      <td>2013-01-24 08:42:55</td>\n",
              "      <td>2013-01-24 08:43:05.613</td>\n",
              "      <td>1.0</td>\n",
              "      <td>1</td>\n",
              "      <td>999</td>\n",
              "    </tr>\n",
              "    <tr>\n",
              "      <th>6122178</th>\n",
              "      <td>422791</td>\n",
              "      <td>216692</td>\n",
              "      <td>2013-05-08 15:31:27</td>\n",
              "      <td>2013-05-08 15:31:37.875</td>\n",
              "      <td>1.0</td>\n",
              "      <td>1</td>\n",
              "      <td>999</td>\n",
              "    </tr>\n",
              "  </tbody>\n",
              "</table>\n",
              "<p>3636 rows × 7 columns</p>\n",
              "</div>"
            ],
            "text/plain": [
              "         problem_id  user_id  ... attempt_count skill_id\n",
              "20           543983    85334  ...             1      999\n",
              "770           72689   120299  ...             1      999\n",
              "4310         431679   176267  ...             1      999\n",
              "7260         399575   183449  ...             2      999\n",
              "7310         169675   183656  ...             1      296\n",
              "...             ...      ...  ...           ...      ...\n",
              "6114158      536990   171500  ...             2      999\n",
              "6115521      522445   176289  ...             1      999\n",
              "6116011      416575   177016  ...             1      999\n",
              "6120808      569758   204174  ...             1      999\n",
              "6122178      422791   216692  ...             1      999\n",
              "\n",
              "[3636 rows x 7 columns]"
            ]
          },
          "metadata": {
            "tags": []
          },
          "execution_count": 33
        }
      ]
    },
    {
      "cell_type": "code",
      "metadata": {
        "id": "EJVRPsP8utl0",
        "colab_type": "code",
        "colab": {
          "base_uri": "https://localhost:8080/",
          "height": 112
        },
        "outputId": "b6962a38-12f0-409b-f202-98597b79c753"
      },
      "source": [
        "dub_time_df[dub_time_df['end_time'] == '2012-10-12 13:41:00.974']"
      ],
      "execution_count": null,
      "outputs": [
        {
          "output_type": "execute_result",
          "data": {
            "text/html": [
              "<div>\n",
              "<style scoped>\n",
              "    .dataframe tbody tr th:only-of-type {\n",
              "        vertical-align: middle;\n",
              "    }\n",
              "\n",
              "    .dataframe tbody tr th {\n",
              "        vertical-align: top;\n",
              "    }\n",
              "\n",
              "    .dataframe thead th {\n",
              "        text-align: right;\n",
              "    }\n",
              "</style>\n",
              "<table border=\"1\" class=\"dataframe\">\n",
              "  <thead>\n",
              "    <tr style=\"text-align: right;\">\n",
              "      <th></th>\n",
              "      <th>problem_id</th>\n",
              "      <th>user_id</th>\n",
              "      <th>start_time</th>\n",
              "      <th>end_time</th>\n",
              "      <th>correct</th>\n",
              "      <th>attempt_count</th>\n",
              "      <th>skill_id</th>\n",
              "    </tr>\n",
              "  </thead>\n",
              "  <tbody>\n",
              "    <tr>\n",
              "      <th>838240</th>\n",
              "      <td>90190</td>\n",
              "      <td>132804</td>\n",
              "      <td>2012-10-12 13:40:56</td>\n",
              "      <td>2012-10-12 13:41:00.974</td>\n",
              "      <td>1.0</td>\n",
              "      <td>1</td>\n",
              "      <td>279</td>\n",
              "    </tr>\n",
              "    <tr>\n",
              "      <th>2174014</th>\n",
              "      <td>562048</td>\n",
              "      <td>188843</td>\n",
              "      <td>2012-10-12 13:40:59</td>\n",
              "      <td>2012-10-12 13:41:00.974</td>\n",
              "      <td>1.0</td>\n",
              "      <td>1</td>\n",
              "      <td>999</td>\n",
              "    </tr>\n",
              "  </tbody>\n",
              "</table>\n",
              "</div>"
            ],
            "text/plain": [
              "         problem_id  user_id  ... attempt_count skill_id\n",
              "838240        90190   132804  ...             1      279\n",
              "2174014      562048   188843  ...             1      999\n",
              "\n",
              "[2 rows x 7 columns]"
            ]
          },
          "metadata": {
            "tags": []
          },
          "execution_count": 36
        }
      ]
    },
    {
      "cell_type": "code",
      "metadata": {
        "id": "-xlSgYgNrkPY",
        "colab_type": "code",
        "colab": {
          "base_uri": "https://localhost:8080/",
          "height": 231
        },
        "outputId": "ad41b4b9-7f29-4ebd-b193-1c2954cd73e3"
      },
      "source": [
        "dub_time_df['end_time'].value_counts()"
      ],
      "execution_count": null,
      "outputs": [
        {
          "output_type": "execute_result",
          "data": {
            "text/plain": [
              "2012-10-02 16:46:42.859    2\n",
              "2012-10-12 13:41:00.974    2\n",
              "2012-10-09 10:35:47.266    2\n",
              "2012-11-07 14:23:09.615    2\n",
              "2013-01-24 10:22:13.483    2\n",
              "                          ..\n",
              "2013-01-29 11:04:26.04     2\n",
              "2012-11-02 12:45:51.032    2\n",
              "2013-05-02 10:44:39.726    2\n",
              "2012-12-13 13:47:23.056    2\n",
              "2012-09-13 10:12:46.661    2\n",
              "Name: end_time, Length: 1818, dtype: int64"
            ]
          },
          "metadata": {
            "tags": []
          },
          "execution_count": 34
        }
      ]
    },
    {
      "cell_type": "markdown",
      "metadata": {
        "colab_type": "text",
        "id": "0sVusYm-nmYz"
      },
      "source": [
        "#### (drop NaN ) make a complete and minimum csv dataset for experiments"
      ]
    },
    {
      "cell_type": "code",
      "metadata": {
        "colab_type": "code",
        "id": "SA6I5Pz4nmY9",
        "colab": {
          "base_uri": "https://localhost:8080/",
          "height": 136
        },
        "outputId": "477014f7-7fc6-4817-9c48-c57a32c1f6ad"
      },
      "source": [
        "import pandas as pd \n",
        "assist2012_preprocessed = pd.read_csv(\n",
        "    \"/content/drive/My Drive/master thesis/Datasets/assistment_dataset/2012-2013-data-with-predictions-4-final.csv\",\n",
        "    usecols=['assistment_id', 'user_id', 'start_time', 'end_time', 'correct', 'attempt_count', 'skill_id', 'skill'])\n",
        "print(len(assist2012_preprocessed))\n",
        "assist2012_preprocessed.head(1)"
      ],
      "execution_count": null,
      "outputs": [
        {
          "output_type": "stream",
          "text": [
            "6123270\n"
          ],
          "name": "stdout"
        },
        {
          "output_type": "execute_result",
          "data": {
            "text/html": [
              "<div>\n",
              "<style scoped>\n",
              "    .dataframe tbody tr th:only-of-type {\n",
              "        vertical-align: middle;\n",
              "    }\n",
              "\n",
              "    .dataframe tbody tr th {\n",
              "        vertical-align: top;\n",
              "    }\n",
              "\n",
              "    .dataframe thead th {\n",
              "        text-align: right;\n",
              "    }\n",
              "</style>\n",
              "<table border=\"1\" class=\"dataframe\">\n",
              "  <thead>\n",
              "    <tr style=\"text-align: right;\">\n",
              "      <th></th>\n",
              "      <th>skill</th>\n",
              "      <th>user_id</th>\n",
              "      <th>assistment_id</th>\n",
              "      <th>start_time</th>\n",
              "      <th>end_time</th>\n",
              "      <th>correct</th>\n",
              "      <th>attempt_count</th>\n",
              "      <th>skill_id</th>\n",
              "    </tr>\n",
              "  </thead>\n",
              "  <tbody>\n",
              "    <tr>\n",
              "      <th>0</th>\n",
              "      <td>NaN</td>\n",
              "      <td>61394</td>\n",
              "      <td>341511</td>\n",
              "      <td>2012-09-28 15:11:27</td>\n",
              "      <td>2012-09-28 15:11:36.856</td>\n",
              "      <td>1.0</td>\n",
              "      <td>1</td>\n",
              "      <td>NaN</td>\n",
              "    </tr>\n",
              "  </tbody>\n",
              "</table>\n",
              "</div>"
            ],
            "text/plain": [
              "  skill  user_id  assistment_id  ... correct attempt_count  skill_id\n",
              "0   NaN    61394         341511  ...     1.0             1       NaN\n",
              "\n",
              "[1 rows x 8 columns]"
            ]
          },
          "metadata": {
            "tags": []
          },
          "execution_count": 6
        }
      ]
    },
    {
      "cell_type": "code",
      "metadata": {
        "colab_type": "code",
        "id": "0JqyV_sonmZW",
        "colab": {
          "base_uri": "https://localhost:8080/",
          "height": 517
        },
        "outputId": "e173eef3-600c-466f-dcdf-6e6f635286c7"
      },
      "source": [
        "df = assist2012_preprocessed\n",
        "print(len(df))\n",
        "#df = df.drop_duplicates(subset=['problem_id','user_id','attempt_count'])\n",
        "df = df.drop_duplicates()\n",
        "print(len(df))\n",
        "df = df.dropna(subset=['skill_id', 'skill' ])\n",
        "# change 'correct' column into a boolean format as recommended in ASSIST dataset website\n",
        "#df['correct'] = (df['correct'] >= 1).astype(int)\n",
        "df = df[df[\"correct\"].isin([0, 1])]\n",
        "df = df.astype({'skill_id': 'int32'})\n",
        "print(len(df))\n",
        "df.nunique()"
      ],
      "execution_count": null,
      "outputs": [
        {
          "output_type": "stream",
          "text": [
            "6123270\n"
          ],
          "name": "stdout"
        },
        {
          "output_type": "error",
          "ename": "KeyboardInterrupt",
          "evalue": "ignored",
          "traceback": [
            "\u001b[0;31m---------------------------------------------------------------------------\u001b[0m",
            "\u001b[0;31mKeyboardInterrupt\u001b[0m                         Traceback (most recent call last)",
            "\u001b[0;32m<ipython-input-7-7d34ffc25eae>\u001b[0m in \u001b[0;36m<module>\u001b[0;34m()\u001b[0m\n\u001b[1;32m      2\u001b[0m \u001b[0mprint\u001b[0m\u001b[0;34m(\u001b[0m\u001b[0mlen\u001b[0m\u001b[0;34m(\u001b[0m\u001b[0mdf\u001b[0m\u001b[0;34m)\u001b[0m\u001b[0;34m)\u001b[0m\u001b[0;34m\u001b[0m\u001b[0;34m\u001b[0m\u001b[0m\n\u001b[1;32m      3\u001b[0m \u001b[0;31m#df = df.drop_duplicates(subset=['problem_id','user_id','attempt_count'])\u001b[0m\u001b[0;34m\u001b[0m\u001b[0;34m\u001b[0m\u001b[0;34m\u001b[0m\u001b[0m\n\u001b[0;32m----> 4\u001b[0;31m \u001b[0mdf\u001b[0m \u001b[0;34m=\u001b[0m \u001b[0mdf\u001b[0m\u001b[0;34m.\u001b[0m\u001b[0mdrop_duplicates\u001b[0m\u001b[0;34m(\u001b[0m\u001b[0;34m)\u001b[0m\u001b[0;34m\u001b[0m\u001b[0;34m\u001b[0m\u001b[0m\n\u001b[0m\u001b[1;32m      5\u001b[0m \u001b[0mprint\u001b[0m\u001b[0;34m(\u001b[0m\u001b[0mlen\u001b[0m\u001b[0;34m(\u001b[0m\u001b[0mdf\u001b[0m\u001b[0;34m)\u001b[0m\u001b[0;34m)\u001b[0m\u001b[0;34m\u001b[0m\u001b[0;34m\u001b[0m\u001b[0m\n\u001b[1;32m      6\u001b[0m \u001b[0mdf\u001b[0m \u001b[0;34m=\u001b[0m \u001b[0mdf\u001b[0m\u001b[0;34m.\u001b[0m\u001b[0mdropna\u001b[0m\u001b[0;34m(\u001b[0m\u001b[0msubset\u001b[0m\u001b[0;34m=\u001b[0m\u001b[0;34m[\u001b[0m\u001b[0;34m'skill_id'\u001b[0m\u001b[0;34m,\u001b[0m \u001b[0;34m'skill'\u001b[0m \u001b[0;34m]\u001b[0m\u001b[0;34m)\u001b[0m\u001b[0;34m\u001b[0m\u001b[0;34m\u001b[0m\u001b[0m\n",
            "\u001b[0;32m/usr/local/lib/python3.6/dist-packages/pandas/core/frame.py\u001b[0m in \u001b[0;36mdrop_duplicates\u001b[0;34m(self, subset, keep, inplace, ignore_index)\u001b[0m\n\u001b[1;32m   4809\u001b[0m \u001b[0;34m\u001b[0m\u001b[0m\n\u001b[1;32m   4810\u001b[0m         \u001b[0minplace\u001b[0m \u001b[0;34m=\u001b[0m \u001b[0mvalidate_bool_kwarg\u001b[0m\u001b[0;34m(\u001b[0m\u001b[0minplace\u001b[0m\u001b[0;34m,\u001b[0m \u001b[0;34m\"inplace\"\u001b[0m\u001b[0;34m)\u001b[0m\u001b[0;34m\u001b[0m\u001b[0;34m\u001b[0m\u001b[0m\n\u001b[0;32m-> 4811\u001b[0;31m         \u001b[0mduplicated\u001b[0m \u001b[0;34m=\u001b[0m \u001b[0mself\u001b[0m\u001b[0;34m.\u001b[0m\u001b[0mduplicated\u001b[0m\u001b[0;34m(\u001b[0m\u001b[0msubset\u001b[0m\u001b[0;34m,\u001b[0m \u001b[0mkeep\u001b[0m\u001b[0;34m=\u001b[0m\u001b[0mkeep\u001b[0m\u001b[0;34m)\u001b[0m\u001b[0;34m\u001b[0m\u001b[0;34m\u001b[0m\u001b[0m\n\u001b[0m\u001b[1;32m   4812\u001b[0m \u001b[0;34m\u001b[0m\u001b[0m\n\u001b[1;32m   4813\u001b[0m         \u001b[0;32mif\u001b[0m \u001b[0minplace\u001b[0m\u001b[0;34m:\u001b[0m\u001b[0;34m\u001b[0m\u001b[0;34m\u001b[0m\u001b[0m\n",
            "\u001b[0;32m/usr/local/lib/python3.6/dist-packages/pandas/core/frame.py\u001b[0m in \u001b[0;36mduplicated\u001b[0;34m(self, subset, keep)\u001b[0m\n\u001b[1;32m   4886\u001b[0m \u001b[0;34m\u001b[0m\u001b[0m\n\u001b[1;32m   4887\u001b[0m         \u001b[0mvals\u001b[0m \u001b[0;34m=\u001b[0m \u001b[0;34m(\u001b[0m\u001b[0mcol\u001b[0m\u001b[0;34m.\u001b[0m\u001b[0mvalues\u001b[0m \u001b[0;32mfor\u001b[0m \u001b[0mname\u001b[0m\u001b[0;34m,\u001b[0m \u001b[0mcol\u001b[0m \u001b[0;32min\u001b[0m \u001b[0mself\u001b[0m\u001b[0;34m.\u001b[0m\u001b[0mitems\u001b[0m\u001b[0;34m(\u001b[0m\u001b[0;34m)\u001b[0m \u001b[0;32mif\u001b[0m \u001b[0mname\u001b[0m \u001b[0;32min\u001b[0m \u001b[0msubset\u001b[0m\u001b[0;34m)\u001b[0m\u001b[0;34m\u001b[0m\u001b[0;34m\u001b[0m\u001b[0m\n\u001b[0;32m-> 4888\u001b[0;31m         \u001b[0mlabels\u001b[0m\u001b[0;34m,\u001b[0m \u001b[0mshape\u001b[0m \u001b[0;34m=\u001b[0m \u001b[0mmap\u001b[0m\u001b[0;34m(\u001b[0m\u001b[0mlist\u001b[0m\u001b[0;34m,\u001b[0m \u001b[0mzip\u001b[0m\u001b[0;34m(\u001b[0m\u001b[0;34m*\u001b[0m\u001b[0mmap\u001b[0m\u001b[0;34m(\u001b[0m\u001b[0mf\u001b[0m\u001b[0;34m,\u001b[0m \u001b[0mvals\u001b[0m\u001b[0;34m)\u001b[0m\u001b[0;34m)\u001b[0m\u001b[0;34m)\u001b[0m\u001b[0;34m\u001b[0m\u001b[0;34m\u001b[0m\u001b[0m\n\u001b[0m\u001b[1;32m   4889\u001b[0m \u001b[0;34m\u001b[0m\u001b[0m\n\u001b[1;32m   4890\u001b[0m         \u001b[0mids\u001b[0m \u001b[0;34m=\u001b[0m \u001b[0mget_group_index\u001b[0m\u001b[0;34m(\u001b[0m\u001b[0mlabels\u001b[0m\u001b[0;34m,\u001b[0m \u001b[0mshape\u001b[0m\u001b[0;34m,\u001b[0m \u001b[0msort\u001b[0m\u001b[0;34m=\u001b[0m\u001b[0;32mFalse\u001b[0m\u001b[0;34m,\u001b[0m \u001b[0mxnull\u001b[0m\u001b[0;34m=\u001b[0m\u001b[0;32mFalse\u001b[0m\u001b[0;34m)\u001b[0m\u001b[0;34m\u001b[0m\u001b[0;34m\u001b[0m\u001b[0m\n",
            "\u001b[0;32m/usr/local/lib/python3.6/dist-packages/pandas/core/frame.py\u001b[0m in \u001b[0;36mf\u001b[0;34m(vals)\u001b[0m\n\u001b[1;32m   4861\u001b[0m         \u001b[0;32mdef\u001b[0m \u001b[0mf\u001b[0m\u001b[0;34m(\u001b[0m\u001b[0mvals\u001b[0m\u001b[0;34m)\u001b[0m\u001b[0;34m:\u001b[0m\u001b[0;34m\u001b[0m\u001b[0;34m\u001b[0m\u001b[0m\n\u001b[1;32m   4862\u001b[0m             labels, shape = algorithms.factorize(\n\u001b[0;32m-> 4863\u001b[0;31m                 \u001b[0mvals\u001b[0m\u001b[0;34m,\u001b[0m \u001b[0msize_hint\u001b[0m\u001b[0;34m=\u001b[0m\u001b[0mmin\u001b[0m\u001b[0;34m(\u001b[0m\u001b[0mlen\u001b[0m\u001b[0;34m(\u001b[0m\u001b[0mself\u001b[0m\u001b[0;34m)\u001b[0m\u001b[0;34m,\u001b[0m \u001b[0m_SIZE_HINT_LIMIT\u001b[0m\u001b[0;34m)\u001b[0m\u001b[0;34m\u001b[0m\u001b[0;34m\u001b[0m\u001b[0m\n\u001b[0m\u001b[1;32m   4864\u001b[0m             )\n\u001b[1;32m   4865\u001b[0m             \u001b[0;32mreturn\u001b[0m \u001b[0mlabels\u001b[0m\u001b[0;34m.\u001b[0m\u001b[0mastype\u001b[0m\u001b[0;34m(\u001b[0m\u001b[0;34m\"i8\"\u001b[0m\u001b[0;34m,\u001b[0m \u001b[0mcopy\u001b[0m\u001b[0;34m=\u001b[0m\u001b[0;32mFalse\u001b[0m\u001b[0;34m)\u001b[0m\u001b[0;34m,\u001b[0m \u001b[0mlen\u001b[0m\u001b[0;34m(\u001b[0m\u001b[0mshape\u001b[0m\u001b[0;34m)\u001b[0m\u001b[0;34m\u001b[0m\u001b[0;34m\u001b[0m\u001b[0m\n",
            "\u001b[0;32m/usr/local/lib/python3.6/dist-packages/pandas/core/algorithms.py\u001b[0m in \u001b[0;36mfactorize\u001b[0;34m(values, sort, na_sentinel, size_hint)\u001b[0m\n\u001b[1;32m    634\u001b[0m \u001b[0;34m\u001b[0m\u001b[0m\n\u001b[1;32m    635\u001b[0m         codes, uniques = _factorize_array(\n\u001b[0;32m--> 636\u001b[0;31m             \u001b[0mvalues\u001b[0m\u001b[0;34m,\u001b[0m \u001b[0mna_sentinel\u001b[0m\u001b[0;34m=\u001b[0m\u001b[0mna_sentinel\u001b[0m\u001b[0;34m,\u001b[0m \u001b[0msize_hint\u001b[0m\u001b[0;34m=\u001b[0m\u001b[0msize_hint\u001b[0m\u001b[0;34m,\u001b[0m \u001b[0mna_value\u001b[0m\u001b[0;34m=\u001b[0m\u001b[0mna_value\u001b[0m\u001b[0;34m\u001b[0m\u001b[0;34m\u001b[0m\u001b[0m\n\u001b[0m\u001b[1;32m    637\u001b[0m         )\n\u001b[1;32m    638\u001b[0m \u001b[0;34m\u001b[0m\u001b[0m\n",
            "\u001b[0;32m/usr/local/lib/python3.6/dist-packages/pandas/core/algorithms.py\u001b[0m in \u001b[0;36m_factorize_array\u001b[0;34m(values, na_sentinel, size_hint, na_value)\u001b[0m\n\u001b[1;32m    482\u001b[0m \u001b[0;34m\u001b[0m\u001b[0m\n\u001b[1;32m    483\u001b[0m     \u001b[0mtable\u001b[0m \u001b[0;34m=\u001b[0m \u001b[0mhash_klass\u001b[0m\u001b[0;34m(\u001b[0m\u001b[0msize_hint\u001b[0m \u001b[0;32mor\u001b[0m \u001b[0mlen\u001b[0m\u001b[0;34m(\u001b[0m\u001b[0mvalues\u001b[0m\u001b[0;34m)\u001b[0m\u001b[0;34m)\u001b[0m\u001b[0;34m\u001b[0m\u001b[0;34m\u001b[0m\u001b[0m\n\u001b[0;32m--> 484\u001b[0;31m     \u001b[0muniques\u001b[0m\u001b[0;34m,\u001b[0m \u001b[0mcodes\u001b[0m \u001b[0;34m=\u001b[0m \u001b[0mtable\u001b[0m\u001b[0;34m.\u001b[0m\u001b[0mfactorize\u001b[0m\u001b[0;34m(\u001b[0m\u001b[0mvalues\u001b[0m\u001b[0;34m,\u001b[0m \u001b[0mna_sentinel\u001b[0m\u001b[0;34m=\u001b[0m\u001b[0mna_sentinel\u001b[0m\u001b[0;34m,\u001b[0m \u001b[0mna_value\u001b[0m\u001b[0;34m=\u001b[0m\u001b[0mna_value\u001b[0m\u001b[0;34m)\u001b[0m\u001b[0;34m\u001b[0m\u001b[0;34m\u001b[0m\u001b[0m\n\u001b[0m\u001b[1;32m    485\u001b[0m \u001b[0;34m\u001b[0m\u001b[0m\n\u001b[1;32m    486\u001b[0m     \u001b[0mcodes\u001b[0m \u001b[0;34m=\u001b[0m \u001b[0mensure_platform_int\u001b[0m\u001b[0;34m(\u001b[0m\u001b[0mcodes\u001b[0m\u001b[0;34m)\u001b[0m\u001b[0;34m\u001b[0m\u001b[0;34m\u001b[0m\u001b[0m\n",
            "\u001b[0;32mpandas/_libs/hashtable_class_helper.pxi\u001b[0m in \u001b[0;36mpandas._libs.hashtable.PyObjectHashTable.factorize\u001b[0;34m()\u001b[0m\n",
            "\u001b[0;32mpandas/_libs/hashtable_class_helper.pxi\u001b[0m in \u001b[0;36mpandas._libs.hashtable.PyObjectHashTable._unique\u001b[0;34m()\u001b[0m\n",
            "\u001b[0;32m/usr/local/lib/python3.6/dist-packages/numpy/core/_asarray.py\u001b[0m in \u001b[0;36masarray\u001b[0;34m(a, dtype, order)\u001b[0m\n\u001b[1;32m     14\u001b[0m ]\n\u001b[1;32m     15\u001b[0m \u001b[0;34m\u001b[0m\u001b[0m\n\u001b[0;32m---> 16\u001b[0;31m \u001b[0;34m@\u001b[0m\u001b[0mset_module\u001b[0m\u001b[0;34m(\u001b[0m\u001b[0;34m'numpy'\u001b[0m\u001b[0;34m)\u001b[0m\u001b[0;34m\u001b[0m\u001b[0;34m\u001b[0m\u001b[0m\n\u001b[0m\u001b[1;32m     17\u001b[0m \u001b[0;32mdef\u001b[0m \u001b[0masarray\u001b[0m\u001b[0;34m(\u001b[0m\u001b[0ma\u001b[0m\u001b[0;34m,\u001b[0m \u001b[0mdtype\u001b[0m\u001b[0;34m=\u001b[0m\u001b[0;32mNone\u001b[0m\u001b[0;34m,\u001b[0m \u001b[0morder\u001b[0m\u001b[0;34m=\u001b[0m\u001b[0;32mNone\u001b[0m\u001b[0;34m)\u001b[0m\u001b[0;34m:\u001b[0m\u001b[0;34m\u001b[0m\u001b[0;34m\u001b[0m\u001b[0m\n\u001b[1;32m     18\u001b[0m     \"\"\"Convert the input to an array.\n",
            "\u001b[0;31mKeyboardInterrupt\u001b[0m: "
          ]
        }
      ]
    },
    {
      "cell_type": "code",
      "metadata": {
        "colab_type": "code",
        "id": "Ut5RkCLlnmZ0",
        "colab": {
          "base_uri": "https://localhost:8080/",
          "height": 71
        },
        "outputId": "966bd2d0-3dac-4965-99f9-b1407a02e5a4"
      },
      "source": [
        "df.correct.value_counts(normalize=True)"
      ],
      "execution_count": null,
      "outputs": [
        {
          "output_type": "execute_result",
          "data": {
            "text/plain": [
              "1.0    0.696326\n",
              "0.0    0.303674\n",
              "Name: correct, dtype: float64"
            ]
          },
          "metadata": {
            "tags": []
          },
          "execution_count": 75
        }
      ]
    },
    {
      "cell_type": "code",
      "metadata": {
        "colab_type": "code",
        "id": "OOzt2NkJnmaU",
        "colab": {
          "base_uri": "https://localhost:8080/",
          "height": 722
        },
        "outputId": "44860982-cc6f-4857-e1da-0a5041f75c87"
      },
      "source": [
        "df"
      ],
      "execution_count": null,
      "outputs": [
        {
          "output_type": "execute_result",
          "data": {
            "text/html": [
              "<div>\n",
              "<style scoped>\n",
              "    .dataframe tbody tr th:only-of-type {\n",
              "        vertical-align: middle;\n",
              "    }\n",
              "\n",
              "    .dataframe tbody tr th {\n",
              "        vertical-align: top;\n",
              "    }\n",
              "\n",
              "    .dataframe thead th {\n",
              "        text-align: right;\n",
              "    }\n",
              "</style>\n",
              "<table border=\"1\" class=\"dataframe\">\n",
              "  <thead>\n",
              "    <tr style=\"text-align: right;\">\n",
              "      <th></th>\n",
              "      <th>skill</th>\n",
              "      <th>problem_id</th>\n",
              "      <th>user_id</th>\n",
              "      <th>start_time</th>\n",
              "      <th>end_time</th>\n",
              "      <th>correct</th>\n",
              "      <th>attempt_count</th>\n",
              "      <th>skill_id</th>\n",
              "    </tr>\n",
              "  </thead>\n",
              "  <tbody>\n",
              "    <tr>\n",
              "      <th>1</th>\n",
              "      <td>Rounding</td>\n",
              "      <td>365981</td>\n",
              "      <td>61394</td>\n",
              "      <td>2012-10-09 11:01:52</td>\n",
              "      <td>2012-10-09 11:02:13.182</td>\n",
              "      <td>1.0</td>\n",
              "      <td>1</td>\n",
              "      <td>54</td>\n",
              "    </tr>\n",
              "    <tr>\n",
              "      <th>2</th>\n",
              "      <td>Multiplication and Division Integers</td>\n",
              "      <td>426415</td>\n",
              "      <td>61394</td>\n",
              "      <td>2013-03-07 10:53:20</td>\n",
              "      <td>2013-03-07 10:53:28.661</td>\n",
              "      <td>0.0</td>\n",
              "      <td>1</td>\n",
              "      <td>279</td>\n",
              "    </tr>\n",
              "    <tr>\n",
              "      <th>3</th>\n",
              "      <td>Proportion</td>\n",
              "      <td>86686</td>\n",
              "      <td>61394</td>\n",
              "      <td>2013-08-20 19:54:56</td>\n",
              "      <td>2013-08-20 19:55:21.753</td>\n",
              "      <td>1.0</td>\n",
              "      <td>1</td>\n",
              "      <td>79</td>\n",
              "    </tr>\n",
              "    <tr>\n",
              "      <th>5</th>\n",
              "      <td>Exponents</td>\n",
              "      <td>401234</td>\n",
              "      <td>76592</td>\n",
              "      <td>2012-12-12 21:00:55</td>\n",
              "      <td>2012-12-12 21:01:07.536</td>\n",
              "      <td>1.0</td>\n",
              "      <td>1</td>\n",
              "      <td>86</td>\n",
              "    </tr>\n",
              "    <tr>\n",
              "      <th>7</th>\n",
              "      <td>Equation Solving Two or Fewer Steps</td>\n",
              "      <td>87699</td>\n",
              "      <td>78401</td>\n",
              "      <td>2012-10-16 10:30:54</td>\n",
              "      <td>2012-10-16 10:31:55.445</td>\n",
              "      <td>1.0</td>\n",
              "      <td>1</td>\n",
              "      <td>311</td>\n",
              "    </tr>\n",
              "    <tr>\n",
              "      <th>...</th>\n",
              "      <td>...</td>\n",
              "      <td>...</td>\n",
              "      <td>...</td>\n",
              "      <td>...</td>\n",
              "      <td>...</td>\n",
              "      <td>...</td>\n",
              "      <td>...</td>\n",
              "      <td>...</td>\n",
              "    </tr>\n",
              "    <tr>\n",
              "      <th>6123258</th>\n",
              "      <td>Exponents</td>\n",
              "      <td>58783</td>\n",
              "      <td>227685</td>\n",
              "      <td>2013-08-29 15:23:54</td>\n",
              "      <td>2013-08-29 15:25:25.441</td>\n",
              "      <td>1.0</td>\n",
              "      <td>1</td>\n",
              "      <td>86</td>\n",
              "    </tr>\n",
              "    <tr>\n",
              "      <th>6123260</th>\n",
              "      <td>Square Root</td>\n",
              "      <td>117</td>\n",
              "      <td>227788</td>\n",
              "      <td>2013-08-29 16:18:36</td>\n",
              "      <td>2013-08-29 16:19:08.388</td>\n",
              "      <td>1.0</td>\n",
              "      <td>1</td>\n",
              "      <td>75</td>\n",
              "    </tr>\n",
              "    <tr>\n",
              "      <th>6123262</th>\n",
              "      <td>Unit Conversion Within a System</td>\n",
              "      <td>123251</td>\n",
              "      <td>227839</td>\n",
              "      <td>2013-08-31 15:15:01</td>\n",
              "      <td>2013-08-31 15:15:08.024</td>\n",
              "      <td>1.0</td>\n",
              "      <td>1</td>\n",
              "      <td>34</td>\n",
              "    </tr>\n",
              "    <tr>\n",
              "      <th>6123264</th>\n",
              "      <td>Multiplication Fractions</td>\n",
              "      <td>86906</td>\n",
              "      <td>227908</td>\n",
              "      <td>2013-08-31 00:23:38</td>\n",
              "      <td>2013-08-31 00:25:16.236</td>\n",
              "      <td>0.0</td>\n",
              "      <td>3</td>\n",
              "      <td>67</td>\n",
              "    </tr>\n",
              "    <tr>\n",
              "      <th>6123267</th>\n",
              "      <td>Addition and Subtraction Integers</td>\n",
              "      <td>84891</td>\n",
              "      <td>228039</td>\n",
              "      <td>2013-08-30 11:29:35</td>\n",
              "      <td>2013-08-30 11:30:05.517</td>\n",
              "      <td>0.0</td>\n",
              "      <td>1</td>\n",
              "      <td>277</td>\n",
              "    </tr>\n",
              "  </tbody>\n",
              "</table>\n",
              "<p>2629870 rows × 8 columns</p>\n",
              "</div>"
            ],
            "text/plain": [
              "                                        skill  ...  skill_id\n",
              "1                                    Rounding  ...        54\n",
              "2        Multiplication and Division Integers  ...       279\n",
              "3                                  Proportion  ...        79\n",
              "5                                   Exponents  ...        86\n",
              "7         Equation Solving Two or Fewer Steps  ...       311\n",
              "...                                       ...  ...       ...\n",
              "6123258                             Exponents  ...        86\n",
              "6123260                           Square Root  ...        75\n",
              "6123262       Unit Conversion Within a System  ...        34\n",
              "6123264              Multiplication Fractions  ...        67\n",
              "6123267     Addition and Subtraction Integers  ...       277\n",
              "\n",
              "[2629870 rows x 8 columns]"
            ]
          },
          "metadata": {
            "tags": []
          },
          "execution_count": 76
        }
      ]
    },
    {
      "cell_type": "code",
      "metadata": {
        "colab_type": "code",
        "id": "n3MnoORonmag",
        "colab": {
          "base_uri": "https://localhost:8080/",
          "height": 196
        },
        "outputId": "4bc94384-dd3a-4e30-ca07-f82297311609"
      },
      "source": [
        "# remove users with a sequence length less than three\n",
        "counts = df['user_id'].value_counts()\n",
        "selected_df= df[~df['user_id'].isin(counts[counts < 3].index)]\n",
        "print(len(selected_df))\n",
        "selected_df.nunique()"
      ],
      "execution_count": null,
      "outputs": [
        {
          "output_type": "stream",
          "text": [
            "2627477\n"
          ],
          "name": "stdout"
        },
        {
          "output_type": "execute_result",
          "data": {
            "text/plain": [
              "skill                198\n",
              "user_id            27145\n",
              "assistment_id      45378\n",
              "start_time       2309874\n",
              "end_time         2627117\n",
              "correct                2\n",
              "attempt_count         30\n",
              "skill_id             245\n",
              "dtype: int64"
            ]
          },
          "metadata": {
            "tags": []
          },
          "execution_count": 86
        }
      ]
    },
    {
      "cell_type": "code",
      "metadata": {
        "id": "Q1rJKHahOnya",
        "colab_type": "code",
        "colab": {
          "base_uri": "https://localhost:8080/",
          "height": 722
        },
        "outputId": "3e373dc0-e7d3-46c8-abdc-7f875bdadf91"
      },
      "source": [
        "selected_df.drop_duplicates()"
      ],
      "execution_count": null,
      "outputs": [
        {
          "output_type": "execute_result",
          "data": {
            "text/html": [
              "<div>\n",
              "<style scoped>\n",
              "    .dataframe tbody tr th:only-of-type {\n",
              "        vertical-align: middle;\n",
              "    }\n",
              "\n",
              "    .dataframe tbody tr th {\n",
              "        vertical-align: top;\n",
              "    }\n",
              "\n",
              "    .dataframe thead th {\n",
              "        text-align: right;\n",
              "    }\n",
              "</style>\n",
              "<table border=\"1\" class=\"dataframe\">\n",
              "  <thead>\n",
              "    <tr style=\"text-align: right;\">\n",
              "      <th></th>\n",
              "      <th>skill</th>\n",
              "      <th>user_id</th>\n",
              "      <th>assistment_id</th>\n",
              "      <th>start_time</th>\n",
              "      <th>end_time</th>\n",
              "      <th>correct</th>\n",
              "      <th>attempt_count</th>\n",
              "      <th>skill_id</th>\n",
              "    </tr>\n",
              "  </thead>\n",
              "  <tbody>\n",
              "    <tr>\n",
              "      <th>1</th>\n",
              "      <td>Rounding</td>\n",
              "      <td>61394</td>\n",
              "      <td>204043</td>\n",
              "      <td>2012-10-09 11:01:52</td>\n",
              "      <td>2012-10-09 11:02:13.182</td>\n",
              "      <td>1.0</td>\n",
              "      <td>1</td>\n",
              "      <td>54</td>\n",
              "    </tr>\n",
              "    <tr>\n",
              "      <th>2</th>\n",
              "      <td>Multiplication and Division Integers</td>\n",
              "      <td>61394</td>\n",
              "      <td>247525</td>\n",
              "      <td>2013-03-07 10:53:20</td>\n",
              "      <td>2013-03-07 10:53:28.661</td>\n",
              "      <td>0.0</td>\n",
              "      <td>1</td>\n",
              "      <td>279</td>\n",
              "    </tr>\n",
              "    <tr>\n",
              "      <th>3</th>\n",
              "      <td>Proportion</td>\n",
              "      <td>61394</td>\n",
              "      <td>48081</td>\n",
              "      <td>2013-08-20 19:54:56</td>\n",
              "      <td>2013-08-20 19:55:21.753</td>\n",
              "      <td>1.0</td>\n",
              "      <td>1</td>\n",
              "      <td>79</td>\n",
              "    </tr>\n",
              "    <tr>\n",
              "      <th>5</th>\n",
              "      <td>Exponents</td>\n",
              "      <td>76592</td>\n",
              "      <td>228996</td>\n",
              "      <td>2012-12-12 21:00:55</td>\n",
              "      <td>2012-12-12 21:01:07.536</td>\n",
              "      <td>1.0</td>\n",
              "      <td>1</td>\n",
              "      <td>86</td>\n",
              "    </tr>\n",
              "    <tr>\n",
              "      <th>7</th>\n",
              "      <td>Equation Solving Two or Fewer Steps</td>\n",
              "      <td>78401</td>\n",
              "      <td>49019</td>\n",
              "      <td>2012-10-16 10:30:54</td>\n",
              "      <td>2012-10-16 10:31:55.445</td>\n",
              "      <td>1.0</td>\n",
              "      <td>1</td>\n",
              "      <td>311</td>\n",
              "    </tr>\n",
              "    <tr>\n",
              "      <th>...</th>\n",
              "      <td>...</td>\n",
              "      <td>...</td>\n",
              "      <td>...</td>\n",
              "      <td>...</td>\n",
              "      <td>...</td>\n",
              "      <td>...</td>\n",
              "      <td>...</td>\n",
              "      <td>...</td>\n",
              "    </tr>\n",
              "    <tr>\n",
              "      <th>6123258</th>\n",
              "      <td>Exponents</td>\n",
              "      <td>227685</td>\n",
              "      <td>37197</td>\n",
              "      <td>2013-08-29 15:23:54</td>\n",
              "      <td>2013-08-29 15:25:25.441</td>\n",
              "      <td>1.0</td>\n",
              "      <td>1</td>\n",
              "      <td>86</td>\n",
              "    </tr>\n",
              "    <tr>\n",
              "      <th>6123260</th>\n",
              "      <td>Square Root</td>\n",
              "      <td>227788</td>\n",
              "      <td>117</td>\n",
              "      <td>2013-08-29 16:18:36</td>\n",
              "      <td>2013-08-29 16:19:08.388</td>\n",
              "      <td>1.0</td>\n",
              "      <td>1</td>\n",
              "      <td>75</td>\n",
              "    </tr>\n",
              "    <tr>\n",
              "      <th>6123262</th>\n",
              "      <td>Unit Conversion Within a System</td>\n",
              "      <td>227839</td>\n",
              "      <td>64904</td>\n",
              "      <td>2013-08-31 15:15:01</td>\n",
              "      <td>2013-08-31 15:15:08.024</td>\n",
              "      <td>1.0</td>\n",
              "      <td>1</td>\n",
              "      <td>34</td>\n",
              "    </tr>\n",
              "    <tr>\n",
              "      <th>6123264</th>\n",
              "      <td>Multiplication Fractions</td>\n",
              "      <td>227908</td>\n",
              "      <td>48296</td>\n",
              "      <td>2013-08-31 00:23:38</td>\n",
              "      <td>2013-08-31 00:25:16.236</td>\n",
              "      <td>0.0</td>\n",
              "      <td>3</td>\n",
              "      <td>67</td>\n",
              "    </tr>\n",
              "    <tr>\n",
              "      <th>6123267</th>\n",
              "      <td>Addition and Subtraction Integers</td>\n",
              "      <td>228039</td>\n",
              "      <td>46603</td>\n",
              "      <td>2013-08-30 11:29:35</td>\n",
              "      <td>2013-08-30 11:30:05.517</td>\n",
              "      <td>0.0</td>\n",
              "      <td>1</td>\n",
              "      <td>277</td>\n",
              "    </tr>\n",
              "  </tbody>\n",
              "</table>\n",
              "<p>2627477 rows × 8 columns</p>\n",
              "</div>"
            ],
            "text/plain": [
              "                                        skill  user_id  ...  attempt_count skill_id\n",
              "1                                    Rounding    61394  ...              1       54\n",
              "2        Multiplication and Division Integers    61394  ...              1      279\n",
              "3                                  Proportion    61394  ...              1       79\n",
              "5                                   Exponents    76592  ...              1       86\n",
              "7         Equation Solving Two or Fewer Steps    78401  ...              1      311\n",
              "...                                       ...      ...  ...            ...      ...\n",
              "6123258                             Exponents   227685  ...              1       86\n",
              "6123260                           Square Root   227788  ...              1       75\n",
              "6123262       Unit Conversion Within a System   227839  ...              1       34\n",
              "6123264              Multiplication Fractions   227908  ...              3       67\n",
              "6123267     Addition and Subtraction Integers   228039  ...              1      277\n",
              "\n",
              "[2627477 rows x 8 columns]"
            ]
          },
          "metadata": {
            "tags": []
          },
          "execution_count": 88
        }
      ]
    },
    {
      "cell_type": "code",
      "metadata": {
        "colab_type": "code",
        "id": "GUffkyGJnmao",
        "colab": {
          "base_uri": "https://localhost:8080/",
          "height": 231
        },
        "outputId": "bc064d9c-ef5d-4c51-982f-1a85083211b0"
      },
      "source": [
        "selected_df['user_id'].value_counts()"
      ],
      "execution_count": null,
      "outputs": [
        {
          "output_type": "execute_result",
          "data": {
            "text/plain": [
              "179953    1845\n",
              "179948    1602\n",
              "180029    1582\n",
              "223733    1486\n",
              "179664    1387\n",
              "          ... \n",
              "226002       4\n",
              "142592       4\n",
              "178924       4\n",
              "182242       4\n",
              "191767       4\n",
              "Name: user_id, Length: 26358, dtype: int64"
            ]
          },
          "metadata": {
            "tags": []
          },
          "execution_count": 51
        }
      ]
    },
    {
      "cell_type": "code",
      "metadata": {
        "colab_type": "code",
        "id": "RC6kCbVunmay",
        "colab": {
          "base_uri": "https://localhost:8080/",
          "height": 189
        },
        "outputId": "8e7d83e7-7724-4228-b5d6-adc3e2a616b2"
      },
      "source": [
        "tdf = selected_df[selected_df['user_id'] == 221324]\n",
        "#selected_df[\"timestamp\"] = pd.to_datetime([\"end_time\"])"
      ],
      "execution_count": null,
      "outputs": [
        {
          "output_type": "error",
          "ename": "NameError",
          "evalue": "ignored",
          "traceback": [
            "\u001b[0;31m---------------------------------------------------------------------------\u001b[0m",
            "\u001b[0;31mNameError\u001b[0m                                 Traceback (most recent call last)",
            "\u001b[0;32m<ipython-input-5-5d51f31a6740>\u001b[0m in \u001b[0;36m<module>\u001b[0;34m()\u001b[0m\n\u001b[0;32m----> 1\u001b[0;31m \u001b[0mtdf\u001b[0m \u001b[0;34m=\u001b[0m \u001b[0mselected_df\u001b[0m\u001b[0;34m[\u001b[0m\u001b[0mselected_df\u001b[0m\u001b[0;34m[\u001b[0m\u001b[0;34m'user_id'\u001b[0m\u001b[0;34m]\u001b[0m \u001b[0;34m==\u001b[0m \u001b[0;36m221324\u001b[0m\u001b[0;34m]\u001b[0m\u001b[0;34m\u001b[0m\u001b[0;34m\u001b[0m\u001b[0m\n\u001b[0m\u001b[1;32m      2\u001b[0m \u001b[0;31m#selected_df[\"timestamp\"] = pd.to_datetime([\"end_time\"])\u001b[0m\u001b[0;34m\u001b[0m\u001b[0;34m\u001b[0m\u001b[0;34m\u001b[0m\u001b[0m\n",
            "\u001b[0;31mNameError\u001b[0m: name 'selected_df' is not defined"
          ]
        }
      ]
    },
    {
      "cell_type": "code",
      "metadata": {
        "colab_type": "code",
        "id": "xfQHR0g3nma_",
        "colab": {}
      },
      "source": [
        "skill_counts = selected_df['skill_id'].value_counts()"
      ],
      "execution_count": null,
      "outputs": []
    },
    {
      "cell_type": "code",
      "metadata": {
        "colab_type": "code",
        "id": "-LYF54pvnmbH",
        "colab": {
          "base_uri": "https://localhost:8080/",
          "height": 231
        },
        "outputId": "9f68ceed-e4d0-4664-b36d-e994cd663e84"
      },
      "source": [
        "skill_counts"
      ],
      "execution_count": null,
      "outputs": [
        {
          "output_type": "execute_result",
          "data": {
            "text/plain": [
              "311    192913\n",
              "277    151008\n",
              "280    146923\n",
              "47      98608\n",
              "279     84276\n",
              "        ...  \n",
              "38          5\n",
              "178         4\n",
              "611         3\n",
              "177         3\n",
              "291         1\n",
              "Name: skill_id, Length: 265, dtype: int64"
            ]
          },
          "metadata": {
            "tags": []
          },
          "execution_count": 13
        }
      ]
    },
    {
      "cell_type": "code",
      "metadata": {
        "colab_type": "code",
        "id": "99hBjokPnmbS",
        "colab": {
          "base_uri": "https://localhost:8080/",
          "height": 35
        },
        "outputId": "61940c2f-5e2c-4086-961b-0d4a58969cc8"
      },
      "source": [
        "len(counts)"
      ],
      "execution_count": null,
      "outputs": [
        {
          "output_type": "execute_result",
          "data": {
            "text/plain": [
              "46674"
            ]
          },
          "metadata": {
            "tags": []
          },
          "execution_count": 91
        }
      ]
    },
    {
      "cell_type": "code",
      "metadata": {
        "colab_type": "code",
        "id": "uTwINV-Lnmbc",
        "colab": {
          "base_uri": "https://localhost:8080/",
          "height": 35
        },
        "outputId": "adaf0c65-3d28-4779-ee56-feffd6d9f1da"
      },
      "source": [
        "len(selected_df)"
      ],
      "execution_count": null,
      "outputs": [
        {
          "output_type": "execute_result",
          "data": {
            "text/plain": [
              "2709647"
            ]
          },
          "metadata": {
            "tags": []
          },
          "execution_count": 14
        }
      ]
    },
    {
      "cell_type": "code",
      "metadata": {
        "colab_type": "code",
        "id": "7o2QTsdynmbk",
        "colab": {
          "base_uri": "https://localhost:8080/",
          "height": 142
        },
        "outputId": "d4c6d162-519a-4ddf-9b16-0a76766fefd8"
      },
      "source": [
        "selected_df.nunique()"
      ],
      "execution_count": null,
      "outputs": [
        {
          "output_type": "execute_result",
          "data": {
            "text/plain": [
              "problem_id        179980\n",
              "user_id            46023\n",
              "end_time         6120034\n",
              "correct                2\n",
              "attempt_count         30\n",
              "skill_id             266\n",
              "dtype: int64"
            ]
          },
          "metadata": {
            "tags": []
          },
          "execution_count": 83
        }
      ]
    },
    {
      "cell_type": "code",
      "metadata": {
        "colab_type": "code",
        "id": "l0OpenFjnmbs",
        "colab": {
          "base_uri": "https://localhost:8080/",
          "height": 424
        },
        "outputId": "827c712a-4baa-43b0-fa65-4a733f05c6c9"
      },
      "source": [
        "df[df['attempt_count'] == 0]"
      ],
      "execution_count": null,
      "outputs": [
        {
          "output_type": "execute_result",
          "data": {
            "text/html": [
              "<div>\n",
              "<style scoped>\n",
              "    .dataframe tbody tr th:only-of-type {\n",
              "        vertical-align: middle;\n",
              "    }\n",
              "\n",
              "    .dataframe tbody tr th {\n",
              "        vertical-align: top;\n",
              "    }\n",
              "\n",
              "    .dataframe thead th {\n",
              "        text-align: right;\n",
              "    }\n",
              "</style>\n",
              "<table border=\"1\" class=\"dataframe\">\n",
              "  <thead>\n",
              "    <tr style=\"text-align: right;\">\n",
              "      <th></th>\n",
              "      <th>problem_id</th>\n",
              "      <th>user_id</th>\n",
              "      <th>end_time</th>\n",
              "      <th>correct</th>\n",
              "      <th>attempt_count</th>\n",
              "      <th>skill_id</th>\n",
              "    </tr>\n",
              "  </thead>\n",
              "  <tbody>\n",
              "    <tr>\n",
              "      <th>235</th>\n",
              "      <td>108293</td>\n",
              "      <td>93574</td>\n",
              "      <td>2012-11-19 13:03:48.491</td>\n",
              "      <td>0</td>\n",
              "      <td>0</td>\n",
              "      <td>312</td>\n",
              "    </tr>\n",
              "    <tr>\n",
              "      <th>426</th>\n",
              "      <td>139575</td>\n",
              "      <td>100652</td>\n",
              "      <td>2012-11-07 17:43:37.193</td>\n",
              "      <td>0</td>\n",
              "      <td>0</td>\n",
              "      <td>17</td>\n",
              "    </tr>\n",
              "    <tr>\n",
              "      <th>940</th>\n",
              "      <td>108032</td>\n",
              "      <td>122049</td>\n",
              "      <td>2013-02-28 21:08:19.107</td>\n",
              "      <td>0</td>\n",
              "      <td>0</td>\n",
              "      <td>312</td>\n",
              "    </tr>\n",
              "    <tr>\n",
              "      <th>1174</th>\n",
              "      <td>554729</td>\n",
              "      <td>124084</td>\n",
              "      <td>2012-09-20 19:27:23.994</td>\n",
              "      <td>0</td>\n",
              "      <td>0</td>\n",
              "      <td>999</td>\n",
              "    </tr>\n",
              "    <tr>\n",
              "      <th>1292</th>\n",
              "      <td>545347</td>\n",
              "      <td>125416</td>\n",
              "      <td>2012-09-05 16:08:53.307</td>\n",
              "      <td>0</td>\n",
              "      <td>0</td>\n",
              "      <td>999</td>\n",
              "    </tr>\n",
              "    <tr>\n",
              "      <th>...</th>\n",
              "      <td>...</td>\n",
              "      <td>...</td>\n",
              "      <td>...</td>\n",
              "      <td>...</td>\n",
              "      <td>...</td>\n",
              "      <td>...</td>\n",
              "    </tr>\n",
              "    <tr>\n",
              "      <th>6122746</th>\n",
              "      <td>170731</td>\n",
              "      <td>221915</td>\n",
              "      <td>2013-07-18 11:12:27.053</td>\n",
              "      <td>0</td>\n",
              "      <td>0</td>\n",
              "      <td>39</td>\n",
              "    </tr>\n",
              "    <tr>\n",
              "      <th>6122822</th>\n",
              "      <td>12383</td>\n",
              "      <td>222500</td>\n",
              "      <td>2013-08-26 19:40:32.453</td>\n",
              "      <td>0</td>\n",
              "      <td>0</td>\n",
              "      <td>47</td>\n",
              "    </tr>\n",
              "    <tr>\n",
              "      <th>6123001</th>\n",
              "      <td>12387</td>\n",
              "      <td>223445</td>\n",
              "      <td>2013-07-31 21:46:45.393</td>\n",
              "      <td>0</td>\n",
              "      <td>0</td>\n",
              "      <td>91</td>\n",
              "    </tr>\n",
              "    <tr>\n",
              "      <th>6123188</th>\n",
              "      <td>765824</td>\n",
              "      <td>225944</td>\n",
              "      <td>2013-08-30 12:57:26.138</td>\n",
              "      <td>0</td>\n",
              "      <td>0</td>\n",
              "      <td>999</td>\n",
              "    </tr>\n",
              "    <tr>\n",
              "      <th>6123237</th>\n",
              "      <td>760541</td>\n",
              "      <td>226860</td>\n",
              "      <td>2013-08-29 07:46:40.524</td>\n",
              "      <td>0</td>\n",
              "      <td>0</td>\n",
              "      <td>999</td>\n",
              "    </tr>\n",
              "  </tbody>\n",
              "</table>\n",
              "<p>46570 rows × 6 columns</p>\n",
              "</div>"
            ],
            "text/plain": [
              "         problem_id  user_id  ... attempt_count  skill_id\n",
              "235          108293    93574  ...             0       312\n",
              "426          139575   100652  ...             0        17\n",
              "940          108032   122049  ...             0       312\n",
              "1174         554729   124084  ...             0       999\n",
              "1292         545347   125416  ...             0       999\n",
              "...             ...      ...  ...           ...       ...\n",
              "6122746      170731   221915  ...             0        39\n",
              "6122822       12383   222500  ...             0        47\n",
              "6123001       12387   223445  ...             0        91\n",
              "6123188      765824   225944  ...             0       999\n",
              "6123237      760541   226860  ...             0       999\n",
              "\n",
              "[46570 rows x 6 columns]"
            ]
          },
          "metadata": {
            "tags": []
          },
          "execution_count": 93
        }
      ]
    },
    {
      "cell_type": "code",
      "metadata": {
        "id": "NjrCZ8LHe3o2",
        "colab_type": "code",
        "colab": {}
      },
      "source": [
        "import numpy as np\n",
        "import pandas as pd\n",
        "from scipy import sparse\n",
        "import argparse\n",
        "import os\n",
        "\n",
        "data_name = \"/content/drive/My Drive/master thesis/Datasets/assistment_dataset/2012-2013-data-with-predictions-4-final.csv\"\n",
        "min_interactions_per_user = 0\n",
        "remove_nan_skills = True\n",
        "\n",
        "\n",
        "\"\"\"Preprocess ASSISTments dataset.\n",
        "\n",
        "Arguments:\n",
        "    data_name: \"assistments09\", \"assistments12\", \"assistments15\" or \"assistments17\"\n",
        "    min_interactions_per_user (int): minimum number of interactions per student\n",
        "    remove_nan_skills (bool): if True, remove interactions with no skill tag\n",
        "Outputs:\n",
        "    df (pandas DataFrame): preprocessed ASSISTments dataset with user_id, item_id,\n",
        "        timestamp and correct features\n",
        "    Q_mat (item-skill relationships sparse array): corresponding q-matrix\n",
        "\"\"\"\n",
        "#data_path = os.path.join(\"data\", data_name)\n",
        "#df = pd.read_csv(os.path.join(data_path, \"data.csv\"), encoding=\"ISO-8859-1\")\n",
        "df = pd.read_csv(os.path.join(data_name))\n",
        "data_name = \"assistments12\""
      ],
      "execution_count": null,
      "outputs": []
    },
    {
      "cell_type": "code",
      "metadata": {
        "id": "B9DrTetHfM3W",
        "colab_type": "code",
        "colab": {
          "base_uri": "https://localhost:8080/",
          "height": 678
        },
        "outputId": "f7c7db30-1bd2-41ad-a4f6-831511148318"
      },
      "source": [
        "df = df.rename(columns={\"problem_id\": \"item_id\"})\n",
        "df[\"timestamp\"] = pd.to_datetime(df[\"start_time\"])\n",
        "print(df.dtypes)"
      ],
      "execution_count": null,
      "outputs": [
        {
          "output_type": "stream",
          "text": [
            "problem_log_id                                int64\n",
            "skill                                        object\n",
            "item_id                                       int64\n",
            "user_id                                       int64\n",
            "assignment_id                                 int64\n",
            "assistment_id                                 int64\n",
            "start_time                                   object\n",
            "end_time                                     object\n",
            "problem_type                                 object\n",
            "original                                      int64\n",
            "correct                                     float64\n",
            "bottom_hint                                 float64\n",
            "hint_count                                    int64\n",
            "actions                                      object\n",
            "attempt_count                                 int64\n",
            "ms_first_response                             int64\n",
            "tutor_mode                                   object\n",
            "sequence_id                                   int64\n",
            "student_class_id                              int64\n",
            "position                                      int64\n",
            "type                                         object\n",
            "base_sequence_id                              int64\n",
            "skill_id                                    float64\n",
            "teacher_id                                    int64\n",
            "school_id                                   float64\n",
            "overlap_time                                  int64\n",
            "template_id                                   int64\n",
            "answer_id                                   float64\n",
            "answer_text                                  object\n",
            "first_action                                  int64\n",
            "problemlogid                                  int64\n",
            "Average_confidence(FRUSTRATED)              float64\n",
            "Average_confidence(CONFUSED)                float64\n",
            "Average_confidence(CONCENTRATING)           float64\n",
            "Average_confidence(BORED)                   float64\n",
            "timestamp                            datetime64[ns]\n",
            "dtype: object\n"
          ],
          "name": "stdout"
        }
      ]
    },
    {
      "cell_type": "code",
      "metadata": {
        "id": "O3TsiWocz-79",
        "colab_type": "code",
        "colab": {}
      },
      "source": [
        "df[\"timestamp\"] = df[\"timestamp\"] - df[\"timestamp\"].min()"
      ],
      "execution_count": null,
      "outputs": []
    },
    {
      "cell_type": "code",
      "metadata": {
        "id": "4W5OpZ9r1AvE",
        "colab_type": "code",
        "colab": {}
      },
      "source": [
        "df[\"timestamp\"] = df[\"timestamp\"].apply(lambda x: x.total_seconds()).astype(np.int64)"
      ],
      "execution_count": null,
      "outputs": []
    },
    {
      "cell_type": "code",
      "metadata": {
        "id": "U2m6oS8_z3mF",
        "colab_type": "code",
        "colab": {}
      },
      "source": [
        "# Sort data temporally\n",
        "if data_name in [\"assistments12\", \"assistments17\"]:\n",
        "    df.sort_values(by=\"timestamp\", inplace=True)\n",
        "elif data_name == \"assistments09\":\n",
        "    df.sort_values(by=\"order_id\", inplace=True)\n",
        "elif data_name == \"assistments15\":\n",
        "    df.sort_values(by=\"log_id\", inplace=True)\n",
        "\n",
        "# Filter too short sequences\n",
        "df = df.groupby(\"user_id\").filter(lambda x: len(x) >= min_interactions_per_user)\n",
        "\n",
        "# Remove continuous outcomes\n",
        "df = df[df[\"correct\"].isin([0, 1])]\n",
        "df[\"correct\"] = df[\"correct\"].astype(np.int32)\n",
        "\n",
        "# Filter nan skills\n",
        "if remove_nan_skills:\n",
        "    df = df[~df[\"skill_id\"].isnull()]\n",
        "else:\n",
        "    df.ix[df[\"skill_id\"].isnull(), \"skill_id\"] = -1\n",
        "\n",
        "df[\"user_id\"] = np.unique(df[\"user_id\"], return_inverse=True)[1]\n",
        "df[\"item_id\"] = np.unique(df[\"item_id\"], return_inverse=True)[1]\n",
        "df[\"skill_id\"] = np.unique(df[\"skill_id\"], return_inverse=True)[1]\n",
        "\n",
        "# Build Q-matrix\n",
        "Q_mat = np.zeros((len(df[\"item_id\"].unique()), len(df[\"skill_id\"].unique())))\n",
        "for item_id, skill_id in df[[\"item_id\", \"skill_id\"]].values:\n",
        "    Q_mat[item_id, skill_id] = 1\n",
        "\n",
        "\n",
        "\n",
        "df = df[['user_id', 'item_id', 'timestamp', 'correct']]\n",
        "df.reset_index(inplace=True, drop=True)\n"
      ],
      "execution_count": null,
      "outputs": []
    },
    {
      "cell_type": "code",
      "metadata": {
        "id": "FDNJHOk01xTM",
        "colab_type": "code",
        "colab": {}
      },
      "source": [
        "data_path = \"./\"\n",
        "\n",
        "# Save data\n",
        "sparse.save_npz(os.path.join(data_path, \"q_mat.npz\"), sparse.csr_matrix(Q_mat))\n",
        "df.to_csv(os.path.join(data_path, \"preprocessed_data.csv\"), sep=\"\\t\", index=False)"
      ],
      "execution_count": null,
      "outputs": []
    },
    {
      "cell_type": "code",
      "metadata": {
        "id": "TBw6fH-g14eu",
        "colab_type": "code",
        "colab": {
          "base_uri": "https://localhost:8080/",
          "height": 106
        },
        "outputId": "de477a17-be19-4329-c78f-10077b2eb8bd"
      },
      "source": [
        "pre_df = pd.read_csv(\"/content/preprocessed_data.csv\", sep=\"\\t\")\n",
        "pre_df.nunique()\n"
      ],
      "execution_count": null,
      "outputs": [
        {
          "output_type": "execute_result",
          "data": {
            "text/plain": [
              "user_id        29018\n",
              "item_id        53086\n",
              "timestamp    2362589\n",
              "correct            2\n",
              "dtype: int64"
            ]
          },
          "metadata": {
            "tags": []
          },
          "execution_count": 20
        }
      ]
    },
    {
      "cell_type": "code",
      "metadata": {
        "id": "tzRubGOpAcSc",
        "colab_type": "code",
        "colab": {}
      },
      "source": [
        "import random\n",
        "from random import shuffle\n",
        "from sklearn.metrics import roc_auc_score, accuracy_score\n",
        "\n",
        "import torch\n",
        "from torch.nn.utils.rnn import pad_sequence\n",
        "\n",
        "\n",
        "def set_random_seeds(seed):\n",
        "    torch.manual_seed(seed)\n",
        "    torch.cuda.manual_seed_all(seed)\n",
        "    random.seed(seed)\n",
        "    \n",
        "    \n",
        "def get_data(df, train_split=0.8):\n",
        "    num_items = df[\"item_id\"].nunique()\n",
        "    data = [(torch.tensor(u_df[\"item_id\"].values, dtype=torch.long),\n",
        "             torch.tensor(u_df[\"correct\"].values, dtype=torch.long))\n",
        "            for _, u_df in df.groupby(\"user_id\")]\n",
        "    data = [(torch.cat((torch.zeros(1, dtype=torch.long), item_ids + labels * num_items + 1))[:-1], item_ids, labels)\n",
        "            for (item_ids, labels) in data]\n",
        "    shuffle(data)\n",
        "\n",
        "    # Train-test split across users\n",
        "    train_size = int(train_split * len(data))\n",
        "    train_data, val_data = data[:train_size], data[train_size:]\n",
        "    return train_data, val_data\n",
        "\n",
        "\n",
        "def prepare_batches(data, batch_size):\n",
        "    \"\"\"Prepare batches grouping padded sequences.\n",
        "    \n",
        "    Arguments:\n",
        "        data (list of tuples of torch Tensor)\n",
        "        batch_size (int): number of sequences per batch\n",
        "        \n",
        "    Output:\n",
        "        batches (list of tuples of torch Tensor)\n",
        "    \"\"\"\n",
        "    shuffle(data)\n",
        "    batches = []\n",
        "\n",
        "    for k in range(0, len(data), batch_size):\n",
        "        batch = data[k:k + batch_size]\n",
        "        inputs, item_ids, labels = zip(*batch)\n",
        "\n",
        "        inputs = pad_sequence(inputs, batch_first=True, padding_value=0)     # Pad with 0\n",
        "        item_ids = pad_sequence(item_ids, batch_first=True, padding_value=0) # Don't care\n",
        "        labels = pad_sequence(labels, batch_first=True, padding_value=-1)    # Pad with -1\n",
        "\n",
        "        batches.append([inputs, item_ids, labels])\n",
        "        \n",
        "    return batches\n",
        "\n",
        "\n",
        "def compute_auc(preds, item_ids, labels):\n",
        "    labels = labels.view(-1)\n",
        "    item_ids = item_ids.view(-1)[labels >= 0]\n",
        "    preds = preds.view(-1, preds.shape[-1])[labels >= 0]\n",
        "    preds = preds[torch.arange(preds.shape[0]), item_ids]\n",
        "    labels = labels[labels >= 0].float()\n",
        "\n",
        "    if len(torch.unique(labels)) == 1: # Only one class\n",
        "        auc = accuracy_score(labels, preds.round())\n",
        "    else:\n",
        "        auc = roc_auc_score(labels, preds)\n",
        "    return auc\n",
        "\n",
        "\n",
        "def compute_loss(preds, item_ids, labels, criterion):\n",
        "    labels = labels.view(-1)\n",
        "    item_ids = item_ids.view(-1)[labels >= 0]\n",
        "    preds = preds.view(-1, preds.shape[-1])[labels >= 0]\n",
        "    preds = preds[torch.arange(preds.shape[0]), item_ids]\n",
        "    labels = labels[labels >= 0].float()\n",
        "    return criterion(preds, labels)"
      ],
      "execution_count": null,
      "outputs": []
    },
    {
      "cell_type": "markdown",
      "metadata": {
        "id": "7aaPHqc3iqvV",
        "colab_type": "text"
      },
      "source": [
        "## try neptune.ai"
      ]
    },
    {
      "cell_type": "code",
      "metadata": {
        "id": "ZX4sRNWnh0n8",
        "colab_type": "code",
        "colab": {
          "base_uri": "https://localhost:8080/",
          "height": 1000
        },
        "outputId": "4cba33b2-d91b-4b8b-bfc1-e8bbe36e0f9e"
      },
      "source": [
        "!pip install neptune-client"
      ],
      "execution_count": 1,
      "outputs": [
        {
          "output_type": "stream",
          "text": [
            "Collecting neptune-client\n",
            "\u001b[?25l  Downloading https://files.pythonhosted.org/packages/4a/d6/00edcbff22f7ada15ff7b3e3c21b4cbbdd2bdd54aa72424691ad038c7d66/neptune-client-0.4.119.tar.gz (90kB)\n",
            "\r\u001b[K     |███▋                            | 10kB 21.6MB/s eta 0:00:01\r\u001b[K     |███████▎                        | 20kB 2.9MB/s eta 0:00:01\r\u001b[K     |███████████                     | 30kB 3.4MB/s eta 0:00:01\r\u001b[K     |██████████████▋                 | 40kB 3.8MB/s eta 0:00:01\r\u001b[K     |██████████████████▏             | 51kB 3.4MB/s eta 0:00:01\r\u001b[K     |█████████████████████▉          | 61kB 3.7MB/s eta 0:00:01\r\u001b[K     |█████████████████████████▌      | 71kB 4.2MB/s eta 0:00:01\r\u001b[K     |█████████████████████████████▏  | 81kB 4.3MB/s eta 0:00:01\r\u001b[K     |████████████████████████████████| 92kB 3.5MB/s \n",
            "\u001b[?25hCollecting bravado\n",
            "  Downloading https://files.pythonhosted.org/packages/2a/cc/b3c8dadc3f51fa184db10172f031c1c5206b0e67f3207217bbdd326e81a4/bravado-10.6.2-py2.py3-none-any.whl\n",
            "Requirement already satisfied: click>=7.0 in /usr/local/lib/python3.6/dist-packages (from neptune-client) (7.1.2)\n",
            "Collecting future>=0.17.1\n",
            "\u001b[?25l  Downloading https://files.pythonhosted.org/packages/45/0b/38b06fd9b92dc2b68d58b75f900e97884c45bedd2ff83203d933cf5851c9/future-0.18.2.tar.gz (829kB)\n",
            "\u001b[K     |████████████████████████████████| 829kB 7.7MB/s \n",
            "\u001b[?25hCollecting py3nvml\n",
            "\u001b[?25l  Downloading https://files.pythonhosted.org/packages/53/b3/cb30dd8cc1198ae3fdb5a320ca7986d7ca76e23d16415067eafebff8685f/py3nvml-0.2.6-py3-none-any.whl (55kB)\n",
            "\u001b[K     |████████████████████████████████| 61kB 6.6MB/s \n",
            "\u001b[?25hRequirement already satisfied: oauthlib>=2.1.0 in /usr/local/lib/python3.6/dist-packages (from neptune-client) (3.1.0)\n",
            "Requirement already satisfied: pandas in /usr/local/lib/python3.6/dist-packages (from neptune-client) (1.0.5)\n",
            "Requirement already satisfied: Pillow>=1.1.6 in /usr/local/lib/python3.6/dist-packages (from neptune-client) (7.0.0)\n",
            "Collecting PyJWT\n",
            "  Downloading https://files.pythonhosted.org/packages/87/8b/6a9f14b5f781697e51259d81657e6048fd31a113229cf346880bb7545565/PyJWT-1.7.1-py2.py3-none-any.whl\n",
            "Requirement already satisfied: requests>=2.20.0 in /usr/local/lib/python3.6/dist-packages (from neptune-client) (2.23.0)\n",
            "Requirement already satisfied: requests-oauthlib>=1.0.0 in /usr/local/lib/python3.6/dist-packages (from neptune-client) (1.3.0)\n",
            "Requirement already satisfied: six>=1.12.0 in /usr/local/lib/python3.6/dist-packages (from neptune-client) (1.15.0)\n",
            "Collecting websocket-client>=0.35.0\n",
            "\u001b[?25l  Downloading https://files.pythonhosted.org/packages/4c/5f/f61b420143ed1c8dc69f9eaec5ff1ac36109d52c80de49d66e0c36c3dfdf/websocket_client-0.57.0-py2.py3-none-any.whl (200kB)\n",
            "\u001b[K     |████████████████████████████████| 204kB 13.7MB/s \n",
            "\u001b[?25hCollecting GitPython>=2.0.8\n",
            "\u001b[?25l  Downloading https://files.pythonhosted.org/packages/f9/1e/a45320cab182bf1c8656107b3d4c042e659742822fc6bff150d769a984dd/GitPython-3.1.7-py3-none-any.whl (158kB)\n",
            "\u001b[K     |████████████████████████████████| 163kB 13.3MB/s \n",
            "\u001b[?25hRequirement already satisfied: packaging in /usr/local/lib/python3.6/dist-packages (from neptune-client) (20.4)\n",
            "Requirement already satisfied: pyyaml in /usr/local/lib/python3.6/dist-packages (from bravado->neptune-client) (3.13)\n",
            "Collecting msgpack-python\n",
            "\u001b[?25l  Downloading https://files.pythonhosted.org/packages/8a/20/6eca772d1a5830336f84aca1d8198e5a3f4715cd1c7fc36d3cc7f7185091/msgpack-python-0.5.6.tar.gz (138kB)\n",
            "\u001b[K     |████████████████████████████████| 143kB 14.3MB/s \n",
            "\u001b[?25hCollecting simplejson\n",
            "\u001b[?25l  Downloading https://files.pythonhosted.org/packages/73/96/1e6b19045375890068d7342cbe280dd64ae73fd90b9735b5efb8d1e044a1/simplejson-3.17.2-cp36-cp36m-manylinux2010_x86_64.whl (127kB)\n",
            "\u001b[K     |████████████████████████████████| 133kB 17.8MB/s \n",
            "\u001b[?25hRequirement already satisfied: typing-extensions in /usr/local/lib/python3.6/dist-packages (from bravado->neptune-client) (3.7.4.3)\n",
            "Requirement already satisfied: python-dateutil in /usr/local/lib/python3.6/dist-packages (from bravado->neptune-client) (2.8.1)\n",
            "Collecting bravado-core>=5.16.1\n",
            "\u001b[?25l  Downloading https://files.pythonhosted.org/packages/76/11/18e9d28a156c33f2d5f15a5e155dc7130250acb0a569255a2b6b307b596d/bravado_core-5.17.0-py2.py3-none-any.whl (67kB)\n",
            "\u001b[K     |████████████████████████████████| 71kB 6.3MB/s \n",
            "\u001b[?25hCollecting monotonic\n",
            "  Downloading https://files.pythonhosted.org/packages/ac/aa/063eca6a416f397bd99552c534c6d11d57f58f2e94c14780f3bbf818c4cf/monotonic-1.5-py2.py3-none-any.whl\n",
            "Collecting xmltodict\n",
            "  Downloading https://files.pythonhosted.org/packages/28/fd/30d5c1d3ac29ce229f6bdc40bbc20b28f716e8b363140c26eff19122d8a5/xmltodict-0.12.0-py2.py3-none-any.whl\n",
            "Requirement already satisfied: pytz>=2017.2 in /usr/local/lib/python3.6/dist-packages (from pandas->neptune-client) (2018.9)\n",
            "Requirement already satisfied: numpy>=1.13.3 in /usr/local/lib/python3.6/dist-packages (from pandas->neptune-client) (1.18.5)\n",
            "Requirement already satisfied: urllib3!=1.25.0,!=1.25.1,<1.26,>=1.21.1 in /usr/local/lib/python3.6/dist-packages (from requests>=2.20.0->neptune-client) (1.24.3)\n",
            "Requirement already satisfied: certifi>=2017.4.17 in /usr/local/lib/python3.6/dist-packages (from requests>=2.20.0->neptune-client) (2020.6.20)\n",
            "Requirement already satisfied: idna<3,>=2.5 in /usr/local/lib/python3.6/dist-packages (from requests>=2.20.0->neptune-client) (2.10)\n",
            "Requirement already satisfied: chardet<4,>=3.0.2 in /usr/local/lib/python3.6/dist-packages (from requests>=2.20.0->neptune-client) (3.0.4)\n",
            "Collecting gitdb<5,>=4.0.1\n",
            "\u001b[?25l  Downloading https://files.pythonhosted.org/packages/48/11/d1800bca0a3bae820b84b7d813ad1eff15a48a64caea9c823fc8c1b119e8/gitdb-4.0.5-py3-none-any.whl (63kB)\n",
            "\u001b[K     |████████████████████████████████| 71kB 6.7MB/s \n",
            "\u001b[?25hRequirement already satisfied: pyparsing>=2.0.2 in /usr/local/lib/python3.6/dist-packages (from packaging->neptune-client) (2.4.7)\n",
            "Collecting jsonref\n",
            "  Downloading https://files.pythonhosted.org/packages/07/92/f8e4ac824b14af77e613984e480fa818397c72d4141fc466decb26752749/jsonref-0.2-py3-none-any.whl\n",
            "Collecting swagger-spec-validator>=2.0.1\n",
            "  Downloading https://files.pythonhosted.org/packages/09/de/e78cefbf5838b434b63a789264b79821cb2267f1498fbed23ef8590133e4/swagger_spec_validator-2.7.3-py2.py3-none-any.whl\n",
            "Requirement already satisfied: msgpack>=0.5.2 in /usr/local/lib/python3.6/dist-packages (from bravado-core>=5.16.1->bravado->neptune-client) (1.0.0)\n",
            "Requirement already satisfied: jsonschema[format]>=2.5.1 in /usr/local/lib/python3.6/dist-packages (from bravado-core>=5.16.1->bravado->neptune-client) (2.6.0)\n",
            "Collecting smmap<4,>=3.0.1\n",
            "  Downloading https://files.pythonhosted.org/packages/b0/9a/4d409a6234eb940e6a78dfdfc66156e7522262f5f2fecca07dc55915952d/smmap-3.0.4-py2.py3-none-any.whl\n",
            "Collecting rfc3987; extra == \"format\"\n",
            "  Downloading https://files.pythonhosted.org/packages/65/d4/f7407c3d15d5ac779c3dd34fbbc6ea2090f77bd7dd12f207ccf881551208/rfc3987-1.3.8-py2.py3-none-any.whl\n",
            "Collecting webcolors; extra == \"format\"\n",
            "  Downloading https://files.pythonhosted.org/packages/12/05/3350559de9714b202e443a9e6312937341bd5f79f4e4f625744295e7dd17/webcolors-1.11.1-py3-none-any.whl\n",
            "Collecting strict-rfc3339; extra == \"format\"\n",
            "  Downloading https://files.pythonhosted.org/packages/56/e4/879ef1dbd6ddea1c77c0078cd59b503368b0456bcca7d063a870ca2119d3/strict-rfc3339-0.7.tar.gz\n",
            "Building wheels for collected packages: neptune-client, future, msgpack-python, strict-rfc3339\n",
            "  Building wheel for neptune-client (setup.py) ... \u001b[?25l\u001b[?25hdone\n",
            "  Created wheel for neptune-client: filename=neptune_client-0.4.119-py2.py3-none-any.whl size=150018 sha256=15de3baf053a04dcb4748860e5b6b48f1e59b1750a3ac0e5d20612d92b07f399\n",
            "  Stored in directory: /root/.cache/pip/wheels/84/5c/c1/a81e80761b94b4467fd3fda1fd3109463702f6247fc422eb33\n",
            "  Building wheel for future (setup.py) ... \u001b[?25l\u001b[?25hdone\n",
            "  Created wheel for future: filename=future-0.18.2-cp36-none-any.whl size=491057 sha256=c45722e1303f51238edb327f07d0ee13ece4b21ca376ba38166660e9612efbbb\n",
            "  Stored in directory: /root/.cache/pip/wheels/8b/99/a0/81daf51dcd359a9377b110a8a886b3895921802d2fc1b2397e\n",
            "  Building wheel for msgpack-python (setup.py) ... \u001b[?25l\u001b[?25hdone\n",
            "  Created wheel for msgpack-python: filename=msgpack_python-0.5.6-cp36-cp36m-linux_x86_64.whl size=304236 sha256=928cc195f8bc6f69a08abd8bb623ba3adb3f2653daaaef58d99219109fc7b497\n",
            "  Stored in directory: /root/.cache/pip/wheels/d5/de/86/7fa56fda12511be47ea0808f3502bc879df4e63ab168ec0406\n",
            "  Building wheel for strict-rfc3339 (setup.py) ... \u001b[?25l\u001b[?25hdone\n",
            "  Created wheel for strict-rfc3339: filename=strict_rfc3339-0.7-cp36-none-any.whl size=18122 sha256=5455d548f3b1ee28c1df4837ccfa9403f0eb9572dc3c843587abd03e6938e460\n",
            "  Stored in directory: /root/.cache/pip/wheels/bb/af/c9/b6e9fb5f9b2470e4ed2a7241c9ab3a8cdd3bc8555ae02ca2e6\n",
            "Successfully built neptune-client future msgpack-python strict-rfc3339\n",
            "Installing collected packages: msgpack-python, simplejson, jsonref, swagger-spec-validator, bravado-core, monotonic, bravado, future, xmltodict, py3nvml, PyJWT, websocket-client, smmap, gitdb, GitPython, neptune-client, rfc3987, webcolors, strict-rfc3339\n",
            "  Found existing installation: future 0.16.0\n",
            "    Uninstalling future-0.16.0:\n",
            "      Successfully uninstalled future-0.16.0\n",
            "Successfully installed GitPython-3.1.7 PyJWT-1.7.1 bravado-10.6.2 bravado-core-5.17.0 future-0.18.2 gitdb-4.0.5 jsonref-0.2 monotonic-1.5 msgpack-python-0.5.6 neptune-client-0.4.119 py3nvml-0.2.6 rfc3987-1.3.8 simplejson-3.17.2 smmap-3.0.4 strict-rfc3339-0.7 swagger-spec-validator-2.7.3 webcolors-1.11.1 websocket-client-0.57.0 xmltodict-0.12.0\n"
          ],
          "name": "stdout"
        }
      ]
    },
    {
      "cell_type": "code",
      "metadata": {
        "id": "-SFLjUHqT_Cu",
        "colab_type": "code",
        "colab": {}
      },
      "source": [
        "env NEPTUNE_API_TOKEN=\"\""
      ],
      "execution_count": null,
      "outputs": []
    },
    {
      "cell_type": "code",
      "metadata": {
        "id": "chxq0lB6i1CE",
        "colab_type": "code",
        "colab": {
          "base_uri": "https://localhost:8080/",
          "height": 35
        },
        "outputId": "b5b7a5a1-22a6-4549-9acf-6444422e7090"
      },
      "source": [
        "import neptune\n",
        "neptune.init('ikiyo/sandbox')\n",
        "\n",
        "with neptune.create_experiment():\n",
        "    neptune.send_metric('auc', 0.92)"
      ],
      "execution_count": null,
      "outputs": [
        {
          "output_type": "stream",
          "text": [
            "https://ui.neptune.ai/ikiyo/sandbox/e/SAN-4\n"
          ],
          "name": "stdout"
        }
      ]
    },
    {
      "cell_type": "markdown",
      "metadata": {
        "id": "ee3s94GgmFq0",
        "colab_type": "text"
      },
      "source": [
        "#### original code of exepriments of spaced tempral effect"
      ]
    },
    {
      "cell_type": "code",
      "metadata": {
        "id": "i4HL4OAAmE-q",
        "colab_type": "code",
        "colab": {
          "base_uri": "https://localhost:8080/",
          "height": 106
        },
        "outputId": "8ba69fd2-9d9a-42da-e0fd-400db07e29c7"
      },
      "source": [
        "!git clone https://github.com/thosgt/kt-algos.git"
      ],
      "execution_count": 3,
      "outputs": [
        {
          "output_type": "stream",
          "text": [
            "Cloning into 'kt-algos'...\n",
            "remote: Enumerating objects: 248, done.\u001b[K\n",
            "remote: Total 248 (delta 0), reused 0 (delta 0), pack-reused 248\u001b[K\n",
            "Receiving objects: 100% (248/248), 62.26 KiB | 5.66 MiB/s, done.\n",
            "Resolving deltas: 100% (134/134), done.\n"
          ],
          "name": "stdout"
        }
      ]
    },
    {
      "cell_type": "code",
      "metadata": {
        "id": "7tHnNSGJmV8p",
        "colab_type": "code",
        "colab": {
          "base_uri": "https://localhost:8080/",
          "height": 35
        },
        "outputId": "3dd6ef02-b245-4771-bfdc-2cda24c02617"
      },
      "source": [
        "cd kt-algos"
      ],
      "execution_count": 4,
      "outputs": [
        {
          "output_type": "stream",
          "text": [
            "/content/kt-algos\n"
          ],
          "name": "stdout"
        }
      ]
    },
    {
      "cell_type": "code",
      "metadata": {
        "id": "vUEq1UQWmoJA",
        "colab_type": "code",
        "colab": {
          "base_uri": "https://localhost:8080/",
          "height": 1000
        },
        "outputId": "5e4f1e9a-2ec7-4d7d-92fb-6304eb5d37cf"
      },
      "source": [
        "pip install -r requirements.txt"
      ],
      "execution_count": 5,
      "outputs": [
        {
          "output_type": "stream",
          "text": [
            "Requirement already satisfied: jupyter in /usr/local/lib/python3.6/dist-packages (from -r requirements.txt (line 1)) (1.0.0)\n",
            "Requirement already satisfied: pandas in /usr/local/lib/python3.6/dist-packages (from -r requirements.txt (line 2)) (1.0.5)\n",
            "Requirement already satisfied: sklearn in /usr/local/lib/python3.6/dist-packages (from -r requirements.txt (line 3)) (0.0)\n",
            "Collecting tensorboardX\n",
            "\u001b[?25l  Downloading https://files.pythonhosted.org/packages/af/0c/4f41bcd45db376e6fe5c619c01100e9b7531c55791b7244815bac6eac32c/tensorboardX-2.1-py2.py3-none-any.whl (308kB)\n",
            "\u001b[K     |████████████████████████████████| 317kB 4.7MB/s \n",
            "\u001b[?25hRequirement already satisfied: tensorboard in /usr/local/lib/python3.6/dist-packages (from -r requirements.txt (line 5)) (2.3.0)\n",
            "Requirement already satisfied: ipywidgets in /usr/local/lib/python3.6/dist-packages (from jupyter->-r requirements.txt (line 1)) (7.5.1)\n",
            "Requirement already satisfied: qtconsole in /usr/local/lib/python3.6/dist-packages (from jupyter->-r requirements.txt (line 1)) (4.7.6)\n",
            "Requirement already satisfied: jupyter-console in /usr/local/lib/python3.6/dist-packages (from jupyter->-r requirements.txt (line 1)) (5.2.0)\n",
            "Requirement already satisfied: notebook in /usr/local/lib/python3.6/dist-packages (from jupyter->-r requirements.txt (line 1)) (5.3.1)\n",
            "Requirement already satisfied: nbconvert in /usr/local/lib/python3.6/dist-packages (from jupyter->-r requirements.txt (line 1)) (5.6.1)\n",
            "Requirement already satisfied: ipykernel in /usr/local/lib/python3.6/dist-packages (from jupyter->-r requirements.txt (line 1)) (4.10.1)\n",
            "Requirement already satisfied: numpy>=1.13.3 in /usr/local/lib/python3.6/dist-packages (from pandas->-r requirements.txt (line 2)) (1.18.5)\n",
            "Requirement already satisfied: python-dateutil>=2.6.1 in /usr/local/lib/python3.6/dist-packages (from pandas->-r requirements.txt (line 2)) (2.8.1)\n",
            "Requirement already satisfied: pytz>=2017.2 in /usr/local/lib/python3.6/dist-packages (from pandas->-r requirements.txt (line 2)) (2018.9)\n",
            "Requirement already satisfied: scikit-learn in /usr/local/lib/python3.6/dist-packages (from sklearn->-r requirements.txt (line 3)) (0.22.2.post1)\n",
            "Requirement already satisfied: protobuf>=3.8.0 in /usr/local/lib/python3.6/dist-packages (from tensorboardX->-r requirements.txt (line 4)) (3.12.4)\n",
            "Requirement already satisfied: six in /usr/local/lib/python3.6/dist-packages (from tensorboardX->-r requirements.txt (line 4)) (1.15.0)\n",
            "Requirement already satisfied: wheel>=0.26; python_version >= \"3\" in /usr/local/lib/python3.6/dist-packages (from tensorboard->-r requirements.txt (line 5)) (0.35.1)\n",
            "Requirement already satisfied: markdown>=2.6.8 in /usr/local/lib/python3.6/dist-packages (from tensorboard->-r requirements.txt (line 5)) (3.2.2)\n",
            "Requirement already satisfied: requests<3,>=2.21.0 in /usr/local/lib/python3.6/dist-packages (from tensorboard->-r requirements.txt (line 5)) (2.23.0)\n",
            "Requirement already satisfied: setuptools>=41.0.0 in /usr/local/lib/python3.6/dist-packages (from tensorboard->-r requirements.txt (line 5)) (49.6.0)\n",
            "Requirement already satisfied: werkzeug>=0.11.15 in /usr/local/lib/python3.6/dist-packages (from tensorboard->-r requirements.txt (line 5)) (1.0.1)\n",
            "Requirement already satisfied: tensorboard-plugin-wit>=1.6.0 in /usr/local/lib/python3.6/dist-packages (from tensorboard->-r requirements.txt (line 5)) (1.7.0)\n",
            "Requirement already satisfied: google-auth<2,>=1.6.3 in /usr/local/lib/python3.6/dist-packages (from tensorboard->-r requirements.txt (line 5)) (1.17.2)\n",
            "Requirement already satisfied: absl-py>=0.4 in /usr/local/lib/python3.6/dist-packages (from tensorboard->-r requirements.txt (line 5)) (0.8.1)\n",
            "Requirement already satisfied: google-auth-oauthlib<0.5,>=0.4.1 in /usr/local/lib/python3.6/dist-packages (from tensorboard->-r requirements.txt (line 5)) (0.4.1)\n",
            "Requirement already satisfied: grpcio>=1.24.3 in /usr/local/lib/python3.6/dist-packages (from tensorboard->-r requirements.txt (line 5)) (1.31.0)\n",
            "Requirement already satisfied: widgetsnbextension~=3.5.0 in /usr/local/lib/python3.6/dist-packages (from ipywidgets->jupyter->-r requirements.txt (line 1)) (3.5.1)\n",
            "Requirement already satisfied: nbformat>=4.2.0 in /usr/local/lib/python3.6/dist-packages (from ipywidgets->jupyter->-r requirements.txt (line 1)) (5.0.7)\n",
            "Requirement already satisfied: traitlets>=4.3.1 in /usr/local/lib/python3.6/dist-packages (from ipywidgets->jupyter->-r requirements.txt (line 1)) (4.3.3)\n",
            "Requirement already satisfied: ipython>=4.0.0; python_version >= \"3.3\" in /usr/local/lib/python3.6/dist-packages (from ipywidgets->jupyter->-r requirements.txt (line 1)) (5.5.0)\n",
            "Requirement already satisfied: jupyter-core in /usr/local/lib/python3.6/dist-packages (from qtconsole->jupyter->-r requirements.txt (line 1)) (4.6.3)\n",
            "Requirement already satisfied: jupyter-client>=4.1 in /usr/local/lib/python3.6/dist-packages (from qtconsole->jupyter->-r requirements.txt (line 1)) (5.3.5)\n",
            "Requirement already satisfied: pyzmq>=17.1 in /usr/local/lib/python3.6/dist-packages (from qtconsole->jupyter->-r requirements.txt (line 1)) (19.0.2)\n",
            "Requirement already satisfied: qtpy in /usr/local/lib/python3.6/dist-packages (from qtconsole->jupyter->-r requirements.txt (line 1)) (1.9.0)\n",
            "Requirement already satisfied: ipython-genutils in /usr/local/lib/python3.6/dist-packages (from qtconsole->jupyter->-r requirements.txt (line 1)) (0.2.0)\n",
            "Requirement already satisfied: pygments in /usr/local/lib/python3.6/dist-packages (from qtconsole->jupyter->-r requirements.txt (line 1)) (2.1.3)\n",
            "Requirement already satisfied: prompt-toolkit<2.0.0,>=1.0.0 in /usr/local/lib/python3.6/dist-packages (from jupyter-console->jupyter->-r requirements.txt (line 1)) (1.0.18)\n",
            "Requirement already satisfied: tornado>=4 in /usr/local/lib/python3.6/dist-packages (from notebook->jupyter->-r requirements.txt (line 1)) (5.1.1)\n",
            "Requirement already satisfied: Send2Trash in /usr/local/lib/python3.6/dist-packages (from notebook->jupyter->-r requirements.txt (line 1)) (1.5.0)\n",
            "Requirement already satisfied: terminado>=0.8.1 in /usr/local/lib/python3.6/dist-packages (from notebook->jupyter->-r requirements.txt (line 1)) (0.8.3)\n",
            "Requirement already satisfied: jinja2 in /usr/local/lib/python3.6/dist-packages (from notebook->jupyter->-r requirements.txt (line 1)) (2.11.2)\n",
            "Requirement already satisfied: bleach in /usr/local/lib/python3.6/dist-packages (from nbconvert->jupyter->-r requirements.txt (line 1)) (3.1.5)\n",
            "Requirement already satisfied: entrypoints>=0.2.2 in /usr/local/lib/python3.6/dist-packages (from nbconvert->jupyter->-r requirements.txt (line 1)) (0.3)\n",
            "Requirement already satisfied: pandocfilters>=1.4.1 in /usr/local/lib/python3.6/dist-packages (from nbconvert->jupyter->-r requirements.txt (line 1)) (1.4.2)\n",
            "Requirement already satisfied: defusedxml in /usr/local/lib/python3.6/dist-packages (from nbconvert->jupyter->-r requirements.txt (line 1)) (0.6.0)\n",
            "Requirement already satisfied: testpath in /usr/local/lib/python3.6/dist-packages (from nbconvert->jupyter->-r requirements.txt (line 1)) (0.4.4)\n",
            "Requirement already satisfied: mistune<2,>=0.8.1 in /usr/local/lib/python3.6/dist-packages (from nbconvert->jupyter->-r requirements.txt (line 1)) (0.8.4)\n",
            "Requirement already satisfied: scipy>=0.17.0 in /usr/local/lib/python3.6/dist-packages (from scikit-learn->sklearn->-r requirements.txt (line 3)) (1.4.1)\n",
            "Requirement already satisfied: joblib>=0.11 in /usr/local/lib/python3.6/dist-packages (from scikit-learn->sklearn->-r requirements.txt (line 3)) (0.16.0)\n",
            "Requirement already satisfied: importlib-metadata; python_version < \"3.8\" in /usr/local/lib/python3.6/dist-packages (from markdown>=2.6.8->tensorboard->-r requirements.txt (line 5)) (1.7.0)\n",
            "Requirement already satisfied: certifi>=2017.4.17 in /usr/local/lib/python3.6/dist-packages (from requests<3,>=2.21.0->tensorboard->-r requirements.txt (line 5)) (2020.6.20)\n",
            "Requirement already satisfied: chardet<4,>=3.0.2 in /usr/local/lib/python3.6/dist-packages (from requests<3,>=2.21.0->tensorboard->-r requirements.txt (line 5)) (3.0.4)\n",
            "Requirement already satisfied: idna<3,>=2.5 in /usr/local/lib/python3.6/dist-packages (from requests<3,>=2.21.0->tensorboard->-r requirements.txt (line 5)) (2.10)\n",
            "Requirement already satisfied: urllib3!=1.25.0,!=1.25.1,<1.26,>=1.21.1 in /usr/local/lib/python3.6/dist-packages (from requests<3,>=2.21.0->tensorboard->-r requirements.txt (line 5)) (1.24.3)\n",
            "Requirement already satisfied: pyasn1-modules>=0.2.1 in /usr/local/lib/python3.6/dist-packages (from google-auth<2,>=1.6.3->tensorboard->-r requirements.txt (line 5)) (0.2.8)\n",
            "Requirement already satisfied: cachetools<5.0,>=2.0.0 in /usr/local/lib/python3.6/dist-packages (from google-auth<2,>=1.6.3->tensorboard->-r requirements.txt (line 5)) (4.1.1)\n",
            "Requirement already satisfied: rsa<5,>=3.1.4; python_version >= \"3\" in /usr/local/lib/python3.6/dist-packages (from google-auth<2,>=1.6.3->tensorboard->-r requirements.txt (line 5)) (4.6)\n",
            "Requirement already satisfied: requests-oauthlib>=0.7.0 in /usr/local/lib/python3.6/dist-packages (from google-auth-oauthlib<0.5,>=0.4.1->tensorboard->-r requirements.txt (line 5)) (1.3.0)\n",
            "Requirement already satisfied: jsonschema!=2.5.0,>=2.4 in /usr/local/lib/python3.6/dist-packages (from nbformat>=4.2.0->ipywidgets->jupyter->-r requirements.txt (line 1)) (2.6.0)\n",
            "Requirement already satisfied: decorator in /usr/local/lib/python3.6/dist-packages (from traitlets>=4.3.1->ipywidgets->jupyter->-r requirements.txt (line 1)) (4.4.2)\n",
            "Requirement already satisfied: simplegeneric>0.8 in /usr/local/lib/python3.6/dist-packages (from ipython>=4.0.0; python_version >= \"3.3\"->ipywidgets->jupyter->-r requirements.txt (line 1)) (0.8.1)\n",
            "Requirement already satisfied: pexpect; sys_platform != \"win32\" in /usr/local/lib/python3.6/dist-packages (from ipython>=4.0.0; python_version >= \"3.3\"->ipywidgets->jupyter->-r requirements.txt (line 1)) (4.8.0)\n",
            "Requirement already satisfied: pickleshare in /usr/local/lib/python3.6/dist-packages (from ipython>=4.0.0; python_version >= \"3.3\"->ipywidgets->jupyter->-r requirements.txt (line 1)) (0.7.5)\n",
            "Requirement already satisfied: wcwidth in /usr/local/lib/python3.6/dist-packages (from prompt-toolkit<2.0.0,>=1.0.0->jupyter-console->jupyter->-r requirements.txt (line 1)) (0.2.5)\n",
            "Requirement already satisfied: ptyprocess; os_name != \"nt\" in /usr/local/lib/python3.6/dist-packages (from terminado>=0.8.1->notebook->jupyter->-r requirements.txt (line 1)) (0.6.0)\n",
            "Requirement already satisfied: MarkupSafe>=0.23 in /usr/local/lib/python3.6/dist-packages (from jinja2->notebook->jupyter->-r requirements.txt (line 1)) (1.1.1)\n",
            "Requirement already satisfied: packaging in /usr/local/lib/python3.6/dist-packages (from bleach->nbconvert->jupyter->-r requirements.txt (line 1)) (20.4)\n",
            "Requirement already satisfied: webencodings in /usr/local/lib/python3.6/dist-packages (from bleach->nbconvert->jupyter->-r requirements.txt (line 1)) (0.5.1)\n",
            "Requirement already satisfied: zipp>=0.5 in /usr/local/lib/python3.6/dist-packages (from importlib-metadata; python_version < \"3.8\"->markdown>=2.6.8->tensorboard->-r requirements.txt (line 5)) (3.1.0)\n",
            "Requirement already satisfied: pyasn1<0.5.0,>=0.4.6 in /usr/local/lib/python3.6/dist-packages (from pyasn1-modules>=0.2.1->google-auth<2,>=1.6.3->tensorboard->-r requirements.txt (line 5)) (0.4.8)\n",
            "Requirement already satisfied: oauthlib>=3.0.0 in /usr/local/lib/python3.6/dist-packages (from requests-oauthlib>=0.7.0->google-auth-oauthlib<0.5,>=0.4.1->tensorboard->-r requirements.txt (line 5)) (3.1.0)\n",
            "Requirement already satisfied: pyparsing>=2.0.2 in /usr/local/lib/python3.6/dist-packages (from packaging->bleach->nbconvert->jupyter->-r requirements.txt (line 1)) (2.4.7)\n",
            "Installing collected packages: tensorboardX\n",
            "Successfully installed tensorboardX-2.1\n"
          ],
          "name": "stdout"
        }
      ]
    },
    {
      "cell_type": "code",
      "metadata": {
        "id": "JarHCQDlm0ee",
        "colab_type": "code",
        "colab": {}
      },
      "source": [
        "!mkdir -p data/assistments12"
      ],
      "execution_count": 6,
      "outputs": []
    },
    {
      "cell_type": "code",
      "metadata": {
        "id": "zyLnM2Ajs1id",
        "colab_type": "code",
        "colab": {}
      },
      "source": [
        "!cp -r \"/content/kt-algos\"  \"/content/drive/My Drive/master thesis/Source code/\""
      ],
      "execution_count": 8,
      "outputs": []
    },
    {
      "cell_type": "code",
      "metadata": {
        "id": "Guxbn-eLnAsj",
        "colab_type": "code",
        "colab": {}
      },
      "source": [
        "!cp \"/content/drive/My Drive/master thesis/Datasets/assistment_dataset/2012-2013-data-with-predictions-4-final.csv\" ./data/assistments12/data.csv"
      ],
      "execution_count": 9,
      "outputs": []
    },
    {
      "cell_type": "code",
      "metadata": {
        "id": "klYhbOAhnOyW",
        "colab_type": "code",
        "colab": {}
      },
      "source": [
        "!python prepare_data.py --dataset assistments12 --remove_nan_skills"
      ],
      "execution_count": 10,
      "outputs": []
    },
    {
      "cell_type": "code",
      "metadata": {
        "id": "foigwsY0wuvf",
        "colab_type": "code",
        "colab": {
          "base_uri": "https://localhost:8080/",
          "height": 53
        },
        "outputId": "0f240207-ce9e-482b-d518-8c3125cb3e97"
      },
      "source": [
        "# test neptune \n",
        "import neptune\n",
        "neptune.init('ikiyo/sandbox')\n",
        "\n",
        "with neptune.create_experiment():\n",
        "    neptune.send_metric('auc', 0.92)"
      ],
      "execution_count": null,
      "outputs": [
        {
          "output_type": "stream",
          "text": [
            "NVMLError: Driver Not Loaded - GPU usage metrics may not be reported.\n"
          ],
          "name": "stderr"
        },
        {
          "output_type": "stream",
          "text": [
            "https://ui.neptune.ai/ikiyo/sandbox/e/SAN-8\n"
          ],
          "name": "stdout"
        }
      ]
    },
    {
      "cell_type": "code",
      "metadata": {
        "id": "6mto_1wKtXIH",
        "colab_type": "code",
        "colab": {
          "base_uri": "https://localhost:8080/",
          "height": 1000
        },
        "outputId": "0a0dcf51-e246-4e50-ddd3-3555d0022f25"
      },
      "source": [
        "!python train_dkt.py --dataset assistments12 --embed_inputs --embed_size=100 --hid_size=100 --batch_size=5"
      ],
      "execution_count": 16,
      "outputs": [
        {
          "output_type": "stream",
          "text": [
            "https://ui.neptune.ai/ikiyo/sandbox/e/SAN-14\n",
            "tensor([    0, 25478, 25479, 78457, 25363])\n",
            "tensor([    0, 25478, 25479, 78457, 25363,     0,     0,     0,     0,     0,\n",
            "            0,     0,     0,     0,     0,     0,     0,     0,     0,     0,\n",
            "            0,     0,     0,     0,     0,     0,     0,     0,     0,     0,\n",
            "            0,     0,     0,     0,     0,     0,     0,     0,     0,     0,\n",
            "            0,     0,     0,     0,     0,     0,     0,     0,     0,     0,\n",
            "            0,     0,     0,     0,     0,     0,     0,     0,     0,     0,\n",
            "            0,     0,     0,     0,     0,     0,     0,     0,     0,     0,\n",
            "            0,     0,     0,     0,     0,     0,     0,     0,     0,     0,\n",
            "            0,     0,     0,     0,     0,     0,     0,     0,     0,     0,\n",
            "            0,     0,     0,     0,     0,     0,     0,     0,     0,     0,\n",
            "            0,     0,     0,     0,     0,     0,     0,     0,     0,     0,\n",
            "            0,     0,     0,     0,     0,     0,     0,     0,     0,     0,\n",
            "            0,     0,     0,     0,     0,     0,     0,     0,     0,     0,\n",
            "            0,     0,     0,     0,     0,     0,     0,     0,     0,     0,\n",
            "            0,     0,     0,     0,     0,     0,     0,     0,     0,     0,\n",
            "            0,     0,     0,     0,     0,     0,     0,     0,     0,     0,\n",
            "            0,     0,     0])\n",
            "tensor([    0, 62003, 61968, 62023, 62215, 62149,  9113,  9182, 62199, 62172,\n",
            "        62176, 64115, 64097, 64101, 64131, 64123, 64117, 91945, 91784, 91937,\n",
            "        77465, 77481, 77489, 77485, 77476, 77470, 53394,   431, 54068, 58920,\n",
            "        58922, 58847,   279, 53516, 53517])\n",
            "tensor([    0, 62003, 61968, 62023, 62215, 62149,  9113,  9182, 62199, 62172,\n",
            "        62176, 64115, 64097, 64101, 64131, 64123, 64117, 91945, 91784, 91937,\n",
            "        77465, 77481, 77489, 77485, 77476, 77470, 53394,   431, 54068, 58920,\n",
            "        58922, 58847,   279, 53516, 53517,     0,     0,     0,     0,     0,\n",
            "            0,     0,     0,     0,     0,     0,     0,     0,     0,     0,\n",
            "            0,     0,     0,     0,     0,     0,     0,     0,     0,     0,\n",
            "            0,     0,     0,     0,     0,     0,     0,     0,     0,     0,\n",
            "            0,     0,     0,     0,     0,     0,     0,     0,     0,     0,\n",
            "            0,     0,     0,     0,     0,     0,     0,     0,     0,     0,\n",
            "            0,     0,     0,     0,     0,     0,     0,     0,     0,     0,\n",
            "            0,     0,     0,     0,     0,     0,     0,     0,     0,     0,\n",
            "            0,     0,     0,     0,     0,     0,     0,     0,     0,     0,\n",
            "            0,     0,     0,     0,     0,     0,     0,     0,     0,     0,\n",
            "            0,     0,     0,     0,     0,     0,     0,     0,     0,     0,\n",
            "            0,     0,     0,     0,     0,     0,     0,     0,     0,     0,\n",
            "            0,     0,     0,     0,     0,     0,     0,     0,     0,     0,\n",
            "            0,     0,     0,     0,     0,     0,     0,     0,     0,     0,\n",
            "            0,     0,     0,     0,     0,     0,     0,     0,     0,     0,\n",
            "            0,     0,     0,     0,     0,     0,     0,     0,     0,     0,\n",
            "            0,     0,     0,     0,     0,     0,     0,     0,     0,     0,\n",
            "            0,     0,     0,     0,     0,     0,     0,     0,     0,     0,\n",
            "            0,     0,     0,     0,     0,     0,     0,     0,     0,     0,\n",
            "            0,     0,     0,     0,     0,     0,     0,     0,     0,     0,\n",
            "            0,     0,     0,     0,     0,     0,     0,     0,     0,     0,\n",
            "            0,     0,     0,     0,     0,     0,     0,     0,     0,     0,\n",
            "            0,     0,     0,     0,     0,     0,     0,     0,     0,     0,\n",
            "            0,     0,     0,     0,     0,     0,     0,     0,     0,     0,\n",
            "            0,     0,     0,     0,     0,     0,     0,     0,     0,     0,\n",
            "            0,     0,     0,     0,     0,     0,     0,     0,     0,     0,\n",
            "            0,     0,     0,     0,     0,     0,     0,     0,     0,     0,\n",
            "            0,     0,     0,     0,     0,     0,     0,     0,     0,     0,\n",
            "            0,     0,     0,     0,     0,     0,     0,     0,     0,     0,\n",
            "            0,     0,     0,     0,     0,     0,     0,     0,     0,     0,\n",
            "            0,     0,     0,     0,     0,     0,     0,     0,     0,     0,\n",
            "            0,     0,     0,     0,     0,     0,     0,     0,     0,     0,\n",
            "            0,     0,     0,     0,     0,     0,     0,     0,     0,     0,\n",
            "            0,     0,     0,     0,     0,     0,     0,     0,     0,     0,\n",
            "            0,     0,     0,     0,     0,     0,     0,     0,     0,     0,\n",
            "            0,     0,     0,     0,     0,     0,     0,     0,     0,     0,\n",
            "            0,     0,     0,     0,     0,     0,     0,     0,     0,     0,\n",
            "            0,     0,     0,     0,     0,     0,     0,     0,     0,     0,\n",
            "            0,     0,     0,     0,     0,     0,     0,     0,     0,     0,\n",
            "            0,     0,     0,     0,     0,     0,     0,     0,     0,     0,\n",
            "            0,     0,     0,     0,     0,     0,     0,     0,     0,     0,\n",
            "            0,     0,     0,     0,     0,     0,     0,     0,     0,     0,\n",
            "            0,     0,     0,     0,     0,     0,     0,     0,     0,     0,\n",
            "            0,     0,     0,     0,     0,     0,     0,     0,     0,     0,\n",
            "            0,     0,     0,     0,     0,     0,     0,     0,     0,     0,\n",
            "            0,     0,     0,     0,     0,     0,     0,     0,     0,     0,\n",
            "            0,     0,     0,     0,     0,     0,     0,     0,     0,     0,\n",
            "            0,     0,     0,     0,     0,     0,     0,     0,     0,     0,\n",
            "            0,     0,     0,     0,     0,     0,     0,     0,     0,     0,\n",
            "            0,     0,     0,     0,     0,     0,     0,     0,     0,     0,\n",
            "            0,     0,     0,     0,     0,     0,     0,     0,     0,     0,\n",
            "            0,     0,     0,     0,     0,     0,     0,     0,     0,     0,\n",
            "            0,     0,     0,     0,     0,     0,     0,     0,     0,     0,\n",
            "            0,     0,     0,     0,     0,     0])\n",
            "tcmalloc: large alloc 1486512128 bytes == 0xd0104000 @  0x7f1cc1e8fb6b 0x7f1cc1eaf379 0x7f1c63c6892e 0x7f1c63c6a946 0x7f1c9bb5b9e5 0x7f1c9bde0af3 0x7f1c9bdd1f97 0x7f1c9bdd1c7d 0x7f1c9bdd1f97 0x7f1c9bedca1a 0x7f1c9bb540c5 0x7f1c9bf732f3 0x7f1c9bdd2319 0x7f1c9bdcd5ff 0x7f1c9bdd2319 0x7f1c9bec7fb5 0x7f1cab53f74b 0x50a7f5 0x50c1f4 0x507f24 0x509c50 0x50a64d 0x50c1f4 0x507f24 0x50b053 0x634dd2 0x634e87 0x63863f 0x6391e1 0x4b0dc0 0x7f1cc1aaab97\n",
            "tcmalloc: large alloc 1486512128 bytes == 0xd0104000 @  0x7f1cc1e8fb6b 0x7f1cc1eaf379 0x7f1c63c6892e 0x7f1c63c6a946 0x7f1c9c046bb3 0x7f1c9bb5c2bf 0x7f1c9bde0b99 0x7f1c9bdd2091 0x7f1c9bdd0b28 0x7f1c9bdd2091 0x7f1c9bedbce5 0x7f1c9dace206 0x7f1c9bdd2091 0x7f1c9bedbce5 0x7f1c9bb4c556 0x7f1c9bf7050a 0x7f1c9db5c9da 0x7f1c9bdd2412 0x7f1c9c02ef56 0x7f1cab446222 0x7f1cab523a88 0x50a7f5 0x50c1f4 0x507f24 0x509c50 0x50a64d 0x50c1f4 0x507f24 0x50b053 0x634dd2 0x634e87\n",
            "Step 20, {'loss/train': 0.9907577335834503, 'auc/train': 0.5059984747042334}\n",
            "Step 40, {'loss/train': 0.9919129639863968, 'auc/train': 0.4906815453332115}\n",
            "Step 60, {'loss/train': 1.0596444576978683, 'auc/train': 0.5017029255592657}\n",
            "Step 80, {'loss/train': 0.9631387382745743, 'auc/train': 0.5242339041966193}\n",
            "tcmalloc: large alloc 2213339136 bytes == 0xd0104000 @  0x7f1cc1e8fb6b 0x7f1cc1eaf379 0x7f1c63c6892e 0x7f1c63c6a946 0x7f1c9bb5b9e5 0x7f1c9bde0af3 0x7f1c9bdd1f97 0x7f1c9bdd1c7d 0x7f1c9bdd1f97 0x7f1c9bedca1a 0x7f1c9bb540c5 0x7f1c9bf732f3 0x7f1c9bdd2319 0x7f1c9bdcd5ff 0x7f1c9bdd2319 0x7f1c9bec7fb5 0x7f1cab53f74b 0x50a7f5 0x50c1f4 0x507f24 0x509c50 0x50a64d 0x50c1f4 0x507f24 0x50b053 0x634dd2 0x634e87 0x63863f 0x6391e1 0x4b0dc0 0x7f1cc1aaab97\n",
            "tcmalloc: large alloc 2213339136 bytes == 0xd0104000 @  0x7f1cc1e8fb6b 0x7f1cc1eaf379 0x7f1c63c6892e 0x7f1c63c6a946 0x7f1c9c046bb3 0x7f1c9bb5c2bf 0x7f1c9bde0b99 0x7f1c9bdd2091 0x7f1c9bdd0b28 0x7f1c9bdd2091 0x7f1c9bedbce5 0x7f1c9dace206 0x7f1c9bdd2091 0x7f1c9bedbce5 0x7f1c9bb4c556 0x7f1c9bf7050a 0x7f1c9db5c9da 0x7f1c9bdd2412 0x7f1c9c02ef56 0x7f1cab446222 0x7f1cab523a88 0x50a7f5 0x50c1f4 0x507f24 0x509c50 0x50a64d 0x50c1f4 0x507f24 0x50b053 0x634dd2 0x634e87\n",
            "Step 100, {'loss/train': 1.0369565784931183, 'auc/train': 0.5268264050992035}\n",
            "Step 120, {'loss/train': 1.0057366251945496, 'auc/train': 0.5119143188478084}\n",
            "Step 140, {'loss/train': 1.038198134303093, 'auc/train': 0.527724563207508}\n",
            "Traceback (most recent call last):\n",
            "  File \"train_dkt.py\", line 167, in <module>\n",
            "    train(df, model, optimizer, logger, args.num_epochs, args.bptt, args.batch_size, args.low_gpu_mem)\n",
            "  File \"train_dkt.py\", line 66, in train\n",
            "    inputs, preds = inputs.cuda(), preds.cuda()\n",
            "KeyboardInterrupt\n"
          ],
          "name": "stdout"
        }
      ]
    },
    {
      "cell_type": "markdown",
      "metadata": {
        "id": "RsOf5grQkg2T",
        "colab_type": "text"
      },
      "source": [
        "### original DKT"
      ]
    },
    {
      "cell_type": "code",
      "metadata": {
        "id": "oO1z_OZXkjY5",
        "colab_type": "code",
        "colab": {
          "base_uri": "https://localhost:8080/",
          "height": 106
        },
        "outputId": "72ceb5b9-f9f8-4b0f-9c63-0f7a951f0d22"
      },
      "source": [
        "!git clone https://github.com/chrispiech/DeepKnowledgeTracing.git"
      ],
      "execution_count": null,
      "outputs": [
        {
          "output_type": "stream",
          "text": [
            "Cloning into 'DeepKnowledgeTracing'...\n",
            "remote: Enumerating objects: 125, done.\u001b[K\n",
            "remote: Total 125 (delta 0), reused 0 (delta 0), pack-reused 125\u001b[K\n",
            "Receiving objects: 100% (125/125), 3.44 MiB | 26.68 MiB/s, done.\n",
            "Resolving deltas: 100% (48/48), done.\n"
          ],
          "name": "stdout"
        }
      ]
    },
    {
      "cell_type": "code",
      "metadata": {
        "id": "RbcN5Rw6lBKA",
        "colab_type": "code",
        "colab": {
          "base_uri": "https://localhost:8080/",
          "height": 88
        },
        "outputId": "f921b9df-3d86-4b99-c36a-3cd09c49bf14"
      },
      "source": [
        "!git clone https://github.com/clcarwin/convert_torch_to_pytorch.git"
      ],
      "execution_count": null,
      "outputs": [
        {
          "output_type": "stream",
          "text": [
            "Cloning into 'convert_torch_to_pytorch'...\n",
            "remote: Enumerating objects: 64, done.\u001b[K\n",
            "remote: Total 64 (delta 0), reused 0 (delta 0), pack-reused 64\u001b[K\n",
            "Unpacking objects: 100% (64/64), done.\n"
          ],
          "name": "stdout"
        }
      ]
    },
    {
      "cell_type": "code",
      "metadata": {
        "id": "0rDZ3HL1lEhQ",
        "colab_type": "code",
        "colab": {
          "base_uri": "https://localhost:8080/",
          "height": 35
        },
        "outputId": "081558dd-227c-4f55-e12c-687f68bf49ef"
      },
      "source": [
        "cd convert_torch_to_pytorch/"
      ],
      "execution_count": null,
      "outputs": [
        {
          "output_type": "stream",
          "text": [
            "/content/convert_torch_to_pytorch\n"
          ],
          "name": "stdout"
        }
      ]
    },
    {
      "cell_type": "code",
      "metadata": {
        "id": "X3Bk_tQGlMar",
        "colab_type": "code",
        "colab": {
          "base_uri": "https://localhost:8080/",
          "height": 88
        },
        "outputId": "8f3e7d97-8670-42c4-fc2f-4cfde2a1e085"
      },
      "source": [
        "!python convert_torch.py -m ../DeepKnowledgeTracing/scripts/trainAssist.lua"
      ],
      "execution_count": null,
      "outputs": [
        {
          "output_type": "stream",
          "text": [
            "Traceback (most recent call last):\n",
            "  File \"convert_torch.py\", line 10, in <module>\n",
            "    import torch.legacy.nn as lnn\n",
            "ModuleNotFoundError: No module named 'torch.legacy'\n"
          ],
          "name": "stdout"
        }
      ]
    },
    {
      "cell_type": "markdown",
      "metadata": {
        "id": "Hh4TfZsDBA0z",
        "colab_type": "text"
      },
      "source": [
        "### DKT in TF2"
      ]
    },
    {
      "cell_type": "code",
      "metadata": {
        "id": "dvaPwZzEBEhz",
        "colab_type": "code",
        "colab": {
          "base_uri": "https://localhost:8080/",
          "height": 108
        },
        "outputId": "aa22a308-f164-45db-cd5b-36f694408bd3"
      },
      "source": [
        "import numpy as np\n",
        "import pandas as pd\n",
        "import tensorflow as tf\n",
        "from tensorflow import keras\n",
        "from tensorflow.keras import layers\n",
        "\n",
        "print(tf.test.is_gpu_available())\n"
      ],
      "execution_count": 2,
      "outputs": [
        {
          "output_type": "stream",
          "text": [
            "WARNING:tensorflow:From <ipython-input-2-56d3cfdc4018>:7: is_gpu_available (from tensorflow.python.framework.test_util) is deprecated and will be removed in a future version.\n",
            "Instructions for updating:\n",
            "Use `tf.config.list_physical_devices('GPU')` instead.\n",
            "True\n"
          ],
          "name": "stdout"
        }
      ]
    },
    {
      "cell_type": "code",
      "metadata": {
        "id": "y06XW-GyLlVz",
        "colab_type": "code",
        "colab": {}
      },
      "source": [
        "# data dependent parameters\n",
        "num_student = 1000\n",
        "num_skills = 5 #M\n",
        "max_sequence_length =  6 # T\n",
        "\n",
        "# model parmaeters\n",
        "hidden_units=20\n",
        "dropout_rate=0\n",
        "embed_dim = 5 #N\n",
        "learning_rate = 0.1"
      ],
      "execution_count": 3,
      "outputs": []
    },
    {
      "cell_type": "markdown",
      "metadata": {
        "id": "nbLe4qZJAUhB",
        "colab_type": "text"
      },
      "source": [
        "##### sample data"
      ]
    },
    {
      "cell_type": "code",
      "metadata": {
        "id": "RS55yNJi9yG-",
        "colab_type": "code",
        "colab": {
          "base_uri": "https://localhost:8080/",
          "height": 53
        },
        "outputId": "6b1627ac-32bd-4989-f3e9-2168eced563a"
      },
      "source": [
        "def sin(x, T=100):\n",
        "  return np.sin(2.0* np.pi * x /T)\n",
        "\n",
        "def toy_problem(T=100, ampl=0.1):\n",
        "  x = np.arange(0, 2*T+1)\n",
        "  noise = ampl * np.random.uniform(low=-1.0, high=1.0, size=len(x))\n",
        "  return sin(x) + noise\n",
        "\n",
        "T = 100\n",
        "f = toy_problem(T)\n",
        "\n",
        "f[0:10]"
      ],
      "execution_count": 55,
      "outputs": [
        {
          "output_type": "execute_result",
          "data": {
            "text/plain": [
              "array([-0.07963074,  0.03908419,  0.14838307,  0.1296413 ,  0.311248  ,\n",
              "        0.31232588,  0.2815356 ,  0.33998949,  0.45435879,  0.49270995])"
            ]
          },
          "metadata": {
            "tags": []
          },
          "execution_count": 55
        }
      ]
    },
    {
      "cell_type": "code",
      "metadata": {
        "id": "fCPo90gV_EGH",
        "colab_type": "code",
        "colab": {
          "base_uri": "https://localhost:8080/",
          "height": 265
        },
        "outputId": "7e62a0a5-0db2-4f96-cf1d-d18ac9a9c21b"
      },
      "source": [
        "import matplotlib.pyplot as plt\n",
        "plt.plot(f)\n",
        "plt.ylabel('some numbers')\n",
        "plt.show()"
      ],
      "execution_count": 56,
      "outputs": [
        {
          "output_type": "display_data",
          "data": {
            "image/png": "[encoded data removed]",
            "text/plain": [
              "<Figure size 432x288 with 1 Axes>"
            ]
          },
          "metadata": {
            "tags": [],
            "needs_background": "light"
          }
        }
      ]
    },
    {
      "cell_type": "markdown",
      "metadata": {
        "id": "mwmf7Qg3AXYK",
        "colab_type": "text"
      },
      "source": [
        "##### data preprocessing"
      ]
    },
    {
      "cell_type": "code",
      "metadata": {
        "id": "m_UUYe9WyMll",
        "colab_type": "code",
        "colab": {
          "base_uri": "https://localhost:8080/",
          "height": 517
        },
        "outputId": "d87cdc75-832e-49b3-b73d-ac1b6f7bf16f"
      },
      "source": [
        "# q\n",
        "raw_inputs = [\n",
        "    [1, 3, 4],\n",
        "   [3, 4, 2, 1, 2],\n",
        "   [3, 1, 1, 4, 5, 2],\n",
        "]\n",
        "# a\n",
        "raw_labels =  np.array([\n",
        "    [1, 1, 1],\n",
        "   [0, 0, 0, 1, 1],\n",
        "   [0, 1, 1, 1, 0, 1],\n",
        "])\n",
        "\n",
        "# padded_q\n",
        "padded_inputs = tf.keras.preprocessing.sequence.pad_sequences(\n",
        "    raw_inputs, maxlen=max_sequence_length, padding=\"post\", value=-1\n",
        ")\n",
        "print(F\"padded_inputs:\\n {padded_inputs}\") # q_t\n",
        "\n",
        "# padded_a\n",
        "padded_labels= tf.keras.preprocessing.sequence.pad_sequences(\n",
        "    raw_labels, maxlen=max_sequence_length, padding=\"post\", value=1\n",
        ")\n",
        "\"\"\"\n",
        "padded_labels= tf.keras.preprocessing.sequence.pad_sequences(\n",
        "    raw_labels, maxlen=max_sequence_length, padding=\"post\", value=-1\n",
        ")\n",
        "\"\"\"\n",
        "print(F\"padded_labels:\\n {padded_labels}\\n\") # q_t\n",
        "\n",
        "\n",
        "input = num_skills * ( 1 - padded_labels) + padded_inputs\n",
        "#input = num_skills * (1 + padded_labels) + padded_inputs\n",
        "print(F\"input:{input}\")\n",
        "\n",
        "# x_t\n",
        "one_hot_input = tf.one_hot(input, depth=num_skills*2, axis=-1)\n",
        "print(F\"one_hot_input:\\n{one_hot_input.numpy()[0]}\")\n",
        "print(one_hot_input.numpy().shape)\n",
        "#one_hot_input.numpy()[0]\n",
        "\n",
        "# delta(q_t)\n",
        "one_hot_q_t = tf.one_hot(padded_inputs, depth=num_skills, axis=-1)\n",
        "print(F\"one_hot_q_t:\\n{one_hot_q_t.numpy()[0]}\")\n",
        "one_hot_q_t.numpy().shape"
      ],
      "execution_count": 55,
      "outputs": [
        {
          "output_type": "stream",
          "text": [
            "padded_inputs:\n",
            " [[ 1  3  4 -1 -1 -1]\n",
            " [ 3  4  2  1  2 -1]\n",
            " [ 3  1  1  4  5  2]]\n",
            "padded_labels:\n",
            " [[1 1 1 1 1 1]\n",
            " [0 0 0 1 1 1]\n",
            " [0 1 1 1 0 1]]\n",
            "\n",
            "input:[[ 1  3  4 -1 -1 -1]\n",
            " [ 8  9  7  1  2 -1]\n",
            " [ 8  1  1  4 10  2]]\n",
            "one_hot_input:\n",
            "[[0. 1. 0. 0. 0. 0. 0. 0. 0. 0.]\n",
            " [0. 0. 0. 1. 0. 0. 0. 0. 0. 0.]\n",
            " [0. 0. 0. 0. 1. 0. 0. 0. 0. 0.]\n",
            " [0. 0. 0. 0. 0. 0. 0. 0. 0. 0.]\n",
            " [0. 0. 0. 0. 0. 0. 0. 0. 0. 0.]\n",
            " [0. 0. 0. 0. 0. 0. 0. 0. 0. 0.]]\n",
            "(3, 6, 10)\n",
            "one_hot_q_t:\n",
            "[[0. 1. 0. 0. 0.]\n",
            " [0. 0. 0. 1. 0.]\n",
            " [0. 0. 0. 0. 1.]\n",
            " [0. 0. 0. 0. 0.]\n",
            " [0. 0. 0. 0. 0.]\n",
            " [0. 0. 0. 0. 0.]]\n"
          ],
          "name": "stdout"
        },
        {
          "output_type": "execute_result",
          "data": {
            "text/plain": [
              "(3, 6, 5)"
            ]
          },
          "metadata": {
            "tags": []
          },
          "execution_count": 55
        }
      ]
    },
    {
      "cell_type": "code",
      "metadata": {
        "id": "qR11wUxV9uZS",
        "colab_type": "code",
        "colab": {}
      },
      "source": [
        "class flatten_AUC(tf.keras.metrics.AUC):\n",
        "    def update_state(self, y_true, y_pred, sample_weight=None):\n",
        "        flatten = tf.keras.layers.Flatten()\n",
        "        y_true, y_pred = flatten(y_true), flatten(y_pred)\n",
        "        for true, pred in y_true, y_pred:\n",
        "          super(flatten_AUC, self).update_state(y_true=true,\n",
        "                                                  y_pred=pred,\n",
        "                                                  sample_weight=sample_weight)"
      ],
      "execution_count": 4,
      "outputs": []
    },
    {
      "cell_type": "markdown",
      "metadata": {
        "id": "wVBnlhk99q2D",
        "colab_type": "text"
      },
      "source": [
        "#### making custom metrics for sequential dataset"
      ]
    },
    {
      "cell_type": "markdown",
      "metadata": {
        "id": "blWU79alKjjQ",
        "colab_type": "text"
      },
      "source": [
        "##### build model"
      ]
    },
    {
      "cell_type": "code",
      "metadata": {
        "id": "noIRVpKZjRbx",
        "colab_type": "code",
        "colab": {}
      },
      "source": [
        "class DKT(tf.keras.Model):\n",
        "  def __init__(self):\n",
        "    super().__init__()\n",
        "    # self.flatten_input = tf.keras.Input(shape=(None, max_sequence_length, num_skills*2))\n",
        "    # self.delta_label = tf.keras.Input(shape=(None, max_sequence_length, num_skills))\n",
        "    self.emb =  layers.Dense(embed_dim, trainable=False, \n",
        "                                                        kernel_initializer=tf.keras.initializers.RandomNormal(seed=777),\n",
        "                                                        input_shape=(max_sequence_length,num_skills*2,))\n",
        "    self.mask = layers.Masking(mask_value=0)\n",
        "    self.lstm =  layers.LSTM(hidden_units, return_sequences=True)\n",
        "    # self.out_dropout =  layers.Dropout(dropout_rate)\n",
        "    # self.out_sigmoid =  layers.Dense(num_skills,  activation='sigmoid')\n",
        "\n",
        "    self.out_dropout =  layers.TimeDistributed(\n",
        "                            layers.Dropout(dropout_rate)\n",
        "                            )\n",
        "    self.out_sigmoid =  layers.TimeDistributed(\n",
        "                            layers.Dense(num_skills,  activation='sigmoid')\n",
        "                            )\n",
        "    \n",
        "    self.dot =  layers.Multiply()\n",
        "    # self.dot =  layers.TimeDistributed(\n",
        "    #     layers.Multiply()\n",
        "    # )\n",
        "    #self.reduce_sum = tf.reduce_sum\n",
        "    self.final_mask =   layers.TimeDistributed(\n",
        "        layers.Masking(mask_value=0, input_shape=(None,6))\n",
        "    )\n",
        "     #self.transpose = tf.transpose\n",
        "\n",
        "    self.reduce_sum =  layers.Dense(1, trainable=False, \n",
        "                                                        kernel_initializer=tf.keras.initializers.constant(value=1),\n",
        "                                                        input_shape=(None, max_sequence_length,num_skills))\n",
        "    # reshape layer does not work as graph \n",
        "    # self.reshape_l = layers.Reshape((-1,3),dynamic=False)#, \n",
        "    #                                                      # input_shape=(None,max_sequence_length,num_skills,))\n",
        "\n",
        "\n",
        "  def call(self, inputs):\n",
        "    x, q = inputs[0], inputs[1]\n",
        "    n = self.emb(x)\n",
        "    # self.delta_label = qtf.tile(tf.expand_dims(padded_inputs, axis=-1), [1, 1, 10])\n",
        "    masked_n = self.mask(n)\n",
        "    h = self.lstm(masked_n) \n",
        "    o = self.out_dropout(h)\n",
        "    y_pred = self.out_sigmoid(o)\n",
        "    y_pred = self.dot([y_pred, q])\n",
        "    # y_pred = self.dot([y_pred, self.delta_label])\n",
        "    # y_pred = tf.reduce_sum(y_pred, axis=2)\n",
        "    # y_pred = self.reduce_sum(y_pred, axis=2)\n",
        "    y_pred = self.reduce_sum(y_pred)\n",
        "    #y_pred = self.reshape_l(y_pred)\n",
        "    #y_pred = self.transpose()\n",
        "    y_pred = self.final_mask(y_pred)\n",
        "    y_pred._keras_mask=masked_n._keras_mask\n",
        "    return y_pred\n",
        "\n",
        "# Create an instance of the model\n",
        "model = DKT()\n",
        "\n",
        "model.compile(loss=tf.keras.losses.BinaryCrossentropy(reduction=tf.keras.losses.Reduction.SUM),\n",
        "                optimizer=tf.optimizers.SGD(learning_rate=learning_rate),\n",
        "                metrics=[tf.keras.metrics.AUC(),tf.keras.metrics.BinaryCrossentropy()])\n",
        "\n"
      ],
      "execution_count": 101,
      "outputs": []
    },
    {
      "cell_type": "code",
      "metadata": {
        "id": "K4ha1CJrr6nM",
        "colab_type": "code",
        "colab": {
          "base_uri": "https://localhost:8080/",
          "height": 1000
        },
        "outputId": "1da3c139-0725-4786-fb69-34824402346e"
      },
      "source": [
        "predictions = model([one_hot_input, one_hot_q_t])\n",
        "print(predictions._keras_mask)\n",
        "\n",
        "#predictions = model([one_hot_input, one_hot_q_t]).numpy()\n",
        "print(\"predcitions shape:\")\n",
        "print(predictions.shape) #num_student, T, M(num_sikill or num_problem)\n",
        "print(predictions, padded_labels)\n",
        "model.summary()\n",
        "print()\n",
        "\n",
        "padded_labels = tf.reshape(padded_labels,(len(raw_labels),6,1))\n",
        "#padded_labels = tf.transpose(padded_labels)\n",
        "print(padded_labels.shape)\n",
        "model.evaluate([one_hot_input, one_hot_q_t], padded_labels , verbose =2)"
      ],
      "execution_count": 102,
      "outputs": [
        {
          "output_type": "stream",
          "text": [
            "tf.Tensor(\n",
            "[[ True  True  True False False False]\n",
            " [ True  True  True  True  True False]\n",
            " [ True  True  True  True False  True]], shape=(3, 6), dtype=bool)\n",
            "predcitions shape:\n",
            "(3, 6, 1)\n",
            "tf.Tensor(\n",
            "[[[0.49871716]\n",
            "  [0.4995974 ]\n",
            "  [0.50071436]\n",
            "  [0.        ]\n",
            "  [0.        ]\n",
            "  [0.        ]]\n",
            "\n",
            " [[0.5000462 ]\n",
            "  [0.4984038 ]\n",
            "  [0.4969565 ]\n",
            "  [0.500082  ]\n",
            "  [0.4996769 ]\n",
            "  [0.        ]]\n",
            "\n",
            " [[0.5000462 ]\n",
            "  [0.49937522]\n",
            "  [0.49822414]\n",
            "  [0.50054723]\n",
            "  [0.        ]\n",
            "  [0.50279474]]], shape=(3, 6, 1), dtype=float32) tf.Tensor(\n",
            "[[[1]\n",
            "  [1]\n",
            "  [1]\n",
            "  [1]\n",
            "  [1]\n",
            "  [1]]\n",
            "\n",
            " [[0]\n",
            "  [0]\n",
            "  [0]\n",
            "  [1]\n",
            "  [1]\n",
            "  [1]]\n",
            "\n",
            " [[0]\n",
            "  [1]\n",
            "  [1]\n",
            "  [1]\n",
            "  [0]\n",
            "  [1]]], shape=(3, 6, 1), dtype=int32)\n",
            "Model: \"dkt_35\"\n",
            "_________________________________________________________________\n",
            "Layer (type)                 Output Shape              Param #   \n",
            "=================================================================\n",
            "dense_85 (Dense)             multiple                  55        \n",
            "_________________________________________________________________\n",
            "masking_69 (Masking)         multiple                  0         \n",
            "_________________________________________________________________\n",
            "lstm_35 (LSTM)               multiple                  2080      \n",
            "_________________________________________________________________\n",
            "time_distributed_87 (TimeDis multiple                  0         \n",
            "_________________________________________________________________\n",
            "time_distributed_88 (TimeDis multiple                  105       \n",
            "_________________________________________________________________\n",
            "multiply_35 (Multiply)       multiple                  0         \n",
            "_________________________________________________________________\n",
            "time_distributed_89 (TimeDis multiple                  0         \n",
            "_________________________________________________________________\n",
            "dense_87 (Dense)             multiple                  6         \n",
            "=================================================================\n",
            "Total params: 2,246\n",
            "Trainable params: 2,185\n",
            "Non-trainable params: 61\n",
            "_________________________________________________________________\n",
            "\n",
            "(3, 6, 1)\n",
            "WARNING:tensorflow:9 out of the last 11 calls to <function Model.make_test_function.<locals>.test_function at 0x7f5638167bf8> triggered tf.function retracing. Tracing is expensive and the excessive number of tracings could be due to (1) creating @tf.function repeatedly in a loop, (2) passing tensors with different shapes, (3) passing Python objects instead of tensors. For (1), please define your @tf.function outside of the loop. For (2), @tf.function has experimental_relax_shapes=True option that relaxes argument shapes that can avoid unnecessary retracing. For (3), please refer to https://www.tensorflow.org/tutorials/customization/performance#python_or_tensor_args and https://www.tensorflow.org/api_docs/python/tf/function for  more details.\n",
            "1/1 - 0s - loss: 9.0024 - auc_150: 0.6667 - binary_crossentropy: 0.6925\n"
          ],
          "name": "stdout"
        },
        {
          "output_type": "execute_result",
          "data": {
            "text/plain": [
              "[9.002409934997559, 0.6666666865348816, 0.6924930810928345]"
            ]
          },
          "metadata": {
            "tags": []
          },
          "execution_count": 102
        }
      ]
    },
    {
      "cell_type": "code",
      "metadata": {
        "id": "62-h_TtiHZst",
        "colab_type": "code",
        "colab": {
          "base_uri": "https://localhost:8080/",
          "height": 35
        },
        "outputId": "b53f4d48-c74d-4707-e1f6-61967846664c"
      },
      "source": [
        "1.25/3\n",
        "9.010351181030273 / 0.6931039094924927"
      ],
      "execution_count": 88,
      "outputs": [
        {
          "output_type": "execute_result",
          "data": {
            "text/plain": [
              "13.000000515980163"
            ]
          },
          "metadata": {
            "tags": []
          },
          "execution_count": 88
        }
      ]
    },
    {
      "cell_type": "code",
      "metadata": {
        "id": "9Rw_rDUD2WIh",
        "colab_type": "code",
        "colab": {
          "base_uri": "https://localhost:8080/",
          "height": 1000
        },
        "outputId": "2d5d3277-1c5c-4dac-fa9e-68d721fbfe4e"
      },
      "source": [
        "m = tf.keras.metrics.AUC()\n",
        "# m.update_state([0, 0, 1, 1], [0, 0.5, 0.3, 0.9])\n",
        "# print(m.result().numpy())\n",
        "\n",
        "print(\"orignal built-in\")\n",
        "# reshaped_labels = tf.reshape(padded_labels, [6,3])\n",
        "# reshaped_predictions = tf.reshape(predictions, [6,3])\n",
        "m.update_state(padded_labels,predictions)\n",
        "print(m.result().numpy())\n",
        "# print(len(padded_labels))\n",
        "\n",
        "\n",
        "m = tf.keras.metrics.AUC()\n",
        "print(padded_labels[0][0:3],predictions[0][0:3])\n",
        "m.update_state(padded_labels[0][0:3],predictions[0][0:3])\n",
        "print(m.result().numpy())\n",
        "\n",
        "print(\"each instance with masking\")\n",
        "print(\"correct AUC\")\n",
        "m = tf.keras.metrics.AUC()\n",
        "print([1, 1, 1], tf.transpose(predictions[0][0:3]))\n",
        "m.update_state([[1, 1, 1]], tf.transpose(predictions[0][0:3]))\n",
        "print(m.result().numpy())\n",
        "\n",
        "m = tf.keras.metrics.AUC()\n",
        "print(padded_labels[1][0:5],predictions[1][0:5])\n",
        "m.update_state(padded_labels[1][0:5],predictions[1][0:5])\n",
        "print(m.result().numpy())\n",
        "\n",
        "\n",
        "m = tf.keras.metrics.AUC()\n",
        "print(padded_labels[2][0:6],predictions[2][0:6])\n",
        "m.update_state(padded_labels[2][0:6],predictions[2][0:6])\n",
        "print(m.result().numpy())\n",
        "\n",
        "\n",
        "print(\"all with masking\")\n",
        "m = tf.keras.metrics.AUC()\n",
        "A =  [1, 1, 1, 0, 0, 0, 1, 1,  0, 1, 1, 1, 1]\n",
        "Y_pred =np.concatenate((predictions[0][0:3], predictions[1][0:5], predictions[2][0:4], predictions[2][5:]))\n",
        "print(A,Y_pred, len(A))\n",
        "m.update_state(A,Y_pred)\n",
        "print(m.result().numpy())\n",
        "m = tf.keras.metrics.AUC()\n",
        "A =  [1, 1, 1, 0, 0, 0, 1, 1,  0, 1, 1, 1, 0, 1]\n",
        "Y_pred =np.concatenate((predictions[0][0:3], predictions[1][0:5], predictions[2][0:6]))\n",
        "print(A,Y_pred, len(A))\n",
        "m.update_state(A,Y_pred)\n",
        "print(m.result().numpy())\n",
        "\n",
        "print()\n",
        "print(\"each instance\")\n",
        "m = tf.keras.metrics.AUC()\n",
        "print(padded_labels[0], predictions[0])\n",
        "m.update_state(padded_labels[0], predictions[0])\n",
        "print(m.result().numpy())\n",
        "\n",
        "m = tf.keras.metrics.AUC()\n",
        "print(padded_labels[1], predictions[1])\n",
        "m.update_state(padded_labels[1], predictions[1])\n",
        "print(m.result().numpy())\n",
        "\n",
        "m = tf.keras.metrics.AUC()\n",
        "print(padded_labels[2], predictions[2])\n",
        "m.update_state(padded_labels[2], predictions[2])\n",
        "print(m.result().numpy())\n",
        "\n",
        "\n",
        "print(\"flatten\")\n",
        "m = tf.keras.metrics.AUC()\n",
        "print(padded_labels.numpy().flatten(), predictions.flatten())\n",
        "m.update_state(padded_labels.numpy().flatten(),predictions.flatten())\n",
        "print(m.result().numpy())\n",
        "print(len(padded_labels))"
      ],
      "execution_count": 126,
      "outputs": [
        {
          "output_type": "stream",
          "text": [
            "orignal built-in\n",
            "0.53846157\n",
            "tf.Tensor(\n",
            "[[1]\n",
            " [1]\n",
            " [1]], shape=(3, 1), dtype=int32) tf.Tensor(\n",
            "[[0.49871716]\n",
            " [0.4995974 ]\n",
            " [0.50071436]], shape=(3, 1), dtype=float32)\n",
            "0.0\n",
            "each instance with masking\n",
            "correct AUC\n",
            "[1, 1, 1] tf.Tensor([[0.49871716 0.4995974  0.50071436]], shape=(1, 3), dtype=float32)\n",
            "0.0\n",
            "tf.Tensor(\n",
            "[[0]\n",
            " [0]\n",
            " [0]\n",
            " [1]\n",
            " [1]], shape=(5, 1), dtype=int32) tf.Tensor(\n",
            "[[0.5000462]\n",
            " [0.4984038]\n",
            " [0.4969565]\n",
            " [0.500082 ]\n",
            " [0.4996769]], shape=(5, 1), dtype=float32)\n",
            "0.6666666\n",
            "tf.Tensor(\n",
            "[[0]\n",
            " [1]\n",
            " [1]\n",
            " [1]\n",
            " [0]\n",
            " [1]], shape=(6, 1), dtype=int32) tf.Tensor(\n",
            "[[0.5000462 ]\n",
            " [0.49937522]\n",
            " [0.49822414]\n",
            " [0.50054723]\n",
            " [0.        ]\n",
            " [0.50279474]], shape=(6, 1), dtype=float32)\n",
            "0.8125\n",
            "all with masking\n",
            "[1, 1, 1, 0, 0, 0, 1, 1, 0, 1, 1, 1, 1] [[0.49871716]\n",
            " [0.4995974 ]\n",
            " [0.50071436]\n",
            " [0.5000462 ]\n",
            " [0.4984038 ]\n",
            " [0.4969565 ]\n",
            " [0.500082  ]\n",
            " [0.4996769 ]\n",
            " [0.5000462 ]\n",
            " [0.49937522]\n",
            " [0.49822414]\n",
            " [0.50054723]\n",
            " [0.50279474]] 13\n",
            "0.6666667\n",
            "[1, 1, 1, 0, 0, 0, 1, 1, 0, 1, 1, 1, 0, 1] [[0.49871716]\n",
            " [0.4995974 ]\n",
            " [0.50071436]\n",
            " [0.5000462 ]\n",
            " [0.4984038 ]\n",
            " [0.4969565 ]\n",
            " [0.500082  ]\n",
            " [0.4996769 ]\n",
            " [0.5000462 ]\n",
            " [0.49937522]\n",
            " [0.49822414]\n",
            " [0.50054723]\n",
            " [0.        ]\n",
            " [0.50279474]] 14\n",
            "0.73333335\n",
            "\n",
            "each instance\n",
            "tf.Tensor(\n",
            "[[1]\n",
            " [1]\n",
            " [1]\n",
            " [1]\n",
            " [1]\n",
            " [1]], shape=(6, 1), dtype=int32) tf.Tensor(\n",
            "[[0.49871716]\n",
            " [0.4995974 ]\n",
            " [0.50071436]\n",
            " [0.        ]\n",
            " [0.        ]\n",
            " [0.        ]], shape=(6, 1), dtype=float32)\n",
            "0.0\n",
            "tf.Tensor(\n",
            "[[0]\n",
            " [0]\n",
            " [0]\n",
            " [1]\n",
            " [1]\n",
            " [1]], shape=(6, 1), dtype=int32) tf.Tensor(\n",
            "[[0.5000462]\n",
            " [0.4984038]\n",
            " [0.4969565]\n",
            " [0.500082 ]\n",
            " [0.4996769]\n",
            " [0.       ]], shape=(6, 1), dtype=float32)\n",
            "0.44444445\n",
            "tf.Tensor(\n",
            "[[0]\n",
            " [1]\n",
            " [1]\n",
            " [1]\n",
            " [0]\n",
            " [1]], shape=(6, 1), dtype=int32) tf.Tensor(\n",
            "[[0.5000462 ]\n",
            " [0.49937522]\n",
            " [0.49822414]\n",
            " [0.50054723]\n",
            " [0.        ]\n",
            " [0.50279474]], shape=(6, 1), dtype=float32)\n",
            "0.8125\n",
            "flatten\n"
          ],
          "name": "stdout"
        },
        {
          "output_type": "error",
          "ename": "AttributeError",
          "evalue": "ignored",
          "traceback": [
            "\u001b[0;31m---------------------------------------------------------------------------\u001b[0m",
            "\u001b[0;31mAttributeError\u001b[0m                            Traceback (most recent call last)",
            "\u001b[0;32m<ipython-input-126-22c188a634f3>\u001b[0m in \u001b[0;36m<module>\u001b[0;34m()\u001b[0m\n\u001b[1;32m     69\u001b[0m \u001b[0mprint\u001b[0m\u001b[0;34m(\u001b[0m\u001b[0;34m\"flatten\"\u001b[0m\u001b[0;34m)\u001b[0m\u001b[0;34m\u001b[0m\u001b[0;34m\u001b[0m\u001b[0m\n\u001b[1;32m     70\u001b[0m \u001b[0mm\u001b[0m \u001b[0;34m=\u001b[0m \u001b[0mtf\u001b[0m\u001b[0;34m.\u001b[0m\u001b[0mkeras\u001b[0m\u001b[0;34m.\u001b[0m\u001b[0mmetrics\u001b[0m\u001b[0;34m.\u001b[0m\u001b[0mAUC\u001b[0m\u001b[0;34m(\u001b[0m\u001b[0;34m)\u001b[0m\u001b[0;34m\u001b[0m\u001b[0;34m\u001b[0m\u001b[0m\n\u001b[0;32m---> 71\u001b[0;31m \u001b[0mprint\u001b[0m\u001b[0;34m(\u001b[0m\u001b[0mpadded_labels\u001b[0m\u001b[0;34m.\u001b[0m\u001b[0mnumpy\u001b[0m\u001b[0;34m(\u001b[0m\u001b[0;34m)\u001b[0m\u001b[0;34m.\u001b[0m\u001b[0mflatten\u001b[0m\u001b[0;34m(\u001b[0m\u001b[0;34m)\u001b[0m\u001b[0;34m,\u001b[0m \u001b[0mpredictions\u001b[0m\u001b[0;34m.\u001b[0m\u001b[0mflatten\u001b[0m\u001b[0;34m(\u001b[0m\u001b[0;34m)\u001b[0m\u001b[0;34m)\u001b[0m\u001b[0;34m\u001b[0m\u001b[0;34m\u001b[0m\u001b[0m\n\u001b[0m\u001b[1;32m     72\u001b[0m \u001b[0mm\u001b[0m\u001b[0;34m.\u001b[0m\u001b[0mupdate_state\u001b[0m\u001b[0;34m(\u001b[0m\u001b[0mpadded_labels\u001b[0m\u001b[0;34m.\u001b[0m\u001b[0mnumpy\u001b[0m\u001b[0;34m(\u001b[0m\u001b[0;34m)\u001b[0m\u001b[0;34m.\u001b[0m\u001b[0mflatten\u001b[0m\u001b[0;34m(\u001b[0m\u001b[0;34m)\u001b[0m\u001b[0;34m,\u001b[0m\u001b[0mpredictions\u001b[0m\u001b[0;34m.\u001b[0m\u001b[0mflatten\u001b[0m\u001b[0;34m(\u001b[0m\u001b[0;34m)\u001b[0m\u001b[0;34m)\u001b[0m\u001b[0;34m\u001b[0m\u001b[0;34m\u001b[0m\u001b[0m\n\u001b[1;32m     73\u001b[0m \u001b[0mprint\u001b[0m\u001b[0;34m(\u001b[0m\u001b[0mm\u001b[0m\u001b[0;34m.\u001b[0m\u001b[0mresult\u001b[0m\u001b[0;34m(\u001b[0m\u001b[0;34m)\u001b[0m\u001b[0;34m.\u001b[0m\u001b[0mnumpy\u001b[0m\u001b[0;34m(\u001b[0m\u001b[0;34m)\u001b[0m\u001b[0;34m)\u001b[0m\u001b[0;34m\u001b[0m\u001b[0;34m\u001b[0m\u001b[0m\n",
            "\u001b[0;31mAttributeError\u001b[0m: 'tensorflow.python.framework.ops.EagerTensor' object has no attribute 'flatten'"
          ]
        }
      ]
    },
    {
      "cell_type": "code",
      "metadata": {
        "id": "vKuVk96IdLUl",
        "colab_type": "code",
        "colab": {
          "base_uri": "https://localhost:8080/",
          "height": 142
        },
        "outputId": "ad14860b-e029-412d-854d-1875058ada33"
      },
      "source": [
        "# debug for loss function \n",
        "print((np.log(0.4)*3 + np.log(0.6)*1)/4)\n",
        "print(raw_labels, predictions[0][0:3])\n",
        "bce = tf.keras.losses.BinaryCrossentropy()\n",
        "\n",
        "print(bce(padded_labels[0][0:3],predictions[0][0:3]).numpy())\n",
        "print(np.log(0.5)*3)\n",
        "print(\"original built-in\")\n",
        "print(bce(padded_labels, predictions).numpy())\n",
        "total = bce(np.zeros(3), np.ones(3))*3 - np.log(0.5)*3\n",
        "total/6"
      ],
      "execution_count": 32,
      "outputs": [
        {
          "output_type": "stream",
          "text": [
            "-0.814924454847114\n",
            "[list([1, 1, 1]) list([0, 0, 0, 1, 1])] [0.4994991 0.4981302 0.501738 ]\n",
            "0.6935733\n",
            "-2.0794415416798357\n",
            "original built-in\n",
            "5.603969\n"
          ],
          "name": "stdout"
        },
        {
          "output_type": "execute_result",
          "data": {
            "text/plain": [
              "<tf.Tensor: shape=(), dtype=float64, numpy=8.05904793644086>"
            ]
          },
          "metadata": {
            "tags": []
          },
          "execution_count": 32
        }
      ]
    },
    {
      "cell_type": "markdown",
      "metadata": {
        "id": "i23H9qy9MCRR",
        "colab_type": "text"
      },
      "source": [
        "##### check how masking is probagated"
      ]
    },
    {
      "cell_type": "code",
      "metadata": {
        "id": "KJdohG_SWYBI",
        "colab_type": "code",
        "colab": {
          "base_uri": "https://localhost:8080/",
          "height": 446
        },
        "outputId": "e8aa2971-4ad7-4ef9-c6e0-0fd05c8823c0"
      },
      "source": [
        "# check how masking is probagated\n",
        "\n",
        "q = one_hot_q_t\n",
        "n = model.emb(one_hot_input)\n",
        "#model.mask(n)._keras_mask\n",
        "masked_n = model.mask(n)\n",
        "h = model.lstm(masked_n) \n",
        "print(h._keras_mask)\n",
        "o = model.out_dropout(h)\n",
        "print(o._keras_mask)\n",
        "y_pred = model.out_sigmoid(o)\n",
        "print(y_pred._keras_mask)\n",
        "y_pred = model.dot([y_pred, q])\n",
        "print(y_pred._keras_mask)\n",
        "y_pred = model.reduce_sum(y_pred)\n",
        "print(y_pred._keras_mask)\n",
        "# AttributeError: 'tensorflow.python.framework.ops.EagerTensor' object has no attribute '_keras_mask'\n",
        "#y_pred = model.reshape_l(y_pred)\n",
        "y_pred = model.mask(y_pred)\n",
        "print(y_pred._keras_mask)\n"
      ],
      "execution_count": 103,
      "outputs": [
        {
          "output_type": "stream",
          "text": [
            "tf.Tensor(\n",
            "[[ True  True  True False False False]\n",
            " [ True  True  True  True  True False]\n",
            " [ True  True  True  True False  True]], shape=(3, 6), dtype=bool)\n",
            "tf.Tensor(\n",
            "[[ True  True  True False False False]\n",
            " [ True  True  True  True  True False]\n",
            " [ True  True  True  True False  True]], shape=(3, 6), dtype=bool)\n",
            "tf.Tensor(\n",
            "[[ True  True  True False False False]\n",
            " [ True  True  True  True  True False]\n",
            " [ True  True  True  True False  True]], shape=(3, 6), dtype=bool)\n",
            "tf.Tensor(\n",
            "[[ True  True  True False False False]\n",
            " [ True  True  True  True  True False]\n",
            " [ True  True  True  True False  True]], shape=(3, 6), dtype=bool)\n",
            "tf.Tensor(\n",
            "[[ True  True  True False False False]\n",
            " [ True  True  True  True  True False]\n",
            " [ True  True  True  True False  True]], shape=(3, 6), dtype=bool)\n",
            "tf.Tensor(\n",
            "[[ True  True  True False False False]\n",
            " [ True  True  True  True  True False]\n",
            " [ True  True  True  True False  True]], shape=(3, 6), dtype=bool)\n"
          ],
          "name": "stdout"
        }
      ]
    },
    {
      "cell_type": "markdown",
      "metadata": {
        "id": "ADazFVziMEzq",
        "colab_type": "text"
      },
      "source": [
        "##### fit"
      ]
    },
    {
      "cell_type": "code",
      "metadata": {
        "id": "S7uEYQUQypdH",
        "colab_type": "code",
        "colab": {
          "base_uri": "https://localhost:8080/",
          "height": 392
        },
        "outputId": "8899d4fe-d80f-4040-cc85-91fffb82088c"
      },
      "source": [
        "model.fit([one_hot_input, one_hot_q_t], padded_labels, epochs=10 ,verbose =1)"
      ],
      "execution_count": 9,
      "outputs": [
        {
          "output_type": "stream",
          "text": [
            "Epoch 1/10\n",
            "1/1 [==============================] - 0s 2ms/step - loss: 8.0594 - auc_1: 0.0000e+00 - binary_crossentropy: 8.0594\n",
            "Epoch 2/10\n",
            "1/1 [==============================] - 0s 1ms/step - loss: 8.0566 - auc_1: 0.0000e+00 - binary_crossentropy: 8.0566\n",
            "Epoch 3/10\n",
            "1/1 [==============================] - 0s 1ms/step - loss: 8.0539 - auc_1: 0.0000e+00 - binary_crossentropy: 8.0539\n",
            "Epoch 4/10\n",
            "1/1 [==============================] - 0s 1ms/step - loss: 8.0512 - auc_1: 0.0000e+00 - binary_crossentropy: 8.0512\n",
            "Epoch 5/10\n",
            "1/1 [==============================] - 0s 1ms/step - loss: 8.0486 - auc_1: 0.0000e+00 - binary_crossentropy: 8.0486\n",
            "Epoch 6/10\n",
            "1/1 [==============================] - 0s 1ms/step - loss: 8.0459 - auc_1: 0.0000e+00 - binary_crossentropy: 8.0459\n",
            "Epoch 7/10\n",
            "1/1 [==============================] - 0s 1ms/step - loss: 8.0433 - auc_1: 0.0000e+00 - binary_crossentropy: 8.0433\n",
            "Epoch 8/10\n",
            "1/1 [==============================] - 0s 1ms/step - loss: 8.0408 - auc_1: 0.0000e+00 - binary_crossentropy: 8.0408\n",
            "Epoch 9/10\n",
            "1/1 [==============================] - 0s 1ms/step - loss: 8.0382 - auc_1: 0.0000e+00 - binary_crossentropy: 8.0382\n",
            "Epoch 10/10\n",
            "1/1 [==============================] - 0s 981us/step - loss: 8.0357 - auc_1: 0.0000e+00 - binary_crossentropy: 8.0357\n"
          ],
          "name": "stdout"
        },
        {
          "output_type": "execute_result",
          "data": {
            "text/plain": [
              "<tensorflow.python.keras.callbacks.History at 0x7fe0a80dd550>"
            ]
          },
          "metadata": {
            "tags": []
          },
          "execution_count": 9
        }
      ]
    },
    {
      "cell_type": "code",
      "metadata": {
        "id": "ZgQIAGpY7i7m",
        "colab_type": "code",
        "colab": {
          "base_uri": "https://localhost:8080/",
          "height": 106
        },
        "outputId": "33fe2433-22e1-4ca7-e399-3c86b627811c"
      },
      "source": [
        "predictions = model([one_hot_input, one_hot_q_t]).numpy()\n",
        "print(predictions)\n",
        "print(padded_labels)\n",
        "print(raw_labels)\n",
        "model.evaluate([one_hot_input, one_hot_q_t], padded_labels ,verbose =2)\n"
      ],
      "execution_count": 10,
      "outputs": [
        {
          "output_type": "stream",
          "text": [
            "[[0.52408063 0.5252663  0.53014225 0.         0.         0.        ]]\n",
            "[[1 1 1 1 1 1]]\n",
            "[[1 1 1]]\n",
            "1/1 - 0s - loss: 8.0332 - auc_1: 0.0000e+00 - binary_crossentropy: 8.0332\n"
          ],
          "name": "stdout"
        },
        {
          "output_type": "execute_result",
          "data": {
            "text/plain": [
              "[8.033236503601074, 0.0, 8.033236503601074]"
            ]
          },
          "metadata": {
            "tags": []
          },
          "execution_count": 10
        }
      ]
    },
    {
      "cell_type": "code",
      "metadata": {
        "id": "BhrLDR_IBqwp",
        "colab_type": "code",
        "colab": {
          "base_uri": "https://localhost:8080/",
          "height": 392
        },
        "outputId": "b9e9b3d2-71a9-43ca-8df0-dbcc101194d5"
      },
      "source": [
        "DKT = keras.Sequential([\n",
        "#  layers.Embedding(input_dim=1, output_dim=embed_dim,\n",
        "#                   input_length=num_skills*2, mask_zero=True),\n",
        "  layers.Dense(embed_dim, input_shape=(max_sequence_length,num_skills*2,)),\n",
        "  layers.LSTM(hidden_units, return_sequences=True),\n",
        "  layers.Dropout(0.2),\n",
        "  layers.Dense(num_skills,  activation='sigmoid'),\n",
        "  layers.Dot(axes=1)(layers[3], )\n",
        "])\n",
        "DKT.summary()"
      ],
      "execution_count": 147,
      "outputs": [
        {
          "output_type": "error",
          "ename": "ValueError",
          "evalue": "ignored",
          "traceback": [
            "\u001b[0;31m---------------------------------------------------------------------------\u001b[0m",
            "\u001b[0;31mValueError\u001b[0m                                Traceback (most recent call last)",
            "\u001b[0;32m<ipython-input-147-5f7b3c2cd3d4>\u001b[0m in \u001b[0;36m<module>\u001b[0;34m()\u001b[0m\n\u001b[1;32m      6\u001b[0m   \u001b[0mlayers\u001b[0m\u001b[0;34m.\u001b[0m\u001b[0mDropout\u001b[0m\u001b[0;34m(\u001b[0m\u001b[0;36m0.2\u001b[0m\u001b[0;34m)\u001b[0m\u001b[0;34m,\u001b[0m\u001b[0;34m\u001b[0m\u001b[0;34m\u001b[0m\u001b[0m\n\u001b[1;32m      7\u001b[0m   \u001b[0mlayers\u001b[0m\u001b[0;34m.\u001b[0m\u001b[0mDense\u001b[0m\u001b[0;34m(\u001b[0m\u001b[0mnum_skills\u001b[0m\u001b[0;34m,\u001b[0m  \u001b[0mactivation\u001b[0m\u001b[0;34m=\u001b[0m\u001b[0;34m'sigmoid'\u001b[0m\u001b[0;34m)\u001b[0m\u001b[0;34m,\u001b[0m\u001b[0;34m\u001b[0m\u001b[0;34m\u001b[0m\u001b[0m\n\u001b[0;32m----> 8\u001b[0;31m   \u001b[0mlayers\u001b[0m\u001b[0;34m.\u001b[0m\u001b[0mDot\u001b[0m\u001b[0;34m(\u001b[0m\u001b[0maxes\u001b[0m\u001b[0;34m=\u001b[0m\u001b[0;36m1\u001b[0m\u001b[0;34m)\u001b[0m\u001b[0;34m\u001b[0m\u001b[0;34m\u001b[0m\u001b[0m\n\u001b[0m\u001b[1;32m      9\u001b[0m ])\n\u001b[1;32m     10\u001b[0m \u001b[0mDKT\u001b[0m\u001b[0;34m.\u001b[0m\u001b[0msummary\u001b[0m\u001b[0;34m(\u001b[0m\u001b[0;34m)\u001b[0m\u001b[0;34m\u001b[0m\u001b[0;34m\u001b[0m\u001b[0m\n",
            "\u001b[0;32m/usr/local/lib/python3.6/dist-packages/tensorflow/python/training/tracking/base.py\u001b[0m in \u001b[0;36m_method_wrapper\u001b[0;34m(self, *args, **kwargs)\u001b[0m\n\u001b[1;32m    455\u001b[0m     \u001b[0mself\u001b[0m\u001b[0;34m.\u001b[0m\u001b[0m_self_setattr_tracking\u001b[0m \u001b[0;34m=\u001b[0m \u001b[0;32mFalse\u001b[0m  \u001b[0;31m# pylint: disable=protected-access\u001b[0m\u001b[0;34m\u001b[0m\u001b[0;34m\u001b[0m\u001b[0m\n\u001b[1;32m    456\u001b[0m     \u001b[0;32mtry\u001b[0m\u001b[0;34m:\u001b[0m\u001b[0;34m\u001b[0m\u001b[0;34m\u001b[0m\u001b[0m\n\u001b[0;32m--> 457\u001b[0;31m       \u001b[0mresult\u001b[0m \u001b[0;34m=\u001b[0m \u001b[0mmethod\u001b[0m\u001b[0;34m(\u001b[0m\u001b[0mself\u001b[0m\u001b[0;34m,\u001b[0m \u001b[0;34m*\u001b[0m\u001b[0margs\u001b[0m\u001b[0;34m,\u001b[0m \u001b[0;34m**\u001b[0m\u001b[0mkwargs\u001b[0m\u001b[0;34m)\u001b[0m\u001b[0;34m\u001b[0m\u001b[0;34m\u001b[0m\u001b[0m\n\u001b[0m\u001b[1;32m    458\u001b[0m     \u001b[0;32mfinally\u001b[0m\u001b[0;34m:\u001b[0m\u001b[0;34m\u001b[0m\u001b[0;34m\u001b[0m\u001b[0m\n\u001b[1;32m    459\u001b[0m       \u001b[0mself\u001b[0m\u001b[0;34m.\u001b[0m\u001b[0m_self_setattr_tracking\u001b[0m \u001b[0;34m=\u001b[0m \u001b[0mprevious_value\u001b[0m  \u001b[0;31m# pylint: disable=protected-access\u001b[0m\u001b[0;34m\u001b[0m\u001b[0;34m\u001b[0m\u001b[0m\n",
            "\u001b[0;32m/usr/local/lib/python3.6/dist-packages/tensorflow/python/keras/engine/sequential.py\u001b[0m in \u001b[0;36m__init__\u001b[0;34m(self, layers, name)\u001b[0m\n\u001b[1;32m    140\u001b[0m         \u001b[0mlayers\u001b[0m \u001b[0;34m=\u001b[0m \u001b[0;34m[\u001b[0m\u001b[0mlayers\u001b[0m\u001b[0;34m]\u001b[0m\u001b[0;34m\u001b[0m\u001b[0;34m\u001b[0m\u001b[0m\n\u001b[1;32m    141\u001b[0m       \u001b[0;32mfor\u001b[0m \u001b[0mlayer\u001b[0m \u001b[0;32min\u001b[0m \u001b[0mlayers\u001b[0m\u001b[0;34m:\u001b[0m\u001b[0;34m\u001b[0m\u001b[0;34m\u001b[0m\u001b[0m\n\u001b[0;32m--> 142\u001b[0;31m         \u001b[0mself\u001b[0m\u001b[0;34m.\u001b[0m\u001b[0madd\u001b[0m\u001b[0;34m(\u001b[0m\u001b[0mlayer\u001b[0m\u001b[0;34m)\u001b[0m\u001b[0;34m\u001b[0m\u001b[0;34m\u001b[0m\u001b[0m\n\u001b[0m\u001b[1;32m    143\u001b[0m \u001b[0;34m\u001b[0m\u001b[0m\n\u001b[1;32m    144\u001b[0m   \u001b[0;34m@\u001b[0m\u001b[0mproperty\u001b[0m\u001b[0;34m\u001b[0m\u001b[0;34m\u001b[0m\u001b[0m\n",
            "\u001b[0;32m/usr/local/lib/python3.6/dist-packages/tensorflow/python/training/tracking/base.py\u001b[0m in \u001b[0;36m_method_wrapper\u001b[0;34m(self, *args, **kwargs)\u001b[0m\n\u001b[1;32m    455\u001b[0m     \u001b[0mself\u001b[0m\u001b[0;34m.\u001b[0m\u001b[0m_self_setattr_tracking\u001b[0m \u001b[0;34m=\u001b[0m \u001b[0;32mFalse\u001b[0m  \u001b[0;31m# pylint: disable=protected-access\u001b[0m\u001b[0;34m\u001b[0m\u001b[0;34m\u001b[0m\u001b[0m\n\u001b[1;32m    456\u001b[0m     \u001b[0;32mtry\u001b[0m\u001b[0;34m:\u001b[0m\u001b[0;34m\u001b[0m\u001b[0;34m\u001b[0m\u001b[0m\n\u001b[0;32m--> 457\u001b[0;31m       \u001b[0mresult\u001b[0m \u001b[0;34m=\u001b[0m \u001b[0mmethod\u001b[0m\u001b[0;34m(\u001b[0m\u001b[0mself\u001b[0m\u001b[0;34m,\u001b[0m \u001b[0;34m*\u001b[0m\u001b[0margs\u001b[0m\u001b[0;34m,\u001b[0m \u001b[0;34m**\u001b[0m\u001b[0mkwargs\u001b[0m\u001b[0;34m)\u001b[0m\u001b[0;34m\u001b[0m\u001b[0;34m\u001b[0m\u001b[0m\n\u001b[0m\u001b[1;32m    458\u001b[0m     \u001b[0;32mfinally\u001b[0m\u001b[0;34m:\u001b[0m\u001b[0;34m\u001b[0m\u001b[0;34m\u001b[0m\u001b[0m\n\u001b[1;32m    459\u001b[0m       \u001b[0mself\u001b[0m\u001b[0;34m.\u001b[0m\u001b[0m_self_setattr_tracking\u001b[0m \u001b[0;34m=\u001b[0m \u001b[0mprevious_value\u001b[0m  \u001b[0;31m# pylint: disable=protected-access\u001b[0m\u001b[0;34m\u001b[0m\u001b[0;34m\u001b[0m\u001b[0m\n",
            "\u001b[0;32m/usr/local/lib/python3.6/dist-packages/tensorflow/python/keras/engine/sequential.py\u001b[0m in \u001b[0;36madd\u001b[0;34m(self, layer)\u001b[0m\n\u001b[1;32m    219\u001b[0m       \u001b[0;31m# If the model is being built continuously on top of an input layer:\u001b[0m\u001b[0;34m\u001b[0m\u001b[0;34m\u001b[0m\u001b[0;34m\u001b[0m\u001b[0m\n\u001b[1;32m    220\u001b[0m       \u001b[0;31m# refresh its output.\u001b[0m\u001b[0;34m\u001b[0m\u001b[0;34m\u001b[0m\u001b[0;34m\u001b[0m\u001b[0m\n\u001b[0;32m--> 221\u001b[0;31m       \u001b[0moutput_tensor\u001b[0m \u001b[0;34m=\u001b[0m \u001b[0mlayer\u001b[0m\u001b[0;34m(\u001b[0m\u001b[0mself\u001b[0m\u001b[0;34m.\u001b[0m\u001b[0moutputs\u001b[0m\u001b[0;34m[\u001b[0m\u001b[0;36m0\u001b[0m\u001b[0;34m]\u001b[0m\u001b[0;34m)\u001b[0m\u001b[0;34m\u001b[0m\u001b[0;34m\u001b[0m\u001b[0m\n\u001b[0m\u001b[1;32m    222\u001b[0m       \u001b[0;32mif\u001b[0m \u001b[0mlen\u001b[0m\u001b[0;34m(\u001b[0m\u001b[0mnest\u001b[0m\u001b[0;34m.\u001b[0m\u001b[0mflatten\u001b[0m\u001b[0;34m(\u001b[0m\u001b[0moutput_tensor\u001b[0m\u001b[0;34m)\u001b[0m\u001b[0;34m)\u001b[0m \u001b[0;34m!=\u001b[0m \u001b[0;36m1\u001b[0m\u001b[0;34m:\u001b[0m\u001b[0;34m\u001b[0m\u001b[0;34m\u001b[0m\u001b[0m\n\u001b[1;32m    223\u001b[0m         \u001b[0;32mraise\u001b[0m \u001b[0mValueError\u001b[0m\u001b[0;34m(\u001b[0m\u001b[0mSINGLE_LAYER_OUTPUT_ERROR_MSG\u001b[0m\u001b[0;34m)\u001b[0m\u001b[0;34m\u001b[0m\u001b[0;34m\u001b[0m\u001b[0m\n",
            "\u001b[0;32m/usr/local/lib/python3.6/dist-packages/tensorflow/python/keras/engine/base_layer.py\u001b[0m in \u001b[0;36m__call__\u001b[0;34m(self, *args, **kwargs)\u001b[0m\n\u001b[1;32m    924\u001b[0m     \u001b[0;32mif\u001b[0m \u001b[0m_in_functional_construction_mode\u001b[0m\u001b[0;34m(\u001b[0m\u001b[0mself\u001b[0m\u001b[0;34m,\u001b[0m \u001b[0minputs\u001b[0m\u001b[0;34m,\u001b[0m \u001b[0margs\u001b[0m\u001b[0;34m,\u001b[0m \u001b[0mkwargs\u001b[0m\u001b[0;34m,\u001b[0m \u001b[0minput_list\u001b[0m\u001b[0;34m)\u001b[0m\u001b[0;34m:\u001b[0m\u001b[0;34m\u001b[0m\u001b[0;34m\u001b[0m\u001b[0m\n\u001b[1;32m    925\u001b[0m       return self._functional_construction_call(inputs, args, kwargs,\n\u001b[0;32m--> 926\u001b[0;31m                                                 input_list)\n\u001b[0m\u001b[1;32m    927\u001b[0m \u001b[0;34m\u001b[0m\u001b[0m\n\u001b[1;32m    928\u001b[0m     \u001b[0;31m# Maintains info about the `Layer.call` stack.\u001b[0m\u001b[0;34m\u001b[0m\u001b[0;34m\u001b[0m\u001b[0;34m\u001b[0m\u001b[0m\n",
            "\u001b[0;32m/usr/local/lib/python3.6/dist-packages/tensorflow/python/keras/engine/base_layer.py\u001b[0m in \u001b[0;36m_functional_construction_call\u001b[0;34m(self, inputs, args, kwargs, input_list)\u001b[0m\n\u001b[1;32m   1096\u001b[0m         \u001b[0;31m# Build layer if applicable (if the `build` method has been\u001b[0m\u001b[0;34m\u001b[0m\u001b[0;34m\u001b[0m\u001b[0;34m\u001b[0m\u001b[0m\n\u001b[1;32m   1097\u001b[0m         \u001b[0;31m# overridden).\u001b[0m\u001b[0;34m\u001b[0m\u001b[0;34m\u001b[0m\u001b[0;34m\u001b[0m\u001b[0m\n\u001b[0;32m-> 1098\u001b[0;31m         \u001b[0mself\u001b[0m\u001b[0;34m.\u001b[0m\u001b[0m_maybe_build\u001b[0m\u001b[0;34m(\u001b[0m\u001b[0minputs\u001b[0m\u001b[0;34m)\u001b[0m\u001b[0;34m\u001b[0m\u001b[0;34m\u001b[0m\u001b[0m\n\u001b[0m\u001b[1;32m   1099\u001b[0m         \u001b[0mcast_inputs\u001b[0m \u001b[0;34m=\u001b[0m \u001b[0mself\u001b[0m\u001b[0;34m.\u001b[0m\u001b[0m_maybe_cast_inputs\u001b[0m\u001b[0;34m(\u001b[0m\u001b[0minputs\u001b[0m\u001b[0;34m,\u001b[0m \u001b[0minput_list\u001b[0m\u001b[0;34m)\u001b[0m\u001b[0;34m\u001b[0m\u001b[0;34m\u001b[0m\u001b[0m\n\u001b[1;32m   1100\u001b[0m \u001b[0;34m\u001b[0m\u001b[0m\n",
            "\u001b[0;32m/usr/local/lib/python3.6/dist-packages/tensorflow/python/keras/engine/base_layer.py\u001b[0m in \u001b[0;36m_maybe_build\u001b[0;34m(self, inputs)\u001b[0m\n\u001b[1;32m   2641\u001b[0m         \u001b[0;31m# operations.\u001b[0m\u001b[0;34m\u001b[0m\u001b[0;34m\u001b[0m\u001b[0;34m\u001b[0m\u001b[0m\n\u001b[1;32m   2642\u001b[0m         \u001b[0;32mwith\u001b[0m \u001b[0mtf_utils\u001b[0m\u001b[0;34m.\u001b[0m\u001b[0mmaybe_init_scope\u001b[0m\u001b[0;34m(\u001b[0m\u001b[0mself\u001b[0m\u001b[0;34m)\u001b[0m\u001b[0;34m:\u001b[0m\u001b[0;34m\u001b[0m\u001b[0;34m\u001b[0m\u001b[0m\n\u001b[0;32m-> 2643\u001b[0;31m           \u001b[0mself\u001b[0m\u001b[0;34m.\u001b[0m\u001b[0mbuild\u001b[0m\u001b[0;34m(\u001b[0m\u001b[0minput_shapes\u001b[0m\u001b[0;34m)\u001b[0m  \u001b[0;31m# pylint:disable=not-callable\u001b[0m\u001b[0;34m\u001b[0m\u001b[0;34m\u001b[0m\u001b[0m\n\u001b[0m\u001b[1;32m   2644\u001b[0m       \u001b[0;31m# We must set also ensure that the layer is marked as built, and the build\u001b[0m\u001b[0;34m\u001b[0m\u001b[0;34m\u001b[0m\u001b[0;34m\u001b[0m\u001b[0m\n\u001b[1;32m   2645\u001b[0m       \u001b[0;31m# shape is stored since user defined build functions may not be calling\u001b[0m\u001b[0;34m\u001b[0m\u001b[0;34m\u001b[0m\u001b[0;34m\u001b[0m\u001b[0m\n",
            "\u001b[0;32m/usr/local/lib/python3.6/dist-packages/tensorflow/python/keras/utils/tf_utils.py\u001b[0m in \u001b[0;36mwrapper\u001b[0;34m(instance, input_shape)\u001b[0m\n\u001b[1;32m    321\u001b[0m     \u001b[0;32mif\u001b[0m \u001b[0minput_shape\u001b[0m \u001b[0;32mis\u001b[0m \u001b[0;32mnot\u001b[0m \u001b[0;32mNone\u001b[0m\u001b[0;34m:\u001b[0m\u001b[0;34m\u001b[0m\u001b[0;34m\u001b[0m\u001b[0m\n\u001b[1;32m    322\u001b[0m       \u001b[0minput_shape\u001b[0m \u001b[0;34m=\u001b[0m \u001b[0mconvert_shapes\u001b[0m\u001b[0;34m(\u001b[0m\u001b[0minput_shape\u001b[0m\u001b[0;34m,\u001b[0m \u001b[0mto_tuples\u001b[0m\u001b[0;34m=\u001b[0m\u001b[0;32mTrue\u001b[0m\u001b[0;34m)\u001b[0m\u001b[0;34m\u001b[0m\u001b[0;34m\u001b[0m\u001b[0m\n\u001b[0;32m--> 323\u001b[0;31m     \u001b[0moutput_shape\u001b[0m \u001b[0;34m=\u001b[0m \u001b[0mfn\u001b[0m\u001b[0;34m(\u001b[0m\u001b[0minstance\u001b[0m\u001b[0;34m,\u001b[0m \u001b[0minput_shape\u001b[0m\u001b[0;34m)\u001b[0m\u001b[0;34m\u001b[0m\u001b[0;34m\u001b[0m\u001b[0m\n\u001b[0m\u001b[1;32m    324\u001b[0m     \u001b[0;31m# Return shapes from `fn` as TensorShapes.\u001b[0m\u001b[0;34m\u001b[0m\u001b[0;34m\u001b[0m\u001b[0;34m\u001b[0m\u001b[0m\n\u001b[1;32m    325\u001b[0m     \u001b[0;32mif\u001b[0m \u001b[0moutput_shape\u001b[0m \u001b[0;32mis\u001b[0m \u001b[0;32mnot\u001b[0m \u001b[0;32mNone\u001b[0m\u001b[0;34m:\u001b[0m\u001b[0;34m\u001b[0m\u001b[0;34m\u001b[0m\u001b[0m\n",
            "\u001b[0;32m/usr/local/lib/python3.6/dist-packages/tensorflow/python/keras/layers/merge.py\u001b[0m in \u001b[0;36mbuild\u001b[0;34m(self, input_shape)\u001b[0m\n\u001b[1;32m    661\u001b[0m     \u001b[0;31m# Used purely for shape validation.\u001b[0m\u001b[0;34m\u001b[0m\u001b[0;34m\u001b[0m\u001b[0;34m\u001b[0m\u001b[0m\n\u001b[1;32m    662\u001b[0m     \u001b[0;32mif\u001b[0m \u001b[0;32mnot\u001b[0m \u001b[0misinstance\u001b[0m\u001b[0;34m(\u001b[0m\u001b[0minput_shape\u001b[0m\u001b[0;34m[\u001b[0m\u001b[0;36m0\u001b[0m\u001b[0;34m]\u001b[0m\u001b[0;34m,\u001b[0m \u001b[0mtuple\u001b[0m\u001b[0;34m)\u001b[0m \u001b[0;32mor\u001b[0m \u001b[0mlen\u001b[0m\u001b[0;34m(\u001b[0m\u001b[0minput_shape\u001b[0m\u001b[0;34m)\u001b[0m \u001b[0;34m!=\u001b[0m \u001b[0;36m2\u001b[0m\u001b[0;34m:\u001b[0m\u001b[0;34m\u001b[0m\u001b[0;34m\u001b[0m\u001b[0m\n\u001b[0;32m--> 663\u001b[0;31m       raise ValueError('A `Dot` layer should be called '\n\u001b[0m\u001b[1;32m    664\u001b[0m                        'on a list of 2 inputs.')\n\u001b[1;32m    665\u001b[0m     \u001b[0mshape1\u001b[0m \u001b[0;34m=\u001b[0m \u001b[0minput_shape\u001b[0m\u001b[0;34m[\u001b[0m\u001b[0;36m0\u001b[0m\u001b[0;34m]\u001b[0m\u001b[0;34m\u001b[0m\u001b[0;34m\u001b[0m\u001b[0m\n",
            "\u001b[0;31mValueError\u001b[0m: A `Dot` layer should be called on a list of 2 inputs."
          ]
        }
      ]
    },
    {
      "cell_type": "code",
      "metadata": {
        "id": "VY57n_eO0OfH",
        "colab_type": "code",
        "colab": {
          "base_uri": "https://localhost:8080/",
          "height": 207
        },
        "outputId": "a4b5bd7c-ab47-49cc-e893-1697fe59be69"
      },
      "source": [
        "DKT.compile(loss=tf.keras.losses.BinaryCrossentropy(),\n",
        "                optimizer=tf.optimizers.SGD(),\n",
        "                metrics=[tf.keras.metrics.AUC()])"
      ],
      "execution_count": 154,
      "outputs": [
        {
          "output_type": "error",
          "ename": "TypeError",
          "evalue": "ignored",
          "traceback": [
            "\u001b[0;31m---------------------------------------------------------------------------\u001b[0m",
            "\u001b[0;31mTypeError\u001b[0m                                 Traceback (most recent call last)",
            "\u001b[0;32m<ipython-input-154-06d3a3dbc350>\u001b[0m in \u001b[0;36m<module>\u001b[0;34m()\u001b[0m\n\u001b[1;32m      1\u001b[0m DKT.compile(loss=tf.keras.losses.BinaryCrossentropy(),\n\u001b[1;32m      2\u001b[0m                 \u001b[0moptimizer\u001b[0m\u001b[0;34m=\u001b[0m\u001b[0mtf\u001b[0m\u001b[0;34m.\u001b[0m\u001b[0moptimizers\u001b[0m\u001b[0;34m.\u001b[0m\u001b[0mSGD\u001b[0m\u001b[0;34m(\u001b[0m\u001b[0;34m)\u001b[0m\u001b[0;34m,\u001b[0m\u001b[0;34m\u001b[0m\u001b[0;34m\u001b[0m\u001b[0m\n\u001b[0;32m----> 3\u001b[0;31m                 metrics=[tf.keras.metrics.AUC()])\n\u001b[0m",
            "\u001b[0;31mTypeError\u001b[0m: compile() missing 1 required positional argument: 'self'"
          ]
        }
      ]
    },
    {
      "cell_type": "code",
      "metadata": {
        "id": "eA37vCrV1OVy",
        "colab_type": "code",
        "colab": {
          "base_uri": "https://localhost:8080/",
          "height": 446
        },
        "outputId": "36c27170-1d0c-4fca-bd0c-0d1c701663cf"
      },
      "source": [
        "predictions = DKT(one_hot_input).numpy()\n",
        "print(predictions.shape) #num_student, T, M(num_sikill or num_problem)\n",
        "print(predictions)"
      ],
      "execution_count": 146,
      "outputs": [
        {
          "output_type": "stream",
          "text": [
            "(3, 100, 250)\n",
            "[[[0.49810493 0.50020814 0.5022467  ... 0.50053567 0.5011965  0.4997947 ]\n",
            "  [0.4973028  0.5029292  0.49921665 ... 0.49966952 0.50122744 0.50153154]\n",
            "  [0.49730402 0.5027819  0.49705687 ... 0.4993351  0.5005401  0.5005076 ]\n",
            "  ...\n",
            "  [0.5        0.5        0.5        ... 0.5        0.5        0.5       ]\n",
            "  [0.5        0.5        0.5        ... 0.5        0.5        0.5       ]\n",
            "  [0.5        0.5        0.5        ... 0.5        0.5        0.5       ]]\n",
            "\n",
            " [[0.50094825 0.49852327 0.5024178  ... 0.5005084  0.5007503  0.49647862]\n",
            "  [0.5008859  0.5011207  0.5003233  ... 0.5000689  0.50258166 0.49862882]\n",
            "  [0.5022426  0.5023758  0.50078845 ... 0.49850917 0.5017472  0.49939242]\n",
            "  ...\n",
            "  [0.5        0.5        0.5        ... 0.5        0.5        0.5       ]\n",
            "  [0.5        0.5        0.5        ... 0.5        0.5        0.5       ]\n",
            "  [0.5        0.5        0.5        ... 0.5        0.5        0.5       ]]\n",
            "\n",
            " [[0.501421   0.5018169  0.5015476  ... 0.5021717  0.49961966 0.49788243]\n",
            "  [0.5018642  0.5018933  0.5001954  ... 0.5008325  0.5007803  0.49830395]\n",
            "  [0.5043535  0.50127745 0.5002771  ... 0.4985363  0.49875808 0.49820557]\n",
            "  ...\n",
            "  [0.5        0.5        0.5        ... 0.5        0.5        0.5       ]\n",
            "  [0.5        0.5        0.5        ... 0.5        0.5        0.5       ]\n",
            "  [0.5        0.5        0.5        ... 0.5        0.5        0.5       ]]]\n"
          ],
          "name": "stdout"
        }
      ]
    },
    {
      "cell_type": "code",
      "metadata": {
        "id": "j3cZpdRhCtqD",
        "colab_type": "code",
        "colab": {
          "base_uri": "https://localhost:8080/",
          "height": 963
        },
        "outputId": "2c653c5f-ab6c-457c-8a00-8e23761141b3"
      },
      "source": [
        "DKT.fit(one_hot_input, padded_labels, epochs=5)"
      ],
      "execution_count": 139,
      "outputs": [
        {
          "output_type": "stream",
          "text": [
            "Epoch 1/5\n"
          ],
          "name": "stdout"
        },
        {
          "output_type": "error",
          "ename": "ValueError",
          "evalue": "ignored",
          "traceback": [
            "\u001b[0;31m---------------------------------------------------------------------------\u001b[0m",
            "\u001b[0;31mValueError\u001b[0m                                Traceback (most recent call last)",
            "\u001b[0;32m<ipython-input-139-976e0268e3af>\u001b[0m in \u001b[0;36m<module>\u001b[0;34m()\u001b[0m\n\u001b[0;32m----> 1\u001b[0;31m \u001b[0mDKT\u001b[0m\u001b[0;34m.\u001b[0m\u001b[0mfit\u001b[0m\u001b[0;34m(\u001b[0m\u001b[0mone_hot_input\u001b[0m\u001b[0;34m,\u001b[0m \u001b[0mpadded_labels\u001b[0m\u001b[0;34m,\u001b[0m \u001b[0mepochs\u001b[0m\u001b[0;34m=\u001b[0m\u001b[0;36m5\u001b[0m\u001b[0;34m)\u001b[0m\u001b[0;34m\u001b[0m\u001b[0;34m\u001b[0m\u001b[0m\n\u001b[0m",
            "\u001b[0;32m/usr/local/lib/python3.6/dist-packages/tensorflow/python/keras/engine/training.py\u001b[0m in \u001b[0;36m_method_wrapper\u001b[0;34m(self, *args, **kwargs)\u001b[0m\n\u001b[1;32m    106\u001b[0m   \u001b[0;32mdef\u001b[0m \u001b[0m_method_wrapper\u001b[0m\u001b[0;34m(\u001b[0m\u001b[0mself\u001b[0m\u001b[0;34m,\u001b[0m \u001b[0;34m*\u001b[0m\u001b[0margs\u001b[0m\u001b[0;34m,\u001b[0m \u001b[0;34m**\u001b[0m\u001b[0mkwargs\u001b[0m\u001b[0;34m)\u001b[0m\u001b[0;34m:\u001b[0m\u001b[0;34m\u001b[0m\u001b[0;34m\u001b[0m\u001b[0m\n\u001b[1;32m    107\u001b[0m     \u001b[0;32mif\u001b[0m \u001b[0;32mnot\u001b[0m \u001b[0mself\u001b[0m\u001b[0;34m.\u001b[0m\u001b[0m_in_multi_worker_mode\u001b[0m\u001b[0;34m(\u001b[0m\u001b[0;34m)\u001b[0m\u001b[0;34m:\u001b[0m  \u001b[0;31m# pylint: disable=protected-access\u001b[0m\u001b[0;34m\u001b[0m\u001b[0;34m\u001b[0m\u001b[0m\n\u001b[0;32m--> 108\u001b[0;31m       \u001b[0;32mreturn\u001b[0m \u001b[0mmethod\u001b[0m\u001b[0;34m(\u001b[0m\u001b[0mself\u001b[0m\u001b[0;34m,\u001b[0m \u001b[0;34m*\u001b[0m\u001b[0margs\u001b[0m\u001b[0;34m,\u001b[0m \u001b[0;34m**\u001b[0m\u001b[0mkwargs\u001b[0m\u001b[0;34m)\u001b[0m\u001b[0;34m\u001b[0m\u001b[0;34m\u001b[0m\u001b[0m\n\u001b[0m\u001b[1;32m    109\u001b[0m \u001b[0;34m\u001b[0m\u001b[0m\n\u001b[1;32m    110\u001b[0m     \u001b[0;31m# Running inside `run_distribute_coordinator` already.\u001b[0m\u001b[0;34m\u001b[0m\u001b[0;34m\u001b[0m\u001b[0;34m\u001b[0m\u001b[0m\n",
            "\u001b[0;32m/usr/local/lib/python3.6/dist-packages/tensorflow/python/keras/engine/training.py\u001b[0m in \u001b[0;36mfit\u001b[0;34m(self, x, y, batch_size, epochs, verbose, callbacks, validation_split, validation_data, shuffle, class_weight, sample_weight, initial_epoch, steps_per_epoch, validation_steps, validation_batch_size, validation_freq, max_queue_size, workers, use_multiprocessing)\u001b[0m\n\u001b[1;32m   1096\u001b[0m                 batch_size=batch_size):\n\u001b[1;32m   1097\u001b[0m               \u001b[0mcallbacks\u001b[0m\u001b[0;34m.\u001b[0m\u001b[0mon_train_batch_begin\u001b[0m\u001b[0;34m(\u001b[0m\u001b[0mstep\u001b[0m\u001b[0;34m)\u001b[0m\u001b[0;34m\u001b[0m\u001b[0;34m\u001b[0m\u001b[0m\n\u001b[0;32m-> 1098\u001b[0;31m               \u001b[0mtmp_logs\u001b[0m \u001b[0;34m=\u001b[0m \u001b[0mtrain_function\u001b[0m\u001b[0;34m(\u001b[0m\u001b[0miterator\u001b[0m\u001b[0;34m)\u001b[0m\u001b[0;34m\u001b[0m\u001b[0;34m\u001b[0m\u001b[0m\n\u001b[0m\u001b[1;32m   1099\u001b[0m               \u001b[0;32mif\u001b[0m \u001b[0mdata_handler\u001b[0m\u001b[0;34m.\u001b[0m\u001b[0mshould_sync\u001b[0m\u001b[0;34m:\u001b[0m\u001b[0;34m\u001b[0m\u001b[0;34m\u001b[0m\u001b[0m\n\u001b[1;32m   1100\u001b[0m                 \u001b[0mcontext\u001b[0m\u001b[0;34m.\u001b[0m\u001b[0masync_wait\u001b[0m\u001b[0;34m(\u001b[0m\u001b[0;34m)\u001b[0m\u001b[0;34m\u001b[0m\u001b[0;34m\u001b[0m\u001b[0m\n",
            "\u001b[0;32m/usr/local/lib/python3.6/dist-packages/tensorflow/python/eager/def_function.py\u001b[0m in \u001b[0;36m__call__\u001b[0;34m(self, *args, **kwds)\u001b[0m\n\u001b[1;32m    778\u001b[0m       \u001b[0;32melse\u001b[0m\u001b[0;34m:\u001b[0m\u001b[0;34m\u001b[0m\u001b[0;34m\u001b[0m\u001b[0m\n\u001b[1;32m    779\u001b[0m         \u001b[0mcompiler\u001b[0m \u001b[0;34m=\u001b[0m \u001b[0;34m\"nonXla\"\u001b[0m\u001b[0;34m\u001b[0m\u001b[0;34m\u001b[0m\u001b[0m\n\u001b[0;32m--> 780\u001b[0;31m         \u001b[0mresult\u001b[0m \u001b[0;34m=\u001b[0m \u001b[0mself\u001b[0m\u001b[0;34m.\u001b[0m\u001b[0m_call\u001b[0m\u001b[0;34m(\u001b[0m\u001b[0;34m*\u001b[0m\u001b[0margs\u001b[0m\u001b[0;34m,\u001b[0m \u001b[0;34m**\u001b[0m\u001b[0mkwds\u001b[0m\u001b[0;34m)\u001b[0m\u001b[0;34m\u001b[0m\u001b[0;34m\u001b[0m\u001b[0m\n\u001b[0m\u001b[1;32m    781\u001b[0m \u001b[0;34m\u001b[0m\u001b[0m\n\u001b[1;32m    782\u001b[0m       \u001b[0mnew_tracing_count\u001b[0m \u001b[0;34m=\u001b[0m \u001b[0mself\u001b[0m\u001b[0;34m.\u001b[0m\u001b[0m_get_tracing_count\u001b[0m\u001b[0;34m(\u001b[0m\u001b[0;34m)\u001b[0m\u001b[0;34m\u001b[0m\u001b[0;34m\u001b[0m\u001b[0m\n",
            "\u001b[0;32m/usr/local/lib/python3.6/dist-packages/tensorflow/python/eager/def_function.py\u001b[0m in \u001b[0;36m_call\u001b[0;34m(self, *args, **kwds)\u001b[0m\n\u001b[1;32m    821\u001b[0m       \u001b[0;31m# This is the first call of __call__, so we have to initialize.\u001b[0m\u001b[0;34m\u001b[0m\u001b[0;34m\u001b[0m\u001b[0;34m\u001b[0m\u001b[0m\n\u001b[1;32m    822\u001b[0m       \u001b[0minitializers\u001b[0m \u001b[0;34m=\u001b[0m \u001b[0;34m[\u001b[0m\u001b[0;34m]\u001b[0m\u001b[0;34m\u001b[0m\u001b[0;34m\u001b[0m\u001b[0m\n\u001b[0;32m--> 823\u001b[0;31m       \u001b[0mself\u001b[0m\u001b[0;34m.\u001b[0m\u001b[0m_initialize\u001b[0m\u001b[0;34m(\u001b[0m\u001b[0margs\u001b[0m\u001b[0;34m,\u001b[0m \u001b[0mkwds\u001b[0m\u001b[0;34m,\u001b[0m \u001b[0madd_initializers_to\u001b[0m\u001b[0;34m=\u001b[0m\u001b[0minitializers\u001b[0m\u001b[0;34m)\u001b[0m\u001b[0;34m\u001b[0m\u001b[0;34m\u001b[0m\u001b[0m\n\u001b[0m\u001b[1;32m    824\u001b[0m     \u001b[0;32mfinally\u001b[0m\u001b[0;34m:\u001b[0m\u001b[0;34m\u001b[0m\u001b[0;34m\u001b[0m\u001b[0m\n\u001b[1;32m    825\u001b[0m       \u001b[0;31m# At this point we know that the initialization is complete (or less\u001b[0m\u001b[0;34m\u001b[0m\u001b[0;34m\u001b[0m\u001b[0;34m\u001b[0m\u001b[0m\n",
            "\u001b[0;32m/usr/local/lib/python3.6/dist-packages/tensorflow/python/eager/def_function.py\u001b[0m in \u001b[0;36m_initialize\u001b[0;34m(self, args, kwds, add_initializers_to)\u001b[0m\n\u001b[1;32m    695\u001b[0m     self._concrete_stateful_fn = (\n\u001b[1;32m    696\u001b[0m         self._stateful_fn._get_concrete_function_internal_garbage_collected(  # pylint: disable=protected-access\n\u001b[0;32m--> 697\u001b[0;31m             *args, **kwds))\n\u001b[0m\u001b[1;32m    698\u001b[0m \u001b[0;34m\u001b[0m\u001b[0m\n\u001b[1;32m    699\u001b[0m     \u001b[0;32mdef\u001b[0m \u001b[0minvalid_creator_scope\u001b[0m\u001b[0;34m(\u001b[0m\u001b[0;34m*\u001b[0m\u001b[0munused_args\u001b[0m\u001b[0;34m,\u001b[0m \u001b[0;34m**\u001b[0m\u001b[0munused_kwds\u001b[0m\u001b[0;34m)\u001b[0m\u001b[0;34m:\u001b[0m\u001b[0;34m\u001b[0m\u001b[0;34m\u001b[0m\u001b[0m\n",
            "\u001b[0;32m/usr/local/lib/python3.6/dist-packages/tensorflow/python/eager/function.py\u001b[0m in \u001b[0;36m_get_concrete_function_internal_garbage_collected\u001b[0;34m(self, *args, **kwargs)\u001b[0m\n\u001b[1;32m   2853\u001b[0m       \u001b[0margs\u001b[0m\u001b[0;34m,\u001b[0m \u001b[0mkwargs\u001b[0m \u001b[0;34m=\u001b[0m \u001b[0;32mNone\u001b[0m\u001b[0;34m,\u001b[0m \u001b[0;32mNone\u001b[0m\u001b[0;34m\u001b[0m\u001b[0;34m\u001b[0m\u001b[0m\n\u001b[1;32m   2854\u001b[0m     \u001b[0;32mwith\u001b[0m \u001b[0mself\u001b[0m\u001b[0;34m.\u001b[0m\u001b[0m_lock\u001b[0m\u001b[0;34m:\u001b[0m\u001b[0;34m\u001b[0m\u001b[0;34m\u001b[0m\u001b[0m\n\u001b[0;32m-> 2855\u001b[0;31m       \u001b[0mgraph_function\u001b[0m\u001b[0;34m,\u001b[0m \u001b[0m_\u001b[0m\u001b[0;34m,\u001b[0m \u001b[0m_\u001b[0m \u001b[0;34m=\u001b[0m \u001b[0mself\u001b[0m\u001b[0;34m.\u001b[0m\u001b[0m_maybe_define_function\u001b[0m\u001b[0;34m(\u001b[0m\u001b[0margs\u001b[0m\u001b[0;34m,\u001b[0m \u001b[0mkwargs\u001b[0m\u001b[0;34m)\u001b[0m\u001b[0;34m\u001b[0m\u001b[0;34m\u001b[0m\u001b[0m\n\u001b[0m\u001b[1;32m   2856\u001b[0m     \u001b[0;32mreturn\u001b[0m \u001b[0mgraph_function\u001b[0m\u001b[0;34m\u001b[0m\u001b[0;34m\u001b[0m\u001b[0m\n\u001b[1;32m   2857\u001b[0m \u001b[0;34m\u001b[0m\u001b[0m\n",
            "\u001b[0;32m/usr/local/lib/python3.6/dist-packages/tensorflow/python/eager/function.py\u001b[0m in \u001b[0;36m_maybe_define_function\u001b[0;34m(self, args, kwargs)\u001b[0m\n\u001b[1;32m   3211\u001b[0m \u001b[0;34m\u001b[0m\u001b[0m\n\u001b[1;32m   3212\u001b[0m       \u001b[0mself\u001b[0m\u001b[0;34m.\u001b[0m\u001b[0m_function_cache\u001b[0m\u001b[0;34m.\u001b[0m\u001b[0mmissed\u001b[0m\u001b[0;34m.\u001b[0m\u001b[0madd\u001b[0m\u001b[0;34m(\u001b[0m\u001b[0mcall_context_key\u001b[0m\u001b[0;34m)\u001b[0m\u001b[0;34m\u001b[0m\u001b[0;34m\u001b[0m\u001b[0m\n\u001b[0;32m-> 3213\u001b[0;31m       \u001b[0mgraph_function\u001b[0m \u001b[0;34m=\u001b[0m \u001b[0mself\u001b[0m\u001b[0;34m.\u001b[0m\u001b[0m_create_graph_function\u001b[0m\u001b[0;34m(\u001b[0m\u001b[0margs\u001b[0m\u001b[0;34m,\u001b[0m \u001b[0mkwargs\u001b[0m\u001b[0;34m)\u001b[0m\u001b[0;34m\u001b[0m\u001b[0;34m\u001b[0m\u001b[0m\n\u001b[0m\u001b[1;32m   3214\u001b[0m       \u001b[0mself\u001b[0m\u001b[0;34m.\u001b[0m\u001b[0m_function_cache\u001b[0m\u001b[0;34m.\u001b[0m\u001b[0mprimary\u001b[0m\u001b[0;34m[\u001b[0m\u001b[0mcache_key\u001b[0m\u001b[0;34m]\u001b[0m \u001b[0;34m=\u001b[0m \u001b[0mgraph_function\u001b[0m\u001b[0;34m\u001b[0m\u001b[0;34m\u001b[0m\u001b[0m\n\u001b[1;32m   3215\u001b[0m       \u001b[0;32mreturn\u001b[0m \u001b[0mgraph_function\u001b[0m\u001b[0;34m,\u001b[0m \u001b[0margs\u001b[0m\u001b[0;34m,\u001b[0m \u001b[0mkwargs\u001b[0m\u001b[0;34m\u001b[0m\u001b[0;34m\u001b[0m\u001b[0m\n",
            "\u001b[0;32m/usr/local/lib/python3.6/dist-packages/tensorflow/python/eager/function.py\u001b[0m in \u001b[0;36m_create_graph_function\u001b[0;34m(self, args, kwargs, override_flat_arg_shapes)\u001b[0m\n\u001b[1;32m   3073\u001b[0m             \u001b[0marg_names\u001b[0m\u001b[0;34m=\u001b[0m\u001b[0marg_names\u001b[0m\u001b[0;34m,\u001b[0m\u001b[0;34m\u001b[0m\u001b[0;34m\u001b[0m\u001b[0m\n\u001b[1;32m   3074\u001b[0m             \u001b[0moverride_flat_arg_shapes\u001b[0m\u001b[0;34m=\u001b[0m\u001b[0moverride_flat_arg_shapes\u001b[0m\u001b[0;34m,\u001b[0m\u001b[0;34m\u001b[0m\u001b[0;34m\u001b[0m\u001b[0m\n\u001b[0;32m-> 3075\u001b[0;31m             capture_by_value=self._capture_by_value),\n\u001b[0m\u001b[1;32m   3076\u001b[0m         \u001b[0mself\u001b[0m\u001b[0;34m.\u001b[0m\u001b[0m_function_attributes\u001b[0m\u001b[0;34m,\u001b[0m\u001b[0;34m\u001b[0m\u001b[0;34m\u001b[0m\u001b[0m\n\u001b[1;32m   3077\u001b[0m         \u001b[0mfunction_spec\u001b[0m\u001b[0;34m=\u001b[0m\u001b[0mself\u001b[0m\u001b[0;34m.\u001b[0m\u001b[0mfunction_spec\u001b[0m\u001b[0;34m,\u001b[0m\u001b[0;34m\u001b[0m\u001b[0;34m\u001b[0m\u001b[0m\n",
            "\u001b[0;32m/usr/local/lib/python3.6/dist-packages/tensorflow/python/framework/func_graph.py\u001b[0m in \u001b[0;36mfunc_graph_from_py_func\u001b[0;34m(name, python_func, args, kwargs, signature, func_graph, autograph, autograph_options, add_control_dependencies, arg_names, op_return_value, collections, capture_by_value, override_flat_arg_shapes)\u001b[0m\n\u001b[1;32m    984\u001b[0m         \u001b[0m_\u001b[0m\u001b[0;34m,\u001b[0m \u001b[0moriginal_func\u001b[0m \u001b[0;34m=\u001b[0m \u001b[0mtf_decorator\u001b[0m\u001b[0;34m.\u001b[0m\u001b[0munwrap\u001b[0m\u001b[0;34m(\u001b[0m\u001b[0mpython_func\u001b[0m\u001b[0;34m)\u001b[0m\u001b[0;34m\u001b[0m\u001b[0;34m\u001b[0m\u001b[0m\n\u001b[1;32m    985\u001b[0m \u001b[0;34m\u001b[0m\u001b[0m\n\u001b[0;32m--> 986\u001b[0;31m       \u001b[0mfunc_outputs\u001b[0m \u001b[0;34m=\u001b[0m \u001b[0mpython_func\u001b[0m\u001b[0;34m(\u001b[0m\u001b[0;34m*\u001b[0m\u001b[0mfunc_args\u001b[0m\u001b[0;34m,\u001b[0m \u001b[0;34m**\u001b[0m\u001b[0mfunc_kwargs\u001b[0m\u001b[0;34m)\u001b[0m\u001b[0;34m\u001b[0m\u001b[0;34m\u001b[0m\u001b[0m\n\u001b[0m\u001b[1;32m    987\u001b[0m \u001b[0;34m\u001b[0m\u001b[0m\n\u001b[1;32m    988\u001b[0m       \u001b[0;31m# invariant: `func_outputs` contains only Tensors, CompositeTensors,\u001b[0m\u001b[0;34m\u001b[0m\u001b[0;34m\u001b[0m\u001b[0;34m\u001b[0m\u001b[0m\n",
            "\u001b[0;32m/usr/local/lib/python3.6/dist-packages/tensorflow/python/eager/def_function.py\u001b[0m in \u001b[0;36mwrapped_fn\u001b[0;34m(*args, **kwds)\u001b[0m\n\u001b[1;32m    598\u001b[0m         \u001b[0;31m# __wrapped__ allows AutoGraph to swap in a converted function. We give\u001b[0m\u001b[0;34m\u001b[0m\u001b[0;34m\u001b[0m\u001b[0;34m\u001b[0m\u001b[0m\n\u001b[1;32m    599\u001b[0m         \u001b[0;31m# the function a weak reference to itself to avoid a reference cycle.\u001b[0m\u001b[0;34m\u001b[0m\u001b[0;34m\u001b[0m\u001b[0;34m\u001b[0m\u001b[0m\n\u001b[0;32m--> 600\u001b[0;31m         \u001b[0;32mreturn\u001b[0m \u001b[0mweak_wrapped_fn\u001b[0m\u001b[0;34m(\u001b[0m\u001b[0;34m)\u001b[0m\u001b[0;34m.\u001b[0m\u001b[0m__wrapped__\u001b[0m\u001b[0;34m(\u001b[0m\u001b[0;34m*\u001b[0m\u001b[0margs\u001b[0m\u001b[0;34m,\u001b[0m \u001b[0;34m**\u001b[0m\u001b[0mkwds\u001b[0m\u001b[0;34m)\u001b[0m\u001b[0;34m\u001b[0m\u001b[0;34m\u001b[0m\u001b[0m\n\u001b[0m\u001b[1;32m    601\u001b[0m     \u001b[0mweak_wrapped_fn\u001b[0m \u001b[0;34m=\u001b[0m \u001b[0mweakref\u001b[0m\u001b[0;34m.\u001b[0m\u001b[0mref\u001b[0m\u001b[0;34m(\u001b[0m\u001b[0mwrapped_fn\u001b[0m\u001b[0;34m)\u001b[0m\u001b[0;34m\u001b[0m\u001b[0;34m\u001b[0m\u001b[0m\n\u001b[1;32m    602\u001b[0m \u001b[0;34m\u001b[0m\u001b[0m\n",
            "\u001b[0;32m/usr/local/lib/python3.6/dist-packages/tensorflow/python/framework/func_graph.py\u001b[0m in \u001b[0;36mwrapper\u001b[0;34m(*args, **kwargs)\u001b[0m\n\u001b[1;32m    971\u001b[0m           \u001b[0;32mexcept\u001b[0m \u001b[0mException\u001b[0m \u001b[0;32mas\u001b[0m \u001b[0me\u001b[0m\u001b[0;34m:\u001b[0m  \u001b[0;31m# pylint:disable=broad-except\u001b[0m\u001b[0;34m\u001b[0m\u001b[0;34m\u001b[0m\u001b[0m\n\u001b[1;32m    972\u001b[0m             \u001b[0;32mif\u001b[0m \u001b[0mhasattr\u001b[0m\u001b[0;34m(\u001b[0m\u001b[0me\u001b[0m\u001b[0;34m,\u001b[0m \u001b[0;34m\"ag_error_metadata\"\u001b[0m\u001b[0;34m)\u001b[0m\u001b[0;34m:\u001b[0m\u001b[0;34m\u001b[0m\u001b[0;34m\u001b[0m\u001b[0m\n\u001b[0;32m--> 973\u001b[0;31m               \u001b[0;32mraise\u001b[0m \u001b[0me\u001b[0m\u001b[0;34m.\u001b[0m\u001b[0mag_error_metadata\u001b[0m\u001b[0;34m.\u001b[0m\u001b[0mto_exception\u001b[0m\u001b[0;34m(\u001b[0m\u001b[0me\u001b[0m\u001b[0;34m)\u001b[0m\u001b[0;34m\u001b[0m\u001b[0;34m\u001b[0m\u001b[0m\n\u001b[0m\u001b[1;32m    974\u001b[0m             \u001b[0;32melse\u001b[0m\u001b[0;34m:\u001b[0m\u001b[0;34m\u001b[0m\u001b[0;34m\u001b[0m\u001b[0m\n\u001b[1;32m    975\u001b[0m               \u001b[0;32mraise\u001b[0m\u001b[0;34m\u001b[0m\u001b[0;34m\u001b[0m\u001b[0m\n",
            "\u001b[0;31mValueError\u001b[0m: in user code:\n\n    /usr/local/lib/python3.6/dist-packages/tensorflow/python/keras/engine/training.py:806 train_function  *\n        return step_function(self, iterator)\n    /usr/local/lib/python3.6/dist-packages/tensorflow/python/keras/engine/training.py:796 step_function  **\n        outputs = model.distribute_strategy.run(run_step, args=(data,))\n    /usr/local/lib/python3.6/dist-packages/tensorflow/python/distribute/distribute_lib.py:1211 run\n        return self._extended.call_for_each_replica(fn, args=args, kwargs=kwargs)\n    /usr/local/lib/python3.6/dist-packages/tensorflow/python/distribute/distribute_lib.py:2585 call_for_each_replica\n        return self._call_for_each_replica(fn, args, kwargs)\n    /usr/local/lib/python3.6/dist-packages/tensorflow/python/distribute/distribute_lib.py:2945 _call_for_each_replica\n        return fn(*args, **kwargs)\n    /usr/local/lib/python3.6/dist-packages/tensorflow/python/keras/engine/training.py:789 run_step  **\n        outputs = model.train_step(data)\n    /usr/local/lib/python3.6/dist-packages/tensorflow/python/keras/engine/training.py:749 train_step\n        y, y_pred, sample_weight, regularization_losses=self.losses)\n    /usr/local/lib/python3.6/dist-packages/tensorflow/python/keras/engine/compile_utils.py:204 __call__\n        loss_value = loss_obj(y_t, y_p, sample_weight=sw)\n    /usr/local/lib/python3.6/dist-packages/tensorflow/python/keras/losses.py:149 __call__\n        losses = ag_call(y_true, y_pred)\n    /usr/local/lib/python3.6/dist-packages/tensorflow/python/keras/losses.py:253 call  **\n        return ag_fn(y_true, y_pred, **self._fn_kwargs)\n    /usr/local/lib/python3.6/dist-packages/tensorflow/python/util/dispatch.py:201 wrapper\n        return target(*args, **kwargs)\n    /usr/local/lib/python3.6/dist-packages/tensorflow/python/keras/losses.py:1605 binary_crossentropy\n        K.binary_crossentropy(y_true, y_pred, from_logits=from_logits), axis=-1)\n    /usr/local/lib/python3.6/dist-packages/tensorflow/python/util/dispatch.py:201 wrapper\n        return target(*args, **kwargs)\n    /usr/local/lib/python3.6/dist-packages/tensorflow/python/keras/backend.py:4823 binary_crossentropy\n        return nn.sigmoid_cross_entropy_with_logits(labels=target, logits=output)\n    /usr/local/lib/python3.6/dist-packages/tensorflow/python/util/dispatch.py:201 wrapper\n        return target(*args, **kwargs)\n    /usr/local/lib/python3.6/dist-packages/tensorflow/python/ops/nn_impl.py:174 sigmoid_cross_entropy_with_logits\n        (logits.get_shape(), labels.get_shape()))\n\n    ValueError: logits and labels must have the same shape ((None, 500, 250) vs (None, 100))\n"
          ]
        }
      ]
    }
  ]
}